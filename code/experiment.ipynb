{
 "cells": [
  {
   "cell_type": "code",
   "execution_count": 1,
   "id": "0a77bf6c",
   "metadata": {},
   "outputs": [
    {
     "name": "stdout",
     "output_type": "stream",
     "text": [
      "[KeOps] Warning : Cuda libraries were not detected on the system or could not be loaded ; using cpu only mode\n"
     ]
    }
   ],
   "source": [
    "import numpy as np\n",
    "import pandas as pd\n",
    "\n",
    "import math\n",
    "\n",
    "import scipy.stats as st\n",
    "import scipy.signal as si\n",
    "from scipy.integrate import simps\n",
    "\n",
    "import matplotlib.pyplot as plt\n",
    "import matplotlib\n",
    "%matplotlib inline\n",
    "\n",
    "from os import listdir\n",
    "from os.path import isfile, join\n",
    "\n",
    "from tqdm import tqdm\n",
    "\n",
    "import torch\n",
    "import torch.nn as nn\n",
    "import torch.nn.functional as F\n",
    "\n",
    "from torch_geometric.nn import ChebConv, TopKPooling, GCNConv\n",
    "from torch_geometric.data import Data, Dataset\n",
    "from torch_geometric.loader import DataLoader\n",
    "\n",
    "from sklearn.utils import shuffle\n",
    "from sklearn.model_selection import KFold, StratifiedShuffleSplit, train_test_split\n",
    "from sklearn.metrics import f1_score\n",
    "\n",
    "import scipy.stats as sps\n",
    "\n",
    "import mne\n",
    "from mne import io\n",
    "from mne.datasets import sample\n",
    "\n",
    "import os\n",
    "module_path = os.path.abspath(os.path.join('./src'))\n",
    "if module_path not in sys.path:\n",
    "    sys.path.append(module_path)\n",
    "\n",
    "from graph_rewiring import apply_KNN, apply_beltrami\n",
    "from base_classes import BaseGNN\n",
    "from model_configurations import set_block, set_function\n"
   ]
  },
  {
   "cell_type": "code",
   "execution_count": 2,
   "id": "6ec431a9-7c6a-44e4-afce-655d267c5060",
   "metadata": {},
   "outputs": [],
   "source": [
    "plt.rcParams.update({'font.size': 18})"
   ]
  },
  {
   "cell_type": "code",
   "execution_count": 3,
   "id": "86338a2f-6f46-462b-b64f-2ad05a48ce27",
   "metadata": {},
   "outputs": [],
   "source": [
    "#!/usr/bin/env python\n",
    "#-*- coding: utf-8 -*-"
   ]
  },
  {
   "cell_type": "code",
   "execution_count": 4,
   "id": "091e0ed7-1c93-4a61-a8e2-600552b63955",
   "metadata": {},
   "outputs": [],
   "source": [
    "processed_filename = 'dataset/smni_eeg.npz'\n",
    "df = np.load(processed_filename)\n",
    "data, labels = df['data'], df['labels']\n",
    "\n",
    "Nsubjects, Nchannels, Ntime, Nconditions = data.shape\n",
    "\n",
    "# # For simplicity we will only use 1 condition out of 3 and take every second electrode\n",
    "data = data[:, ::2, :, 0]\n",
    "\n",
    "# sample_frequency = 256 # Hz\n",
    "# timepoints = 1000.0 * np.arange(Ntime) / sample_frequency # ms\n",
    "\n",
    "# ind_alcohol = list(np.where(labels == 0)[0])[:10] #[:10] is to make tensor smaller\n",
    "# ind_control = list(np.where(labels == 1)[0])[:10] #[:10] is to make tensor smaller\n",
    "\n",
    "# fig, ax = plt.subplots(2, 1, figsize=(15, 4))\n",
    "\n",
    "# ax[0].plot(timepoints, data[ind_alcohol[2], 4, :].T, color='k');\n",
    "# ax[1].plot(timepoints, data[ind_control[2], 4, :].T, color='k');\n",
    "\n",
    "# ax[1].set_xlabel('time, ms');\n",
    "# ax[0].set_ylabel('voltage, mV');\n",
    "# ax[1].set_ylabel('voltage, mV');\n",
    "# ax[0].set_title('EEG signals on one of the electrodes (addicted to alcohol)');\n",
    "# ax[1].set_title('EEG signals on one of the electrodes (control)');\n",
    "# ax[0].set_ylim([-10, 10])\n",
    "# ax[1].set_ylim([-10, 10])\n",
    "# plt.tight_layout()"
   ]
  },
  {
   "cell_type": "code",
   "execution_count": 4,
   "id": "8208fac2",
   "metadata": {},
   "outputs": [
    {
     "name": "stdout",
     "output_type": "stream",
     "text": [
      "Filtering raw data in 1 contiguous segment\n",
      "Setting up high-pass filter at 2 Hz\n",
      "\n",
      "IIR filter parameters\n",
      "---------------------\n",
      "Butterworth highpass zero-phase (two-pass forward and reverse) non-causal filter:\n",
      "- Filter order 8 (effective, after forward-backward)\n",
      "- Cutoff at 2.00 Hz: -6.02 dB\n",
      "\n"
     ]
    }
   ],
   "source": [
    "data_path = str(sample.data_path())\n",
    "raw_fname = data_path + \"/MEG/sample/sample_audvis_filt-0-40_raw.fif\"\n",
    "event_fname = data_path + \"/MEG/sample/sample_audvis_filt-0-40_raw-eve.fif\"\n",
    "tmin, tmax = -0.0, 1\n",
    "event_id = dict(aud_l=1, aud_r=2, vis_l=3, vis_r=4)\n",
    "\n",
    "# Setup for reading the raw data\n",
    "raw = io.Raw(raw_fname, preload=True, verbose=False)\n",
    "raw.filter(2, None, method=\"iir\")  # replace baselining with high-pass\n",
    "events = mne.read_events(event_fname)\n",
    "\n",
    "raw.info[\"bads\"] = [\"MEG 2443\"]  # set bad channels\n",
    "picks = mne.pick_types(\n",
    "    raw.info, meg=False, eeg=True, stim=False, eog=False, exclude=\"bads\"\n",
    ")\n",
    "\n",
    "# Read epochs\n",
    "epochs = mne.Epochs(\n",
    "    raw,\n",
    "    events,\n",
    "    event_id,\n",
    "    tmin,\n",
    "    tmax,\n",
    "    proj=False,\n",
    "    picks=picks,\n",
    "    baseline=None,\n",
    "    preload=True,\n",
    "    verbose=False,\n",
    ")\n",
    "\n",
    "labels = epochs.events[:, -1]\n",
    "evoked = epochs.average()\n",
    "data = epochs.get_data(copy=False)"
   ]
  },
  {
   "cell_type": "code",
   "execution_count": 5,
   "id": "73adf7a1-d053-4782-a8c1-a2b38309d5ab",
   "metadata": {},
   "outputs": [
    {
     "data": {
      "text/plain": [
       "(119, 32, 256)"
      ]
     },
     "execution_count": 5,
     "metadata": {},
     "output_type": "execute_result"
    }
   ],
   "source": [
    "n_objects, n_channels, n_time_measurements = data.shape\n",
    "data.shape"
   ]
  },
  {
   "cell_type": "code",
   "execution_count": 6,
   "id": "3cf4e4c3-3aba-424c-bd12-e45de3653f57",
   "metadata": {},
   "outputs": [
    {
     "data": {
      "text/plain": [
       "(119,)"
      ]
     },
     "execution_count": 6,
     "metadata": {},
     "output_type": "execute_result"
    }
   ],
   "source": [
    "labels.shape"
   ]
  },
  {
   "cell_type": "code",
   "execution_count": 7,
   "id": "61883213-9020-49c5-a5af-35833cc32c42",
   "metadata": {},
   "outputs": [],
   "source": [
    "splitter = StratifiedShuffleSplit(n_splits = 2, test_size = 0.25, random_state = 123)\n",
    "train_ids, test_ids = next(splitter.split(data, labels))\n",
    "\n",
    "X_train, X_test = data[train_ids], data[test_ids]\n",
    "y_train, y_test = labels[train_ids], labels[test_ids]"
   ]
  },
  {
   "cell_type": "code",
   "execution_count": 8,
   "id": "3cb40c77-95b5-49e7-adc9-f74dfeb00507",
   "metadata": {},
   "outputs": [],
   "source": [
    "def euclidean_dist_adjacency(el_pos_3d: np.array) -> np.array:\n",
    "    n_ch = len(el_pos_3d)\n",
    "    dist_matrix = np.zeros((n_ch, n_ch))\n",
    "\n",
    "    for i in range(n_ch):\n",
    "        for j in range(i):\n",
    "            dist_matrix[i][j] = 1 / np.linalg.norm(el_pos_3d[i] - el_pos_3d[j])\n",
    "\n",
    "    dist_matrix += dist_matrix.T\n",
    "    dist_matrix /= dist_matrix.max()\n",
    "    return dist_matrix\n",
    "\n",
    "\n",
    "def geodesic_dist_adjacency(el_pos_3d: np.array) -> np.array:\n",
    "    el_pos_3d /= np.linalg.norm(el_pos_3d.astype(float), axis=1, keepdims=True)\n",
    "    n_ch = len(el_pos_3d)\n",
    "    dist_matrix = np.zeros((n_ch, n_ch))\n",
    "\n",
    "    r = 1\n",
    "    for i in range(n_ch):\n",
    "        for j in range(i):\n",
    "            dist_matrix[i][j] = 1 / (r * math.acos(round(np.dot(el_pos_3d[i], el_pos_3d[j]) / (r ** 2), 2)))\n",
    "\n",
    "    dist_matrix += dist_matrix.T\n",
    "    dist_matrix /= dist_matrix.max()\n",
    "    return dist_matrix\n",
    "\n",
    "\n",
    "def pearson_corr_adjacency(x):\n",
    "    # n_ch = x.shape[0]\n",
    "    # corr_matrix = np.zeros((n_ch, n_ch))\n",
    "    # for i in range(n_ch):\n",
    "    #     for j in range(i):\n",
    "    #         corr_matrix[i][j] = st.pearsonr(x[i, :], x[j, :])[0]\n",
    "    # corr_matrix += corr_matrix.T\n",
    "    # corr_matrix = np.abs(corr_matrix)\n",
    "    num = ((x[:, None, :] - x.mean(axis=-1)[:, None, None,]) * (x[None, :, :] - x.mean(axis=-1)[None, :, None])).mean(axis=-1)\n",
    "    denom = np.sqrt(x.var(axis=-1)[None, :] * x.var(axis=-1)[:, None]).squeeze()\n",
    "    corr_matrix = num / denom\n",
    "    corr_matrix[np.arange(corr_matrix.shape[0]), np.arange(corr_matrix.shape[0])] = 0\n",
    "    corr_matrix = np.abs(corr_matrix)\n",
    "\n",
    "    return corr_matrix\n",
    "\n",
    "\n",
    "def calculate_coherence(x, y, sf, low_freq, hi_freq):\n",
    "    nperseg = (2 / low_freq) * sf\n",
    "    freqs, coh = si.coherence(x, y, fs=sf, nperseg=nperseg)\n",
    "    # Frequency resolution\n",
    "    freq_res = freqs[1] - freqs[0]\n",
    "    idx_band = np.logical_and(freqs >= low_freq, freqs <= hi_freq)\n",
    "    # Integral approximation of the coherence using Simpson's rule.\n",
    "    bp = simps(coh[idx_band], dx=freq_res)\n",
    "    return bp\n",
    "\n",
    "\n",
    "def coherency_adjacency(x, sf, low_freq, hi_freq):\n",
    "    n_ch = x.shape[0]\n",
    "    coherence_matrix = np.zeros((n_ch, n_ch))\n",
    "    for i in range(n_ch):\n",
    "        for j in range(i):\n",
    "            coherence_matrix[i][j] = calculate_coherence(x[i, :], x[j, :], sf, low_freq, hi_freq)\n",
    "    coherence_matrix += coherence_matrix.T\n",
    "    coherence_matrix /= coherence_matrix.max()\n",
    "    return coherence_matrix\n",
    "\n",
    "\n",
    "def calculate_plv(x, y):\n",
    "    analytic_x = si.hilbert(x)\n",
    "    analytic_y = si.hilbert(y)\n",
    "\n",
    "    phase_x = np.unwrap(np.angle(analytic_x))\n",
    "    phase_y = np.unwrap(np.angle(analytic_y))\n",
    "\n",
    "    plv = np.mean([np.exp(1j*(phase_x - phase_y))])\n",
    "    plv = np.sqrt(np.real(plv)**2 + np.imag(plv)**2)\n",
    "    return plv\n",
    "\n",
    "\n",
    "def plv_adjacency(x):\n",
    "    n_ch = x.shape[0]\n",
    "    plv_matrix = np.zeros((n_ch, n_ch))\n",
    "    for i in range(n_ch):\n",
    "        for j in range(i):\n",
    "            plv_matrix[i][j] = calculate_plv(x[i, :], x[j, :])\n",
    "    plv_matrix += plv_matrix.T\n",
    "    return plv_matrix\n",
    "\n",
    "def build_adjacencies(data, name, T):\n",
    "    n_objects, n_channels, n_time_measurements = data.shape\n",
    "    adjacencies = []\n",
    "    for i in tqdm(range(n_objects)):\n",
    "        for j in range(T, n_time_measurements):\n",
    "            adj = pearson_corr_adjacency(data[i, :, (j-T):j])\n",
    "            adjacencies.append(adj)\n",
    "    adjacencies = np.array(adjacencies).reshape(n_objects, -1, n_channels, n_channels)\n",
    "    print(adjacencies.shape)\n",
    "    np.save(name, adjacencies)"
   ]
  },
  {
   "cell_type": "code",
   "execution_count": 17,
   "id": "eb19a727-c687-4a2d-9b4b-8ce009a19bb3",
   "metadata": {},
   "outputs": [
    {
     "name": "stderr",
     "output_type": "stream",
     "text": [
      "100%|██████████| 216/216 [00:12<00:00, 16.63it/s]\n"
     ]
    },
    {
     "name": "stdout",
     "output_type": "stream",
     "text": [
      "(216, 146, 60, 60)\n"
     ]
    },
    {
     "name": "stderr",
     "output_type": "stream",
     "text": [
      "100%|██████████| 72/72 [00:03<00:00, 18.01it/s]\n"
     ]
    },
    {
     "name": "stdout",
     "output_type": "stream",
     "text": [
      "(72, 146, 60, 60)\n"
     ]
    }
   ],
   "source": [
    "T = 5\n",
    "\n",
    "build_adjacencies(X_train, 'dataset/adj_Pears_{}_train_other.npy'.format(T), T)\n",
    "build_adjacencies(X_test, 'dataset/adj_Pears_{}_test_other.npy'.format(T), T)"
   ]
  },
  {
   "cell_type": "code",
   "execution_count": 9,
   "id": "e7575a1d",
   "metadata": {},
   "outputs": [
    {
     "name": "stderr",
     "output_type": "stream",
     "text": [
      "100%|██████████| 89/89 [00:04<00:00, 21.54it/s]\n"
     ]
    },
    {
     "name": "stdout",
     "output_type": "stream",
     "text": [
      "(89, 251, 32, 32)\n"
     ]
    },
    {
     "name": "stderr",
     "output_type": "stream",
     "text": [
      "100%|██████████| 30/30 [00:01<00:00, 23.03it/s]\n"
     ]
    },
    {
     "name": "stdout",
     "output_type": "stream",
     "text": [
      "(30, 251, 32, 32)\n"
     ]
    }
   ],
   "source": [
    "T = 5\n",
    "\n",
    "build_adjacencies(X_train, 'dataset/adj_Pears_{}_train.npy'.format(T), T)\n",
    "build_adjacencies(X_test, 'dataset/adj_Pears_{}_test.npy'.format(T), T)"
   ]
  },
  {
   "cell_type": "code",
   "execution_count": 9,
   "id": "90e5b9b7-8b61-4477-933b-7f6c1e2c68b6",
   "metadata": {},
   "outputs": [],
   "source": [
    "class GraphDataset(Dataset):\n",
    "    @staticmethod\n",
    "    def _get_edges(adjacencies, thr):\n",
    "        edges = []\n",
    "        for adj in adjacencies:\n",
    "            edges_ = []\n",
    "            for j in range(len(adj)):\n",
    "                for i in range(j):\n",
    "                    if adj[i][j] >= thr:\n",
    "                        edges_.extend(([i, j], [j, i]))\n",
    "\n",
    "            edges.append(np.array(edges_).T)\n",
    "\n",
    "        return edges\n",
    "\n",
    "#     @staticmethod\n",
    "#     def _get_edge_weights(adjacencies, thr):\n",
    "#         edge_weights = []\n",
    "#         for adj in adjacencies:\n",
    "#             edge_weights_ = []\n",
    "#             for j in range(len(adj)):\n",
    "#                 for i in range(j):\n",
    "#                     if adj[i][j] >= thr:\n",
    "#                         edge_weights_.extend((adj[i][j], adj[i][j]))\n",
    "\n",
    "#             edge_weights.append(np.array(edge_weights_))\n",
    "#         return edge_weights\n",
    "\n",
    "    # @staticmethod\n",
    "    # def _get_targets_and_features(x, y, drop_inx):\n",
    "    #     # target_range = np.sort(np.unique(y))\n",
    "    #     # targets = [np.where(i == target_range)[0] for i in y]\n",
    "    #     # if drop_inx is not None:\n",
    "    #     #     for i in drop_inx:\n",
    "    #     #         x[:, i, :, :] = 0\n",
    "    #     # features = [x[i].swapaxes(1, 2) for i in range(len(x))]\n",
    "    #     targets = y\n",
    "    #     features = x\n",
    "    #     return targets, features\n",
    "\n",
    "    \n",
    "    \n",
    "    def __init__(self, data, labels, T, adj_path, adj_thr, n_features = 5, shuffle = False, drop_inx=None):\n",
    "        super().__init__()\n",
    "\n",
    "        self.n_features = n_features\n",
    "        self.n_objects, self.n_channels, self.n_time_measurements = data.shape\n",
    "        self.T = T\n",
    "        \n",
    "        self.seq_len = self.n_time_measurements - T\n",
    "        \n",
    "        x = data\n",
    "        y = labels\n",
    "        \n",
    "        self.relevant_time_measurements = self.n_time_measurements - T\n",
    "\n",
    "        adjs = np.load(adj_path)\n",
    "        \n",
    "        if shuffle == True:\n",
    "            x, y, adjs = shuffle(x, y, adjs, random_state=0)\n",
    "\n",
    "            \n",
    "        x = x.swapaxes(1, 2)\n",
    "        # num_matrix = len(os.listdir(adj_path))\n",
    "        # if num_matrix == 1:\n",
    "        #     adjs = [np.load(adj_path+'matrix.npy')]*len(x)\n",
    "        # else:\n",
    "        #     adjs = [np.load(adj_path+f'matrix{i}.npy') for i in range(len(x))]\n",
    "            \n",
    "        adjs = adjs.reshape(-1, self.n_channels, self.n_channels)\n",
    "\n",
    "        self.edges = self._get_edges(adjs, adj_thr)\n",
    "        #self.edge_weights = self._get_edge_weights(adjs, adj_thr)\n",
    "        #self.target, self.feature = self._get_targets_and_features(x, y, drop_inx)\n",
    "        self.feature = x\n",
    "        self.target = y\n",
    "\n",
    "    def len(self):\n",
    "#        return len(self.target)\n",
    "        return self.n_objects*(self.n_time_measurements - self.T)\n",
    "\n",
    "\n",
    "    def get(self, idx):\n",
    "        \n",
    "#         data_sequence = [Data(\n",
    "#             x=torch.Tensor(self.feature[idx, :, (j+T - self.n_features):(j+T)]).reshape(-1, T),\n",
    "#             edge_index=torch.LongTensor(self.edges[j + idx*self.relevant_time_measurements]),\n",
    "#             #edge_attr=torch.Tensor(self.edge_weights[idx])\n",
    "#         ) for j in range(self.relevant_time_measurements)]\n",
    "        \n",
    "#         target = torch.LongTensor(self.target[idx])\n",
    "#         return data_sequence, target\n",
    "        i = idx % (self.n_time_measurements - self.T)\n",
    "        j = idx // (self.n_time_measurements - self.T)\n",
    "        \n",
    "        #print(self.feature[j, (i + self.T - self.n_features):(i + self.T + 1), :])\n",
    "        #raise Exception('!')\n",
    "        \n",
    "        data_sequence = Data(\n",
    "            x=torch.Tensor(self.feature[j, (i + self.T - self.n_features + 1):(i + self.T + 1), :]).T,\n",
    "            edge_index=torch.LongTensor(self.edges[idx]),\n",
    "            #edge_attr=torch.Tensor(self.edge_weights[idx])\n",
    "        )\n",
    "        target = torch.LongTensor([self.target[j]])\n",
    "\n",
    "        return data_sequence, target"
   ]
  },
  {
   "cell_type": "code",
   "execution_count": 11,
   "id": "8649258e",
   "metadata": {},
   "outputs": [],
   "source": [
    "T = 15\n",
    "\n",
    "train_dataset = GraphDataset(X_train, y_train, T = T, adj_path = 'dataset/adj_Pears_{}_train_other.npy'.format(T), adj_thr = 0.8)"
   ]
  },
  {
   "cell_type": "code",
   "execution_count": 137,
   "id": "cfa6e9c4-e640-431a-aee0-2e420a469a51",
   "metadata": {},
   "outputs": [],
   "source": [
    "class GRAND(BaseGNN):\n",
    "    def __init__(self, opt, dataset, device=torch.device('cpu')):\n",
    "        super(GRAND, self).__init__(opt, dataset, device)\n",
    "        self.f = set_function(opt)\n",
    "        # print(self.f)\n",
    "        block = set_block(opt)\n",
    "        time_tensor = torch.tensor([0, self.T]).to(device)\n",
    "        self.odeblock = block(self.f, self.regularization_fns, opt, dataset.data, device, t=time_tensor).to(device)\n",
    "        # print(self.odeblock)\n",
    "\n",
    "    def forward(self, x, pos_encoding=None, return_embedding=False):\n",
    "        global GLOBAL_POS_ENCODING\n",
    "        if GLOBAL_POS_ENCODING != None:\n",
    "            pos_encoding = GLOBAL_POS_ENCODING.clone()\n",
    "    # Encode each node based on its feature.\n",
    "        if self.opt['use_labels']:\n",
    "            y = x[:, -self.num_classes:]\n",
    "            x = x[:, :-self.num_classes]\n",
    "\n",
    "        if self.opt['beltrami']:\n",
    "            x = F.dropout(x, self.opt['input_dropout'], training=self.training)\n",
    "            x = self.mx(x)\n",
    "            p = F.dropout(pos_encoding, self.opt['input_dropout'], training=self.training)\n",
    "            p = self.mp(p)\n",
    "            x = torch.cat([x, p], dim=1)\n",
    "        else:\n",
    "            x = F.dropout(x, self.opt['input_dropout'], training=self.training)\n",
    "            x = self.m1(x)\n",
    "\n",
    "        if self.opt['use_mlp']:\n",
    "            x = F.dropout(x, self.opt['dropout'], training=self.training)\n",
    "            x = F.dropout(x + self.m11(F.relu(x)), self.opt['dropout'], training=self.training)\n",
    "            x = F.dropout(x + self.m12(F.relu(x)), self.opt['dropout'], training=self.training)\n",
    "        # todo investigate if some input non-linearity solves the problem with smooth deformations identified in the ANODE paper\n",
    "\n",
    "        if self.opt['use_labels']:\n",
    "            x = torch.cat([x, y], dim=-1)\n",
    "\n",
    "        if self.opt['batch_norm']:\n",
    "            x = self.bn_in(x)\n",
    "\n",
    "        # Solve the initial value problem of the ODE.\n",
    "        if self.opt['augment']:\n",
    "            c_aux = torch.zeros(x.shape).to(self.device)\n",
    "            x = torch.cat([x, c_aux], dim=1)\n",
    "\n",
    "        self.odeblock.set_x0(x)\n",
    "\n",
    "        # print(f\"X shape before odeblock: {x.shape}\")\n",
    "\n",
    "        if self.training and self.odeblock.nreg > 0:\n",
    "            z, self.reg_states = self.odeblock(x)\n",
    "        else:\n",
    "            z = self.odeblock(x)\n",
    "\n",
    "        # print(f\"X shape after odeblock: {z.shape}\")\n",
    "\n",
    "        # if self.opt['augment']:\n",
    "        #     z = torch.split(z, x.shape[1] // 2, dim=1)[0]\n",
    "\n",
    "        # # Activation.\n",
    "        # z = F.relu(z)\n",
    "\n",
    "        # if self.opt['fc_out']:\n",
    "        #     z = self.fc(z)\n",
    "        # z = F.relu(z)\n",
    "\n",
    "        # # Dropout.\n",
    "        # z = F.dropout(z, self.opt['dropout'], training=self.training)\n",
    "\n",
    "        return z\n",
    "\n",
    "\n",
    "class GCN_LSTM(torch.nn.Module):\n",
    "    def __init__(self, node_features, hidden_features, lstm_hidden_features, seq_len, output_dim, n_channels, \\\n",
    "                 dataset, fc_hidden = 32, time=14, beltrami=False, gcn=False, cnn=False):\n",
    "        super().__init__()\n",
    "        global GLOBAL_POS_ENCODING\n",
    "        \n",
    "        self.hidden_features = hidden_features\n",
    "        self.lstm_hidden_features = lstm_hidden_features\n",
    "        self.new_n_ch = n_channels\n",
    "        self.seq_len = seq_len\n",
    "        self.beltrami = beltrami\n",
    "        self.gcn = gcn\n",
    "        self.cnn = cnn\n",
    "\n",
    "        # self.grand = GLOBAL_GRAND\n",
    "        grands = []\n",
    "        if not self.gcn and not self.cnn:\n",
    "            class DummyDataset:\n",
    "                def __init__(self, a, data):\n",
    "                    self.num_classes = a\n",
    "                    self.data = data\n",
    "            for i in range(seq_len):\n",
    "                opt = {'use_cora_defaults': False, 'dataset': 'Cora', 'data_norm': 'rw', 'self_loop_weight': 1.0, 'use_labels': False, 'geom_gcn_splits': False, 'num_splits': 2, 'label_rate': 0.5, 'planetoid_split': False, 'hidden_dim': 80, 'fc_out': False, 'input_dropout': 0.5, 'dropout': 0.046878964627763316, 'batch_norm': False, 'optimizer': 'adamax', 'lr': 0.022924849756740397, 'decay': 0.00507685443154266, 'epoch': 100, 'alpha': 1.0, 'alpha_dim': 'sc', 'no_alpha_sigmoid': False, 'beta_dim': 'sc', 'block': 'constant', 'function': 'laplacian', 'use_mlp': False, 'add_source': True, 'cgnn': False, 'time': 18.294754260552843, 'augment': False, 'method': 'dopri5', 'step_size': 1, 'max_iters': 100, 'adjoint_method': 'adaptive_heun', 'adjoint': False, 'adjoint_step_size': 1, 'tol_scale': 821.9773048827274, 'tol_scale_adjoint': 1.0, 'ode_blocks': 1, 'max_nfe': 2000, 'no_early': False, 'earlystopxT': 3, 'max_test_steps': 100, 'leaky_relu_slope': 0.2, 'attention_dropout': 0.0, 'heads': 8, 'attention_norm_idx': 1, 'attention_dim': 128, 'mix_features': False, 'reweight_attention': False, 'attention_type': 'scaled_dot', 'square_plus': True, 'jacobian_norm2': None, 'total_deriv': None, 'kinetic_energy': None, 'directional_penalty': None, 'not_lcc': True, 'rewiring': None, 'gdc_method': 'ppr', 'gdc_sparsification': 'topk', 'gdc_k': 64, 'gdc_threshold': 0.01, 'gdc_avg_degree': 64, 'ppr_alpha': 0.05, 'heat_time': 3.0, 'att_samp_pct': 1, 'use_flux': False, 'exact': True, 'M_nodes': 64, 'new_edges': 'random', 'sparsify': 'S_hat', 'threshold_type': 'addD_rvR', 'rw_addD': 0.02, 'rw_rmvR': 0.02, 'rewire_KNN': False, 'rewire_KNN_T': 'T0', 'rewire_KNN_epoch': 10, 'rewire_KNN_k': 64, 'rewire_KNN_sym': False, 'KNN_online': False, 'KNN_online_reps': 4, 'KNN_space': 'pos_distance', 'beltrami': True, 'fa_layer': False, 'pos_enc_type': 'GDC', 'pos_enc_orientation': 'row', 'feat_hidden_dim': 64, 'pos_enc_hidden_dim': 16, 'edge_sampling': False, 'edge_sampling_T': 'T0', 'edge_sampling_epoch': 5, 'edge_sampling_add': 0.64, 'edge_sampling_add_type': 'importance', 'edge_sampling_rmv': 0.32, 'edge_sampling_sym': False, 'edge_sampling_online': False, 'edge_sampling_online_reps': 4, 'edge_sampling_space': 'attention', 'symmetric_attention': False, 'fa_layer_edge_sampling_rmv': 0.8, 'gpu': 0, 'pos_enc_csv': False, 'pos_dist_quantile': 0.001, 'adaptive': False, 'attention_rewiring': False, 'baseline': False, 'cpus': 1, 'dt': 0.001, 'dt_min': 1e-05, 'gpus': 0.5, 'grace_period': 20, 'max_epochs': 1000, 'metric': 'accuracy', 'name': 'cora_beltrami_splits', 'num_init': 1, 'num_samples': 1000, 'patience': 100, 'reduction_factor': 10, 'regularise': False, 'use_lcc': True}\n",
    "                opt['beltrami'] = beltrami\n",
    "                opt['time'] = time\n",
    "                opt[\"hidden_dim\"] = self.hidden_features\n",
    "                # opt[\"max_nfe\"] = 2000 * 2000\n",
    "                opt['pos_enc_hidden_dim'] = self.hidden_features\n",
    "                opt['pos_enc_dim'] = self.new_n_ch\n",
    "                device = 'cuda' if torch.cuda.is_available() else 'cpu'\n",
    "                ds = DummyDataset(4, dataset[i][0])\n",
    "                # print(datas)\n",
    "                if opt['beltrami']:\n",
    "                    GLOBAL_POS_ENCODING = apply_beltrami(ds.data, opt).to(device)\n",
    "                grands.append(GRAND(opt, ds, device).to(device))\n",
    "\n",
    "            self.grands = nn.ModuleList(grands)\n",
    "            \n",
    "            self.linear_grand = nn.Linear(69, self.hidden_features)\n",
    "        elif self.gcn:\n",
    "            self.conv1 = ChebConv(\n",
    "                in_channels=node_features,\n",
    "                out_channels=node_features,\n",
    "                K=2,\n",
    "                normalization=\"sym\",\n",
    "                bias=True\n",
    "            )\n",
    "            self.conv2 = ChebConv(\n",
    "                in_channels=node_features,\n",
    "                out_channels=self.hidden_features,\n",
    "                K=2,\n",
    "                normalization=\"sym\",\n",
    "                bias=True\n",
    "            )\n",
    "        elif self.cnn:\n",
    "            self.conv1 = nn.Conv1d(\n",
    "                in_channels=node_features,\n",
    "                out_channels=node_features,\n",
    "                kernel_size=2,\n",
    "                bias=True,\n",
    "                padding='same'\n",
    "            )\n",
    "            self.conv2 = nn.Conv1d(\n",
    "                in_channels=node_features,\n",
    "                out_channels=node_features,\n",
    "                kernel_size=2,\n",
    "                bias=True,\n",
    "                padding='same'\n",
    "            )\n",
    "            self.cnn_linear = nn.Linear(node_features,self.hidden_features)\n",
    "        # self.conv3 = ChebConv(\n",
    "        #     in_channels=node_features,\n",
    "        #     out_channels=1,\n",
    "        #     K=2,\n",
    "        #     normalization=\"sym\",\n",
    "        #     bias=True\n",
    "        # )\n",
    "        self.pool_ratio = 0.8\n",
    "        self.pool1 = TopKPooling(node_features, ratio=self.pool_ratio)\n",
    "        #self.pool2 = TopKPooling(node_features, ratio=self.pool_ratio)\n",
    "        #self.new_n_ch = int(np.ceil(np.ceil(N_CH * self.pool_ratio) * self.pool_ratio))\n",
    "\n",
    "        self.lstm1 = nn.LSTM(\n",
    "            self.new_n_ch * self.hidden_features,\n",
    "            lstm_hidden_features, #64,\n",
    "            bidirectional=False,\n",
    "            num_layers=1,\n",
    "            batch_first=True\n",
    "        )\n",
    "        # self.lstm2 = nn.LSTM(\n",
    "        #     32, #64,\n",
    "        #     64, #128,\n",
    "        #     bidirectional=False,\n",
    "        #     num_layers=1,\n",
    "        #     batch_first=True\n",
    "        # )\n",
    "        # self.lstm3 = nn.LSTM(\n",
    "        #     64,\n",
    "        #     128,\n",
    "        #     bidirectional=False,\n",
    "        #     num_layers=1,\n",
    "        #     batch_first=True\n",
    "        # )\n",
    "\n",
    "        #self.pool_size = 256\n",
    "\n",
    "        #self.dropout0 = nn.Dropout(0.1)\n",
    "        #self.dropout1 = nn.Dropout(0.25)\n",
    "        #self.dropout2 = nn.Dropout(0.3)\n",
    "        self.dropout3 = nn.Dropout(0.3)\n",
    "        self.linear1 = nn.Linear(seq_len*lstm_hidden_features, fc_hidden)\n",
    "        #self.linear1 = nn.Linear(seq_len * 256, 256)\n",
    "        #self.linear1 = nn.Linear(self.pool_size * 256, 256)\n",
    "        #self.linear2 = nn.Linear(256, 128)\n",
    "        #self.linear3 = nn.Linear(128, 64)\n",
    "        self.linear4 = nn.Linear(fc_hidden, output_dim)\n",
    "        \n",
    "\n",
    "\n",
    "\n",
    "    # -> x.shape = N*KxFxT\n",
    "    def forward(self, x, edge_index, edge_weight, batch):\n",
    "        # print(x.shape)\n",
    "        # x_conv = []\n",
    "        # for t in range(x.shape[-1]):\n",
    "        #     x_t = self.conv1(x[..., t], edge_index, edge_weight, batch)\n",
    "        #     x_t = F.leaky_relu(x_t)\n",
    "        #     #x_t, edge_index_, edge_weight_, batch_, _, _ = self.pool1(x_t, edge_index, edge_weight, batch)\n",
    "        #     x_t = self.conv2(x_t, edge_index, edge_weight, batch)\n",
    "        #     #x_t, edge_index_, edge_weight_, batch_, _, _ = self.pool2(x_t, edge_index_, edge_weight_, batch_)\n",
    "        #     #x_t = self.conv3(x_t, edge_index_, edge_weight_, batch_)\n",
    "        #     x_conv.append(x_t.unsqueeze(-1))\n",
    "        if not self.gcn and not self.cnn:\n",
    "            x_ts = []\n",
    "            graphs = torch.split(x, self.new_n_ch)\n",
    "            for i, graph in enumerate(graphs):\n",
    "                x_ts.append(self.grands[i](graph))\n",
    "            # x_t = self.grand(x)\n",
    "            x_t = torch.cat(x_ts)\n",
    "            if self.beltrami:\n",
    "                x_t = self.linear_grand(x_t)\n",
    "        elif self.gcn:\n",
    "            x_t = self.conv1(x, edge_index, edge_weight, batch)\n",
    "            x_t = F.leaky_relu(x_t)\n",
    "            #x_t, edge_index_, edge_weight_, batch_, _, _ = self.pool1(x_t, edge_index, edge_weight, batch)\n",
    "            x_t = self.conv2(x_t, edge_index, edge_weight, batch)\n",
    "        elif self.cnn:\n",
    "            x_t = self.conv1(x.movedim(-1, -2))\n",
    "            x_t = F.leaky_relu(x_t)\n",
    "            #x_t, edge_index_, edge_weight_, batch_, _, _ = self.pool1(x_t, edge_index, edge_weight, batch)\n",
    "            x_t = self.conv2(x_t).movedim(-1, -2)\n",
    "            x_t = self.cnn_linear(x_t)\n",
    "        # print(x_t.shape)\n",
    "        #x_t, edge_index_, edge_weight_, batch_, _, _ = self.pool2(x_t, edge_index_, edge_weight_, batch_)\n",
    "        #x_t = self.conv3(x_t, edge_index_, edge_weight_, batch_)\n",
    "        \n",
    "        x_t = x_t.reshape(1, -1, self.new_n_ch, self.hidden_features).reshape(1, -1, self.new_n_ch*self.hidden_features)\n",
    "        #x_t = x_t.reshape(1, self.hidden_dim, -1, self.n_features).swapaxes(1, 2).reshape(1, -1, self.hidden_dim*self.n_features)\n",
    "\n",
    "        # # -> x_conv.shape = N*KxFxT\n",
    "        # x_conv = torch.cat(x_conv, -1)\n",
    "        # x_conv = x_conv.reshape(-1, self.new_n_ch, x_conv.shape[1], x_conv.shape[2])\n",
    "        # #x_conv = x_conv.transpose(1, 2).transpose(2, 3).transpose(1, 2)\n",
    "        # x_conv = x_conv.transpose(2, 3).transpose(1, 2)\n",
    "        # #x_conv = x_conv.reshape(x_conv.shape[0], -1, self.new_n_ch)\n",
    "        # x_conv = x_conv.reshape(x_conv.shape[0], x_conv.shape[1], -1)\n",
    "        # #x_conv = self.dropout0(x_conv)\n",
    "\n",
    "        # -> x_conv.shape = NxF*TxK\n",
    "        x_lstm, _ = self.lstm1(x_t)\n",
    "        # print(x_lstm.shape)\n",
    "        \n",
    "        x_lstm = self.dropout3(x_lstm)\n",
    "        #x_lstm, _ = self.lstm2(x_lstm)\n",
    "        #x_lstm = self.dropout2(x_lstm)\n",
    "        #x_lstm, _ = self.lstm3(x_lstm)\n",
    "\n",
    "        #x_lstm = x_lstm.transpose(1, 2)\n",
    "        #x_lstm = F.adaptive_max_pool1d(x_lstm, output_size=self.pool_size).transpose(1, 2)\n",
    "        #x_lstm = self.dropout3(x_lstm)\n",
    "        \n",
    "        #print(x_lstm.shape)\n",
    "\n",
    "        x_lin = torch.flatten(x_lstm, 1)\n",
    "        #x_lin = x_lstm[:, -1, :]\n",
    "        \n",
    "        x_lin = F.relu(self.linear1(x_lin))\n",
    "        x_lin = self.dropout3(x_lin)\n",
    "        #x_lin = F.relu(self.linear2(x_lin))\n",
    "        #x_lin = self.dropout3(x_lin)\n",
    "        #x_lin = F.relu(self.linear3(x_lin))\n",
    "        x_lin = self.linear4(x_lin)\n",
    "        return x_lin"
   ]
  },
  {
   "cell_type": "code",
   "execution_count": 138,
   "id": "21640976-cdb4-45af-99ea-a7af57bf173d",
   "metadata": {},
   "outputs": [],
   "source": [
    "def train(train_loader, model, optimizer, criterion, device, tqdm_disable=False):\n",
    "    model.train()\n",
    "    if not model.gcn and not model.cnn:\n",
    "        model.grands.train()\n",
    "    y_true, y_pred = [], []\n",
    "    loss = 0\n",
    "    n_train = len(train_loader)\n",
    "    for batch in tqdm(train_loader, total=n_train, disable=tqdm_disable):\n",
    "        data, target = batch\n",
    "        \n",
    "        data.to(device)\n",
    "        out = model(data.x, data.edge_index, data.edge_attr, data.batch)\n",
    "        loss_ = criterion(out, target[0].to(device))\n",
    "        if not model.gcn and not model.cnn:\n",
    "            for grand in model.grands:\n",
    "                grand.fm.update(grand.getNFE())\n",
    "                grand.resetNFE()\n",
    "\n",
    "        loss_.backward()\n",
    "        optimizer.step()\n",
    "        optimizer.zero_grad()\n",
    "        if not model.gcn and not model.cnn:\n",
    "            for grand in model.grands:\n",
    "                grand.bm.update(grand.getNFE())\n",
    "                grand.resetNFE()\n",
    "\n",
    "        loss += loss_.detach().cpu().item()\n",
    "        y_true.append(target[0].detach().cpu().numpy())\n",
    "        y_pred.append(out.detach().cpu().argmax(1).numpy())\n",
    "\n",
    "    y_true = np.array(y_true).reshape(-1)\n",
    "    y_pred = np.array(y_pred).reshape(-1)\n",
    "\n",
    "    loss /= n_train\n",
    "    acc = (y_true == y_pred).mean()\n",
    "    f1 = f1_score(y_true, y_pred, average='macro')\n",
    "    return loss, acc, f1\n",
    "\n",
    "\n",
    "def test(test_loader, model, criterion, device):\n",
    "    model.eval()\n",
    "    if not model.gcn and not model.cnn:\n",
    "        model.grands.eval()\n",
    "    y_true, y_pred = [], []\n",
    "    loss = 0\n",
    "    n_test = len(test_loader)\n",
    "    with torch.no_grad():\n",
    "        for batch in test_loader:\n",
    "            data, target = batch\n",
    "            data.to(device)\n",
    "            if not model.gcn and not model.cnn:\n",
    "                for grand in model.grands:\n",
    "                    grand.resetNFE()\n",
    "            out = model(data.x, data.edge_index, data.edge_attr, data.batch)\n",
    "            loss_ = criterion(out, target[0].to(device))\n",
    "            \n",
    "            loss += loss_.detach().cpu().item()\n",
    "            y_true.append(target[0].detach().cpu().numpy())\n",
    "            y_pred.append(out.detach().cpu().argmax(1).numpy())\n",
    "\n",
    "    y_true = np.array(y_true).reshape(-1)\n",
    "    y_pred = np.array(y_pred).reshape(-1)\n",
    "\n",
    "    loss /= n_test\n",
    "    acc = (y_true == y_pred).mean()\n",
    "    f1 = f1_score(y_true, y_pred, average='macro')\n",
    "    return loss, acc, f1"
   ]
  },
  {
   "cell_type": "code",
   "execution_count": 139,
   "id": "338e4cc8-386e-4db1-b7b9-177b1e1a29b2",
   "metadata": {},
   "outputs": [],
   "source": [
    "def plot_training_curves(train_arr, test_arr, T, save = True):\n",
    "    \n",
    "    n_epochs = train_arr.shape[1]\n",
    "    x = np.arange(1, n_epochs + 1)\n",
    "    \n",
    "    plt.figure(figsize = (8, 8))\n",
    "    \n",
    "    plt.plot(x, train_arr.mean(axis = 0), color = 'b', label = 'train')\n",
    "    plt.fill_between(x, train_arr.mean(axis = 0) - train_arr.std(axis = 0),\\\n",
    "                                  train_arr.mean(axis = 0) + train_arr.std(axis = 0), color = 'b', alpha = 0.5)\n",
    "               \n",
    "    plt.plot(x, test_arr.mean(axis = 0), color = 'g', label = 'test')\n",
    "    plt.fill_between(x, test_arr.mean(axis = 0) - test_arr.std(axis = 0), test_arr.mean(axis = 0) + test_arr.std(axis = 0), color = 'g', alpha = 0.5)\n",
    "    \n",
    "    plt.legend(loc = 'best')\n",
    "    if save == True:\n",
    "        plt.savefig('figures/t{}.png'.format(T))\n",
    "    \n",
    "    plt.xlabel('номер эпохи')\n",
    "    plt.ylabel('кросс-энтропия')\n",
    "    \n",
    "    plt.show()"
   ]
  },
  {
   "cell_type": "code",
   "execution_count": 140,
   "id": "9d51d334-31c6-49fb-bde6-40d9b84f1743",
   "metadata": {},
   "outputs": [],
   "source": [
    "GLOBAL_GRAND = \"aboba\"\n",
    "GLOBAL_POS_ENCODING = None\n",
    "n_objects, n_channels, n_time_measurements = data.shape\n",
    "\n",
    "def conduct_experiment(T, n_hidden = 5, num_epochs = 30, lr = 1e-4, alpha=0.8, NF = 5, time=4, beltrami=False, gcn=False, cnn=False):\n",
    "    global GLOBAL_GRAND\n",
    "    global GLOBAL_POS_ENCODING\n",
    "    SEQ_LEN = n_time_measurements - T\n",
    "    print(SEQ_LEN)\n",
    "    N_HIDDEN_LSTM = 8\n",
    "    \n",
    "    # N_CH = 60\n",
    "    # N_CLASSES = 5\n",
    "    \n",
    "    N_CH = 32\n",
    "    N_CLASSES = 2\n",
    "\n",
    "    batch_size = SEQ_LEN\n",
    "\n",
    "    train_dataset = GraphDataset(X_train, y_train, T = T, \\\n",
    "                                 adj_path = 'dataset/adj_Pears_{}_train.npy'.format(T), adj_thr = alpha, \\\n",
    "                                 n_features = NF)\n",
    "    test_dataset = GraphDataset(X_test, y_test, T = T, \\\n",
    "                                adj_path = 'dataset/adj_Pears_{}_test.npy'.format(T), adj_thr = alpha, \\\n",
    "                                n_features = NF)\n",
    "    train_loader = DataLoader(train_dataset, batch_size=batch_size, shuffle=False)\n",
    "    test_loader = DataLoader(test_dataset, batch_size=batch_size, shuffle=False)\n",
    "\n",
    "    best_acc = 0\n",
    "    best_f1_score = 0\n",
    "\n",
    "    train_losses_arrays = []\n",
    "    test_losses_arrays = []\n",
    "    \n",
    "    device = torch.device('cuda' if torch.cuda.is_available() else 'cpu')\n",
    "\n",
    "    # class DummyDataset:\n",
    "    #     def __init__(self, a, data):\n",
    "    #         self.num_classes = a\n",
    "    #         self.data = data\n",
    "\n",
    "    # opt = {'use_cora_defaults': False, 'dataset': 'Cora', 'data_norm': 'rw', 'self_loop_weight': 1.0, 'use_labels': False, 'geom_gcn_splits': False, 'num_splits': 2, 'label_rate': 0.5, 'planetoid_split': False, 'hidden_dim': 80, 'fc_out': False, 'input_dropout': 0.5, 'dropout': 0.046878964627763316, 'batch_norm': False, 'optimizer': 'adamax', 'lr': 0.022924849756740397, 'decay': 0.00507685443154266, 'epoch': 100, 'alpha': 1.0, 'alpha_dim': 'sc', 'no_alpha_sigmoid': False, 'beta_dim': 'sc', 'block': 'constant', 'function': 'laplacian', 'use_mlp': False, 'add_source': True, 'cgnn': False, 'time': 18.294754260552843, 'augment': False, 'method': 'dopri5', 'step_size': 1, 'max_iters': 100, 'adjoint_method': 'adaptive_heun', 'adjoint': False, 'adjoint_step_size': 1, 'tol_scale': 821.9773048827274, 'tol_scale_adjoint': 1.0, 'ode_blocks': 1, 'max_nfe': 2000, 'no_early': False, 'earlystopxT': 3, 'max_test_steps': 100, 'leaky_relu_slope': 0.2, 'attention_dropout': 0.0, 'heads': 8, 'attention_norm_idx': 1, 'attention_dim': 128, 'mix_features': False, 'reweight_attention': False, 'attention_type': 'scaled_dot', 'square_plus': True, 'jacobian_norm2': None, 'total_deriv': None, 'kinetic_energy': None, 'directional_penalty': None, 'not_lcc': True, 'rewiring': None, 'gdc_method': 'ppr', 'gdc_sparsification': 'topk', 'gdc_k': 64, 'gdc_threshold': 0.01, 'gdc_avg_degree': 64, 'ppr_alpha': 0.05, 'heat_time': 3.0, 'att_samp_pct': 1, 'use_flux': False, 'exact': True, 'M_nodes': 64, 'new_edges': 'random', 'sparsify': 'S_hat', 'threshold_type': 'addD_rvR', 'rw_addD': 0.02, 'rw_rmvR': 0.02, 'rewire_KNN': False, 'rewire_KNN_T': 'T0', 'rewire_KNN_epoch': 10, 'rewire_KNN_k': 64, 'rewire_KNN_sym': False, 'KNN_online': False, 'KNN_online_reps': 4, 'KNN_space': 'pos_distance', 'beltrami': False, 'fa_layer': False, 'pos_enc_type': 'GDC', 'pos_enc_orientation': 'row', 'feat_hidden_dim': 64, 'pos_enc_hidden_dim': 16, 'edge_sampling': False, 'edge_sampling_T': 'T0', 'edge_sampling_epoch': 5, 'edge_sampling_add': 0.64, 'edge_sampling_add_type': 'importance', 'edge_sampling_rmv': 0.32, 'edge_sampling_sym': False, 'edge_sampling_online': False, 'edge_sampling_online_reps': 4, 'edge_sampling_space': 'attention', 'symmetric_attention': False, 'fa_layer_edge_sampling_rmv': 0.8, 'gpu': 0, 'pos_enc_csv': False, 'pos_dist_quantile': 0.001, 'adaptive': False, 'attention_rewiring': False, 'baseline': False, 'cpus': 1, 'dt': 0.001, 'dt_min': 1e-05, 'gpus': 0.5, 'grace_period': 20, 'max_epochs': 1000, 'metric': 'accuracy', 'name': 'cora_beltrami_splits', 'num_init': 1, 'num_samples': 1000, 'patience': 100, 'reduction_factor': 10, 'regularise': False, 'use_lcc': True}\n",
    "    # opt[\"hidden_dim\"] = NF\n",
    "    # # opt[\"max_nfe\"] = 2000 * 2000\n",
    "    # device = 'cpu'\n",
    "    # datas = train_dataset[0][0]\n",
    "    # dataset = DummyDataset(4, datas)\n",
    "    # # print(datas)\n",
    "    # if opt['beltrami']:\n",
    "    #     GLOBAL_POS_ENCODING = apply_beltrami(dataset.data, opt).to(device)\n",
    "    #     opt['pos_enc_dim'] = GLOBAL_POS_ENCODING.shape[1]\n",
    "    #     # print(opt['pos_enc_dim'])\n",
    "    #     # print(GLOBAL_POS_ENCODING.shape)\n",
    "    # GLOBAL_GRAND = GRAND(opt, dataset, device).to(device)\n",
    "\n",
    "    #seed_torch()\n",
    "    # decay, no_decay = [], []\n",
    "    # for name, param in model.named_parameters():\n",
    "    #     if 'conv1.lins' in name:\n",
    "    #         decay.append(param)\n",
    "    #     else:\n",
    "    #         no_decay.append(param)\n",
    "\n",
    "    #optimizer = torch.optim.Adam([\n",
    "    #    {'params': no_decay, 'weight_decay': 0}, {'params': decay, 'weight_decay': 5e-4}\n",
    "    #], lr=args.lr)\n",
    "\n",
    "    # data, _ = next(iter(train_loader))\n",
    "    #train_loader, test_loader = get_loaders(**json.loads(args.data_config), batch_size=args.bs, shuffle=True)\n",
    "    print('\\n===================================================================================\\n')\n",
    "    for j in range(1):\n",
    "        \n",
    "        model = GCN_LSTM(node_features=NF, hidden_features = n_hidden, lstm_hidden_features = N_HIDDEN_LSTM, \\\n",
    "                         seq_len=SEQ_LEN, output_dim=N_CLASSES, n_channels = N_CH, dataset=train_dataset, time=time, beltrami=beltrami, gcn=gcn, cnn=cnn)\n",
    "        model.to(device)\n",
    "        \n",
    "        optimizer = torch.optim.Adam(model.parameters(), lr=lr)\n",
    "        criterion = torch.nn.CrossEntropyLoss().to(device)\n",
    "        \n",
    "        train_losses_array = []\n",
    "        test_losses_array = []\n",
    "\n",
    "        for epoch in range(1, num_epochs + 1):\n",
    "            loss, acc, f1 = train(train_loader, model, optimizer, criterion, device)\n",
    "            train_losses_array.append(loss)\n",
    "            print(f'TRAIN: epoch = {epoch}, loss = {round(loss, 3)}, accuracy = {round(acc, 3)}, f1 = {round(f1, 3)}')\n",
    "            loss, acc, f1 = test(test_loader, model, criterion, device)\n",
    "\n",
    "            if acc > best_acc:\n",
    "                best_acc = acc\n",
    "            if f1 > best_f1_score:\n",
    "                best_f1_score = f1\n",
    "\n",
    "            test_losses_array.append(loss)\n",
    "            print(f'TEST: loss = {round(loss, 3)}, accuracy = {round(acc, 3)}, f1 = {round(f1, 3)}')\n",
    "            print('-' * 50)\n",
    "            # if epoch == NUM_EPOCHS:\n",
    "            #     torch.save(model.state_dict(), f\"models/seed_pearson_gcn_lstm_epoch_60_lr_1e-4.pth\")\n",
    "\n",
    "        train_losses_arrays.append(train_losses_array)\n",
    "        test_losses_arrays.append(test_losses_array)\n",
    "        print('\\n===================================================================================\\n')\n",
    "\n",
    "    train_losses_arrays = np.array(train_losses_arrays)\n",
    "    test_losses_arrays = np.array(test_losses_arrays)\n",
    "\n",
    "    return best_acc, best_f1_score, train_losses_arrays, test_losses_arrays"
   ]
  },
  {
   "cell_type": "code",
   "execution_count": 141,
   "id": "54b89358-27f4-46c4-aeae-25f8fb2b2e5c",
   "metadata": {},
   "outputs": [],
   "source": [
    "# best_f1_scores = []\n",
    "# best_accs = []"
   ]
  },
  {
   "cell_type": "code",
   "execution_count": 142,
   "id": "ae22d1e8-18fc-4f1a-8c25-6171d91d4ede",
   "metadata": {},
   "outputs": [],
   "source": [
    "# T = 5\n",
    "\n",
    "# build_adjacencies(X_train, 'dataset/adj_Pears_{}_train.npy'.format(T), T)\n",
    "# build_adjacencies(X_test, 'dataset/adj_Pears_{}_test.npy'.format(T), T)"
   ]
  },
  {
   "cell_type": "code",
   "execution_count": 144,
   "id": "b8fd12d7",
   "metadata": {},
   "outputs": [
    {
     "name": "stdout",
     "output_type": "stream",
     "text": [
      "241\n",
      "\n",
      "===================================================================================\n",
      "\n"
     ]
    },
    {
     "name": "stderr",
     "output_type": "stream",
     "text": [
      "100%|██████████| 89/89 [00:03<00:00, 27.97it/s]\n"
     ]
    },
    {
     "name": "stdout",
     "output_type": "stream",
     "text": [
      "TRAIN: epoch = 1, loss = 0.643, accuracy = 0.663, f1 = 0.572\n",
      "TEST: loss = 0.646, accuracy = 0.633, f1 = 0.388\n",
      "--------------------------------------------------\n"
     ]
    },
    {
     "name": "stderr",
     "output_type": "stream",
     "text": [
      " 76%|███████▋  | 68/89 [00:02<00:00, 29.38it/s]\n"
     ]
    },
    {
     "ename": "KeyboardInterrupt",
     "evalue": "",
     "output_type": "error",
     "traceback": [
      "\u001b[0;31m---------------------------------------------------------------------------\u001b[0m",
      "\u001b[0;31mKeyboardInterrupt\u001b[0m                         Traceback (most recent call last)",
      "Cell \u001b[0;32mIn[144], line 1\u001b[0m\n\u001b[0;32m----> 1\u001b[0m \u001b[43mconduct_experiment\u001b[49m\u001b[43m(\u001b[49m\u001b[38;5;241;43m15\u001b[39;49m\u001b[43m,\u001b[49m\u001b[43m \u001b[49m\u001b[43mnum_epochs\u001b[49m\u001b[38;5;241;43m=\u001b[39;49m\u001b[38;5;241;43m10\u001b[39;49m\u001b[43m,\u001b[49m\u001b[43m \u001b[49m\u001b[43malpha\u001b[49m\u001b[38;5;241;43m=\u001b[39;49m\u001b[38;5;241;43m0.8\u001b[39;49m\u001b[43m,\u001b[49m\u001b[43m \u001b[49m\u001b[43mNF\u001b[49m\u001b[38;5;241;43m=\u001b[39;49m\u001b[38;5;241;43m5\u001b[39;49m\u001b[43m,\u001b[49m\u001b[43m \u001b[49m\u001b[43mgcn\u001b[49m\u001b[38;5;241;43m=\u001b[39;49m\u001b[38;5;28;43;01mFalse\u001b[39;49;00m\u001b[43m,\u001b[49m\u001b[43m \u001b[49m\u001b[43mcnn\u001b[49m\u001b[38;5;241;43m=\u001b[39;49m\u001b[38;5;28;43;01mTrue\u001b[39;49;00m\u001b[43m)\u001b[49m\n",
      "Cell \u001b[0;32mIn[140], line 84\u001b[0m, in \u001b[0;36mconduct_experiment\u001b[0;34m(T, n_hidden, num_epochs, lr, alpha, NF, time, beltrami, gcn, cnn)\u001b[0m\n\u001b[1;32m     81\u001b[0m test_losses_array \u001b[38;5;241m=\u001b[39m []\n\u001b[1;32m     83\u001b[0m \u001b[38;5;28;01mfor\u001b[39;00m epoch \u001b[38;5;129;01min\u001b[39;00m \u001b[38;5;28mrange\u001b[39m(\u001b[38;5;241m1\u001b[39m, num_epochs \u001b[38;5;241m+\u001b[39m \u001b[38;5;241m1\u001b[39m):\n\u001b[0;32m---> 84\u001b[0m     loss, acc, f1 \u001b[38;5;241m=\u001b[39m \u001b[43mtrain\u001b[49m\u001b[43m(\u001b[49m\u001b[43mtrain_loader\u001b[49m\u001b[43m,\u001b[49m\u001b[43m \u001b[49m\u001b[43mmodel\u001b[49m\u001b[43m,\u001b[49m\u001b[43m \u001b[49m\u001b[43moptimizer\u001b[49m\u001b[43m,\u001b[49m\u001b[43m \u001b[49m\u001b[43mcriterion\u001b[49m\u001b[43m,\u001b[49m\u001b[43m \u001b[49m\u001b[43mdevice\u001b[49m\u001b[43m)\u001b[49m\n\u001b[1;32m     85\u001b[0m     train_losses_array\u001b[38;5;241m.\u001b[39mappend(loss)\n\u001b[1;32m     86\u001b[0m     \u001b[38;5;28mprint\u001b[39m(\u001b[38;5;124mf\u001b[39m\u001b[38;5;124m'\u001b[39m\u001b[38;5;124mTRAIN: epoch = \u001b[39m\u001b[38;5;132;01m{\u001b[39;00mepoch\u001b[38;5;132;01m}\u001b[39;00m\u001b[38;5;124m, loss = \u001b[39m\u001b[38;5;132;01m{\u001b[39;00m\u001b[38;5;28mround\u001b[39m(loss,\u001b[38;5;250m \u001b[39m\u001b[38;5;241m3\u001b[39m)\u001b[38;5;132;01m}\u001b[39;00m\u001b[38;5;124m, accuracy = \u001b[39m\u001b[38;5;132;01m{\u001b[39;00m\u001b[38;5;28mround\u001b[39m(acc,\u001b[38;5;250m \u001b[39m\u001b[38;5;241m3\u001b[39m)\u001b[38;5;132;01m}\u001b[39;00m\u001b[38;5;124m, f1 = \u001b[39m\u001b[38;5;132;01m{\u001b[39;00m\u001b[38;5;28mround\u001b[39m(f1,\u001b[38;5;250m \u001b[39m\u001b[38;5;241m3\u001b[39m)\u001b[38;5;132;01m}\u001b[39;00m\u001b[38;5;124m'\u001b[39m)\n",
      "Cell \u001b[0;32mIn[138], line 8\u001b[0m, in \u001b[0;36mtrain\u001b[0;34m(train_loader, model, optimizer, criterion, device, tqdm_disable)\u001b[0m\n\u001b[1;32m      6\u001b[0m loss \u001b[38;5;241m=\u001b[39m \u001b[38;5;241m0\u001b[39m\n\u001b[1;32m      7\u001b[0m n_train \u001b[38;5;241m=\u001b[39m \u001b[38;5;28mlen\u001b[39m(train_loader)\n\u001b[0;32m----> 8\u001b[0m \u001b[38;5;28;01mfor\u001b[39;00m batch \u001b[38;5;129;01min\u001b[39;00m tqdm(train_loader, total\u001b[38;5;241m=\u001b[39mn_train, disable\u001b[38;5;241m=\u001b[39mtqdm_disable):\n\u001b[1;32m      9\u001b[0m     data, target \u001b[38;5;241m=\u001b[39m batch\n\u001b[1;32m     11\u001b[0m     data\u001b[38;5;241m.\u001b[39mto(device)\n",
      "File \u001b[0;32m~/miniconda3/envs/m1p/lib/python3.9/site-packages/tqdm/std.py:1178\u001b[0m, in \u001b[0;36mtqdm.__iter__\u001b[0;34m(self)\u001b[0m\n\u001b[1;32m   1175\u001b[0m time \u001b[38;5;241m=\u001b[39m \u001b[38;5;28mself\u001b[39m\u001b[38;5;241m.\u001b[39m_time\n\u001b[1;32m   1177\u001b[0m \u001b[38;5;28;01mtry\u001b[39;00m:\n\u001b[0;32m-> 1178\u001b[0m     \u001b[38;5;28;01mfor\u001b[39;00m obj \u001b[38;5;129;01min\u001b[39;00m iterable:\n\u001b[1;32m   1179\u001b[0m         \u001b[38;5;28;01myield\u001b[39;00m obj\n\u001b[1;32m   1180\u001b[0m         \u001b[38;5;66;03m# Update and possibly print the progressbar.\u001b[39;00m\n\u001b[1;32m   1181\u001b[0m         \u001b[38;5;66;03m# Note: does not call self.update(1) for speed optimisation.\u001b[39;00m\n",
      "File \u001b[0;32m~/miniconda3/envs/m1p/lib/python3.9/site-packages/torch/utils/data/dataloader.py:631\u001b[0m, in \u001b[0;36m_BaseDataLoaderIter.__next__\u001b[0;34m(self)\u001b[0m\n\u001b[1;32m    628\u001b[0m \u001b[38;5;28;01mif\u001b[39;00m \u001b[38;5;28mself\u001b[39m\u001b[38;5;241m.\u001b[39m_sampler_iter \u001b[38;5;129;01mis\u001b[39;00m \u001b[38;5;28;01mNone\u001b[39;00m:\n\u001b[1;32m    629\u001b[0m     \u001b[38;5;66;03m# TODO(https://github.com/pytorch/pytorch/issues/76750)\u001b[39;00m\n\u001b[1;32m    630\u001b[0m     \u001b[38;5;28mself\u001b[39m\u001b[38;5;241m.\u001b[39m_reset()  \u001b[38;5;66;03m# type: ignore[call-arg]\u001b[39;00m\n\u001b[0;32m--> 631\u001b[0m data \u001b[38;5;241m=\u001b[39m \u001b[38;5;28;43mself\u001b[39;49m\u001b[38;5;241;43m.\u001b[39;49m\u001b[43m_next_data\u001b[49m\u001b[43m(\u001b[49m\u001b[43m)\u001b[49m\n\u001b[1;32m    632\u001b[0m \u001b[38;5;28mself\u001b[39m\u001b[38;5;241m.\u001b[39m_num_yielded \u001b[38;5;241m+\u001b[39m\u001b[38;5;241m=\u001b[39m \u001b[38;5;241m1\u001b[39m\n\u001b[1;32m    633\u001b[0m \u001b[38;5;28;01mif\u001b[39;00m \u001b[38;5;28mself\u001b[39m\u001b[38;5;241m.\u001b[39m_dataset_kind \u001b[38;5;241m==\u001b[39m _DatasetKind\u001b[38;5;241m.\u001b[39mIterable \u001b[38;5;129;01mand\u001b[39;00m \\\n\u001b[1;32m    634\u001b[0m         \u001b[38;5;28mself\u001b[39m\u001b[38;5;241m.\u001b[39m_IterableDataset_len_called \u001b[38;5;129;01mis\u001b[39;00m \u001b[38;5;129;01mnot\u001b[39;00m \u001b[38;5;28;01mNone\u001b[39;00m \u001b[38;5;129;01mand\u001b[39;00m \\\n\u001b[1;32m    635\u001b[0m         \u001b[38;5;28mself\u001b[39m\u001b[38;5;241m.\u001b[39m_num_yielded \u001b[38;5;241m>\u001b[39m \u001b[38;5;28mself\u001b[39m\u001b[38;5;241m.\u001b[39m_IterableDataset_len_called:\n",
      "File \u001b[0;32m~/miniconda3/envs/m1p/lib/python3.9/site-packages/torch/utils/data/dataloader.py:675\u001b[0m, in \u001b[0;36m_SingleProcessDataLoaderIter._next_data\u001b[0;34m(self)\u001b[0m\n\u001b[1;32m    673\u001b[0m \u001b[38;5;28;01mdef\u001b[39;00m \u001b[38;5;21m_next_data\u001b[39m(\u001b[38;5;28mself\u001b[39m):\n\u001b[1;32m    674\u001b[0m     index \u001b[38;5;241m=\u001b[39m \u001b[38;5;28mself\u001b[39m\u001b[38;5;241m.\u001b[39m_next_index()  \u001b[38;5;66;03m# may raise StopIteration\u001b[39;00m\n\u001b[0;32m--> 675\u001b[0m     data \u001b[38;5;241m=\u001b[39m \u001b[38;5;28;43mself\u001b[39;49m\u001b[38;5;241;43m.\u001b[39;49m\u001b[43m_dataset_fetcher\u001b[49m\u001b[38;5;241;43m.\u001b[39;49m\u001b[43mfetch\u001b[49m\u001b[43m(\u001b[49m\u001b[43mindex\u001b[49m\u001b[43m)\u001b[49m  \u001b[38;5;66;03m# may raise StopIteration\u001b[39;00m\n\u001b[1;32m    676\u001b[0m     \u001b[38;5;28;01mif\u001b[39;00m \u001b[38;5;28mself\u001b[39m\u001b[38;5;241m.\u001b[39m_pin_memory:\n\u001b[1;32m    677\u001b[0m         data \u001b[38;5;241m=\u001b[39m _utils\u001b[38;5;241m.\u001b[39mpin_memory\u001b[38;5;241m.\u001b[39mpin_memory(data, \u001b[38;5;28mself\u001b[39m\u001b[38;5;241m.\u001b[39m_pin_memory_device)\n",
      "File \u001b[0;32m~/miniconda3/envs/m1p/lib/python3.9/site-packages/torch/utils/data/_utils/fetch.py:51\u001b[0m, in \u001b[0;36m_MapDatasetFetcher.fetch\u001b[0;34m(self, possibly_batched_index)\u001b[0m\n\u001b[1;32m     49\u001b[0m         data \u001b[38;5;241m=\u001b[39m \u001b[38;5;28mself\u001b[39m\u001b[38;5;241m.\u001b[39mdataset\u001b[38;5;241m.\u001b[39m__getitems__(possibly_batched_index)\n\u001b[1;32m     50\u001b[0m     \u001b[38;5;28;01melse\u001b[39;00m:\n\u001b[0;32m---> 51\u001b[0m         data \u001b[38;5;241m=\u001b[39m [\u001b[38;5;28mself\u001b[39m\u001b[38;5;241m.\u001b[39mdataset[idx] \u001b[38;5;28;01mfor\u001b[39;00m idx \u001b[38;5;129;01min\u001b[39;00m possibly_batched_index]\n\u001b[1;32m     52\u001b[0m \u001b[38;5;28;01melse\u001b[39;00m:\n\u001b[1;32m     53\u001b[0m     data \u001b[38;5;241m=\u001b[39m \u001b[38;5;28mself\u001b[39m\u001b[38;5;241m.\u001b[39mdataset[possibly_batched_index]\n",
      "File \u001b[0;32m~/miniconda3/envs/m1p/lib/python3.9/site-packages/torch/utils/data/_utils/fetch.py:51\u001b[0m, in \u001b[0;36m<listcomp>\u001b[0;34m(.0)\u001b[0m\n\u001b[1;32m     49\u001b[0m         data \u001b[38;5;241m=\u001b[39m \u001b[38;5;28mself\u001b[39m\u001b[38;5;241m.\u001b[39mdataset\u001b[38;5;241m.\u001b[39m__getitems__(possibly_batched_index)\n\u001b[1;32m     50\u001b[0m     \u001b[38;5;28;01melse\u001b[39;00m:\n\u001b[0;32m---> 51\u001b[0m         data \u001b[38;5;241m=\u001b[39m [\u001b[38;5;28;43mself\u001b[39;49m\u001b[38;5;241;43m.\u001b[39;49m\u001b[43mdataset\u001b[49m\u001b[43m[\u001b[49m\u001b[43midx\u001b[49m\u001b[43m]\u001b[49m \u001b[38;5;28;01mfor\u001b[39;00m idx \u001b[38;5;129;01min\u001b[39;00m possibly_batched_index]\n\u001b[1;32m     52\u001b[0m \u001b[38;5;28;01melse\u001b[39;00m:\n\u001b[1;32m     53\u001b[0m     data \u001b[38;5;241m=\u001b[39m \u001b[38;5;28mself\u001b[39m\u001b[38;5;241m.\u001b[39mdataset[possibly_batched_index]\n",
      "File \u001b[0;32m~/miniconda3/envs/m1p/lib/python3.9/site-packages/torch_geometric/data/dataset.py:289\u001b[0m, in \u001b[0;36mDataset.__getitem__\u001b[0;34m(self, idx)\u001b[0m\n\u001b[1;32m    278\u001b[0m \u001b[38;5;250m\u001b[39m\u001b[38;5;124mr\u001b[39m\u001b[38;5;124;03m\"\"\"In case :obj:`idx` is of type integer, will return the data object\u001b[39;00m\n\u001b[1;32m    279\u001b[0m \u001b[38;5;124;03mat index :obj:`idx` (and transforms it in case :obj:`transform` is\u001b[39;00m\n\u001b[1;32m    280\u001b[0m \u001b[38;5;124;03mpresent).\u001b[39;00m\n\u001b[0;32m   (...)\u001b[0m\n\u001b[1;32m    283\u001b[0m \u001b[38;5;124;03mbool, will return a subset of the dataset at the specified indices.\u001b[39;00m\n\u001b[1;32m    284\u001b[0m \u001b[38;5;124;03m\"\"\"\u001b[39;00m\n\u001b[1;32m    285\u001b[0m \u001b[38;5;28;01mif\u001b[39;00m (\u001b[38;5;28misinstance\u001b[39m(idx, (\u001b[38;5;28mint\u001b[39m, np\u001b[38;5;241m.\u001b[39minteger))\n\u001b[1;32m    286\u001b[0m         \u001b[38;5;129;01mor\u001b[39;00m (\u001b[38;5;28misinstance\u001b[39m(idx, Tensor) \u001b[38;5;129;01mand\u001b[39;00m idx\u001b[38;5;241m.\u001b[39mdim() \u001b[38;5;241m==\u001b[39m \u001b[38;5;241m0\u001b[39m)\n\u001b[1;32m    287\u001b[0m         \u001b[38;5;129;01mor\u001b[39;00m (\u001b[38;5;28misinstance\u001b[39m(idx, np\u001b[38;5;241m.\u001b[39mndarray) \u001b[38;5;129;01mand\u001b[39;00m np\u001b[38;5;241m.\u001b[39misscalar(idx))):\n\u001b[0;32m--> 289\u001b[0m     data \u001b[38;5;241m=\u001b[39m \u001b[38;5;28;43mself\u001b[39;49m\u001b[38;5;241;43m.\u001b[39;49m\u001b[43mget\u001b[49m\u001b[43m(\u001b[49m\u001b[38;5;28;43mself\u001b[39;49m\u001b[38;5;241;43m.\u001b[39;49m\u001b[43mindices\u001b[49m\u001b[43m(\u001b[49m\u001b[43m)\u001b[49m\u001b[43m[\u001b[49m\u001b[43midx\u001b[49m\u001b[43m]\u001b[49m\u001b[43m)\u001b[49m\n\u001b[1;32m    290\u001b[0m     data \u001b[38;5;241m=\u001b[39m data \u001b[38;5;28;01mif\u001b[39;00m \u001b[38;5;28mself\u001b[39m\u001b[38;5;241m.\u001b[39mtransform \u001b[38;5;129;01mis\u001b[39;00m \u001b[38;5;28;01mNone\u001b[39;00m \u001b[38;5;28;01melse\u001b[39;00m \u001b[38;5;28mself\u001b[39m\u001b[38;5;241m.\u001b[39mtransform(data)\n\u001b[1;32m    291\u001b[0m     \u001b[38;5;28;01mreturn\u001b[39;00m data\n",
      "Cell \u001b[0;32mIn[9], line 99\u001b[0m, in \u001b[0;36mGraphDataset.get\u001b[0;34m(self, idx)\u001b[0m\n\u001b[1;32m     94\u001b[0m j \u001b[38;5;241m=\u001b[39m idx \u001b[38;5;241m/\u001b[39m\u001b[38;5;241m/\u001b[39m (\u001b[38;5;28mself\u001b[39m\u001b[38;5;241m.\u001b[39mn_time_measurements \u001b[38;5;241m-\u001b[39m \u001b[38;5;28mself\u001b[39m\u001b[38;5;241m.\u001b[39mT)\n\u001b[1;32m     96\u001b[0m \u001b[38;5;66;03m#print(self.feature[j, (i + self.T - self.n_features):(i + self.T + 1), :])\u001b[39;00m\n\u001b[1;32m     97\u001b[0m \u001b[38;5;66;03m#raise Exception('!')\u001b[39;00m\n\u001b[0;32m---> 99\u001b[0m data_sequence \u001b[38;5;241m=\u001b[39m \u001b[43mData\u001b[49m\u001b[43m(\u001b[49m\n\u001b[1;32m    100\u001b[0m \u001b[43m    \u001b[49m\u001b[43mx\u001b[49m\u001b[38;5;241;43m=\u001b[39;49m\u001b[43mtorch\u001b[49m\u001b[38;5;241;43m.\u001b[39;49m\u001b[43mTensor\u001b[49m\u001b[43m(\u001b[49m\u001b[38;5;28;43mself\u001b[39;49m\u001b[38;5;241;43m.\u001b[39;49m\u001b[43mfeature\u001b[49m\u001b[43m[\u001b[49m\u001b[43mj\u001b[49m\u001b[43m,\u001b[49m\u001b[43m \u001b[49m\u001b[43m(\u001b[49m\u001b[43mi\u001b[49m\u001b[43m \u001b[49m\u001b[38;5;241;43m+\u001b[39;49m\u001b[43m \u001b[49m\u001b[38;5;28;43mself\u001b[39;49m\u001b[38;5;241;43m.\u001b[39;49m\u001b[43mT\u001b[49m\u001b[43m \u001b[49m\u001b[38;5;241;43m-\u001b[39;49m\u001b[43m \u001b[49m\u001b[38;5;28;43mself\u001b[39;49m\u001b[38;5;241;43m.\u001b[39;49m\u001b[43mn_features\u001b[49m\u001b[43m \u001b[49m\u001b[38;5;241;43m+\u001b[39;49m\u001b[43m \u001b[49m\u001b[38;5;241;43m1\u001b[39;49m\u001b[43m)\u001b[49m\u001b[43m:\u001b[49m\u001b[43m(\u001b[49m\u001b[43mi\u001b[49m\u001b[43m \u001b[49m\u001b[38;5;241;43m+\u001b[39;49m\u001b[43m \u001b[49m\u001b[38;5;28;43mself\u001b[39;49m\u001b[38;5;241;43m.\u001b[39;49m\u001b[43mT\u001b[49m\u001b[43m \u001b[49m\u001b[38;5;241;43m+\u001b[39;49m\u001b[43m \u001b[49m\u001b[38;5;241;43m1\u001b[39;49m\u001b[43m)\u001b[49m\u001b[43m,\u001b[49m\u001b[43m \u001b[49m\u001b[43m:\u001b[49m\u001b[43m]\u001b[49m\u001b[43m)\u001b[49m\u001b[38;5;241;43m.\u001b[39;49m\u001b[43mT\u001b[49m\u001b[43m,\u001b[49m\n\u001b[1;32m    101\u001b[0m \u001b[43m    \u001b[49m\u001b[43medge_index\u001b[49m\u001b[38;5;241;43m=\u001b[39;49m\u001b[43mtorch\u001b[49m\u001b[38;5;241;43m.\u001b[39;49m\u001b[43mLongTensor\u001b[49m\u001b[43m(\u001b[49m\u001b[38;5;28;43mself\u001b[39;49m\u001b[38;5;241;43m.\u001b[39;49m\u001b[43medges\u001b[49m\u001b[43m[\u001b[49m\u001b[43midx\u001b[49m\u001b[43m]\u001b[49m\u001b[43m)\u001b[49m\u001b[43m,\u001b[49m\n\u001b[1;32m    102\u001b[0m \u001b[43m    \u001b[49m\u001b[38;5;66;43;03m#edge_attr=torch.Tensor(self.edge_weights[idx])\u001b[39;49;00m\n\u001b[1;32m    103\u001b[0m \u001b[43m\u001b[49m\u001b[43m)\u001b[49m\n\u001b[1;32m    104\u001b[0m target \u001b[38;5;241m=\u001b[39m torch\u001b[38;5;241m.\u001b[39mLongTensor([\u001b[38;5;28mself\u001b[39m\u001b[38;5;241m.\u001b[39mtarget[j]])\n\u001b[1;32m    106\u001b[0m \u001b[38;5;28;01mreturn\u001b[39;00m data_sequence, target\n",
      "File \u001b[0;32m~/miniconda3/envs/m1p/lib/python3.9/site-packages/torch_geometric/data/data.py:534\u001b[0m, in \u001b[0;36mData.__init__\u001b[0;34m(self, x, edge_index, edge_attr, y, pos, time, **kwargs)\u001b[0m\n\u001b[1;32m    530\u001b[0m \u001b[38;5;66;03m# `Data` doesn't support edge_type, so we need to adjust `EdgeAttr`\u001b[39;00m\n\u001b[1;32m    531\u001b[0m \u001b[38;5;66;03m# accordingly here to avoid requiring `edge_type` to be set:\u001b[39;00m\n\u001b[1;32m    532\u001b[0m GraphStore\u001b[38;5;241m.\u001b[39m\u001b[38;5;21m__init__\u001b[39m(\u001b[38;5;28mself\u001b[39m, edge_attr_cls\u001b[38;5;241m=\u001b[39mDataEdgeAttr)\n\u001b[0;32m--> 534\u001b[0m \u001b[38;5;28mself\u001b[39m\u001b[38;5;241m.\u001b[39m\u001b[38;5;18m__dict__\u001b[39m[\u001b[38;5;124m'\u001b[39m\u001b[38;5;124m_store\u001b[39m\u001b[38;5;124m'\u001b[39m] \u001b[38;5;241m=\u001b[39m \u001b[43mGlobalStorage\u001b[49m\u001b[43m(\u001b[49m\u001b[43m_parent\u001b[49m\u001b[38;5;241;43m=\u001b[39;49m\u001b[38;5;28;43mself\u001b[39;49m\u001b[43m)\u001b[49m\n\u001b[1;32m    536\u001b[0m \u001b[38;5;28;01mif\u001b[39;00m x \u001b[38;5;129;01mis\u001b[39;00m \u001b[38;5;129;01mnot\u001b[39;00m \u001b[38;5;28;01mNone\u001b[39;00m:\n\u001b[1;32m    537\u001b[0m     \u001b[38;5;28mself\u001b[39m\u001b[38;5;241m.\u001b[39mx \u001b[38;5;241m=\u001b[39m x\n",
      "File \u001b[0;32m~/miniconda3/envs/m1p/lib/python3.9/site-packages/torch_geometric/data/storage.py:76\u001b[0m, in \u001b[0;36mBaseStorage.__init__\u001b[0;34m(self, _mapping, **kwargs)\u001b[0m\n\u001b[1;32m     74\u001b[0m     \u001b[38;5;28msetattr\u001b[39m(\u001b[38;5;28mself\u001b[39m, key, value)\n\u001b[1;32m     75\u001b[0m \u001b[38;5;28;01mfor\u001b[39;00m key, value \u001b[38;5;129;01min\u001b[39;00m kwargs\u001b[38;5;241m.\u001b[39mitems():\n\u001b[0;32m---> 76\u001b[0m     \u001b[38;5;28;43msetattr\u001b[39;49m\u001b[43m(\u001b[49m\u001b[38;5;28;43mself\u001b[39;49m\u001b[43m,\u001b[49m\u001b[43m \u001b[49m\u001b[43mkey\u001b[49m\u001b[43m,\u001b[49m\u001b[43m \u001b[49m\u001b[43mvalue\u001b[49m\u001b[43m)\u001b[49m\n",
      "File \u001b[0;32m~/miniconda3/envs/m1p/lib/python3.9/site-packages/torch_geometric/data/storage.py:101\u001b[0m, in \u001b[0;36mBaseStorage.__setattr__\u001b[0;34m(self, key, value)\u001b[0m\n\u001b[1;32m    100\u001b[0m \u001b[38;5;28;01mdef\u001b[39;00m \u001b[38;5;21m__setattr__\u001b[39m(\u001b[38;5;28mself\u001b[39m, key: \u001b[38;5;28mstr\u001b[39m, value: Any) \u001b[38;5;241m-\u001b[39m\u001b[38;5;241m>\u001b[39m \u001b[38;5;28;01mNone\u001b[39;00m:\n\u001b[0;32m--> 101\u001b[0m     propobj \u001b[38;5;241m=\u001b[39m \u001b[38;5;28;43mgetattr\u001b[39;49m\u001b[43m(\u001b[49m\u001b[38;5;28;43mself\u001b[39;49m\u001b[38;5;241;43m.\u001b[39;49m\u001b[38;5;18;43m__class__\u001b[39;49m\u001b[43m,\u001b[49m\u001b[43m \u001b[49m\u001b[43mkey\u001b[49m\u001b[43m,\u001b[49m\u001b[43m \u001b[49m\u001b[38;5;28;43;01mNone\u001b[39;49;00m\u001b[43m)\u001b[49m\n\u001b[1;32m    102\u001b[0m     \u001b[38;5;28;01mif\u001b[39;00m propobj \u001b[38;5;129;01mis\u001b[39;00m \u001b[38;5;129;01mnot\u001b[39;00m \u001b[38;5;28;01mNone\u001b[39;00m \u001b[38;5;129;01mand\u001b[39;00m \u001b[38;5;28mgetattr\u001b[39m(propobj, \u001b[38;5;124m'\u001b[39m\u001b[38;5;124mfset\u001b[39m\u001b[38;5;124m'\u001b[39m, \u001b[38;5;28;01mNone\u001b[39;00m) \u001b[38;5;129;01mis\u001b[39;00m \u001b[38;5;129;01mnot\u001b[39;00m \u001b[38;5;28;01mNone\u001b[39;00m:\n\u001b[1;32m    103\u001b[0m         propobj\u001b[38;5;241m.\u001b[39mfset(\u001b[38;5;28mself\u001b[39m, value)\n",
      "\u001b[0;31mKeyboardInterrupt\u001b[0m: "
     ]
    }
   ],
   "source": [
    "conduct_experiment(15, num_epochs=10, alpha=0.8, NF=5, gcn=False, cnn=True)"
   ]
  },
  {
   "cell_type": "code",
   "execution_count": 126,
   "id": "29bd1f01-f2d6-4984-9edc-4d28ba1f4758",
   "metadata": {},
   "outputs": [
    {
     "name": "stdout",
     "output_type": "stream",
     "text": [
      "231\n",
      "\n",
      "===================================================================================\n",
      "\n"
     ]
    },
    {
     "name": "stderr",
     "output_type": "stream",
     "text": [
      "100%|██████████| 89/89 [00:02<00:00, 31.36it/s]\n"
     ]
    },
    {
     "name": "stdout",
     "output_type": "stream",
     "text": [
      "TRAIN: epoch = 1, loss = 0.658, accuracy = 0.607, f1 = 0.57\n",
      "TEST: loss = 0.659, accuracy = 0.633, f1 = 0.549\n",
      "--------------------------------------------------\n"
     ]
    },
    {
     "name": "stderr",
     "output_type": "stream",
     "text": [
      "100%|██████████| 89/89 [00:02<00:00, 30.99it/s]\n"
     ]
    },
    {
     "name": "stdout",
     "output_type": "stream",
     "text": [
      "TRAIN: epoch = 2, loss = 0.487, accuracy = 0.764, f1 = 0.729\n",
      "TEST: loss = 0.652, accuracy = 0.767, f1 = 0.713\n",
      "--------------------------------------------------\n"
     ]
    },
    {
     "name": "stderr",
     "output_type": "stream",
     "text": [
      "100%|██████████| 89/89 [00:02<00:00, 33.11it/s]\n"
     ]
    },
    {
     "name": "stdout",
     "output_type": "stream",
     "text": [
      "TRAIN: epoch = 3, loss = 0.401, accuracy = 0.82, f1 = 0.795\n",
      "TEST: loss = 0.662, accuracy = 0.733, f1 = 0.683\n",
      "--------------------------------------------------\n"
     ]
    },
    {
     "name": "stderr",
     "output_type": "stream",
     "text": [
      "100%|██████████| 89/89 [00:02<00:00, 33.25it/s]\n"
     ]
    },
    {
     "name": "stdout",
     "output_type": "stream",
     "text": [
      "TRAIN: epoch = 4, loss = 0.326, accuracy = 0.865, f1 = 0.844\n",
      "TEST: loss = 0.742, accuracy = 0.767, f1 = 0.713\n",
      "--------------------------------------------------\n"
     ]
    },
    {
     "name": "stderr",
     "output_type": "stream",
     "text": [
      "100%|██████████| 89/89 [00:02<00:00, 29.91it/s]\n"
     ]
    },
    {
     "name": "stdout",
     "output_type": "stream",
     "text": [
      "TRAIN: epoch = 5, loss = 0.236, accuracy = 0.91, f1 = 0.899\n",
      "TEST: loss = 0.806, accuracy = 0.733, f1 = 0.659\n",
      "--------------------------------------------------\n"
     ]
    },
    {
     "name": "stderr",
     "output_type": "stream",
     "text": [
      "100%|██████████| 89/89 [00:02<00:00, 31.04it/s]\n"
     ]
    },
    {
     "name": "stdout",
     "output_type": "stream",
     "text": [
      "TRAIN: epoch = 6, loss = 0.153, accuracy = 0.966, f1 = 0.963\n",
      "TEST: loss = 0.936, accuracy = 0.733, f1 = 0.659\n",
      "--------------------------------------------------\n"
     ]
    },
    {
     "name": "stderr",
     "output_type": "stream",
     "text": [
      "100%|██████████| 89/89 [00:02<00:00, 32.43it/s]\n"
     ]
    },
    {
     "name": "stdout",
     "output_type": "stream",
     "text": [
      "TRAIN: epoch = 7, loss = 0.116, accuracy = 0.978, f1 = 0.975\n",
      "TEST: loss = 1.013, accuracy = 0.767, f1 = 0.713\n",
      "--------------------------------------------------\n"
     ]
    },
    {
     "name": "stderr",
     "output_type": "stream",
     "text": [
      "100%|██████████| 89/89 [00:02<00:00, 29.75it/s]\n"
     ]
    },
    {
     "name": "stdout",
     "output_type": "stream",
     "text": [
      "TRAIN: epoch = 8, loss = 0.097, accuracy = 0.966, f1 = 0.963\n",
      "TEST: loss = 1.128, accuracy = 0.7, f1 = 0.631\n",
      "--------------------------------------------------\n"
     ]
    },
    {
     "name": "stderr",
     "output_type": "stream",
     "text": [
      "100%|██████████| 89/89 [00:02<00:00, 30.31it/s]\n"
     ]
    },
    {
     "name": "stdout",
     "output_type": "stream",
     "text": [
      "TRAIN: epoch = 9, loss = 0.075, accuracy = 0.989, f1 = 0.988\n",
      "TEST: loss = 1.176, accuracy = 0.733, f1 = 0.659\n",
      "--------------------------------------------------\n"
     ]
    },
    {
     "name": "stderr",
     "output_type": "stream",
     "text": [
      "100%|██████████| 89/89 [00:02<00:00, 31.58it/s]\n"
     ]
    },
    {
     "name": "stdout",
     "output_type": "stream",
     "text": [
      "TRAIN: epoch = 10, loss = 0.044, accuracy = 1.0, f1 = 1.0\n",
      "TEST: loss = 1.238, accuracy = 0.767, f1 = 0.713\n",
      "--------------------------------------------------\n"
     ]
    },
    {
     "name": "stderr",
     "output_type": "stream",
     "text": [
      "100%|██████████| 89/89 [00:02<00:00, 32.27it/s]\n"
     ]
    },
    {
     "name": "stdout",
     "output_type": "stream",
     "text": [
      "TRAIN: epoch = 11, loss = 0.016, accuracy = 1.0, f1 = 1.0\n",
      "TEST: loss = 1.292, accuracy = 0.767, f1 = 0.713\n",
      "--------------------------------------------------\n"
     ]
    },
    {
     "name": "stderr",
     "output_type": "stream",
     "text": [
      "100%|██████████| 89/89 [00:02<00:00, 33.89it/s]\n"
     ]
    },
    {
     "name": "stdout",
     "output_type": "stream",
     "text": [
      "TRAIN: epoch = 12, loss = 0.01, accuracy = 1.0, f1 = 1.0\n",
      "TEST: loss = 1.418, accuracy = 0.767, f1 = 0.713\n",
      "--------------------------------------------------\n"
     ]
    },
    {
     "name": "stderr",
     "output_type": "stream",
     "text": [
      "100%|██████████| 89/89 [00:02<00:00, 33.97it/s]\n"
     ]
    },
    {
     "name": "stdout",
     "output_type": "stream",
     "text": [
      "TRAIN: epoch = 13, loss = 0.011, accuracy = 1.0, f1 = 1.0\n",
      "TEST: loss = 1.487, accuracy = 0.767, f1 = 0.713\n",
      "--------------------------------------------------\n"
     ]
    },
    {
     "name": "stderr",
     "output_type": "stream",
     "text": [
      "100%|██████████| 89/89 [00:02<00:00, 32.73it/s]\n"
     ]
    },
    {
     "name": "stdout",
     "output_type": "stream",
     "text": [
      "TRAIN: epoch = 14, loss = 0.009, accuracy = 1.0, f1 = 1.0\n",
      "TEST: loss = 1.477, accuracy = 0.767, f1 = 0.713\n",
      "--------------------------------------------------\n"
     ]
    },
    {
     "name": "stderr",
     "output_type": "stream",
     "text": [
      "100%|██████████| 89/89 [00:02<00:00, 33.93it/s]\n"
     ]
    },
    {
     "name": "stdout",
     "output_type": "stream",
     "text": [
      "TRAIN: epoch = 15, loss = 0.008, accuracy = 1.0, f1 = 1.0\n",
      "TEST: loss = 1.579, accuracy = 0.733, f1 = 0.683\n",
      "--------------------------------------------------\n",
      "\n",
      "===================================================================================\n",
      "\n"
     ]
    }
   ],
   "source": [
    "T = 25\n",
    "\n",
    "best_acc, best_f1_score, train_losses_arrays, test_losses_arrays = conduct_experiment(T = T, num_epochs = 15, lr = 5e-4, time=4, gcn=False, cnn=True)"
   ]
  },
  {
   "cell_type": "code",
   "execution_count": 47,
   "id": "4b6e59fc",
   "metadata": {},
   "outputs": [
    {
     "name": "stdout",
     "output_type": "stream",
     "text": [
      "Building adjacencies T=15\n"
     ]
    },
    {
     "name": "stderr",
     "output_type": "stream",
     "text": [
      "  0%|          | 0/89 [00:00<?, ?it/s]"
     ]
    },
    {
     "name": "stderr",
     "output_type": "stream",
     "text": [
      "100%|██████████| 89/89 [00:06<00:00, 13.41it/s]\n"
     ]
    },
    {
     "name": "stdout",
     "output_type": "stream",
     "text": [
      "(89, 241, 32, 32)\n"
     ]
    },
    {
     "name": "stderr",
     "output_type": "stream",
     "text": [
      "100%|██████████| 30/30 [00:02<00:00, 13.64it/s]\n"
     ]
    },
    {
     "name": "stdout",
     "output_type": "stream",
     "text": [
      "(30, 241, 32, 32)\n",
      "T=15, alpha=0.8, NF=5, sigma=0\n",
      "Running GCN\n",
      "241\n",
      "\n",
      "===================================================================================\n",
      "\n"
     ]
    },
    {
     "name": "stderr",
     "output_type": "stream",
     "text": [
      "100%|██████████| 89/89 [00:06<00:00, 14.39it/s]\n"
     ]
    },
    {
     "name": "stdout",
     "output_type": "stream",
     "text": [
      "TRAIN: epoch = 1, loss = 0.667, accuracy = 0.64, f1 = 0.39\n",
      "TEST: loss = 0.656, accuracy = 0.633, f1 = 0.388\n",
      "--------------------------------------------------\n"
     ]
    },
    {
     "name": "stderr",
     "output_type": "stream",
     "text": [
      "100%|██████████| 89/89 [00:06<00:00, 13.69it/s]\n"
     ]
    },
    {
     "name": "stdout",
     "output_type": "stream",
     "text": [
      "TRAIN: epoch = 2, loss = 0.626, accuracy = 0.652, f1 = 0.423\n",
      "TEST: loss = 0.658, accuracy = 0.633, f1 = 0.388\n",
      "--------------------------------------------------\n"
     ]
    },
    {
     "name": "stderr",
     "output_type": "stream",
     "text": [
      "100%|██████████| 89/89 [00:06<00:00, 13.85it/s]\n"
     ]
    },
    {
     "name": "stdout",
     "output_type": "stream",
     "text": [
      "TRAIN: epoch = 3, loss = 0.585, accuracy = 0.685, f1 = 0.513\n",
      "TEST: loss = 0.654, accuracy = 0.633, f1 = 0.388\n",
      "--------------------------------------------------\n"
     ]
    },
    {
     "name": "stderr",
     "output_type": "stream",
     "text": [
      "100%|██████████| 89/89 [00:14<00:00,  6.24it/s]\n"
     ]
    },
    {
     "name": "stdout",
     "output_type": "stream",
     "text": [
      "TRAIN: epoch = 4, loss = 0.544, accuracy = 0.708, f1 = 0.581\n",
      "TEST: loss = 0.642, accuracy = 0.6, f1 = 0.375\n",
      "--------------------------------------------------\n"
     ]
    },
    {
     "name": "stderr",
     "output_type": "stream",
     "text": [
      "100%|██████████| 89/89 [00:05<00:00, 15.19it/s]\n"
     ]
    },
    {
     "name": "stdout",
     "output_type": "stream",
     "text": [
      "TRAIN: epoch = 5, loss = 0.466, accuracy = 0.831, f1 = 0.794\n",
      "TEST: loss = 0.634, accuracy = 0.667, f1 = 0.534\n",
      "--------------------------------------------------\n"
     ]
    },
    {
     "name": "stderr",
     "output_type": "stream",
     "text": [
      "100%|██████████| 89/89 [00:06<00:00, 13.21it/s]\n"
     ]
    },
    {
     "name": "stdout",
     "output_type": "stream",
     "text": [
      "TRAIN: epoch = 6, loss = 0.435, accuracy = 0.843, f1 = 0.81\n",
      "TEST: loss = 0.61, accuracy = 0.7, f1 = 0.6\n",
      "--------------------------------------------------\n"
     ]
    },
    {
     "name": "stderr",
     "output_type": "stream",
     "text": [
      "100%|██████████| 89/89 [00:06<00:00, 13.74it/s]\n"
     ]
    },
    {
     "name": "stdout",
     "output_type": "stream",
     "text": [
      "TRAIN: epoch = 7, loss = 0.36, accuracy = 0.888, f1 = 0.87\n",
      "TEST: loss = 0.603, accuracy = 0.733, f1 = 0.659\n",
      "--------------------------------------------------\n"
     ]
    },
    {
     "name": "stderr",
     "output_type": "stream",
     "text": [
      "100%|██████████| 89/89 [00:13<00:00,  6.83it/s]\n"
     ]
    },
    {
     "name": "stdout",
     "output_type": "stream",
     "text": [
      "TRAIN: epoch = 8, loss = 0.337, accuracy = 0.888, f1 = 0.87\n",
      "TEST: loss = 0.601, accuracy = 0.7, f1 = 0.6\n",
      "--------------------------------------------------\n"
     ]
    },
    {
     "name": "stderr",
     "output_type": "stream",
     "text": [
      "100%|██████████| 89/89 [00:05<00:00, 15.46it/s]\n"
     ]
    },
    {
     "name": "stdout",
     "output_type": "stream",
     "text": [
      "TRAIN: epoch = 9, loss = 0.269, accuracy = 0.933, f1 = 0.923\n",
      "TEST: loss = 0.595, accuracy = 0.733, f1 = 0.659\n",
      "--------------------------------------------------\n"
     ]
    },
    {
     "name": "stderr",
     "output_type": "stream",
     "text": [
      "100%|██████████| 89/89 [00:13<00:00,  6.58it/s]\n"
     ]
    },
    {
     "name": "stdout",
     "output_type": "stream",
     "text": [
      "TRAIN: epoch = 10, loss = 0.236, accuracy = 0.978, f1 = 0.975\n",
      "TEST: loss = 0.598, accuracy = 0.733, f1 = 0.659\n",
      "--------------------------------------------------\n",
      "\n",
      "===================================================================================\n",
      "\n",
      "Running GRAND\n",
      "241\n",
      "\n",
      "===================================================================================\n",
      "\n"
     ]
    },
    {
     "name": "stderr",
     "output_type": "stream",
     "text": [
      "  0%|          | 0/89 [00:00<?, ?it/s]/home/xdoni4/miniconda3/envs/m1p/lib/python3.9/site-packages/torchdiffeq/_impl/misc.py:11: UserWarning: Dopri5Solver: Unexpected arguments {'step_size': 1, 'max_iters': 100}\n",
      "  warnings.warn('{}: Unexpected arguments {}'.format(solver.__class__.__name__, unused_kwargs))\n",
      "100%|██████████| 89/89 [16:22<00:00, 11.04s/it]\n"
     ]
    },
    {
     "name": "stdout",
     "output_type": "stream",
     "text": [
      "TRAIN: epoch = 1, loss = 0.668, accuracy = 0.64, f1 = 0.565\n"
     ]
    },
    {
     "name": "stderr",
     "output_type": "stream",
     "text": [
      "/home/xdoni4/miniconda3/envs/m1p/lib/python3.9/site-packages/torchdiffeq/_impl/misc.py:11: UserWarning: Dopri5Solver: Unexpected arguments {'step_size': 1, 'max_iters': 100}\n",
      "  warnings.warn('{}: Unexpected arguments {}'.format(solver.__class__.__name__, unused_kwargs))\n"
     ]
    },
    {
     "name": "stdout",
     "output_type": "stream",
     "text": [
      "TEST: loss = 0.66, accuracy = 0.633, f1 = 0.46\n",
      "--------------------------------------------------\n"
     ]
    },
    {
     "name": "stderr",
     "output_type": "stream",
     "text": [
      "  0%|          | 0/89 [00:00<?, ?it/s]/home/xdoni4/miniconda3/envs/m1p/lib/python3.9/site-packages/torchdiffeq/_impl/misc.py:11: UserWarning: Dopri5Solver: Unexpected arguments {'step_size': 1, 'max_iters': 100}\n",
      "  warnings.warn('{}: Unexpected arguments {}'.format(solver.__class__.__name__, unused_kwargs))\n",
      "100%|██████████| 89/89 [12:25<00:00,  8.37s/it]\n"
     ]
    },
    {
     "name": "stdout",
     "output_type": "stream",
     "text": [
      "TRAIN: epoch = 2, loss = 0.605, accuracy = 0.73, f1 = 0.638\n"
     ]
    },
    {
     "name": "stderr",
     "output_type": "stream",
     "text": [
      "/home/xdoni4/miniconda3/envs/m1p/lib/python3.9/site-packages/torchdiffeq/_impl/misc.py:11: UserWarning: Dopri5Solver: Unexpected arguments {'step_size': 1, 'max_iters': 100}\n",
      "  warnings.warn('{}: Unexpected arguments {}'.format(solver.__class__.__name__, unused_kwargs))\n"
     ]
    },
    {
     "name": "stdout",
     "output_type": "stream",
     "text": [
      "TEST: loss = 0.63, accuracy = 0.633, f1 = 0.511\n",
      "--------------------------------------------------\n"
     ]
    },
    {
     "name": "stderr",
     "output_type": "stream",
     "text": [
      "  0%|          | 0/89 [00:00<?, ?it/s]/home/xdoni4/miniconda3/envs/m1p/lib/python3.9/site-packages/torchdiffeq/_impl/misc.py:11: UserWarning: Dopri5Solver: Unexpected arguments {'step_size': 1, 'max_iters': 100}\n",
      "  warnings.warn('{}: Unexpected arguments {}'.format(solver.__class__.__name__, unused_kwargs))\n",
      "100%|██████████| 89/89 [17:16<00:00, 11.65s/it]\n"
     ]
    },
    {
     "name": "stdout",
     "output_type": "stream",
     "text": [
      "TRAIN: epoch = 3, loss = 0.571, accuracy = 0.764, f1 = 0.704\n"
     ]
    },
    {
     "name": "stderr",
     "output_type": "stream",
     "text": [
      "/home/xdoni4/miniconda3/envs/m1p/lib/python3.9/site-packages/torchdiffeq/_impl/misc.py:11: UserWarning: Dopri5Solver: Unexpected arguments {'step_size': 1, 'max_iters': 100}\n",
      "  warnings.warn('{}: Unexpected arguments {}'.format(solver.__class__.__name__, unused_kwargs))\n"
     ]
    },
    {
     "name": "stdout",
     "output_type": "stream",
     "text": [
      "TEST: loss = 0.614, accuracy = 0.7, f1 = 0.631\n",
      "--------------------------------------------------\n",
      "\n",
      "===================================================================================\n",
      "\n",
      "Running BLEND\n",
      "241\n",
      "\n",
      "===================================================================================\n",
      "\n",
      "[i] Looking for positional encodings in /home/xdoni4/m1p/graph-neural-pde/data/pos_encodings/Cora_GDC.pkl...\n",
      "    Found them! Loading cached version\n",
      "[i] Looking for positional encodings in /home/xdoni4/m1p/graph-neural-pde/data/pos_encodings/Cora_GDC.pkl...\n",
      "    Found them! Loading cached version\n",
      "[i] Looking for positional encodings in /home/xdoni4/m1p/graph-neural-pde/data/pos_encodings/Cora_GDC.pkl...\n",
      "    Found them! Loading cached version\n",
      "[i] Looking for positional encodings in /home/xdoni4/m1p/graph-neural-pde/data/pos_encodings/Cora_GDC.pkl...\n",
      "    Found them! Loading cached version\n",
      "[i] Looking for positional encodings in /home/xdoni4/m1p/graph-neural-pde/data/pos_encodings/Cora_GDC.pkl...\n",
      "    Found them! Loading cached version\n",
      "[i] Looking for positional encodings in /home/xdoni4/m1p/graph-neural-pde/data/pos_encodings/Cora_GDC.pkl...\n",
      "    Found them! Loading cached version\n",
      "[i] Looking for positional encodings in /home/xdoni4/m1p/graph-neural-pde/data/pos_encodings/Cora_GDC.pkl...\n",
      "    Found them! Loading cached version\n",
      "[i] Looking for positional encodings in /home/xdoni4/m1p/graph-neural-pde/data/pos_encodings/Cora_GDC.pkl...\n",
      "    Found them! Loading cached version\n",
      "[i] Looking for positional encodings in /home/xdoni4/m1p/graph-neural-pde/data/pos_encodings/Cora_GDC.pkl...\n",
      "    Found them! Loading cached version\n",
      "[i] Looking for positional encodings in /home/xdoni4/m1p/graph-neural-pde/data/pos_encodings/Cora_GDC.pkl...\n",
      "    Found them! Loading cached version\n",
      "[i] Looking for positional encodings in /home/xdoni4/m1p/graph-neural-pde/data/pos_encodings/Cora_GDC.pkl...\n",
      "    Found them! Loading cached version\n",
      "[i] Looking for positional encodings in /home/xdoni4/m1p/graph-neural-pde/data/pos_encodings/Cora_GDC.pkl...\n",
      "    Found them! Loading cached version\n",
      "[i] Looking for positional encodings in /home/xdoni4/m1p/graph-neural-pde/data/pos_encodings/Cora_GDC.pkl...\n",
      "    Found them! Loading cached version\n",
      "[i] Looking for positional encodings in /home/xdoni4/m1p/graph-neural-pde/data/pos_encodings/Cora_GDC.pkl...\n",
      "    Found them! Loading cached version\n",
      "[i] Looking for positional encodings in /home/xdoni4/m1p/graph-neural-pde/data/pos_encodings/Cora_GDC.pkl...\n",
      "    Found them! Loading cached version\n",
      "[i] Looking for positional encodings in /home/xdoni4/m1p/graph-neural-pde/data/pos_encodings/Cora_GDC.pkl...\n",
      "    Found them! Loading cached version\n",
      "[i] Looking for positional encodings in /home/xdoni4/m1p/graph-neural-pde/data/pos_encodings/Cora_GDC.pkl...\n",
      "    Found them! Loading cached version\n",
      "[i] Looking for positional encodings in /home/xdoni4/m1p/graph-neural-pde/data/pos_encodings/Cora_GDC.pkl...\n",
      "    Found them! Loading cached version\n",
      "[i] Looking for positional encodings in /home/xdoni4/m1p/graph-neural-pde/data/pos_encodings/Cora_GDC.pkl...\n",
      "    Found them! Loading cached version\n",
      "[i] Looking for positional encodings in /home/xdoni4/m1p/graph-neural-pde/data/pos_encodings/Cora_GDC.pkl...\n",
      "    Found them! Loading cached version\n",
      "[i] Looking for positional encodings in /home/xdoni4/m1p/graph-neural-pde/data/pos_encodings/Cora_GDC.pkl...\n",
      "    Found them! Loading cached version\n",
      "[i] Looking for positional encodings in /home/xdoni4/m1p/graph-neural-pde/data/pos_encodings/Cora_GDC.pkl...\n",
      "    Found them! Loading cached version\n",
      "[i] Looking for positional encodings in /home/xdoni4/m1p/graph-neural-pde/data/pos_encodings/Cora_GDC.pkl...\n",
      "    Found them! Loading cached version\n",
      "[i] Looking for positional encodings in /home/xdoni4/m1p/graph-neural-pde/data/pos_encodings/Cora_GDC.pkl...\n",
      "    Found them! Loading cached version\n",
      "[i] Looking for positional encodings in /home/xdoni4/m1p/graph-neural-pde/data/pos_encodings/Cora_GDC.pkl...\n",
      "    Found them! Loading cached version\n",
      "[i] Looking for positional encodings in /home/xdoni4/m1p/graph-neural-pde/data/pos_encodings/Cora_GDC.pkl...\n",
      "    Found them! Loading cached version\n",
      "[i] Looking for positional encodings in /home/xdoni4/m1p/graph-neural-pde/data/pos_encodings/Cora_GDC.pkl...\n",
      "    Found them! Loading cached version\n",
      "[i] Looking for positional encodings in /home/xdoni4/m1p/graph-neural-pde/data/pos_encodings/Cora_GDC.pkl...\n",
      "    Found them! Loading cached version\n",
      "[i] Looking for positional encodings in /home/xdoni4/m1p/graph-neural-pde/data/pos_encodings/Cora_GDC.pkl...\n",
      "    Found them! Loading cached version\n",
      "[i] Looking for positional encodings in /home/xdoni4/m1p/graph-neural-pde/data/pos_encodings/Cora_GDC.pkl...\n",
      "    Found them! Loading cached version\n",
      "[i] Looking for positional encodings in /home/xdoni4/m1p/graph-neural-pde/data/pos_encodings/Cora_GDC.pkl...\n",
      "    Found them! Loading cached version\n",
      "[i] Looking for positional encodings in /home/xdoni4/m1p/graph-neural-pde/data/pos_encodings/Cora_GDC.pkl...\n",
      "    Found them! Loading cached version\n",
      "[i] Looking for positional encodings in /home/xdoni4/m1p/graph-neural-pde/data/pos_encodings/Cora_GDC.pkl...\n",
      "    Found them! Loading cached version\n",
      "[i] Looking for positional encodings in /home/xdoni4/m1p/graph-neural-pde/data/pos_encodings/Cora_GDC.pkl...\n",
      "    Found them! Loading cached version\n",
      "[i] Looking for positional encodings in /home/xdoni4/m1p/graph-neural-pde/data/pos_encodings/Cora_GDC.pkl...\n",
      "    Found them! Loading cached version\n",
      "[i] Looking for positional encodings in /home/xdoni4/m1p/graph-neural-pde/data/pos_encodings/Cora_GDC.pkl...\n",
      "    Found them! Loading cached version\n",
      "[i] Looking for positional encodings in /home/xdoni4/m1p/graph-neural-pde/data/pos_encodings/Cora_GDC.pkl...\n",
      "    Found them! Loading cached version\n",
      "[i] Looking for positional encodings in /home/xdoni4/m1p/graph-neural-pde/data/pos_encodings/Cora_GDC.pkl...\n",
      "    Found them! Loading cached version\n",
      "[i] Looking for positional encodings in /home/xdoni4/m1p/graph-neural-pde/data/pos_encodings/Cora_GDC.pkl...\n",
      "    Found them! Loading cached version\n",
      "[i] Looking for positional encodings in /home/xdoni4/m1p/graph-neural-pde/data/pos_encodings/Cora_GDC.pkl...\n",
      "    Found them! Loading cached version\n",
      "[i] Looking for positional encodings in /home/xdoni4/m1p/graph-neural-pde/data/pos_encodings/Cora_GDC.pkl...\n",
      "    Found them! Loading cached version\n",
      "[i] Looking for positional encodings in /home/xdoni4/m1p/graph-neural-pde/data/pos_encodings/Cora_GDC.pkl...\n",
      "    Found them! Loading cached version\n",
      "[i] Looking for positional encodings in /home/xdoni4/m1p/graph-neural-pde/data/pos_encodings/Cora_GDC.pkl...\n",
      "    Found them! Loading cached version\n",
      "[i] Looking for positional encodings in /home/xdoni4/m1p/graph-neural-pde/data/pos_encodings/Cora_GDC.pkl...\n",
      "    Found them! Loading cached version\n",
      "[i] Looking for positional encodings in /home/xdoni4/m1p/graph-neural-pde/data/pos_encodings/Cora_GDC.pkl...\n",
      "    Found them! Loading cached version\n",
      "[i] Looking for positional encodings in /home/xdoni4/m1p/graph-neural-pde/data/pos_encodings/Cora_GDC.pkl...\n",
      "    Found them! Loading cached version\n",
      "[i] Looking for positional encodings in /home/xdoni4/m1p/graph-neural-pde/data/pos_encodings/Cora_GDC.pkl...\n",
      "    Found them! Loading cached version\n",
      "[i] Looking for positional encodings in /home/xdoni4/m1p/graph-neural-pde/data/pos_encodings/Cora_GDC.pkl...\n",
      "    Found them! Loading cached version\n",
      "[i] Looking for positional encodings in /home/xdoni4/m1p/graph-neural-pde/data/pos_encodings/Cora_GDC.pkl...\n",
      "    Found them! Loading cached version\n",
      "[i] Looking for positional encodings in /home/xdoni4/m1p/graph-neural-pde/data/pos_encodings/Cora_GDC.pkl...\n",
      "    Found them! Loading cached version\n",
      "[i] Looking for positional encodings in /home/xdoni4/m1p/graph-neural-pde/data/pos_encodings/Cora_GDC.pkl...\n",
      "    Found them! Loading cached version\n",
      "[i] Looking for positional encodings in /home/xdoni4/m1p/graph-neural-pde/data/pos_encodings/Cora_GDC.pkl...\n",
      "    Found them! Loading cached version\n",
      "[i] Looking for positional encodings in /home/xdoni4/m1p/graph-neural-pde/data/pos_encodings/Cora_GDC.pkl...\n",
      "    Found them! Loading cached version\n",
      "[i] Looking for positional encodings in /home/xdoni4/m1p/graph-neural-pde/data/pos_encodings/Cora_GDC.pkl...\n",
      "    Found them! Loading cached version\n",
      "[i] Looking for positional encodings in /home/xdoni4/m1p/graph-neural-pde/data/pos_encodings/Cora_GDC.pkl...\n",
      "    Found them! Loading cached version\n",
      "[i] Looking for positional encodings in /home/xdoni4/m1p/graph-neural-pde/data/pos_encodings/Cora_GDC.pkl...\n",
      "    Found them! Loading cached version\n",
      "[i] Looking for positional encodings in /home/xdoni4/m1p/graph-neural-pde/data/pos_encodings/Cora_GDC.pkl...\n",
      "    Found them! Loading cached version\n",
      "[i] Looking for positional encodings in /home/xdoni4/m1p/graph-neural-pde/data/pos_encodings/Cora_GDC.pkl...\n",
      "    Found them! Loading cached version\n",
      "[i] Looking for positional encodings in /home/xdoni4/m1p/graph-neural-pde/data/pos_encodings/Cora_GDC.pkl...\n",
      "    Found them! Loading cached version\n",
      "[i] Looking for positional encodings in /home/xdoni4/m1p/graph-neural-pde/data/pos_encodings/Cora_GDC.pkl...\n",
      "    Found them! Loading cached version\n",
      "[i] Looking for positional encodings in /home/xdoni4/m1p/graph-neural-pde/data/pos_encodings/Cora_GDC.pkl...\n",
      "    Found them! Loading cached version\n",
      "[i] Looking for positional encodings in /home/xdoni4/m1p/graph-neural-pde/data/pos_encodings/Cora_GDC.pkl...\n",
      "    Found them! Loading cached version\n",
      "[i] Looking for positional encodings in /home/xdoni4/m1p/graph-neural-pde/data/pos_encodings/Cora_GDC.pkl...\n",
      "    Found them! Loading cached version\n",
      "[i] Looking for positional encodings in /home/xdoni4/m1p/graph-neural-pde/data/pos_encodings/Cora_GDC.pkl...\n",
      "    Found them! Loading cached version\n",
      "[i] Looking for positional encodings in /home/xdoni4/m1p/graph-neural-pde/data/pos_encodings/Cora_GDC.pkl...\n",
      "    Found them! Loading cached version\n",
      "[i] Looking for positional encodings in /home/xdoni4/m1p/graph-neural-pde/data/pos_encodings/Cora_GDC.pkl...\n",
      "    Found them! Loading cached version\n",
      "[i] Looking for positional encodings in /home/xdoni4/m1p/graph-neural-pde/data/pos_encodings/Cora_GDC.pkl...\n",
      "    Found them! Loading cached version\n",
      "[i] Looking for positional encodings in /home/xdoni4/m1p/graph-neural-pde/data/pos_encodings/Cora_GDC.pkl...\n",
      "    Found them! Loading cached version\n",
      "[i] Looking for positional encodings in /home/xdoni4/m1p/graph-neural-pde/data/pos_encodings/Cora_GDC.pkl...\n",
      "    Found them! Loading cached version\n",
      "[i] Looking for positional encodings in /home/xdoni4/m1p/graph-neural-pde/data/pos_encodings/Cora_GDC.pkl...\n",
      "    Found them! Loading cached version\n",
      "[i] Looking for positional encodings in /home/xdoni4/m1p/graph-neural-pde/data/pos_encodings/Cora_GDC.pkl...\n",
      "    Found them! Loading cached version\n",
      "[i] Looking for positional encodings in /home/xdoni4/m1p/graph-neural-pde/data/pos_encodings/Cora_GDC.pkl...\n",
      "    Found them! Loading cached version\n",
      "[i] Looking for positional encodings in /home/xdoni4/m1p/graph-neural-pde/data/pos_encodings/Cora_GDC.pkl...\n",
      "    Found them! Loading cached version\n",
      "[i] Looking for positional encodings in /home/xdoni4/m1p/graph-neural-pde/data/pos_encodings/Cora_GDC.pkl...\n",
      "    Found them! Loading cached version\n",
      "[i] Looking for positional encodings in /home/xdoni4/m1p/graph-neural-pde/data/pos_encodings/Cora_GDC.pkl...\n",
      "    Found them! Loading cached version\n",
      "[i] Looking for positional encodings in /home/xdoni4/m1p/graph-neural-pde/data/pos_encodings/Cora_GDC.pkl...\n",
      "    Found them! Loading cached version\n",
      "[i] Looking for positional encodings in /home/xdoni4/m1p/graph-neural-pde/data/pos_encodings/Cora_GDC.pkl...\n",
      "    Found them! Loading cached version\n",
      "[i] Looking for positional encodings in /home/xdoni4/m1p/graph-neural-pde/data/pos_encodings/Cora_GDC.pkl...\n",
      "    Found them! Loading cached version\n",
      "[i] Looking for positional encodings in /home/xdoni4/m1p/graph-neural-pde/data/pos_encodings/Cora_GDC.pkl...\n",
      "    Found them! Loading cached version\n",
      "[i] Looking for positional encodings in /home/xdoni4/m1p/graph-neural-pde/data/pos_encodings/Cora_GDC.pkl...\n",
      "    Found them! Loading cached version\n",
      "[i] Looking for positional encodings in /home/xdoni4/m1p/graph-neural-pde/data/pos_encodings/Cora_GDC.pkl...\n",
      "    Found them! Loading cached version\n",
      "[i] Looking for positional encodings in /home/xdoni4/m1p/graph-neural-pde/data/pos_encodings/Cora_GDC.pkl...\n",
      "    Found them! Loading cached version\n",
      "[i] Looking for positional encodings in /home/xdoni4/m1p/graph-neural-pde/data/pos_encodings/Cora_GDC.pkl...\n",
      "    Found them! Loading cached version\n",
      "[i] Looking for positional encodings in /home/xdoni4/m1p/graph-neural-pde/data/pos_encodings/Cora_GDC.pkl...\n",
      "    Found them! Loading cached version\n",
      "[i] Looking for positional encodings in /home/xdoni4/m1p/graph-neural-pde/data/pos_encodings/Cora_GDC.pkl...\n",
      "    Found them! Loading cached version\n",
      "[i] Looking for positional encodings in /home/xdoni4/m1p/graph-neural-pde/data/pos_encodings/Cora_GDC.pkl...\n",
      "    Found them! Loading cached version\n",
      "[i] Looking for positional encodings in /home/xdoni4/m1p/graph-neural-pde/data/pos_encodings/Cora_GDC.pkl...\n",
      "    Found them! Loading cached version\n",
      "[i] Looking for positional encodings in /home/xdoni4/m1p/graph-neural-pde/data/pos_encodings/Cora_GDC.pkl...\n",
      "    Found them! Loading cached version\n",
      "[i] Looking for positional encodings in /home/xdoni4/m1p/graph-neural-pde/data/pos_encodings/Cora_GDC.pkl...\n",
      "    Found them! Loading cached version\n",
      "[i] Looking for positional encodings in /home/xdoni4/m1p/graph-neural-pde/data/pos_encodings/Cora_GDC.pkl...\n",
      "    Found them! Loading cached version\n",
      "[i] Looking for positional encodings in /home/xdoni4/m1p/graph-neural-pde/data/pos_encodings/Cora_GDC.pkl...\n",
      "    Found them! Loading cached version\n",
      "[i] Looking for positional encodings in /home/xdoni4/m1p/graph-neural-pde/data/pos_encodings/Cora_GDC.pkl...\n",
      "    Found them! Loading cached version\n",
      "[i] Looking for positional encodings in /home/xdoni4/m1p/graph-neural-pde/data/pos_encodings/Cora_GDC.pkl...\n",
      "    Found them! Loading cached version\n",
      "[i] Looking for positional encodings in /home/xdoni4/m1p/graph-neural-pde/data/pos_encodings/Cora_GDC.pkl...\n",
      "    Found them! Loading cached version\n",
      "[i] Looking for positional encodings in /home/xdoni4/m1p/graph-neural-pde/data/pos_encodings/Cora_GDC.pkl...\n",
      "    Found them! Loading cached version\n",
      "[i] Looking for positional encodings in /home/xdoni4/m1p/graph-neural-pde/data/pos_encodings/Cora_GDC.pkl...\n",
      "    Found them! Loading cached version\n",
      "[i] Looking for positional encodings in /home/xdoni4/m1p/graph-neural-pde/data/pos_encodings/Cora_GDC.pkl...\n",
      "    Found them! Loading cached version\n",
      "[i] Looking for positional encodings in /home/xdoni4/m1p/graph-neural-pde/data/pos_encodings/Cora_GDC.pkl...\n",
      "    Found them! Loading cached version\n",
      "[i] Looking for positional encodings in /home/xdoni4/m1p/graph-neural-pde/data/pos_encodings/Cora_GDC.pkl...\n",
      "    Found them! Loading cached version\n",
      "[i] Looking for positional encodings in /home/xdoni4/m1p/graph-neural-pde/data/pos_encodings/Cora_GDC.pkl...\n",
      "    Found them! Loading cached version\n",
      "[i] Looking for positional encodings in /home/xdoni4/m1p/graph-neural-pde/data/pos_encodings/Cora_GDC.pkl...\n",
      "    Found them! Loading cached version\n",
      "[i] Looking for positional encodings in /home/xdoni4/m1p/graph-neural-pde/data/pos_encodings/Cora_GDC.pkl...\n",
      "    Found them! Loading cached version\n",
      "[i] Looking for positional encodings in /home/xdoni4/m1p/graph-neural-pde/data/pos_encodings/Cora_GDC.pkl...\n",
      "    Found them! Loading cached version\n",
      "[i] Looking for positional encodings in /home/xdoni4/m1p/graph-neural-pde/data/pos_encodings/Cora_GDC.pkl...\n",
      "    Found them! Loading cached version\n",
      "[i] Looking for positional encodings in /home/xdoni4/m1p/graph-neural-pde/data/pos_encodings/Cora_GDC.pkl...\n",
      "    Found them! Loading cached version\n",
      "[i] Looking for positional encodings in /home/xdoni4/m1p/graph-neural-pde/data/pos_encodings/Cora_GDC.pkl...\n",
      "    Found them! Loading cached version\n",
      "[i] Looking for positional encodings in /home/xdoni4/m1p/graph-neural-pde/data/pos_encodings/Cora_GDC.pkl...\n",
      "    Found them! Loading cached version\n",
      "[i] Looking for positional encodings in /home/xdoni4/m1p/graph-neural-pde/data/pos_encodings/Cora_GDC.pkl...\n",
      "    Found them! Loading cached version\n",
      "[i] Looking for positional encodings in /home/xdoni4/m1p/graph-neural-pde/data/pos_encodings/Cora_GDC.pkl...\n",
      "    Found them! Loading cached version\n",
      "[i] Looking for positional encodings in /home/xdoni4/m1p/graph-neural-pde/data/pos_encodings/Cora_GDC.pkl...\n",
      "    Found them! Loading cached version\n",
      "[i] Looking for positional encodings in /home/xdoni4/m1p/graph-neural-pde/data/pos_encodings/Cora_GDC.pkl...\n",
      "    Found them! Loading cached version\n",
      "[i] Looking for positional encodings in /home/xdoni4/m1p/graph-neural-pde/data/pos_encodings/Cora_GDC.pkl...\n",
      "    Found them! Loading cached version\n",
      "[i] Looking for positional encodings in /home/xdoni4/m1p/graph-neural-pde/data/pos_encodings/Cora_GDC.pkl...\n",
      "    Found them! Loading cached version\n",
      "[i] Looking for positional encodings in /home/xdoni4/m1p/graph-neural-pde/data/pos_encodings/Cora_GDC.pkl...\n",
      "    Found them! Loading cached version\n",
      "[i] Looking for positional encodings in /home/xdoni4/m1p/graph-neural-pde/data/pos_encodings/Cora_GDC.pkl...\n",
      "    Found them! Loading cached version\n",
      "[i] Looking for positional encodings in /home/xdoni4/m1p/graph-neural-pde/data/pos_encodings/Cora_GDC.pkl...\n",
      "    Found them! Loading cached version\n",
      "[i] Looking for positional encodings in /home/xdoni4/m1p/graph-neural-pde/data/pos_encodings/Cora_GDC.pkl...\n",
      "    Found them! Loading cached version\n",
      "[i] Looking for positional encodings in /home/xdoni4/m1p/graph-neural-pde/data/pos_encodings/Cora_GDC.pkl...\n",
      "    Found them! Loading cached version\n",
      "[i] Looking for positional encodings in /home/xdoni4/m1p/graph-neural-pde/data/pos_encodings/Cora_GDC.pkl...\n",
      "    Found them! Loading cached version\n",
      "[i] Looking for positional encodings in /home/xdoni4/m1p/graph-neural-pde/data/pos_encodings/Cora_GDC.pkl...\n",
      "    Found them! Loading cached version\n",
      "[i] Looking for positional encodings in /home/xdoni4/m1p/graph-neural-pde/data/pos_encodings/Cora_GDC.pkl...\n",
      "    Found them! Loading cached version\n",
      "[i] Looking for positional encodings in /home/xdoni4/m1p/graph-neural-pde/data/pos_encodings/Cora_GDC.pkl...\n",
      "    Found them! Loading cached version\n",
      "[i] Looking for positional encodings in /home/xdoni4/m1p/graph-neural-pde/data/pos_encodings/Cora_GDC.pkl...\n",
      "    Found them! Loading cached version\n",
      "[i] Looking for positional encodings in /home/xdoni4/m1p/graph-neural-pde/data/pos_encodings/Cora_GDC.pkl...\n",
      "    Found them! Loading cached version\n",
      "[i] Looking for positional encodings in /home/xdoni4/m1p/graph-neural-pde/data/pos_encodings/Cora_GDC.pkl...\n",
      "    Found them! Loading cached version\n",
      "[i] Looking for positional encodings in /home/xdoni4/m1p/graph-neural-pde/data/pos_encodings/Cora_GDC.pkl...\n",
      "    Found them! Loading cached version\n",
      "[i] Looking for positional encodings in /home/xdoni4/m1p/graph-neural-pde/data/pos_encodings/Cora_GDC.pkl...\n",
      "    Found them! Loading cached version\n",
      "[i] Looking for positional encodings in /home/xdoni4/m1p/graph-neural-pde/data/pos_encodings/Cora_GDC.pkl...\n",
      "    Found them! Loading cached version\n",
      "[i] Looking for positional encodings in /home/xdoni4/m1p/graph-neural-pde/data/pos_encodings/Cora_GDC.pkl...\n",
      "    Found them! Loading cached version\n",
      "[i] Looking for positional encodings in /home/xdoni4/m1p/graph-neural-pde/data/pos_encodings/Cora_GDC.pkl...\n",
      "    Found them! Loading cached version\n",
      "[i] Looking for positional encodings in /home/xdoni4/m1p/graph-neural-pde/data/pos_encodings/Cora_GDC.pkl...\n",
      "    Found them! Loading cached version\n",
      "[i] Looking for positional encodings in /home/xdoni4/m1p/graph-neural-pde/data/pos_encodings/Cora_GDC.pkl...\n",
      "    Found them! Loading cached version\n",
      "[i] Looking for positional encodings in /home/xdoni4/m1p/graph-neural-pde/data/pos_encodings/Cora_GDC.pkl...\n",
      "    Found them! Loading cached version\n",
      "[i] Looking for positional encodings in /home/xdoni4/m1p/graph-neural-pde/data/pos_encodings/Cora_GDC.pkl...\n",
      "    Found them! Loading cached version\n",
      "[i] Looking for positional encodings in /home/xdoni4/m1p/graph-neural-pde/data/pos_encodings/Cora_GDC.pkl...\n",
      "    Found them! Loading cached version\n",
      "[i] Looking for positional encodings in /home/xdoni4/m1p/graph-neural-pde/data/pos_encodings/Cora_GDC.pkl...\n",
      "    Found them! Loading cached version\n",
      "[i] Looking for positional encodings in /home/xdoni4/m1p/graph-neural-pde/data/pos_encodings/Cora_GDC.pkl...\n",
      "    Found them! Loading cached version\n",
      "[i] Looking for positional encodings in /home/xdoni4/m1p/graph-neural-pde/data/pos_encodings/Cora_GDC.pkl...\n",
      "    Found them! Loading cached version\n",
      "[i] Looking for positional encodings in /home/xdoni4/m1p/graph-neural-pde/data/pos_encodings/Cora_GDC.pkl...\n",
      "    Found them! Loading cached version\n",
      "[i] Looking for positional encodings in /home/xdoni4/m1p/graph-neural-pde/data/pos_encodings/Cora_GDC.pkl...\n",
      "    Found them! Loading cached version\n",
      "[i] Looking for positional encodings in /home/xdoni4/m1p/graph-neural-pde/data/pos_encodings/Cora_GDC.pkl...\n",
      "    Found them! Loading cached version\n",
      "[i] Looking for positional encodings in /home/xdoni4/m1p/graph-neural-pde/data/pos_encodings/Cora_GDC.pkl...\n",
      "    Found them! Loading cached version\n",
      "[i] Looking for positional encodings in /home/xdoni4/m1p/graph-neural-pde/data/pos_encodings/Cora_GDC.pkl...\n",
      "    Found them! Loading cached version\n",
      "[i] Looking for positional encodings in /home/xdoni4/m1p/graph-neural-pde/data/pos_encodings/Cora_GDC.pkl...\n",
      "    Found them! Loading cached version\n",
      "[i] Looking for positional encodings in /home/xdoni4/m1p/graph-neural-pde/data/pos_encodings/Cora_GDC.pkl...\n",
      "    Found them! Loading cached version\n",
      "[i] Looking for positional encodings in /home/xdoni4/m1p/graph-neural-pde/data/pos_encodings/Cora_GDC.pkl...\n",
      "    Found them! Loading cached version\n",
      "[i] Looking for positional encodings in /home/xdoni4/m1p/graph-neural-pde/data/pos_encodings/Cora_GDC.pkl...\n",
      "    Found them! Loading cached version\n",
      "[i] Looking for positional encodings in /home/xdoni4/m1p/graph-neural-pde/data/pos_encodings/Cora_GDC.pkl...\n",
      "    Found them! Loading cached version\n",
      "[i] Looking for positional encodings in /home/xdoni4/m1p/graph-neural-pde/data/pos_encodings/Cora_GDC.pkl...\n",
      "    Found them! Loading cached version\n",
      "[i] Looking for positional encodings in /home/xdoni4/m1p/graph-neural-pde/data/pos_encodings/Cora_GDC.pkl...\n",
      "    Found them! Loading cached version\n",
      "[i] Looking for positional encodings in /home/xdoni4/m1p/graph-neural-pde/data/pos_encodings/Cora_GDC.pkl...\n",
      "    Found them! Loading cached version\n",
      "[i] Looking for positional encodings in /home/xdoni4/m1p/graph-neural-pde/data/pos_encodings/Cora_GDC.pkl...\n",
      "    Found them! Loading cached version\n",
      "[i] Looking for positional encodings in /home/xdoni4/m1p/graph-neural-pde/data/pos_encodings/Cora_GDC.pkl...\n",
      "    Found them! Loading cached version\n",
      "[i] Looking for positional encodings in /home/xdoni4/m1p/graph-neural-pde/data/pos_encodings/Cora_GDC.pkl...\n",
      "    Found them! Loading cached version\n",
      "[i] Looking for positional encodings in /home/xdoni4/m1p/graph-neural-pde/data/pos_encodings/Cora_GDC.pkl...\n",
      "    Found them! Loading cached version\n",
      "[i] Looking for positional encodings in /home/xdoni4/m1p/graph-neural-pde/data/pos_encodings/Cora_GDC.pkl...\n",
      "    Found them! Loading cached version\n",
      "[i] Looking for positional encodings in /home/xdoni4/m1p/graph-neural-pde/data/pos_encodings/Cora_GDC.pkl...\n",
      "    Found them! Loading cached version\n",
      "[i] Looking for positional encodings in /home/xdoni4/m1p/graph-neural-pde/data/pos_encodings/Cora_GDC.pkl...\n",
      "    Found them! Loading cached version\n",
      "[i] Looking for positional encodings in /home/xdoni4/m1p/graph-neural-pde/data/pos_encodings/Cora_GDC.pkl...\n",
      "    Found them! Loading cached version\n",
      "[i] Looking for positional encodings in /home/xdoni4/m1p/graph-neural-pde/data/pos_encodings/Cora_GDC.pkl...\n",
      "    Found them! Loading cached version\n",
      "[i] Looking for positional encodings in /home/xdoni4/m1p/graph-neural-pde/data/pos_encodings/Cora_GDC.pkl...\n",
      "    Found them! Loading cached version\n",
      "[i] Looking for positional encodings in /home/xdoni4/m1p/graph-neural-pde/data/pos_encodings/Cora_GDC.pkl...\n",
      "    Found them! Loading cached version\n",
      "[i] Looking for positional encodings in /home/xdoni4/m1p/graph-neural-pde/data/pos_encodings/Cora_GDC.pkl...\n",
      "    Found them! Loading cached version\n",
      "[i] Looking for positional encodings in /home/xdoni4/m1p/graph-neural-pde/data/pos_encodings/Cora_GDC.pkl...\n",
      "    Found them! Loading cached version\n",
      "[i] Looking for positional encodings in /home/xdoni4/m1p/graph-neural-pde/data/pos_encodings/Cora_GDC.pkl...\n",
      "    Found them! Loading cached version\n",
      "[i] Looking for positional encodings in /home/xdoni4/m1p/graph-neural-pde/data/pos_encodings/Cora_GDC.pkl...\n",
      "    Found them! Loading cached version\n",
      "[i] Looking for positional encodings in /home/xdoni4/m1p/graph-neural-pde/data/pos_encodings/Cora_GDC.pkl...\n",
      "    Found them! Loading cached version\n",
      "[i] Looking for positional encodings in /home/xdoni4/m1p/graph-neural-pde/data/pos_encodings/Cora_GDC.pkl...\n",
      "    Found them! Loading cached version\n",
      "[i] Looking for positional encodings in /home/xdoni4/m1p/graph-neural-pde/data/pos_encodings/Cora_GDC.pkl...\n",
      "    Found them! Loading cached version\n",
      "[i] Looking for positional encodings in /home/xdoni4/m1p/graph-neural-pde/data/pos_encodings/Cora_GDC.pkl...\n",
      "    Found them! Loading cached version\n",
      "[i] Looking for positional encodings in /home/xdoni4/m1p/graph-neural-pde/data/pos_encodings/Cora_GDC.pkl...\n",
      "    Found them! Loading cached version\n",
      "[i] Looking for positional encodings in /home/xdoni4/m1p/graph-neural-pde/data/pos_encodings/Cora_GDC.pkl...\n",
      "    Found them! Loading cached version\n",
      "[i] Looking for positional encodings in /home/xdoni4/m1p/graph-neural-pde/data/pos_encodings/Cora_GDC.pkl...\n",
      "    Found them! Loading cached version\n",
      "[i] Looking for positional encodings in /home/xdoni4/m1p/graph-neural-pde/data/pos_encodings/Cora_GDC.pkl...\n",
      "    Found them! Loading cached version\n",
      "[i] Looking for positional encodings in /home/xdoni4/m1p/graph-neural-pde/data/pos_encodings/Cora_GDC.pkl...\n",
      "    Found them! Loading cached version\n",
      "[i] Looking for positional encodings in /home/xdoni4/m1p/graph-neural-pde/data/pos_encodings/Cora_GDC.pkl...\n",
      "    Found them! Loading cached version\n",
      "[i] Looking for positional encodings in /home/xdoni4/m1p/graph-neural-pde/data/pos_encodings/Cora_GDC.pkl...\n",
      "    Found them! Loading cached version\n",
      "[i] Looking for positional encodings in /home/xdoni4/m1p/graph-neural-pde/data/pos_encodings/Cora_GDC.pkl...\n",
      "    Found them! Loading cached version\n",
      "[i] Looking for positional encodings in /home/xdoni4/m1p/graph-neural-pde/data/pos_encodings/Cora_GDC.pkl...\n",
      "    Found them! Loading cached version\n",
      "[i] Looking for positional encodings in /home/xdoni4/m1p/graph-neural-pde/data/pos_encodings/Cora_GDC.pkl...\n",
      "    Found them! Loading cached version\n",
      "[i] Looking for positional encodings in /home/xdoni4/m1p/graph-neural-pde/data/pos_encodings/Cora_GDC.pkl...\n",
      "    Found them! Loading cached version\n",
      "[i] Looking for positional encodings in /home/xdoni4/m1p/graph-neural-pde/data/pos_encodings/Cora_GDC.pkl...\n",
      "    Found them! Loading cached version\n",
      "[i] Looking for positional encodings in /home/xdoni4/m1p/graph-neural-pde/data/pos_encodings/Cora_GDC.pkl...\n",
      "    Found them! Loading cached version\n",
      "[i] Looking for positional encodings in /home/xdoni4/m1p/graph-neural-pde/data/pos_encodings/Cora_GDC.pkl...\n",
      "    Found them! Loading cached version\n",
      "[i] Looking for positional encodings in /home/xdoni4/m1p/graph-neural-pde/data/pos_encodings/Cora_GDC.pkl...\n",
      "    Found them! Loading cached version\n",
      "[i] Looking for positional encodings in /home/xdoni4/m1p/graph-neural-pde/data/pos_encodings/Cora_GDC.pkl...\n",
      "    Found them! Loading cached version\n",
      "[i] Looking for positional encodings in /home/xdoni4/m1p/graph-neural-pde/data/pos_encodings/Cora_GDC.pkl...\n",
      "    Found them! Loading cached version\n",
      "[i] Looking for positional encodings in /home/xdoni4/m1p/graph-neural-pde/data/pos_encodings/Cora_GDC.pkl...\n",
      "    Found them! Loading cached version\n",
      "[i] Looking for positional encodings in /home/xdoni4/m1p/graph-neural-pde/data/pos_encodings/Cora_GDC.pkl...\n",
      "    Found them! Loading cached version\n",
      "[i] Looking for positional encodings in /home/xdoni4/m1p/graph-neural-pde/data/pos_encodings/Cora_GDC.pkl...\n",
      "    Found them! Loading cached version\n",
      "[i] Looking for positional encodings in /home/xdoni4/m1p/graph-neural-pde/data/pos_encodings/Cora_GDC.pkl...\n",
      "    Found them! Loading cached version\n",
      "[i] Looking for positional encodings in /home/xdoni4/m1p/graph-neural-pde/data/pos_encodings/Cora_GDC.pkl...\n",
      "    Found them! Loading cached version\n",
      "[i] Looking for positional encodings in /home/xdoni4/m1p/graph-neural-pde/data/pos_encodings/Cora_GDC.pkl...\n",
      "    Found them! Loading cached version\n",
      "[i] Looking for positional encodings in /home/xdoni4/m1p/graph-neural-pde/data/pos_encodings/Cora_GDC.pkl...\n",
      "    Found them! Loading cached version\n",
      "[i] Looking for positional encodings in /home/xdoni4/m1p/graph-neural-pde/data/pos_encodings/Cora_GDC.pkl...\n",
      "    Found them! Loading cached version\n",
      "[i] Looking for positional encodings in /home/xdoni4/m1p/graph-neural-pde/data/pos_encodings/Cora_GDC.pkl...\n",
      "    Found them! Loading cached version\n",
      "[i] Looking for positional encodings in /home/xdoni4/m1p/graph-neural-pde/data/pos_encodings/Cora_GDC.pkl...\n",
      "    Found them! Loading cached version\n",
      "[i] Looking for positional encodings in /home/xdoni4/m1p/graph-neural-pde/data/pos_encodings/Cora_GDC.pkl...\n",
      "    Found them! Loading cached version\n",
      "[i] Looking for positional encodings in /home/xdoni4/m1p/graph-neural-pde/data/pos_encodings/Cora_GDC.pkl...\n",
      "    Found them! Loading cached version\n",
      "[i] Looking for positional encodings in /home/xdoni4/m1p/graph-neural-pde/data/pos_encodings/Cora_GDC.pkl...\n",
      "    Found them! Loading cached version\n",
      "[i] Looking for positional encodings in /home/xdoni4/m1p/graph-neural-pde/data/pos_encodings/Cora_GDC.pkl...\n",
      "    Found them! Loading cached version\n",
      "[i] Looking for positional encodings in /home/xdoni4/m1p/graph-neural-pde/data/pos_encodings/Cora_GDC.pkl...\n",
      "    Found them! Loading cached version\n",
      "[i] Looking for positional encodings in /home/xdoni4/m1p/graph-neural-pde/data/pos_encodings/Cora_GDC.pkl...\n",
      "    Found them! Loading cached version\n",
      "[i] Looking for positional encodings in /home/xdoni4/m1p/graph-neural-pde/data/pos_encodings/Cora_GDC.pkl...\n",
      "    Found them! Loading cached version\n",
      "[i] Looking for positional encodings in /home/xdoni4/m1p/graph-neural-pde/data/pos_encodings/Cora_GDC.pkl...\n",
      "    Found them! Loading cached version\n",
      "[i] Looking for positional encodings in /home/xdoni4/m1p/graph-neural-pde/data/pos_encodings/Cora_GDC.pkl...\n",
      "    Found them! Loading cached version\n",
      "[i] Looking for positional encodings in /home/xdoni4/m1p/graph-neural-pde/data/pos_encodings/Cora_GDC.pkl...\n",
      "    Found them! Loading cached version\n",
      "[i] Looking for positional encodings in /home/xdoni4/m1p/graph-neural-pde/data/pos_encodings/Cora_GDC.pkl...\n",
      "    Found them! Loading cached version\n",
      "[i] Looking for positional encodings in /home/xdoni4/m1p/graph-neural-pde/data/pos_encodings/Cora_GDC.pkl...\n",
      "    Found them! Loading cached version\n",
      "[i] Looking for positional encodings in /home/xdoni4/m1p/graph-neural-pde/data/pos_encodings/Cora_GDC.pkl...\n",
      "    Found them! Loading cached version\n",
      "[i] Looking for positional encodings in /home/xdoni4/m1p/graph-neural-pde/data/pos_encodings/Cora_GDC.pkl...\n",
      "    Found them! Loading cached version\n",
      "[i] Looking for positional encodings in /home/xdoni4/m1p/graph-neural-pde/data/pos_encodings/Cora_GDC.pkl...\n",
      "    Found them! Loading cached version\n",
      "[i] Looking for positional encodings in /home/xdoni4/m1p/graph-neural-pde/data/pos_encodings/Cora_GDC.pkl...\n",
      "    Found them! Loading cached version\n",
      "[i] Looking for positional encodings in /home/xdoni4/m1p/graph-neural-pde/data/pos_encodings/Cora_GDC.pkl...\n",
      "    Found them! Loading cached version\n",
      "[i] Looking for positional encodings in /home/xdoni4/m1p/graph-neural-pde/data/pos_encodings/Cora_GDC.pkl...\n",
      "    Found them! Loading cached version\n",
      "[i] Looking for positional encodings in /home/xdoni4/m1p/graph-neural-pde/data/pos_encodings/Cora_GDC.pkl...\n",
      "    Found them! Loading cached version\n",
      "[i] Looking for positional encodings in /home/xdoni4/m1p/graph-neural-pde/data/pos_encodings/Cora_GDC.pkl...\n",
      "    Found them! Loading cached version\n",
      "[i] Looking for positional encodings in /home/xdoni4/m1p/graph-neural-pde/data/pos_encodings/Cora_GDC.pkl...\n",
      "    Found them! Loading cached version\n",
      "[i] Looking for positional encodings in /home/xdoni4/m1p/graph-neural-pde/data/pos_encodings/Cora_GDC.pkl...\n",
      "    Found them! Loading cached version\n",
      "[i] Looking for positional encodings in /home/xdoni4/m1p/graph-neural-pde/data/pos_encodings/Cora_GDC.pkl...\n",
      "    Found them! Loading cached version\n",
      "[i] Looking for positional encodings in /home/xdoni4/m1p/graph-neural-pde/data/pos_encodings/Cora_GDC.pkl...\n",
      "    Found them! Loading cached version\n",
      "[i] Looking for positional encodings in /home/xdoni4/m1p/graph-neural-pde/data/pos_encodings/Cora_GDC.pkl...\n",
      "    Found them! Loading cached version\n",
      "[i] Looking for positional encodings in /home/xdoni4/m1p/graph-neural-pde/data/pos_encodings/Cora_GDC.pkl...\n",
      "    Found them! Loading cached version\n",
      "[i] Looking for positional encodings in /home/xdoni4/m1p/graph-neural-pde/data/pos_encodings/Cora_GDC.pkl...\n",
      "    Found them! Loading cached version\n",
      "[i] Looking for positional encodings in /home/xdoni4/m1p/graph-neural-pde/data/pos_encodings/Cora_GDC.pkl...\n",
      "    Found them! Loading cached version\n",
      "[i] Looking for positional encodings in /home/xdoni4/m1p/graph-neural-pde/data/pos_encodings/Cora_GDC.pkl...\n",
      "    Found them! Loading cached version\n",
      "[i] Looking for positional encodings in /home/xdoni4/m1p/graph-neural-pde/data/pos_encodings/Cora_GDC.pkl...\n",
      "    Found them! Loading cached version\n",
      "[i] Looking for positional encodings in /home/xdoni4/m1p/graph-neural-pde/data/pos_encodings/Cora_GDC.pkl...\n",
      "    Found them! Loading cached version\n",
      "[i] Looking for positional encodings in /home/xdoni4/m1p/graph-neural-pde/data/pos_encodings/Cora_GDC.pkl...\n",
      "    Found them! Loading cached version\n",
      "[i] Looking for positional encodings in /home/xdoni4/m1p/graph-neural-pde/data/pos_encodings/Cora_GDC.pkl...\n",
      "    Found them! Loading cached version\n",
      "[i] Looking for positional encodings in /home/xdoni4/m1p/graph-neural-pde/data/pos_encodings/Cora_GDC.pkl...\n",
      "    Found them! Loading cached version\n",
      "[i] Looking for positional encodings in /home/xdoni4/m1p/graph-neural-pde/data/pos_encodings/Cora_GDC.pkl...\n",
      "    Found them! Loading cached version\n",
      "[i] Looking for positional encodings in /home/xdoni4/m1p/graph-neural-pde/data/pos_encodings/Cora_GDC.pkl...\n",
      "    Found them! Loading cached version\n",
      "[i] Looking for positional encodings in /home/xdoni4/m1p/graph-neural-pde/data/pos_encodings/Cora_GDC.pkl...\n",
      "    Found them! Loading cached version\n",
      "[i] Looking for positional encodings in /home/xdoni4/m1p/graph-neural-pde/data/pos_encodings/Cora_GDC.pkl...\n",
      "    Found them! Loading cached version\n",
      "[i] Looking for positional encodings in /home/xdoni4/m1p/graph-neural-pde/data/pos_encodings/Cora_GDC.pkl...\n",
      "    Found them! Loading cached version\n",
      "[i] Looking for positional encodings in /home/xdoni4/m1p/graph-neural-pde/data/pos_encodings/Cora_GDC.pkl...\n",
      "    Found them! Loading cached version\n",
      "[i] Looking for positional encodings in /home/xdoni4/m1p/graph-neural-pde/data/pos_encodings/Cora_GDC.pkl...\n",
      "    Found them! Loading cached version\n",
      "[i] Looking for positional encodings in /home/xdoni4/m1p/graph-neural-pde/data/pos_encodings/Cora_GDC.pkl...\n",
      "    Found them! Loading cached version\n",
      "[i] Looking for positional encodings in /home/xdoni4/m1p/graph-neural-pde/data/pos_encodings/Cora_GDC.pkl...\n",
      "    Found them! Loading cached version\n",
      "[i] Looking for positional encodings in /home/xdoni4/m1p/graph-neural-pde/data/pos_encodings/Cora_GDC.pkl...\n",
      "    Found them! Loading cached version\n"
     ]
    },
    {
     "name": "stderr",
     "output_type": "stream",
     "text": [
      "  0%|          | 0/89 [00:00<?, ?it/s]/home/xdoni4/miniconda3/envs/m1p/lib/python3.9/site-packages/torchdiffeq/_impl/misc.py:11: UserWarning: Dopri5Solver: Unexpected arguments {'step_size': 1, 'max_iters': 100}\n",
      "  warnings.warn('{}: Unexpected arguments {}'.format(solver.__class__.__name__, unused_kwargs))\n",
      "100%|██████████| 89/89 [20:38<00:00, 13.91s/it]\n"
     ]
    },
    {
     "name": "stdout",
     "output_type": "stream",
     "text": [
      "TRAIN: epoch = 1, loss = 0.683, accuracy = 0.528, f1 = 0.506\n"
     ]
    },
    {
     "name": "stderr",
     "output_type": "stream",
     "text": [
      "/home/xdoni4/miniconda3/envs/m1p/lib/python3.9/site-packages/torchdiffeq/_impl/misc.py:11: UserWarning: Dopri5Solver: Unexpected arguments {'step_size': 1, 'max_iters': 100}\n",
      "  warnings.warn('{}: Unexpected arguments {}'.format(solver.__class__.__name__, unused_kwargs))\n"
     ]
    },
    {
     "name": "stdout",
     "output_type": "stream",
     "text": [
      "TEST: loss = 0.662, accuracy = 0.667, f1 = 0.534\n",
      "--------------------------------------------------\n",
      "\n",
      "===================================================================================\n",
      "\n",
      "Building adjacencies T=25\n"
     ]
    },
    {
     "name": "stderr",
     "output_type": "stream",
     "text": [
      "100%|██████████| 89/89 [00:05<00:00, 17.56it/s]\n"
     ]
    },
    {
     "name": "stdout",
     "output_type": "stream",
     "text": [
      "(89, 231, 32, 32)\n"
     ]
    },
    {
     "name": "stderr",
     "output_type": "stream",
     "text": [
      "100%|██████████| 30/30 [00:01<00:00, 16.57it/s]\n"
     ]
    },
    {
     "name": "stdout",
     "output_type": "stream",
     "text": [
      "(30, 231, 32, 32)\n",
      "T=25, alpha=0.8, NF=5, sigma=0\n",
      "Running GCN\n",
      "231\n",
      "\n",
      "===================================================================================\n",
      "\n"
     ]
    },
    {
     "name": "stderr",
     "output_type": "stream",
     "text": [
      "100%|██████████| 89/89 [00:04<00:00, 19.20it/s]\n"
     ]
    },
    {
     "name": "stdout",
     "output_type": "stream",
     "text": [
      "TRAIN: epoch = 1, loss = 0.669, accuracy = 0.596, f1 = 0.547\n",
      "TEST: loss = 0.642, accuracy = 0.633, f1 = 0.388\n",
      "--------------------------------------------------\n"
     ]
    },
    {
     "name": "stderr",
     "output_type": "stream",
     "text": [
      "100%|██████████| 89/89 [00:04<00:00, 18.21it/s]\n"
     ]
    },
    {
     "name": "stdout",
     "output_type": "stream",
     "text": [
      "TRAIN: epoch = 2, loss = 0.599, accuracy = 0.73, f1 = 0.626\n",
      "TEST: loss = 0.632, accuracy = 0.6, f1 = 0.375\n",
      "--------------------------------------------------\n"
     ]
    },
    {
     "name": "stderr",
     "output_type": "stream",
     "text": [
      "100%|██████████| 89/89 [00:12<00:00,  7.18it/s]\n"
     ]
    },
    {
     "name": "stdout",
     "output_type": "stream",
     "text": [
      "TRAIN: epoch = 3, loss = 0.568, accuracy = 0.73, f1 = 0.638\n",
      "TEST: loss = 0.622, accuracy = 0.6, f1 = 0.375\n",
      "--------------------------------------------------\n"
     ]
    },
    {
     "name": "stderr",
     "output_type": "stream",
     "text": [
      "100%|██████████| 89/89 [00:13<00:00,  6.79it/s]\n"
     ]
    },
    {
     "name": "stdout",
     "output_type": "stream",
     "text": [
      "TRAIN: epoch = 4, loss = 0.501, accuracy = 0.809, f1 = 0.761\n",
      "TEST: loss = 0.603, accuracy = 0.667, f1 = 0.534\n",
      "--------------------------------------------------\n"
     ]
    },
    {
     "name": "stderr",
     "output_type": "stream",
     "text": [
      "100%|██████████| 89/89 [00:05<00:00, 15.85it/s]\n"
     ]
    },
    {
     "name": "stdout",
     "output_type": "stream",
     "text": [
      "TRAIN: epoch = 5, loss = 0.451, accuracy = 0.865, f1 = 0.844\n",
      "TEST: loss = 0.596, accuracy = 0.667, f1 = 0.534\n",
      "--------------------------------------------------\n"
     ]
    },
    {
     "name": "stderr",
     "output_type": "stream",
     "text": [
      "100%|██████████| 89/89 [00:07<00:00, 12.30it/s]\n"
     ]
    },
    {
     "name": "stdout",
     "output_type": "stream",
     "text": [
      "TRAIN: epoch = 6, loss = 0.393, accuracy = 0.876, f1 = 0.861\n",
      "TEST: loss = 0.591, accuracy = 0.7, f1 = 0.6\n",
      "--------------------------------------------------\n"
     ]
    },
    {
     "name": "stderr",
     "output_type": "stream",
     "text": [
      "100%|██████████| 89/89 [00:06<00:00, 14.48it/s]\n"
     ]
    },
    {
     "name": "stdout",
     "output_type": "stream",
     "text": [
      "TRAIN: epoch = 7, loss = 0.371, accuracy = 0.888, f1 = 0.87\n",
      "TEST: loss = 0.581, accuracy = 0.7, f1 = 0.6\n",
      "--------------------------------------------------\n"
     ]
    },
    {
     "name": "stderr",
     "output_type": "stream",
     "text": [
      "100%|██████████| 89/89 [00:07<00:00, 11.78it/s]\n"
     ]
    },
    {
     "name": "stdout",
     "output_type": "stream",
     "text": [
      "TRAIN: epoch = 8, loss = 0.336, accuracy = 0.865, f1 = 0.847\n",
      "TEST: loss = 0.573, accuracy = 0.733, f1 = 0.659\n",
      "--------------------------------------------------\n"
     ]
    },
    {
     "name": "stderr",
     "output_type": "stream",
     "text": [
      "100%|██████████| 89/89 [00:13<00:00,  6.40it/s]\n"
     ]
    },
    {
     "name": "stdout",
     "output_type": "stream",
     "text": [
      "TRAIN: epoch = 9, loss = 0.271, accuracy = 0.921, f1 = 0.913\n",
      "TEST: loss = 0.58, accuracy = 0.733, f1 = 0.659\n",
      "--------------------------------------------------\n"
     ]
    },
    {
     "name": "stderr",
     "output_type": "stream",
     "text": [
      "100%|██████████| 89/89 [00:12<00:00,  7.36it/s]\n"
     ]
    },
    {
     "name": "stdout",
     "output_type": "stream",
     "text": [
      "TRAIN: epoch = 10, loss = 0.262, accuracy = 0.921, f1 = 0.913\n",
      "TEST: loss = 0.58, accuracy = 0.733, f1 = 0.659\n",
      "--------------------------------------------------\n",
      "\n",
      "===================================================================================\n",
      "\n",
      "Running GRAND\n",
      "231\n",
      "\n",
      "===================================================================================\n",
      "\n"
     ]
    },
    {
     "name": "stderr",
     "output_type": "stream",
     "text": [
      "  0%|          | 0/89 [00:00<?, ?it/s]/home/xdoni4/miniconda3/envs/m1p/lib/python3.9/site-packages/torchdiffeq/_impl/misc.py:11: UserWarning: Dopri5Solver: Unexpected arguments {'step_size': 1, 'max_iters': 100}\n",
      "  warnings.warn('{}: Unexpected arguments {}'.format(solver.__class__.__name__, unused_kwargs))\n",
      "100%|██████████| 89/89 [12:55<00:00,  8.72s/it]\n"
     ]
    },
    {
     "name": "stdout",
     "output_type": "stream",
     "text": [
      "TRAIN: epoch = 1, loss = 0.684, accuracy = 0.596, f1 = 0.555\n"
     ]
    },
    {
     "name": "stderr",
     "output_type": "stream",
     "text": [
      "/home/xdoni4/miniconda3/envs/m1p/lib/python3.9/site-packages/torchdiffeq/_impl/misc.py:11: UserWarning: Dopri5Solver: Unexpected arguments {'step_size': 1, 'max_iters': 100}\n",
      "  warnings.warn('{}: Unexpected arguments {}'.format(solver.__class__.__name__, unused_kwargs))\n"
     ]
    },
    {
     "name": "stdout",
     "output_type": "stream",
     "text": [
      "TEST: loss = 0.643, accuracy = 0.667, f1 = 0.534\n",
      "--------------------------------------------------\n"
     ]
    },
    {
     "name": "stderr",
     "output_type": "stream",
     "text": [
      "  0%|          | 0/89 [00:00<?, ?it/s]/home/xdoni4/miniconda3/envs/m1p/lib/python3.9/site-packages/torchdiffeq/_impl/misc.py:11: UserWarning: Dopri5Solver: Unexpected arguments {'step_size': 1, 'max_iters': 100}\n",
      "  warnings.warn('{}: Unexpected arguments {}'.format(solver.__class__.__name__, unused_kwargs))\n",
      "100%|██████████| 89/89 [12:36<00:00,  8.50s/it]\n"
     ]
    },
    {
     "name": "stdout",
     "output_type": "stream",
     "text": [
      "TRAIN: epoch = 2, loss = 0.634, accuracy = 0.663, f1 = 0.572\n"
     ]
    },
    {
     "name": "stderr",
     "output_type": "stream",
     "text": [
      "/home/xdoni4/miniconda3/envs/m1p/lib/python3.9/site-packages/torchdiffeq/_impl/misc.py:11: UserWarning: Dopri5Solver: Unexpected arguments {'step_size': 1, 'max_iters': 100}\n",
      "  warnings.warn('{}: Unexpected arguments {}'.format(solver.__class__.__name__, unused_kwargs))\n"
     ]
    },
    {
     "name": "stdout",
     "output_type": "stream",
     "text": [
      "TEST: loss = 0.624, accuracy = 0.667, f1 = 0.479\n",
      "--------------------------------------------------\n"
     ]
    },
    {
     "name": "stderr",
     "output_type": "stream",
     "text": [
      "  0%|          | 0/89 [00:00<?, ?it/s]/home/xdoni4/miniconda3/envs/m1p/lib/python3.9/site-packages/torchdiffeq/_impl/misc.py:11: UserWarning: Dopri5Solver: Unexpected arguments {'step_size': 1, 'max_iters': 100}\n",
      "  warnings.warn('{}: Unexpected arguments {}'.format(solver.__class__.__name__, unused_kwargs))\n",
      "100%|██████████| 89/89 [14:15<00:00,  9.62s/it]\n"
     ]
    },
    {
     "name": "stdout",
     "output_type": "stream",
     "text": [
      "TRAIN: epoch = 3, loss = 0.566, accuracy = 0.764, f1 = 0.688\n"
     ]
    },
    {
     "name": "stderr",
     "output_type": "stream",
     "text": [
      "/home/xdoni4/miniconda3/envs/m1p/lib/python3.9/site-packages/torchdiffeq/_impl/misc.py:11: UserWarning: Dopri5Solver: Unexpected arguments {'step_size': 1, 'max_iters': 100}\n",
      "  warnings.warn('{}: Unexpected arguments {}'.format(solver.__class__.__name__, unused_kwargs))\n"
     ]
    },
    {
     "name": "stdout",
     "output_type": "stream",
     "text": [
      "TEST: loss = 0.614, accuracy = 0.667, f1 = 0.534\n",
      "--------------------------------------------------\n",
      "\n",
      "===================================================================================\n",
      "\n",
      "Running BLEND\n",
      "231\n",
      "\n",
      "===================================================================================\n",
      "\n",
      "[i] Looking for positional encodings in /home/xdoni4/m1p/graph-neural-pde/data/pos_encodings/Cora_GDC.pkl...\n",
      "    Found them! Loading cached version\n",
      "[i] Looking for positional encodings in /home/xdoni4/m1p/graph-neural-pde/data/pos_encodings/Cora_GDC.pkl...\n",
      "    Found them! Loading cached version\n",
      "[i] Looking for positional encodings in /home/xdoni4/m1p/graph-neural-pde/data/pos_encodings/Cora_GDC.pkl...\n",
      "    Found them! Loading cached version\n",
      "[i] Looking for positional encodings in /home/xdoni4/m1p/graph-neural-pde/data/pos_encodings/Cora_GDC.pkl...\n",
      "    Found them! Loading cached version\n",
      "[i] Looking for positional encodings in /home/xdoni4/m1p/graph-neural-pde/data/pos_encodings/Cora_GDC.pkl...\n",
      "    Found them! Loading cached version\n",
      "[i] Looking for positional encodings in /home/xdoni4/m1p/graph-neural-pde/data/pos_encodings/Cora_GDC.pkl...\n",
      "    Found them! Loading cached version\n",
      "[i] Looking for positional encodings in /home/xdoni4/m1p/graph-neural-pde/data/pos_encodings/Cora_GDC.pkl...\n",
      "    Found them! Loading cached version\n",
      "[i] Looking for positional encodings in /home/xdoni4/m1p/graph-neural-pde/data/pos_encodings/Cora_GDC.pkl...\n",
      "    Found them! Loading cached version\n",
      "[i] Looking for positional encodings in /home/xdoni4/m1p/graph-neural-pde/data/pos_encodings/Cora_GDC.pkl...\n",
      "    Found them! Loading cached version\n",
      "[i] Looking for positional encodings in /home/xdoni4/m1p/graph-neural-pde/data/pos_encodings/Cora_GDC.pkl...\n",
      "    Found them! Loading cached version\n",
      "[i] Looking for positional encodings in /home/xdoni4/m1p/graph-neural-pde/data/pos_encodings/Cora_GDC.pkl...\n",
      "    Found them! Loading cached version\n",
      "[i] Looking for positional encodings in /home/xdoni4/m1p/graph-neural-pde/data/pos_encodings/Cora_GDC.pkl...\n",
      "    Found them! Loading cached version\n",
      "[i] Looking for positional encodings in /home/xdoni4/m1p/graph-neural-pde/data/pos_encodings/Cora_GDC.pkl...\n",
      "    Found them! Loading cached version\n",
      "[i] Looking for positional encodings in /home/xdoni4/m1p/graph-neural-pde/data/pos_encodings/Cora_GDC.pkl...\n",
      "    Found them! Loading cached version\n",
      "[i] Looking for positional encodings in /home/xdoni4/m1p/graph-neural-pde/data/pos_encodings/Cora_GDC.pkl...\n",
      "    Found them! Loading cached version\n",
      "[i] Looking for positional encodings in /home/xdoni4/m1p/graph-neural-pde/data/pos_encodings/Cora_GDC.pkl...\n",
      "    Found them! Loading cached version\n",
      "[i] Looking for positional encodings in /home/xdoni4/m1p/graph-neural-pde/data/pos_encodings/Cora_GDC.pkl...\n",
      "    Found them! Loading cached version\n",
      "[i] Looking for positional encodings in /home/xdoni4/m1p/graph-neural-pde/data/pos_encodings/Cora_GDC.pkl...\n",
      "    Found them! Loading cached version\n",
      "[i] Looking for positional encodings in /home/xdoni4/m1p/graph-neural-pde/data/pos_encodings/Cora_GDC.pkl...\n",
      "    Found them! Loading cached version\n",
      "[i] Looking for positional encodings in /home/xdoni4/m1p/graph-neural-pde/data/pos_encodings/Cora_GDC.pkl...\n",
      "    Found them! Loading cached version\n",
      "[i] Looking for positional encodings in /home/xdoni4/m1p/graph-neural-pde/data/pos_encodings/Cora_GDC.pkl...\n",
      "    Found them! Loading cached version\n",
      "[i] Looking for positional encodings in /home/xdoni4/m1p/graph-neural-pde/data/pos_encodings/Cora_GDC.pkl...\n",
      "    Found them! Loading cached version\n",
      "[i] Looking for positional encodings in /home/xdoni4/m1p/graph-neural-pde/data/pos_encodings/Cora_GDC.pkl...\n",
      "    Found them! Loading cached version\n",
      "[i] Looking for positional encodings in /home/xdoni4/m1p/graph-neural-pde/data/pos_encodings/Cora_GDC.pkl...\n",
      "    Found them! Loading cached version\n",
      "[i] Looking for positional encodings in /home/xdoni4/m1p/graph-neural-pde/data/pos_encodings/Cora_GDC.pkl...\n",
      "    Found them! Loading cached version\n",
      "[i] Looking for positional encodings in /home/xdoni4/m1p/graph-neural-pde/data/pos_encodings/Cora_GDC.pkl...\n",
      "    Found them! Loading cached version\n",
      "[i] Looking for positional encodings in /home/xdoni4/m1p/graph-neural-pde/data/pos_encodings/Cora_GDC.pkl...\n",
      "    Found them! Loading cached version\n",
      "[i] Looking for positional encodings in /home/xdoni4/m1p/graph-neural-pde/data/pos_encodings/Cora_GDC.pkl...\n",
      "    Found them! Loading cached version\n",
      "[i] Looking for positional encodings in /home/xdoni4/m1p/graph-neural-pde/data/pos_encodings/Cora_GDC.pkl...\n",
      "    Found them! Loading cached version\n",
      "[i] Looking for positional encodings in /home/xdoni4/m1p/graph-neural-pde/data/pos_encodings/Cora_GDC.pkl...\n",
      "    Found them! Loading cached version\n",
      "[i] Looking for positional encodings in /home/xdoni4/m1p/graph-neural-pde/data/pos_encodings/Cora_GDC.pkl...\n",
      "    Found them! Loading cached version\n",
      "[i] Looking for positional encodings in /home/xdoni4/m1p/graph-neural-pde/data/pos_encodings/Cora_GDC.pkl...\n",
      "    Found them! Loading cached version\n",
      "[i] Looking for positional encodings in /home/xdoni4/m1p/graph-neural-pde/data/pos_encodings/Cora_GDC.pkl...\n",
      "    Found them! Loading cached version\n",
      "[i] Looking for positional encodings in /home/xdoni4/m1p/graph-neural-pde/data/pos_encodings/Cora_GDC.pkl...\n",
      "    Found them! Loading cached version\n",
      "[i] Looking for positional encodings in /home/xdoni4/m1p/graph-neural-pde/data/pos_encodings/Cora_GDC.pkl...\n",
      "    Found them! Loading cached version\n",
      "[i] Looking for positional encodings in /home/xdoni4/m1p/graph-neural-pde/data/pos_encodings/Cora_GDC.pkl...\n",
      "    Found them! Loading cached version\n",
      "[i] Looking for positional encodings in /home/xdoni4/m1p/graph-neural-pde/data/pos_encodings/Cora_GDC.pkl...\n",
      "    Found them! Loading cached version\n",
      "[i] Looking for positional encodings in /home/xdoni4/m1p/graph-neural-pde/data/pos_encodings/Cora_GDC.pkl...\n",
      "    Found them! Loading cached version\n",
      "[i] Looking for positional encodings in /home/xdoni4/m1p/graph-neural-pde/data/pos_encodings/Cora_GDC.pkl...\n",
      "    Found them! Loading cached version\n",
      "[i] Looking for positional encodings in /home/xdoni4/m1p/graph-neural-pde/data/pos_encodings/Cora_GDC.pkl...\n",
      "    Found them! Loading cached version\n",
      "[i] Looking for positional encodings in /home/xdoni4/m1p/graph-neural-pde/data/pos_encodings/Cora_GDC.pkl...\n",
      "    Found them! Loading cached version\n",
      "[i] Looking for positional encodings in /home/xdoni4/m1p/graph-neural-pde/data/pos_encodings/Cora_GDC.pkl...\n",
      "    Found them! Loading cached version\n",
      "[i] Looking for positional encodings in /home/xdoni4/m1p/graph-neural-pde/data/pos_encodings/Cora_GDC.pkl...\n",
      "    Found them! Loading cached version\n",
      "[i] Looking for positional encodings in /home/xdoni4/m1p/graph-neural-pde/data/pos_encodings/Cora_GDC.pkl...\n",
      "    Found them! Loading cached version\n",
      "[i] Looking for positional encodings in /home/xdoni4/m1p/graph-neural-pde/data/pos_encodings/Cora_GDC.pkl...\n",
      "    Found them! Loading cached version\n",
      "[i] Looking for positional encodings in /home/xdoni4/m1p/graph-neural-pde/data/pos_encodings/Cora_GDC.pkl...\n",
      "    Found them! Loading cached version\n",
      "[i] Looking for positional encodings in /home/xdoni4/m1p/graph-neural-pde/data/pos_encodings/Cora_GDC.pkl...\n",
      "    Found them! Loading cached version\n",
      "[i] Looking for positional encodings in /home/xdoni4/m1p/graph-neural-pde/data/pos_encodings/Cora_GDC.pkl...\n",
      "    Found them! Loading cached version\n",
      "[i] Looking for positional encodings in /home/xdoni4/m1p/graph-neural-pde/data/pos_encodings/Cora_GDC.pkl...\n",
      "    Found them! Loading cached version\n",
      "[i] Looking for positional encodings in /home/xdoni4/m1p/graph-neural-pde/data/pos_encodings/Cora_GDC.pkl...\n",
      "    Found them! Loading cached version\n",
      "[i] Looking for positional encodings in /home/xdoni4/m1p/graph-neural-pde/data/pos_encodings/Cora_GDC.pkl...\n",
      "    Found them! Loading cached version\n",
      "[i] Looking for positional encodings in /home/xdoni4/m1p/graph-neural-pde/data/pos_encodings/Cora_GDC.pkl...\n",
      "    Found them! Loading cached version\n",
      "[i] Looking for positional encodings in /home/xdoni4/m1p/graph-neural-pde/data/pos_encodings/Cora_GDC.pkl...\n",
      "    Found them! Loading cached version\n",
      "[i] Looking for positional encodings in /home/xdoni4/m1p/graph-neural-pde/data/pos_encodings/Cora_GDC.pkl...\n",
      "    Found them! Loading cached version\n",
      "[i] Looking for positional encodings in /home/xdoni4/m1p/graph-neural-pde/data/pos_encodings/Cora_GDC.pkl...\n",
      "    Found them! Loading cached version\n",
      "[i] Looking for positional encodings in /home/xdoni4/m1p/graph-neural-pde/data/pos_encodings/Cora_GDC.pkl...\n",
      "    Found them! Loading cached version\n",
      "[i] Looking for positional encodings in /home/xdoni4/m1p/graph-neural-pde/data/pos_encodings/Cora_GDC.pkl...\n",
      "    Found them! Loading cached version\n",
      "[i] Looking for positional encodings in /home/xdoni4/m1p/graph-neural-pde/data/pos_encodings/Cora_GDC.pkl...\n",
      "    Found them! Loading cached version\n",
      "[i] Looking for positional encodings in /home/xdoni4/m1p/graph-neural-pde/data/pos_encodings/Cora_GDC.pkl...\n",
      "    Found them! Loading cached version\n",
      "[i] Looking for positional encodings in /home/xdoni4/m1p/graph-neural-pde/data/pos_encodings/Cora_GDC.pkl...\n",
      "    Found them! Loading cached version\n",
      "[i] Looking for positional encodings in /home/xdoni4/m1p/graph-neural-pde/data/pos_encodings/Cora_GDC.pkl...\n",
      "    Found them! Loading cached version\n",
      "[i] Looking for positional encodings in /home/xdoni4/m1p/graph-neural-pde/data/pos_encodings/Cora_GDC.pkl...\n",
      "    Found them! Loading cached version\n",
      "[i] Looking for positional encodings in /home/xdoni4/m1p/graph-neural-pde/data/pos_encodings/Cora_GDC.pkl...\n",
      "    Found them! Loading cached version\n",
      "[i] Looking for positional encodings in /home/xdoni4/m1p/graph-neural-pde/data/pos_encodings/Cora_GDC.pkl...\n",
      "    Found them! Loading cached version\n",
      "[i] Looking for positional encodings in /home/xdoni4/m1p/graph-neural-pde/data/pos_encodings/Cora_GDC.pkl...\n",
      "    Found them! Loading cached version\n",
      "[i] Looking for positional encodings in /home/xdoni4/m1p/graph-neural-pde/data/pos_encodings/Cora_GDC.pkl...\n",
      "    Found them! Loading cached version\n",
      "[i] Looking for positional encodings in /home/xdoni4/m1p/graph-neural-pde/data/pos_encodings/Cora_GDC.pkl...\n",
      "    Found them! Loading cached version\n",
      "[i] Looking for positional encodings in /home/xdoni4/m1p/graph-neural-pde/data/pos_encodings/Cora_GDC.pkl...\n",
      "    Found them! Loading cached version\n",
      "[i] Looking for positional encodings in /home/xdoni4/m1p/graph-neural-pde/data/pos_encodings/Cora_GDC.pkl...\n",
      "    Found them! Loading cached version\n",
      "[i] Looking for positional encodings in /home/xdoni4/m1p/graph-neural-pde/data/pos_encodings/Cora_GDC.pkl...\n",
      "    Found them! Loading cached version\n",
      "[i] Looking for positional encodings in /home/xdoni4/m1p/graph-neural-pde/data/pos_encodings/Cora_GDC.pkl...\n",
      "    Found them! Loading cached version\n",
      "[i] Looking for positional encodings in /home/xdoni4/m1p/graph-neural-pde/data/pos_encodings/Cora_GDC.pkl...\n",
      "    Found them! Loading cached version\n",
      "[i] Looking for positional encodings in /home/xdoni4/m1p/graph-neural-pde/data/pos_encodings/Cora_GDC.pkl...\n",
      "    Found them! Loading cached version\n",
      "[i] Looking for positional encodings in /home/xdoni4/m1p/graph-neural-pde/data/pos_encodings/Cora_GDC.pkl...\n",
      "    Found them! Loading cached version\n",
      "[i] Looking for positional encodings in /home/xdoni4/m1p/graph-neural-pde/data/pos_encodings/Cora_GDC.pkl...\n",
      "    Found them! Loading cached version\n",
      "[i] Looking for positional encodings in /home/xdoni4/m1p/graph-neural-pde/data/pos_encodings/Cora_GDC.pkl...\n",
      "    Found them! Loading cached version\n",
      "[i] Looking for positional encodings in /home/xdoni4/m1p/graph-neural-pde/data/pos_encodings/Cora_GDC.pkl...\n",
      "    Found them! Loading cached version\n",
      "[i] Looking for positional encodings in /home/xdoni4/m1p/graph-neural-pde/data/pos_encodings/Cora_GDC.pkl...\n",
      "    Found them! Loading cached version\n",
      "[i] Looking for positional encodings in /home/xdoni4/m1p/graph-neural-pde/data/pos_encodings/Cora_GDC.pkl...\n",
      "    Found them! Loading cached version\n",
      "[i] Looking for positional encodings in /home/xdoni4/m1p/graph-neural-pde/data/pos_encodings/Cora_GDC.pkl...\n",
      "    Found them! Loading cached version\n",
      "[i] Looking for positional encodings in /home/xdoni4/m1p/graph-neural-pde/data/pos_encodings/Cora_GDC.pkl...\n",
      "    Found them! Loading cached version\n",
      "[i] Looking for positional encodings in /home/xdoni4/m1p/graph-neural-pde/data/pos_encodings/Cora_GDC.pkl...\n",
      "    Found them! Loading cached version\n",
      "[i] Looking for positional encodings in /home/xdoni4/m1p/graph-neural-pde/data/pos_encodings/Cora_GDC.pkl...\n",
      "    Found them! Loading cached version\n",
      "[i] Looking for positional encodings in /home/xdoni4/m1p/graph-neural-pde/data/pos_encodings/Cora_GDC.pkl...\n",
      "    Found them! Loading cached version\n",
      "[i] Looking for positional encodings in /home/xdoni4/m1p/graph-neural-pde/data/pos_encodings/Cora_GDC.pkl...\n",
      "    Found them! Loading cached version\n",
      "[i] Looking for positional encodings in /home/xdoni4/m1p/graph-neural-pde/data/pos_encodings/Cora_GDC.pkl...\n",
      "    Found them! Loading cached version\n",
      "[i] Looking for positional encodings in /home/xdoni4/m1p/graph-neural-pde/data/pos_encodings/Cora_GDC.pkl...\n",
      "    Found them! Loading cached version\n",
      "[i] Looking for positional encodings in /home/xdoni4/m1p/graph-neural-pde/data/pos_encodings/Cora_GDC.pkl...\n",
      "    Found them! Loading cached version\n",
      "[i] Looking for positional encodings in /home/xdoni4/m1p/graph-neural-pde/data/pos_encodings/Cora_GDC.pkl...\n",
      "    Found them! Loading cached version\n",
      "[i] Looking for positional encodings in /home/xdoni4/m1p/graph-neural-pde/data/pos_encodings/Cora_GDC.pkl...\n",
      "    Found them! Loading cached version\n",
      "[i] Looking for positional encodings in /home/xdoni4/m1p/graph-neural-pde/data/pos_encodings/Cora_GDC.pkl...\n",
      "    Found them! Loading cached version\n",
      "[i] Looking for positional encodings in /home/xdoni4/m1p/graph-neural-pde/data/pos_encodings/Cora_GDC.pkl...\n",
      "    Found them! Loading cached version\n",
      "[i] Looking for positional encodings in /home/xdoni4/m1p/graph-neural-pde/data/pos_encodings/Cora_GDC.pkl...\n",
      "    Found them! Loading cached version\n",
      "[i] Looking for positional encodings in /home/xdoni4/m1p/graph-neural-pde/data/pos_encodings/Cora_GDC.pkl...\n",
      "    Found them! Loading cached version\n",
      "[i] Looking for positional encodings in /home/xdoni4/m1p/graph-neural-pde/data/pos_encodings/Cora_GDC.pkl...\n",
      "    Found them! Loading cached version\n",
      "[i] Looking for positional encodings in /home/xdoni4/m1p/graph-neural-pde/data/pos_encodings/Cora_GDC.pkl...\n",
      "    Found them! Loading cached version\n",
      "[i] Looking for positional encodings in /home/xdoni4/m1p/graph-neural-pde/data/pos_encodings/Cora_GDC.pkl...\n",
      "    Found them! Loading cached version\n",
      "[i] Looking for positional encodings in /home/xdoni4/m1p/graph-neural-pde/data/pos_encodings/Cora_GDC.pkl...\n",
      "    Found them! Loading cached version\n",
      "[i] Looking for positional encodings in /home/xdoni4/m1p/graph-neural-pde/data/pos_encodings/Cora_GDC.pkl...\n",
      "    Found them! Loading cached version\n",
      "[i] Looking for positional encodings in /home/xdoni4/m1p/graph-neural-pde/data/pos_encodings/Cora_GDC.pkl...\n",
      "    Found them! Loading cached version\n",
      "[i] Looking for positional encodings in /home/xdoni4/m1p/graph-neural-pde/data/pos_encodings/Cora_GDC.pkl...\n",
      "    Found them! Loading cached version\n",
      "[i] Looking for positional encodings in /home/xdoni4/m1p/graph-neural-pde/data/pos_encodings/Cora_GDC.pkl...\n",
      "    Found them! Loading cached version\n",
      "[i] Looking for positional encodings in /home/xdoni4/m1p/graph-neural-pde/data/pos_encodings/Cora_GDC.pkl...\n",
      "    Found them! Loading cached version\n",
      "[i] Looking for positional encodings in /home/xdoni4/m1p/graph-neural-pde/data/pos_encodings/Cora_GDC.pkl...\n",
      "    Found them! Loading cached version\n",
      "[i] Looking for positional encodings in /home/xdoni4/m1p/graph-neural-pde/data/pos_encodings/Cora_GDC.pkl...\n",
      "    Found them! Loading cached version\n",
      "[i] Looking for positional encodings in /home/xdoni4/m1p/graph-neural-pde/data/pos_encodings/Cora_GDC.pkl...\n",
      "    Found them! Loading cached version\n",
      "[i] Looking for positional encodings in /home/xdoni4/m1p/graph-neural-pde/data/pos_encodings/Cora_GDC.pkl...\n",
      "    Found them! Loading cached version\n",
      "[i] Looking for positional encodings in /home/xdoni4/m1p/graph-neural-pde/data/pos_encodings/Cora_GDC.pkl...\n",
      "    Found them! Loading cached version\n",
      "[i] Looking for positional encodings in /home/xdoni4/m1p/graph-neural-pde/data/pos_encodings/Cora_GDC.pkl...\n",
      "    Found them! Loading cached version\n",
      "[i] Looking for positional encodings in /home/xdoni4/m1p/graph-neural-pde/data/pos_encodings/Cora_GDC.pkl...\n",
      "    Found them! Loading cached version\n",
      "[i] Looking for positional encodings in /home/xdoni4/m1p/graph-neural-pde/data/pos_encodings/Cora_GDC.pkl...\n",
      "    Found them! Loading cached version\n",
      "[i] Looking for positional encodings in /home/xdoni4/m1p/graph-neural-pde/data/pos_encodings/Cora_GDC.pkl...\n",
      "    Found them! Loading cached version\n",
      "[i] Looking for positional encodings in /home/xdoni4/m1p/graph-neural-pde/data/pos_encodings/Cora_GDC.pkl...\n",
      "    Found them! Loading cached version\n",
      "[i] Looking for positional encodings in /home/xdoni4/m1p/graph-neural-pde/data/pos_encodings/Cora_GDC.pkl...\n",
      "    Found them! Loading cached version\n",
      "[i] Looking for positional encodings in /home/xdoni4/m1p/graph-neural-pde/data/pos_encodings/Cora_GDC.pkl...\n",
      "    Found them! Loading cached version\n",
      "[i] Looking for positional encodings in /home/xdoni4/m1p/graph-neural-pde/data/pos_encodings/Cora_GDC.pkl...\n",
      "    Found them! Loading cached version\n",
      "[i] Looking for positional encodings in /home/xdoni4/m1p/graph-neural-pde/data/pos_encodings/Cora_GDC.pkl...\n",
      "    Found them! Loading cached version\n",
      "[i] Looking for positional encodings in /home/xdoni4/m1p/graph-neural-pde/data/pos_encodings/Cora_GDC.pkl...\n",
      "    Found them! Loading cached version\n",
      "[i] Looking for positional encodings in /home/xdoni4/m1p/graph-neural-pde/data/pos_encodings/Cora_GDC.pkl...\n",
      "    Found them! Loading cached version\n",
      "[i] Looking for positional encodings in /home/xdoni4/m1p/graph-neural-pde/data/pos_encodings/Cora_GDC.pkl...\n",
      "    Found them! Loading cached version\n",
      "[i] Looking for positional encodings in /home/xdoni4/m1p/graph-neural-pde/data/pos_encodings/Cora_GDC.pkl...\n",
      "    Found them! Loading cached version\n",
      "[i] Looking for positional encodings in /home/xdoni4/m1p/graph-neural-pde/data/pos_encodings/Cora_GDC.pkl...\n",
      "    Found them! Loading cached version\n",
      "[i] Looking for positional encodings in /home/xdoni4/m1p/graph-neural-pde/data/pos_encodings/Cora_GDC.pkl...\n",
      "    Found them! Loading cached version\n",
      "[i] Looking for positional encodings in /home/xdoni4/m1p/graph-neural-pde/data/pos_encodings/Cora_GDC.pkl...\n",
      "    Found them! Loading cached version\n",
      "[i] Looking for positional encodings in /home/xdoni4/m1p/graph-neural-pde/data/pos_encodings/Cora_GDC.pkl...\n",
      "    Found them! Loading cached version\n",
      "[i] Looking for positional encodings in /home/xdoni4/m1p/graph-neural-pde/data/pos_encodings/Cora_GDC.pkl...\n",
      "    Found them! Loading cached version\n",
      "[i] Looking for positional encodings in /home/xdoni4/m1p/graph-neural-pde/data/pos_encodings/Cora_GDC.pkl...\n",
      "    Found them! Loading cached version\n",
      "[i] Looking for positional encodings in /home/xdoni4/m1p/graph-neural-pde/data/pos_encodings/Cora_GDC.pkl...\n",
      "    Found them! Loading cached version\n",
      "[i] Looking for positional encodings in /home/xdoni4/m1p/graph-neural-pde/data/pos_encodings/Cora_GDC.pkl...\n",
      "    Found them! Loading cached version\n",
      "[i] Looking for positional encodings in /home/xdoni4/m1p/graph-neural-pde/data/pos_encodings/Cora_GDC.pkl...\n",
      "    Found them! Loading cached version\n",
      "[i] Looking for positional encodings in /home/xdoni4/m1p/graph-neural-pde/data/pos_encodings/Cora_GDC.pkl...\n",
      "    Found them! Loading cached version\n",
      "[i] Looking for positional encodings in /home/xdoni4/m1p/graph-neural-pde/data/pos_encodings/Cora_GDC.pkl...\n",
      "    Found them! Loading cached version\n",
      "[i] Looking for positional encodings in /home/xdoni4/m1p/graph-neural-pde/data/pos_encodings/Cora_GDC.pkl...\n",
      "    Found them! Loading cached version\n",
      "[i] Looking for positional encodings in /home/xdoni4/m1p/graph-neural-pde/data/pos_encodings/Cora_GDC.pkl...\n",
      "    Found them! Loading cached version\n",
      "[i] Looking for positional encodings in /home/xdoni4/m1p/graph-neural-pde/data/pos_encodings/Cora_GDC.pkl...\n",
      "    Found them! Loading cached version\n",
      "[i] Looking for positional encodings in /home/xdoni4/m1p/graph-neural-pde/data/pos_encodings/Cora_GDC.pkl...\n",
      "    Found them! Loading cached version\n",
      "[i] Looking for positional encodings in /home/xdoni4/m1p/graph-neural-pde/data/pos_encodings/Cora_GDC.pkl...\n",
      "    Found them! Loading cached version\n",
      "[i] Looking for positional encodings in /home/xdoni4/m1p/graph-neural-pde/data/pos_encodings/Cora_GDC.pkl...\n",
      "    Found them! Loading cached version\n",
      "[i] Looking for positional encodings in /home/xdoni4/m1p/graph-neural-pde/data/pos_encodings/Cora_GDC.pkl...\n",
      "    Found them! Loading cached version\n",
      "[i] Looking for positional encodings in /home/xdoni4/m1p/graph-neural-pde/data/pos_encodings/Cora_GDC.pkl...\n",
      "    Found them! Loading cached version\n",
      "[i] Looking for positional encodings in /home/xdoni4/m1p/graph-neural-pde/data/pos_encodings/Cora_GDC.pkl...\n",
      "    Found them! Loading cached version\n",
      "[i] Looking for positional encodings in /home/xdoni4/m1p/graph-neural-pde/data/pos_encodings/Cora_GDC.pkl...\n",
      "    Found them! Loading cached version\n",
      "[i] Looking for positional encodings in /home/xdoni4/m1p/graph-neural-pde/data/pos_encodings/Cora_GDC.pkl...\n",
      "    Found them! Loading cached version\n",
      "[i] Looking for positional encodings in /home/xdoni4/m1p/graph-neural-pde/data/pos_encodings/Cora_GDC.pkl...\n",
      "    Found them! Loading cached version\n",
      "[i] Looking for positional encodings in /home/xdoni4/m1p/graph-neural-pde/data/pos_encodings/Cora_GDC.pkl...\n",
      "    Found them! Loading cached version\n",
      "[i] Looking for positional encodings in /home/xdoni4/m1p/graph-neural-pde/data/pos_encodings/Cora_GDC.pkl...\n",
      "    Found them! Loading cached version\n",
      "[i] Looking for positional encodings in /home/xdoni4/m1p/graph-neural-pde/data/pos_encodings/Cora_GDC.pkl...\n",
      "    Found them! Loading cached version\n",
      "[i] Looking for positional encodings in /home/xdoni4/m1p/graph-neural-pde/data/pos_encodings/Cora_GDC.pkl...\n",
      "    Found them! Loading cached version\n",
      "[i] Looking for positional encodings in /home/xdoni4/m1p/graph-neural-pde/data/pos_encodings/Cora_GDC.pkl...\n",
      "    Found them! Loading cached version\n",
      "[i] Looking for positional encodings in /home/xdoni4/m1p/graph-neural-pde/data/pos_encodings/Cora_GDC.pkl...\n",
      "    Found them! Loading cached version\n",
      "[i] Looking for positional encodings in /home/xdoni4/m1p/graph-neural-pde/data/pos_encodings/Cora_GDC.pkl...\n",
      "    Found them! Loading cached version\n",
      "[i] Looking for positional encodings in /home/xdoni4/m1p/graph-neural-pde/data/pos_encodings/Cora_GDC.pkl...\n",
      "    Found them! Loading cached version\n",
      "[i] Looking for positional encodings in /home/xdoni4/m1p/graph-neural-pde/data/pos_encodings/Cora_GDC.pkl...\n",
      "    Found them! Loading cached version\n",
      "[i] Looking for positional encodings in /home/xdoni4/m1p/graph-neural-pde/data/pos_encodings/Cora_GDC.pkl...\n",
      "    Found them! Loading cached version\n",
      "[i] Looking for positional encodings in /home/xdoni4/m1p/graph-neural-pde/data/pos_encodings/Cora_GDC.pkl...\n",
      "    Found them! Loading cached version\n",
      "[i] Looking for positional encodings in /home/xdoni4/m1p/graph-neural-pde/data/pos_encodings/Cora_GDC.pkl...\n",
      "    Found them! Loading cached version\n",
      "[i] Looking for positional encodings in /home/xdoni4/m1p/graph-neural-pde/data/pos_encodings/Cora_GDC.pkl...\n",
      "    Found them! Loading cached version\n",
      "[i] Looking for positional encodings in /home/xdoni4/m1p/graph-neural-pde/data/pos_encodings/Cora_GDC.pkl...\n",
      "    Found them! Loading cached version\n",
      "[i] Looking for positional encodings in /home/xdoni4/m1p/graph-neural-pde/data/pos_encodings/Cora_GDC.pkl...\n",
      "    Found them! Loading cached version\n",
      "[i] Looking for positional encodings in /home/xdoni4/m1p/graph-neural-pde/data/pos_encodings/Cora_GDC.pkl...\n",
      "    Found them! Loading cached version\n",
      "[i] Looking for positional encodings in /home/xdoni4/m1p/graph-neural-pde/data/pos_encodings/Cora_GDC.pkl...\n",
      "    Found them! Loading cached version\n",
      "[i] Looking for positional encodings in /home/xdoni4/m1p/graph-neural-pde/data/pos_encodings/Cora_GDC.pkl...\n",
      "    Found them! Loading cached version\n",
      "[i] Looking for positional encodings in /home/xdoni4/m1p/graph-neural-pde/data/pos_encodings/Cora_GDC.pkl...\n",
      "    Found them! Loading cached version\n",
      "[i] Looking for positional encodings in /home/xdoni4/m1p/graph-neural-pde/data/pos_encodings/Cora_GDC.pkl...\n",
      "    Found them! Loading cached version\n",
      "[i] Looking for positional encodings in /home/xdoni4/m1p/graph-neural-pde/data/pos_encodings/Cora_GDC.pkl...\n",
      "    Found them! Loading cached version\n",
      "[i] Looking for positional encodings in /home/xdoni4/m1p/graph-neural-pde/data/pos_encodings/Cora_GDC.pkl...\n",
      "    Found them! Loading cached version\n",
      "[i] Looking for positional encodings in /home/xdoni4/m1p/graph-neural-pde/data/pos_encodings/Cora_GDC.pkl...\n",
      "    Found them! Loading cached version\n",
      "[i] Looking for positional encodings in /home/xdoni4/m1p/graph-neural-pde/data/pos_encodings/Cora_GDC.pkl...\n",
      "    Found them! Loading cached version\n",
      "[i] Looking for positional encodings in /home/xdoni4/m1p/graph-neural-pde/data/pos_encodings/Cora_GDC.pkl...\n",
      "    Found them! Loading cached version\n",
      "[i] Looking for positional encodings in /home/xdoni4/m1p/graph-neural-pde/data/pos_encodings/Cora_GDC.pkl...\n",
      "    Found them! Loading cached version\n",
      "[i] Looking for positional encodings in /home/xdoni4/m1p/graph-neural-pde/data/pos_encodings/Cora_GDC.pkl...\n",
      "    Found them! Loading cached version\n",
      "[i] Looking for positional encodings in /home/xdoni4/m1p/graph-neural-pde/data/pos_encodings/Cora_GDC.pkl...\n",
      "    Found them! Loading cached version\n",
      "[i] Looking for positional encodings in /home/xdoni4/m1p/graph-neural-pde/data/pos_encodings/Cora_GDC.pkl...\n",
      "    Found them! Loading cached version\n",
      "[i] Looking for positional encodings in /home/xdoni4/m1p/graph-neural-pde/data/pos_encodings/Cora_GDC.pkl...\n",
      "    Found them! Loading cached version\n",
      "[i] Looking for positional encodings in /home/xdoni4/m1p/graph-neural-pde/data/pos_encodings/Cora_GDC.pkl...\n",
      "    Found them! Loading cached version\n",
      "[i] Looking for positional encodings in /home/xdoni4/m1p/graph-neural-pde/data/pos_encodings/Cora_GDC.pkl...\n",
      "    Found them! Loading cached version\n",
      "[i] Looking for positional encodings in /home/xdoni4/m1p/graph-neural-pde/data/pos_encodings/Cora_GDC.pkl...\n",
      "    Found them! Loading cached version\n",
      "[i] Looking for positional encodings in /home/xdoni4/m1p/graph-neural-pde/data/pos_encodings/Cora_GDC.pkl...\n",
      "    Found them! Loading cached version\n",
      "[i] Looking for positional encodings in /home/xdoni4/m1p/graph-neural-pde/data/pos_encodings/Cora_GDC.pkl...\n",
      "    Found them! Loading cached version\n",
      "[i] Looking for positional encodings in /home/xdoni4/m1p/graph-neural-pde/data/pos_encodings/Cora_GDC.pkl...\n",
      "    Found them! Loading cached version\n",
      "[i] Looking for positional encodings in /home/xdoni4/m1p/graph-neural-pde/data/pos_encodings/Cora_GDC.pkl...\n",
      "    Found them! Loading cached version\n",
      "[i] Looking for positional encodings in /home/xdoni4/m1p/graph-neural-pde/data/pos_encodings/Cora_GDC.pkl...\n",
      "    Found them! Loading cached version\n",
      "[i] Looking for positional encodings in /home/xdoni4/m1p/graph-neural-pde/data/pos_encodings/Cora_GDC.pkl...\n",
      "    Found them! Loading cached version\n",
      "[i] Looking for positional encodings in /home/xdoni4/m1p/graph-neural-pde/data/pos_encodings/Cora_GDC.pkl...\n",
      "    Found them! Loading cached version\n",
      "[i] Looking for positional encodings in /home/xdoni4/m1p/graph-neural-pde/data/pos_encodings/Cora_GDC.pkl...\n",
      "    Found them! Loading cached version\n",
      "[i] Looking for positional encodings in /home/xdoni4/m1p/graph-neural-pde/data/pos_encodings/Cora_GDC.pkl...\n",
      "    Found them! Loading cached version\n",
      "[i] Looking for positional encodings in /home/xdoni4/m1p/graph-neural-pde/data/pos_encodings/Cora_GDC.pkl...\n",
      "    Found them! Loading cached version\n",
      "[i] Looking for positional encodings in /home/xdoni4/m1p/graph-neural-pde/data/pos_encodings/Cora_GDC.pkl...\n",
      "    Found them! Loading cached version\n",
      "[i] Looking for positional encodings in /home/xdoni4/m1p/graph-neural-pde/data/pos_encodings/Cora_GDC.pkl...\n",
      "    Found them! Loading cached version\n",
      "[i] Looking for positional encodings in /home/xdoni4/m1p/graph-neural-pde/data/pos_encodings/Cora_GDC.pkl...\n",
      "    Found them! Loading cached version\n",
      "[i] Looking for positional encodings in /home/xdoni4/m1p/graph-neural-pde/data/pos_encodings/Cora_GDC.pkl...\n",
      "    Found them! Loading cached version\n",
      "[i] Looking for positional encodings in /home/xdoni4/m1p/graph-neural-pde/data/pos_encodings/Cora_GDC.pkl...\n",
      "    Found them! Loading cached version\n",
      "[i] Looking for positional encodings in /home/xdoni4/m1p/graph-neural-pde/data/pos_encodings/Cora_GDC.pkl...\n",
      "    Found them! Loading cached version\n",
      "[i] Looking for positional encodings in /home/xdoni4/m1p/graph-neural-pde/data/pos_encodings/Cora_GDC.pkl...\n",
      "    Found them! Loading cached version\n",
      "[i] Looking for positional encodings in /home/xdoni4/m1p/graph-neural-pde/data/pos_encodings/Cora_GDC.pkl...\n",
      "    Found them! Loading cached version\n",
      "[i] Looking for positional encodings in /home/xdoni4/m1p/graph-neural-pde/data/pos_encodings/Cora_GDC.pkl...\n",
      "    Found them! Loading cached version\n",
      "[i] Looking for positional encodings in /home/xdoni4/m1p/graph-neural-pde/data/pos_encodings/Cora_GDC.pkl...\n",
      "    Found them! Loading cached version\n",
      "[i] Looking for positional encodings in /home/xdoni4/m1p/graph-neural-pde/data/pos_encodings/Cora_GDC.pkl...\n",
      "    Found them! Loading cached version\n",
      "[i] Looking for positional encodings in /home/xdoni4/m1p/graph-neural-pde/data/pos_encodings/Cora_GDC.pkl...\n",
      "    Found them! Loading cached version\n",
      "[i] Looking for positional encodings in /home/xdoni4/m1p/graph-neural-pde/data/pos_encodings/Cora_GDC.pkl...\n",
      "    Found them! Loading cached version\n",
      "[i] Looking for positional encodings in /home/xdoni4/m1p/graph-neural-pde/data/pos_encodings/Cora_GDC.pkl...\n",
      "    Found them! Loading cached version\n",
      "[i] Looking for positional encodings in /home/xdoni4/m1p/graph-neural-pde/data/pos_encodings/Cora_GDC.pkl...\n",
      "    Found them! Loading cached version\n",
      "[i] Looking for positional encodings in /home/xdoni4/m1p/graph-neural-pde/data/pos_encodings/Cora_GDC.pkl...\n",
      "    Found them! Loading cached version\n",
      "[i] Looking for positional encodings in /home/xdoni4/m1p/graph-neural-pde/data/pos_encodings/Cora_GDC.pkl...\n",
      "    Found them! Loading cached version\n",
      "[i] Looking for positional encodings in /home/xdoni4/m1p/graph-neural-pde/data/pos_encodings/Cora_GDC.pkl...\n",
      "    Found them! Loading cached version\n",
      "[i] Looking for positional encodings in /home/xdoni4/m1p/graph-neural-pde/data/pos_encodings/Cora_GDC.pkl...\n",
      "    Found them! Loading cached version\n",
      "[i] Looking for positional encodings in /home/xdoni4/m1p/graph-neural-pde/data/pos_encodings/Cora_GDC.pkl...\n",
      "    Found them! Loading cached version\n",
      "[i] Looking for positional encodings in /home/xdoni4/m1p/graph-neural-pde/data/pos_encodings/Cora_GDC.pkl...\n",
      "    Found them! Loading cached version\n",
      "[i] Looking for positional encodings in /home/xdoni4/m1p/graph-neural-pde/data/pos_encodings/Cora_GDC.pkl...\n",
      "    Found them! Loading cached version\n",
      "[i] Looking for positional encodings in /home/xdoni4/m1p/graph-neural-pde/data/pos_encodings/Cora_GDC.pkl...\n",
      "    Found them! Loading cached version\n",
      "[i] Looking for positional encodings in /home/xdoni4/m1p/graph-neural-pde/data/pos_encodings/Cora_GDC.pkl...\n",
      "    Found them! Loading cached version\n",
      "[i] Looking for positional encodings in /home/xdoni4/m1p/graph-neural-pde/data/pos_encodings/Cora_GDC.pkl...\n",
      "    Found them! Loading cached version\n",
      "[i] Looking for positional encodings in /home/xdoni4/m1p/graph-neural-pde/data/pos_encodings/Cora_GDC.pkl...\n",
      "    Found them! Loading cached version\n",
      "[i] Looking for positional encodings in /home/xdoni4/m1p/graph-neural-pde/data/pos_encodings/Cora_GDC.pkl...\n",
      "    Found them! Loading cached version\n",
      "[i] Looking for positional encodings in /home/xdoni4/m1p/graph-neural-pde/data/pos_encodings/Cora_GDC.pkl...\n",
      "    Found them! Loading cached version\n",
      "[i] Looking for positional encodings in /home/xdoni4/m1p/graph-neural-pde/data/pos_encodings/Cora_GDC.pkl...\n",
      "    Found them! Loading cached version\n",
      "[i] Looking for positional encodings in /home/xdoni4/m1p/graph-neural-pde/data/pos_encodings/Cora_GDC.pkl...\n",
      "    Found them! Loading cached version\n",
      "[i] Looking for positional encodings in /home/xdoni4/m1p/graph-neural-pde/data/pos_encodings/Cora_GDC.pkl...\n",
      "    Found them! Loading cached version\n",
      "[i] Looking for positional encodings in /home/xdoni4/m1p/graph-neural-pde/data/pos_encodings/Cora_GDC.pkl...\n",
      "    Found them! Loading cached version\n",
      "[i] Looking for positional encodings in /home/xdoni4/m1p/graph-neural-pde/data/pos_encodings/Cora_GDC.pkl...\n",
      "    Found them! Loading cached version\n",
      "[i] Looking for positional encodings in /home/xdoni4/m1p/graph-neural-pde/data/pos_encodings/Cora_GDC.pkl...\n",
      "    Found them! Loading cached version\n",
      "[i] Looking for positional encodings in /home/xdoni4/m1p/graph-neural-pde/data/pos_encodings/Cora_GDC.pkl...\n",
      "    Found them! Loading cached version\n",
      "[i] Looking for positional encodings in /home/xdoni4/m1p/graph-neural-pde/data/pos_encodings/Cora_GDC.pkl...\n",
      "    Found them! Loading cached version\n",
      "[i] Looking for positional encodings in /home/xdoni4/m1p/graph-neural-pde/data/pos_encodings/Cora_GDC.pkl...\n",
      "    Found them! Loading cached version\n",
      "[i] Looking for positional encodings in /home/xdoni4/m1p/graph-neural-pde/data/pos_encodings/Cora_GDC.pkl...\n",
      "    Found them! Loading cached version\n",
      "[i] Looking for positional encodings in /home/xdoni4/m1p/graph-neural-pde/data/pos_encodings/Cora_GDC.pkl...\n",
      "    Found them! Loading cached version\n",
      "[i] Looking for positional encodings in /home/xdoni4/m1p/graph-neural-pde/data/pos_encodings/Cora_GDC.pkl...\n",
      "    Found them! Loading cached version\n",
      "[i] Looking for positional encodings in /home/xdoni4/m1p/graph-neural-pde/data/pos_encodings/Cora_GDC.pkl...\n",
      "    Found them! Loading cached version\n",
      "[i] Looking for positional encodings in /home/xdoni4/m1p/graph-neural-pde/data/pos_encodings/Cora_GDC.pkl...\n",
      "    Found them! Loading cached version\n",
      "[i] Looking for positional encodings in /home/xdoni4/m1p/graph-neural-pde/data/pos_encodings/Cora_GDC.pkl...\n",
      "    Found them! Loading cached version\n",
      "[i] Looking for positional encodings in /home/xdoni4/m1p/graph-neural-pde/data/pos_encodings/Cora_GDC.pkl...\n",
      "    Found them! Loading cached version\n"
     ]
    },
    {
     "name": "stderr",
     "output_type": "stream",
     "text": [
      "  0%|          | 0/89 [00:00<?, ?it/s]/home/xdoni4/miniconda3/envs/m1p/lib/python3.9/site-packages/torchdiffeq/_impl/misc.py:11: UserWarning: Dopri5Solver: Unexpected arguments {'step_size': 1, 'max_iters': 100}\n",
      "  warnings.warn('{}: Unexpected arguments {}'.format(solver.__class__.__name__, unused_kwargs))\n",
      "100%|██████████| 89/89 [20:16<00:00, 13.67s/it]\n"
     ]
    },
    {
     "name": "stdout",
     "output_type": "stream",
     "text": [
      "TRAIN: epoch = 1, loss = 0.659, accuracy = 0.629, f1 = 0.605\n"
     ]
    },
    {
     "name": "stderr",
     "output_type": "stream",
     "text": [
      "/home/xdoni4/miniconda3/envs/m1p/lib/python3.9/site-packages/torchdiffeq/_impl/misc.py:11: UserWarning: Dopri5Solver: Unexpected arguments {'step_size': 1, 'max_iters': 100}\n",
      "  warnings.warn('{}: Unexpected arguments {}'.format(solver.__class__.__name__, unused_kwargs))\n"
     ]
    },
    {
     "name": "stdout",
     "output_type": "stream",
     "text": [
      "TEST: loss = 0.621, accuracy = 0.7, f1 = 0.558\n",
      "--------------------------------------------------\n",
      "\n",
      "===================================================================================\n",
      "\n",
      "Building adjacencies T=15\n"
     ]
    },
    {
     "name": "stderr",
     "output_type": "stream",
     "text": [
      "100%|██████████| 89/89 [00:05<00:00, 16.84it/s]\n"
     ]
    },
    {
     "name": "stdout",
     "output_type": "stream",
     "text": [
      "(89, 241, 32, 32)\n"
     ]
    },
    {
     "name": "stderr",
     "output_type": "stream",
     "text": [
      "100%|██████████| 30/30 [00:01<00:00, 18.59it/s]\n"
     ]
    },
    {
     "name": "stdout",
     "output_type": "stream",
     "text": [
      "(30, 241, 32, 32)\n",
      "T=15, alpha=0.5, NF=5, sigma=0\n",
      "Running GCN\n",
      "241\n",
      "\n",
      "===================================================================================\n",
      "\n"
     ]
    },
    {
     "name": "stderr",
     "output_type": "stream",
     "text": [
      "100%|██████████| 89/89 [00:06<00:00, 14.65it/s]\n"
     ]
    },
    {
     "name": "stdout",
     "output_type": "stream",
     "text": [
      "TRAIN: epoch = 1, loss = 0.71, accuracy = 0.449, f1 = 0.445\n",
      "TEST: loss = 0.67, accuracy = 0.6, f1 = 0.55\n",
      "--------------------------------------------------\n"
     ]
    },
    {
     "name": "stderr",
     "output_type": "stream",
     "text": [
      "100%|██████████| 89/89 [00:05<00:00, 15.14it/s]\n"
     ]
    },
    {
     "name": "stdout",
     "output_type": "stream",
     "text": [
      "TRAIN: epoch = 2, loss = 0.604, accuracy = 0.764, f1 = 0.729\n",
      "TEST: loss = 0.642, accuracy = 0.633, f1 = 0.511\n",
      "--------------------------------------------------\n"
     ]
    },
    {
     "name": "stderr",
     "output_type": "stream",
     "text": [
      "100%|██████████| 89/89 [00:06<00:00, 13.86it/s]\n"
     ]
    },
    {
     "name": "stdout",
     "output_type": "stream",
     "text": [
      "TRAIN: epoch = 3, loss = 0.522, accuracy = 0.787, f1 = 0.745\n",
      "TEST: loss = 0.633, accuracy = 0.633, f1 = 0.511\n",
      "--------------------------------------------------\n"
     ]
    },
    {
     "name": "stderr",
     "output_type": "stream",
     "text": [
      "100%|██████████| 89/89 [00:12<00:00,  7.14it/s]\n"
     ]
    },
    {
     "name": "stdout",
     "output_type": "stream",
     "text": [
      "TRAIN: epoch = 4, loss = 0.469, accuracy = 0.798, f1 = 0.774\n",
      "TEST: loss = 0.625, accuracy = 0.633, f1 = 0.511\n",
      "--------------------------------------------------\n"
     ]
    },
    {
     "name": "stderr",
     "output_type": "stream",
     "text": [
      "100%|██████████| 89/89 [00:06<00:00, 14.46it/s]\n"
     ]
    },
    {
     "name": "stdout",
     "output_type": "stream",
     "text": [
      "TRAIN: epoch = 5, loss = 0.403, accuracy = 0.888, f1 = 0.87\n",
      "TEST: loss = 0.608, accuracy = 0.633, f1 = 0.576\n",
      "--------------------------------------------------\n"
     ]
    },
    {
     "name": "stderr",
     "output_type": "stream",
     "text": [
      "100%|██████████| 89/89 [00:06<00:00, 13.74it/s]\n"
     ]
    },
    {
     "name": "stdout",
     "output_type": "stream",
     "text": [
      "TRAIN: epoch = 6, loss = 0.372, accuracy = 0.899, f1 = 0.888\n",
      "TEST: loss = 0.594, accuracy = 0.633, f1 = 0.576\n",
      "--------------------------------------------------\n"
     ]
    },
    {
     "name": "stderr",
     "output_type": "stream",
     "text": [
      "100%|██████████| 89/89 [00:13<00:00,  6.57it/s]\n"
     ]
    },
    {
     "name": "stdout",
     "output_type": "stream",
     "text": [
      "TRAIN: epoch = 7, loss = 0.335, accuracy = 0.921, f1 = 0.911\n",
      "TEST: loss = 0.584, accuracy = 0.667, f1 = 0.625\n",
      "--------------------------------------------------\n"
     ]
    },
    {
     "name": "stderr",
     "output_type": "stream",
     "text": [
      "100%|██████████| 89/89 [00:13<00:00,  6.67it/s]\n"
     ]
    },
    {
     "name": "stdout",
     "output_type": "stream",
     "text": [
      "TRAIN: epoch = 8, loss = 0.252, accuracy = 0.978, f1 = 0.976\n",
      "TEST: loss = 0.59, accuracy = 0.633, f1 = 0.549\n",
      "--------------------------------------------------\n"
     ]
    },
    {
     "name": "stderr",
     "output_type": "stream",
     "text": [
      "100%|██████████| 89/89 [00:06<00:00, 12.85it/s]\n"
     ]
    },
    {
     "name": "stdout",
     "output_type": "stream",
     "text": [
      "TRAIN: epoch = 9, loss = 0.202, accuracy = 0.966, f1 = 0.963\n",
      "TEST: loss = 0.597, accuracy = 0.667, f1 = 0.625\n",
      "--------------------------------------------------\n"
     ]
    },
    {
     "name": "stderr",
     "output_type": "stream",
     "text": [
      "100%|██████████| 89/89 [00:12<00:00,  6.92it/s]\n"
     ]
    },
    {
     "name": "stdout",
     "output_type": "stream",
     "text": [
      "TRAIN: epoch = 10, loss = 0.171, accuracy = 0.989, f1 = 0.988\n",
      "TEST: loss = 0.615, accuracy = 0.633, f1 = 0.576\n",
      "--------------------------------------------------\n",
      "\n",
      "===================================================================================\n",
      "\n",
      "Running GRAND\n",
      "241\n",
      "\n",
      "===================================================================================\n",
      "\n"
     ]
    },
    {
     "name": "stderr",
     "output_type": "stream",
     "text": [
      "  0%|          | 0/89 [00:00<?, ?it/s]/home/xdoni4/miniconda3/envs/m1p/lib/python3.9/site-packages/torchdiffeq/_impl/misc.py:11: UserWarning: Dopri5Solver: Unexpected arguments {'step_size': 1, 'max_iters': 100}\n",
      "  warnings.warn('{}: Unexpected arguments {}'.format(solver.__class__.__name__, unused_kwargs))\n",
      "100%|██████████| 89/89 [17:26<00:00, 11.76s/it]\n"
     ]
    },
    {
     "name": "stdout",
     "output_type": "stream",
     "text": [
      "TRAIN: epoch = 1, loss = 0.706, accuracy = 0.483, f1 = 0.48\n"
     ]
    },
    {
     "name": "stderr",
     "output_type": "stream",
     "text": [
      "/home/xdoni4/miniconda3/envs/m1p/lib/python3.9/site-packages/torchdiffeq/_impl/misc.py:11: UserWarning: Dopri5Solver: Unexpected arguments {'step_size': 1, 'max_iters': 100}\n",
      "  warnings.warn('{}: Unexpected arguments {}'.format(solver.__class__.__name__, unused_kwargs))\n"
     ]
    },
    {
     "name": "stdout",
     "output_type": "stream",
     "text": [
      "TEST: loss = 0.678, accuracy = 0.567, f1 = 0.466\n",
      "--------------------------------------------------\n"
     ]
    },
    {
     "name": "stderr",
     "output_type": "stream",
     "text": [
      "  0%|          | 0/89 [00:00<?, ?it/s]/home/xdoni4/miniconda3/envs/m1p/lib/python3.9/site-packages/torchdiffeq/_impl/misc.py:11: UserWarning: Dopri5Solver: Unexpected arguments {'step_size': 1, 'max_iters': 100}\n",
      "  warnings.warn('{}: Unexpected arguments {}'.format(solver.__class__.__name__, unused_kwargs))\n",
      "100%|██████████| 89/89 [16:56<00:00, 11.42s/it]\n"
     ]
    },
    {
     "name": "stdout",
     "output_type": "stream",
     "text": [
      "TRAIN: epoch = 2, loss = 0.596, accuracy = 0.764, f1 = 0.711\n"
     ]
    },
    {
     "name": "stderr",
     "output_type": "stream",
     "text": [
      "/home/xdoni4/miniconda3/envs/m1p/lib/python3.9/site-packages/torchdiffeq/_impl/misc.py:11: UserWarning: Dopri5Solver: Unexpected arguments {'step_size': 1, 'max_iters': 100}\n",
      "  warnings.warn('{}: Unexpected arguments {}'.format(solver.__class__.__name__, unused_kwargs))\n"
     ]
    },
    {
     "name": "stdout",
     "output_type": "stream",
     "text": [
      "TEST: loss = 0.642, accuracy = 0.667, f1 = 0.534\n",
      "--------------------------------------------------\n"
     ]
    },
    {
     "name": "stderr",
     "output_type": "stream",
     "text": [
      "  0%|          | 0/89 [00:00<?, ?it/s]/home/xdoni4/miniconda3/envs/m1p/lib/python3.9/site-packages/torchdiffeq/_impl/misc.py:11: UserWarning: Dopri5Solver: Unexpected arguments {'step_size': 1, 'max_iters': 100}\n",
      "  warnings.warn('{}: Unexpected arguments {}'.format(solver.__class__.__name__, unused_kwargs))\n",
      "100%|██████████| 89/89 [16:32<00:00, 11.16s/it]\n"
     ]
    },
    {
     "name": "stdout",
     "output_type": "stream",
     "text": [
      "TRAIN: epoch = 3, loss = 0.532, accuracy = 0.764, f1 = 0.711\n"
     ]
    },
    {
     "name": "stderr",
     "output_type": "stream",
     "text": [
      "/home/xdoni4/miniconda3/envs/m1p/lib/python3.9/site-packages/torchdiffeq/_impl/misc.py:11: UserWarning: Dopri5Solver: Unexpected arguments {'step_size': 1, 'max_iters': 100}\n",
      "  warnings.warn('{}: Unexpected arguments {}'.format(solver.__class__.__name__, unused_kwargs))\n"
     ]
    },
    {
     "name": "stdout",
     "output_type": "stream",
     "text": [
      "TEST: loss = 0.625, accuracy = 0.667, f1 = 0.574\n",
      "--------------------------------------------------\n",
      "\n",
      "===================================================================================\n",
      "\n",
      "Running BLEND\n",
      "241\n",
      "\n",
      "===================================================================================\n",
      "\n",
      "[i] Looking for positional encodings in /home/xdoni4/m1p/graph-neural-pde/data/pos_encodings/Cora_GDC.pkl...\n",
      "    Found them! Loading cached version\n",
      "[i] Looking for positional encodings in /home/xdoni4/m1p/graph-neural-pde/data/pos_encodings/Cora_GDC.pkl...\n",
      "    Found them! Loading cached version\n",
      "[i] Looking for positional encodings in /home/xdoni4/m1p/graph-neural-pde/data/pos_encodings/Cora_GDC.pkl...\n",
      "    Found them! Loading cached version\n",
      "[i] Looking for positional encodings in /home/xdoni4/m1p/graph-neural-pde/data/pos_encodings/Cora_GDC.pkl...\n",
      "    Found them! Loading cached version\n",
      "[i] Looking for positional encodings in /home/xdoni4/m1p/graph-neural-pde/data/pos_encodings/Cora_GDC.pkl...\n",
      "    Found them! Loading cached version\n",
      "[i] Looking for positional encodings in /home/xdoni4/m1p/graph-neural-pde/data/pos_encodings/Cora_GDC.pkl...\n",
      "    Found them! Loading cached version\n",
      "[i] Looking for positional encodings in /home/xdoni4/m1p/graph-neural-pde/data/pos_encodings/Cora_GDC.pkl...\n",
      "    Found them! Loading cached version\n",
      "[i] Looking for positional encodings in /home/xdoni4/m1p/graph-neural-pde/data/pos_encodings/Cora_GDC.pkl...\n",
      "    Found them! Loading cached version\n",
      "[i] Looking for positional encodings in /home/xdoni4/m1p/graph-neural-pde/data/pos_encodings/Cora_GDC.pkl...\n",
      "    Found them! Loading cached version\n",
      "[i] Looking for positional encodings in /home/xdoni4/m1p/graph-neural-pde/data/pos_encodings/Cora_GDC.pkl...\n",
      "    Found them! Loading cached version\n",
      "[i] Looking for positional encodings in /home/xdoni4/m1p/graph-neural-pde/data/pos_encodings/Cora_GDC.pkl...\n",
      "    Found them! Loading cached version\n",
      "[i] Looking for positional encodings in /home/xdoni4/m1p/graph-neural-pde/data/pos_encodings/Cora_GDC.pkl...\n",
      "    Found them! Loading cached version\n",
      "[i] Looking for positional encodings in /home/xdoni4/m1p/graph-neural-pde/data/pos_encodings/Cora_GDC.pkl...\n",
      "    Found them! Loading cached version\n",
      "[i] Looking for positional encodings in /home/xdoni4/m1p/graph-neural-pde/data/pos_encodings/Cora_GDC.pkl...\n",
      "    Found them! Loading cached version\n",
      "[i] Looking for positional encodings in /home/xdoni4/m1p/graph-neural-pde/data/pos_encodings/Cora_GDC.pkl...\n",
      "    Found them! Loading cached version\n",
      "[i] Looking for positional encodings in /home/xdoni4/m1p/graph-neural-pde/data/pos_encodings/Cora_GDC.pkl...\n",
      "    Found them! Loading cached version\n",
      "[i] Looking for positional encodings in /home/xdoni4/m1p/graph-neural-pde/data/pos_encodings/Cora_GDC.pkl...\n",
      "    Found them! Loading cached version\n",
      "[i] Looking for positional encodings in /home/xdoni4/m1p/graph-neural-pde/data/pos_encodings/Cora_GDC.pkl...\n",
      "    Found them! Loading cached version\n",
      "[i] Looking for positional encodings in /home/xdoni4/m1p/graph-neural-pde/data/pos_encodings/Cora_GDC.pkl...\n",
      "    Found them! Loading cached version\n",
      "[i] Looking for positional encodings in /home/xdoni4/m1p/graph-neural-pde/data/pos_encodings/Cora_GDC.pkl...\n",
      "    Found them! Loading cached version\n",
      "[i] Looking for positional encodings in /home/xdoni4/m1p/graph-neural-pde/data/pos_encodings/Cora_GDC.pkl...\n",
      "    Found them! Loading cached version\n",
      "[i] Looking for positional encodings in /home/xdoni4/m1p/graph-neural-pde/data/pos_encodings/Cora_GDC.pkl...\n",
      "    Found them! Loading cached version\n",
      "[i] Looking for positional encodings in /home/xdoni4/m1p/graph-neural-pde/data/pos_encodings/Cora_GDC.pkl...\n",
      "    Found them! Loading cached version\n",
      "[i] Looking for positional encodings in /home/xdoni4/m1p/graph-neural-pde/data/pos_encodings/Cora_GDC.pkl...\n",
      "    Found them! Loading cached version\n",
      "[i] Looking for positional encodings in /home/xdoni4/m1p/graph-neural-pde/data/pos_encodings/Cora_GDC.pkl...\n",
      "    Found them! Loading cached version\n",
      "[i] Looking for positional encodings in /home/xdoni4/m1p/graph-neural-pde/data/pos_encodings/Cora_GDC.pkl...\n",
      "    Found them! Loading cached version\n",
      "[i] Looking for positional encodings in /home/xdoni4/m1p/graph-neural-pde/data/pos_encodings/Cora_GDC.pkl...\n",
      "    Found them! Loading cached version\n",
      "[i] Looking for positional encodings in /home/xdoni4/m1p/graph-neural-pde/data/pos_encodings/Cora_GDC.pkl...\n",
      "    Found them! Loading cached version\n",
      "[i] Looking for positional encodings in /home/xdoni4/m1p/graph-neural-pde/data/pos_encodings/Cora_GDC.pkl...\n",
      "    Found them! Loading cached version\n",
      "[i] Looking for positional encodings in /home/xdoni4/m1p/graph-neural-pde/data/pos_encodings/Cora_GDC.pkl...\n",
      "    Found them! Loading cached version\n",
      "[i] Looking for positional encodings in /home/xdoni4/m1p/graph-neural-pde/data/pos_encodings/Cora_GDC.pkl...\n",
      "    Found them! Loading cached version\n",
      "[i] Looking for positional encodings in /home/xdoni4/m1p/graph-neural-pde/data/pos_encodings/Cora_GDC.pkl...\n",
      "    Found them! Loading cached version\n",
      "[i] Looking for positional encodings in /home/xdoni4/m1p/graph-neural-pde/data/pos_encodings/Cora_GDC.pkl...\n",
      "    Found them! Loading cached version\n",
      "[i] Looking for positional encodings in /home/xdoni4/m1p/graph-neural-pde/data/pos_encodings/Cora_GDC.pkl...\n",
      "    Found them! Loading cached version\n",
      "[i] Looking for positional encodings in /home/xdoni4/m1p/graph-neural-pde/data/pos_encodings/Cora_GDC.pkl...\n",
      "    Found them! Loading cached version\n",
      "[i] Looking for positional encodings in /home/xdoni4/m1p/graph-neural-pde/data/pos_encodings/Cora_GDC.pkl...\n",
      "    Found them! Loading cached version\n",
      "[i] Looking for positional encodings in /home/xdoni4/m1p/graph-neural-pde/data/pos_encodings/Cora_GDC.pkl...\n",
      "    Found them! Loading cached version\n",
      "[i] Looking for positional encodings in /home/xdoni4/m1p/graph-neural-pde/data/pos_encodings/Cora_GDC.pkl...\n",
      "    Found them! Loading cached version\n",
      "[i] Looking for positional encodings in /home/xdoni4/m1p/graph-neural-pde/data/pos_encodings/Cora_GDC.pkl...\n",
      "    Found them! Loading cached version\n",
      "[i] Looking for positional encodings in /home/xdoni4/m1p/graph-neural-pde/data/pos_encodings/Cora_GDC.pkl...\n",
      "    Found them! Loading cached version\n",
      "[i] Looking for positional encodings in /home/xdoni4/m1p/graph-neural-pde/data/pos_encodings/Cora_GDC.pkl...\n",
      "    Found them! Loading cached version\n",
      "[i] Looking for positional encodings in /home/xdoni4/m1p/graph-neural-pde/data/pos_encodings/Cora_GDC.pkl...\n",
      "    Found them! Loading cached version\n",
      "[i] Looking for positional encodings in /home/xdoni4/m1p/graph-neural-pde/data/pos_encodings/Cora_GDC.pkl...\n",
      "    Found them! Loading cached version\n",
      "[i] Looking for positional encodings in /home/xdoni4/m1p/graph-neural-pde/data/pos_encodings/Cora_GDC.pkl...\n",
      "    Found them! Loading cached version\n",
      "[i] Looking for positional encodings in /home/xdoni4/m1p/graph-neural-pde/data/pos_encodings/Cora_GDC.pkl...\n",
      "    Found them! Loading cached version\n",
      "[i] Looking for positional encodings in /home/xdoni4/m1p/graph-neural-pde/data/pos_encodings/Cora_GDC.pkl...\n",
      "    Found them! Loading cached version\n",
      "[i] Looking for positional encodings in /home/xdoni4/m1p/graph-neural-pde/data/pos_encodings/Cora_GDC.pkl...\n",
      "    Found them! Loading cached version\n",
      "[i] Looking for positional encodings in /home/xdoni4/m1p/graph-neural-pde/data/pos_encodings/Cora_GDC.pkl...\n",
      "    Found them! Loading cached version\n",
      "[i] Looking for positional encodings in /home/xdoni4/m1p/graph-neural-pde/data/pos_encodings/Cora_GDC.pkl...\n",
      "    Found them! Loading cached version\n",
      "[i] Looking for positional encodings in /home/xdoni4/m1p/graph-neural-pde/data/pos_encodings/Cora_GDC.pkl...\n",
      "    Found them! Loading cached version\n",
      "[i] Looking for positional encodings in /home/xdoni4/m1p/graph-neural-pde/data/pos_encodings/Cora_GDC.pkl...\n",
      "    Found them! Loading cached version\n",
      "[i] Looking for positional encodings in /home/xdoni4/m1p/graph-neural-pde/data/pos_encodings/Cora_GDC.pkl...\n",
      "    Found them! Loading cached version\n",
      "[i] Looking for positional encodings in /home/xdoni4/m1p/graph-neural-pde/data/pos_encodings/Cora_GDC.pkl...\n",
      "    Found them! Loading cached version\n",
      "[i] Looking for positional encodings in /home/xdoni4/m1p/graph-neural-pde/data/pos_encodings/Cora_GDC.pkl...\n",
      "    Found them! Loading cached version\n",
      "[i] Looking for positional encodings in /home/xdoni4/m1p/graph-neural-pde/data/pos_encodings/Cora_GDC.pkl...\n",
      "    Found them! Loading cached version\n",
      "[i] Looking for positional encodings in /home/xdoni4/m1p/graph-neural-pde/data/pos_encodings/Cora_GDC.pkl...\n",
      "    Found them! Loading cached version\n",
      "[i] Looking for positional encodings in /home/xdoni4/m1p/graph-neural-pde/data/pos_encodings/Cora_GDC.pkl...\n",
      "    Found them! Loading cached version\n",
      "[i] Looking for positional encodings in /home/xdoni4/m1p/graph-neural-pde/data/pos_encodings/Cora_GDC.pkl...\n",
      "    Found them! Loading cached version\n",
      "[i] Looking for positional encodings in /home/xdoni4/m1p/graph-neural-pde/data/pos_encodings/Cora_GDC.pkl...\n",
      "    Found them! Loading cached version\n",
      "[i] Looking for positional encodings in /home/xdoni4/m1p/graph-neural-pde/data/pos_encodings/Cora_GDC.pkl...\n",
      "    Found them! Loading cached version\n",
      "[i] Looking for positional encodings in /home/xdoni4/m1p/graph-neural-pde/data/pos_encodings/Cora_GDC.pkl...\n",
      "    Found them! Loading cached version\n",
      "[i] Looking for positional encodings in /home/xdoni4/m1p/graph-neural-pde/data/pos_encodings/Cora_GDC.pkl...\n",
      "    Found them! Loading cached version\n",
      "[i] Looking for positional encodings in /home/xdoni4/m1p/graph-neural-pde/data/pos_encodings/Cora_GDC.pkl...\n",
      "    Found them! Loading cached version\n",
      "[i] Looking for positional encodings in /home/xdoni4/m1p/graph-neural-pde/data/pos_encodings/Cora_GDC.pkl...\n",
      "    Found them! Loading cached version\n",
      "[i] Looking for positional encodings in /home/xdoni4/m1p/graph-neural-pde/data/pos_encodings/Cora_GDC.pkl...\n",
      "    Found them! Loading cached version\n",
      "[i] Looking for positional encodings in /home/xdoni4/m1p/graph-neural-pde/data/pos_encodings/Cora_GDC.pkl...\n",
      "    Found them! Loading cached version\n",
      "[i] Looking for positional encodings in /home/xdoni4/m1p/graph-neural-pde/data/pos_encodings/Cora_GDC.pkl...\n",
      "    Found them! Loading cached version\n",
      "[i] Looking for positional encodings in /home/xdoni4/m1p/graph-neural-pde/data/pos_encodings/Cora_GDC.pkl...\n",
      "    Found them! Loading cached version\n",
      "[i] Looking for positional encodings in /home/xdoni4/m1p/graph-neural-pde/data/pos_encodings/Cora_GDC.pkl...\n",
      "    Found them! Loading cached version\n",
      "[i] Looking for positional encodings in /home/xdoni4/m1p/graph-neural-pde/data/pos_encodings/Cora_GDC.pkl...\n",
      "    Found them! Loading cached version\n",
      "[i] Looking for positional encodings in /home/xdoni4/m1p/graph-neural-pde/data/pos_encodings/Cora_GDC.pkl...\n",
      "    Found them! Loading cached version\n",
      "[i] Looking for positional encodings in /home/xdoni4/m1p/graph-neural-pde/data/pos_encodings/Cora_GDC.pkl...\n",
      "    Found them! Loading cached version\n",
      "[i] Looking for positional encodings in /home/xdoni4/m1p/graph-neural-pde/data/pos_encodings/Cora_GDC.pkl...\n",
      "    Found them! Loading cached version\n",
      "[i] Looking for positional encodings in /home/xdoni4/m1p/graph-neural-pde/data/pos_encodings/Cora_GDC.pkl...\n",
      "    Found them! Loading cached version\n",
      "[i] Looking for positional encodings in /home/xdoni4/m1p/graph-neural-pde/data/pos_encodings/Cora_GDC.pkl...\n",
      "    Found them! Loading cached version\n",
      "[i] Looking for positional encodings in /home/xdoni4/m1p/graph-neural-pde/data/pos_encodings/Cora_GDC.pkl...\n",
      "    Found them! Loading cached version\n",
      "[i] Looking for positional encodings in /home/xdoni4/m1p/graph-neural-pde/data/pos_encodings/Cora_GDC.pkl...\n",
      "    Found them! Loading cached version\n",
      "[i] Looking for positional encodings in /home/xdoni4/m1p/graph-neural-pde/data/pos_encodings/Cora_GDC.pkl...\n",
      "    Found them! Loading cached version\n",
      "[i] Looking for positional encodings in /home/xdoni4/m1p/graph-neural-pde/data/pos_encodings/Cora_GDC.pkl...\n",
      "    Found them! Loading cached version\n",
      "[i] Looking for positional encodings in /home/xdoni4/m1p/graph-neural-pde/data/pos_encodings/Cora_GDC.pkl...\n",
      "    Found them! Loading cached version\n",
      "[i] Looking for positional encodings in /home/xdoni4/m1p/graph-neural-pde/data/pos_encodings/Cora_GDC.pkl...\n",
      "    Found them! Loading cached version\n",
      "[i] Looking for positional encodings in /home/xdoni4/m1p/graph-neural-pde/data/pos_encodings/Cora_GDC.pkl...\n",
      "    Found them! Loading cached version\n",
      "[i] Looking for positional encodings in /home/xdoni4/m1p/graph-neural-pde/data/pos_encodings/Cora_GDC.pkl...\n",
      "    Found them! Loading cached version\n",
      "[i] Looking for positional encodings in /home/xdoni4/m1p/graph-neural-pde/data/pos_encodings/Cora_GDC.pkl...\n",
      "    Found them! Loading cached version\n",
      "[i] Looking for positional encodings in /home/xdoni4/m1p/graph-neural-pde/data/pos_encodings/Cora_GDC.pkl...\n",
      "    Found them! Loading cached version\n",
      "[i] Looking for positional encodings in /home/xdoni4/m1p/graph-neural-pde/data/pos_encodings/Cora_GDC.pkl...\n",
      "    Found them! Loading cached version\n",
      "[i] Looking for positional encodings in /home/xdoni4/m1p/graph-neural-pde/data/pos_encodings/Cora_GDC.pkl...\n",
      "    Found them! Loading cached version\n",
      "[i] Looking for positional encodings in /home/xdoni4/m1p/graph-neural-pde/data/pos_encodings/Cora_GDC.pkl...\n",
      "    Found them! Loading cached version\n",
      "[i] Looking for positional encodings in /home/xdoni4/m1p/graph-neural-pde/data/pos_encodings/Cora_GDC.pkl...\n",
      "    Found them! Loading cached version\n",
      "[i] Looking for positional encodings in /home/xdoni4/m1p/graph-neural-pde/data/pos_encodings/Cora_GDC.pkl...\n",
      "    Found them! Loading cached version\n",
      "[i] Looking for positional encodings in /home/xdoni4/m1p/graph-neural-pde/data/pos_encodings/Cora_GDC.pkl...\n",
      "    Found them! Loading cached version\n",
      "[i] Looking for positional encodings in /home/xdoni4/m1p/graph-neural-pde/data/pos_encodings/Cora_GDC.pkl...\n",
      "    Found them! Loading cached version\n",
      "[i] Looking for positional encodings in /home/xdoni4/m1p/graph-neural-pde/data/pos_encodings/Cora_GDC.pkl...\n",
      "    Found them! Loading cached version\n",
      "[i] Looking for positional encodings in /home/xdoni4/m1p/graph-neural-pde/data/pos_encodings/Cora_GDC.pkl...\n",
      "    Found them! Loading cached version\n",
      "[i] Looking for positional encodings in /home/xdoni4/m1p/graph-neural-pde/data/pos_encodings/Cora_GDC.pkl...\n",
      "    Found them! Loading cached version\n",
      "[i] Looking for positional encodings in /home/xdoni4/m1p/graph-neural-pde/data/pos_encodings/Cora_GDC.pkl...\n",
      "    Found them! Loading cached version\n",
      "[i] Looking for positional encodings in /home/xdoni4/m1p/graph-neural-pde/data/pos_encodings/Cora_GDC.pkl...\n",
      "    Found them! Loading cached version\n",
      "[i] Looking for positional encodings in /home/xdoni4/m1p/graph-neural-pde/data/pos_encodings/Cora_GDC.pkl...\n",
      "    Found them! Loading cached version\n",
      "[i] Looking for positional encodings in /home/xdoni4/m1p/graph-neural-pde/data/pos_encodings/Cora_GDC.pkl...\n",
      "    Found them! Loading cached version\n",
      "[i] Looking for positional encodings in /home/xdoni4/m1p/graph-neural-pde/data/pos_encodings/Cora_GDC.pkl...\n",
      "    Found them! Loading cached version\n",
      "[i] Looking for positional encodings in /home/xdoni4/m1p/graph-neural-pde/data/pos_encodings/Cora_GDC.pkl...\n",
      "    Found them! Loading cached version\n",
      "[i] Looking for positional encodings in /home/xdoni4/m1p/graph-neural-pde/data/pos_encodings/Cora_GDC.pkl...\n",
      "    Found them! Loading cached version\n",
      "[i] Looking for positional encodings in /home/xdoni4/m1p/graph-neural-pde/data/pos_encodings/Cora_GDC.pkl...\n",
      "    Found them! Loading cached version\n",
      "[i] Looking for positional encodings in /home/xdoni4/m1p/graph-neural-pde/data/pos_encodings/Cora_GDC.pkl...\n",
      "    Found them! Loading cached version\n",
      "[i] Looking for positional encodings in /home/xdoni4/m1p/graph-neural-pde/data/pos_encodings/Cora_GDC.pkl...\n",
      "    Found them! Loading cached version\n",
      "[i] Looking for positional encodings in /home/xdoni4/m1p/graph-neural-pde/data/pos_encodings/Cora_GDC.pkl...\n",
      "    Found them! Loading cached version\n",
      "[i] Looking for positional encodings in /home/xdoni4/m1p/graph-neural-pde/data/pos_encodings/Cora_GDC.pkl...\n",
      "    Found them! Loading cached version\n",
      "[i] Looking for positional encodings in /home/xdoni4/m1p/graph-neural-pde/data/pos_encodings/Cora_GDC.pkl...\n",
      "    Found them! Loading cached version\n",
      "[i] Looking for positional encodings in /home/xdoni4/m1p/graph-neural-pde/data/pos_encodings/Cora_GDC.pkl...\n",
      "    Found them! Loading cached version\n",
      "[i] Looking for positional encodings in /home/xdoni4/m1p/graph-neural-pde/data/pos_encodings/Cora_GDC.pkl...\n",
      "    Found them! Loading cached version\n",
      "[i] Looking for positional encodings in /home/xdoni4/m1p/graph-neural-pde/data/pos_encodings/Cora_GDC.pkl...\n",
      "    Found them! Loading cached version\n",
      "[i] Looking for positional encodings in /home/xdoni4/m1p/graph-neural-pde/data/pos_encodings/Cora_GDC.pkl...\n",
      "    Found them! Loading cached version\n",
      "[i] Looking for positional encodings in /home/xdoni4/m1p/graph-neural-pde/data/pos_encodings/Cora_GDC.pkl...\n",
      "    Found them! Loading cached version\n",
      "[i] Looking for positional encodings in /home/xdoni4/m1p/graph-neural-pde/data/pos_encodings/Cora_GDC.pkl...\n",
      "    Found them! Loading cached version\n",
      "[i] Looking for positional encodings in /home/xdoni4/m1p/graph-neural-pde/data/pos_encodings/Cora_GDC.pkl...\n",
      "    Found them! Loading cached version\n",
      "[i] Looking for positional encodings in /home/xdoni4/m1p/graph-neural-pde/data/pos_encodings/Cora_GDC.pkl...\n",
      "    Found them! Loading cached version\n",
      "[i] Looking for positional encodings in /home/xdoni4/m1p/graph-neural-pde/data/pos_encodings/Cora_GDC.pkl...\n",
      "    Found them! Loading cached version\n",
      "[i] Looking for positional encodings in /home/xdoni4/m1p/graph-neural-pde/data/pos_encodings/Cora_GDC.pkl...\n",
      "    Found them! Loading cached version\n",
      "[i] Looking for positional encodings in /home/xdoni4/m1p/graph-neural-pde/data/pos_encodings/Cora_GDC.pkl...\n",
      "    Found them! Loading cached version\n",
      "[i] Looking for positional encodings in /home/xdoni4/m1p/graph-neural-pde/data/pos_encodings/Cora_GDC.pkl...\n",
      "    Found them! Loading cached version\n",
      "[i] Looking for positional encodings in /home/xdoni4/m1p/graph-neural-pde/data/pos_encodings/Cora_GDC.pkl...\n",
      "    Found them! Loading cached version\n",
      "[i] Looking for positional encodings in /home/xdoni4/m1p/graph-neural-pde/data/pos_encodings/Cora_GDC.pkl...\n",
      "    Found them! Loading cached version\n",
      "[i] Looking for positional encodings in /home/xdoni4/m1p/graph-neural-pde/data/pos_encodings/Cora_GDC.pkl...\n",
      "    Found them! Loading cached version\n",
      "[i] Looking for positional encodings in /home/xdoni4/m1p/graph-neural-pde/data/pos_encodings/Cora_GDC.pkl...\n",
      "    Found them! Loading cached version\n",
      "[i] Looking for positional encodings in /home/xdoni4/m1p/graph-neural-pde/data/pos_encodings/Cora_GDC.pkl...\n",
      "    Found them! Loading cached version\n",
      "[i] Looking for positional encodings in /home/xdoni4/m1p/graph-neural-pde/data/pos_encodings/Cora_GDC.pkl...\n",
      "    Found them! Loading cached version\n",
      "[i] Looking for positional encodings in /home/xdoni4/m1p/graph-neural-pde/data/pos_encodings/Cora_GDC.pkl...\n",
      "    Found them! Loading cached version\n",
      "[i] Looking for positional encodings in /home/xdoni4/m1p/graph-neural-pde/data/pos_encodings/Cora_GDC.pkl...\n",
      "    Found them! Loading cached version\n",
      "[i] Looking for positional encodings in /home/xdoni4/m1p/graph-neural-pde/data/pos_encodings/Cora_GDC.pkl...\n",
      "    Found them! Loading cached version\n",
      "[i] Looking for positional encodings in /home/xdoni4/m1p/graph-neural-pde/data/pos_encodings/Cora_GDC.pkl...\n",
      "    Found them! Loading cached version\n",
      "[i] Looking for positional encodings in /home/xdoni4/m1p/graph-neural-pde/data/pos_encodings/Cora_GDC.pkl...\n",
      "    Found them! Loading cached version\n",
      "[i] Looking for positional encodings in /home/xdoni4/m1p/graph-neural-pde/data/pos_encodings/Cora_GDC.pkl...\n",
      "    Found them! Loading cached version\n",
      "[i] Looking for positional encodings in /home/xdoni4/m1p/graph-neural-pde/data/pos_encodings/Cora_GDC.pkl...\n",
      "    Found them! Loading cached version\n",
      "[i] Looking for positional encodings in /home/xdoni4/m1p/graph-neural-pde/data/pos_encodings/Cora_GDC.pkl...\n",
      "    Found them! Loading cached version\n",
      "[i] Looking for positional encodings in /home/xdoni4/m1p/graph-neural-pde/data/pos_encodings/Cora_GDC.pkl...\n",
      "    Found them! Loading cached version\n",
      "[i] Looking for positional encodings in /home/xdoni4/m1p/graph-neural-pde/data/pos_encodings/Cora_GDC.pkl...\n",
      "    Found them! Loading cached version\n",
      "[i] Looking for positional encodings in /home/xdoni4/m1p/graph-neural-pde/data/pos_encodings/Cora_GDC.pkl...\n",
      "    Found them! Loading cached version\n",
      "[i] Looking for positional encodings in /home/xdoni4/m1p/graph-neural-pde/data/pos_encodings/Cora_GDC.pkl...\n",
      "    Found them! Loading cached version\n",
      "[i] Looking for positional encodings in /home/xdoni4/m1p/graph-neural-pde/data/pos_encodings/Cora_GDC.pkl...\n",
      "    Found them! Loading cached version\n",
      "[i] Looking for positional encodings in /home/xdoni4/m1p/graph-neural-pde/data/pos_encodings/Cora_GDC.pkl...\n",
      "    Found them! Loading cached version\n",
      "[i] Looking for positional encodings in /home/xdoni4/m1p/graph-neural-pde/data/pos_encodings/Cora_GDC.pkl...\n",
      "    Found them! Loading cached version\n",
      "[i] Looking for positional encodings in /home/xdoni4/m1p/graph-neural-pde/data/pos_encodings/Cora_GDC.pkl...\n",
      "    Found them! Loading cached version\n",
      "[i] Looking for positional encodings in /home/xdoni4/m1p/graph-neural-pde/data/pos_encodings/Cora_GDC.pkl...\n",
      "    Found them! Loading cached version\n",
      "[i] Looking for positional encodings in /home/xdoni4/m1p/graph-neural-pde/data/pos_encodings/Cora_GDC.pkl...\n",
      "    Found them! Loading cached version\n",
      "[i] Looking for positional encodings in /home/xdoni4/m1p/graph-neural-pde/data/pos_encodings/Cora_GDC.pkl...\n",
      "    Found them! Loading cached version\n",
      "[i] Looking for positional encodings in /home/xdoni4/m1p/graph-neural-pde/data/pos_encodings/Cora_GDC.pkl...\n",
      "    Found them! Loading cached version\n",
      "[i] Looking for positional encodings in /home/xdoni4/m1p/graph-neural-pde/data/pos_encodings/Cora_GDC.pkl...\n",
      "    Found them! Loading cached version\n",
      "[i] Looking for positional encodings in /home/xdoni4/m1p/graph-neural-pde/data/pos_encodings/Cora_GDC.pkl...\n",
      "    Found them! Loading cached version\n",
      "[i] Looking for positional encodings in /home/xdoni4/m1p/graph-neural-pde/data/pos_encodings/Cora_GDC.pkl...\n",
      "    Found them! Loading cached version\n",
      "[i] Looking for positional encodings in /home/xdoni4/m1p/graph-neural-pde/data/pos_encodings/Cora_GDC.pkl...\n",
      "    Found them! Loading cached version\n",
      "[i] Looking for positional encodings in /home/xdoni4/m1p/graph-neural-pde/data/pos_encodings/Cora_GDC.pkl...\n",
      "    Found them! Loading cached version\n",
      "[i] Looking for positional encodings in /home/xdoni4/m1p/graph-neural-pde/data/pos_encodings/Cora_GDC.pkl...\n",
      "    Found them! Loading cached version\n",
      "[i] Looking for positional encodings in /home/xdoni4/m1p/graph-neural-pde/data/pos_encodings/Cora_GDC.pkl...\n",
      "    Found them! Loading cached version\n",
      "[i] Looking for positional encodings in /home/xdoni4/m1p/graph-neural-pde/data/pos_encodings/Cora_GDC.pkl...\n",
      "    Found them! Loading cached version\n",
      "[i] Looking for positional encodings in /home/xdoni4/m1p/graph-neural-pde/data/pos_encodings/Cora_GDC.pkl...\n",
      "    Found them! Loading cached version\n",
      "[i] Looking for positional encodings in /home/xdoni4/m1p/graph-neural-pde/data/pos_encodings/Cora_GDC.pkl...\n",
      "    Found them! Loading cached version\n",
      "[i] Looking for positional encodings in /home/xdoni4/m1p/graph-neural-pde/data/pos_encodings/Cora_GDC.pkl...\n",
      "    Found them! Loading cached version\n",
      "[i] Looking for positional encodings in /home/xdoni4/m1p/graph-neural-pde/data/pos_encodings/Cora_GDC.pkl...\n",
      "    Found them! Loading cached version\n",
      "[i] Looking for positional encodings in /home/xdoni4/m1p/graph-neural-pde/data/pos_encodings/Cora_GDC.pkl...\n",
      "    Found them! Loading cached version\n",
      "[i] Looking for positional encodings in /home/xdoni4/m1p/graph-neural-pde/data/pos_encodings/Cora_GDC.pkl...\n",
      "    Found them! Loading cached version\n",
      "[i] Looking for positional encodings in /home/xdoni4/m1p/graph-neural-pde/data/pos_encodings/Cora_GDC.pkl...\n",
      "    Found them! Loading cached version\n",
      "[i] Looking for positional encodings in /home/xdoni4/m1p/graph-neural-pde/data/pos_encodings/Cora_GDC.pkl...\n",
      "    Found them! Loading cached version\n",
      "[i] Looking for positional encodings in /home/xdoni4/m1p/graph-neural-pde/data/pos_encodings/Cora_GDC.pkl...\n",
      "    Found them! Loading cached version\n",
      "[i] Looking for positional encodings in /home/xdoni4/m1p/graph-neural-pde/data/pos_encodings/Cora_GDC.pkl...\n",
      "    Found them! Loading cached version\n",
      "[i] Looking for positional encodings in /home/xdoni4/m1p/graph-neural-pde/data/pos_encodings/Cora_GDC.pkl...\n",
      "    Found them! Loading cached version\n",
      "[i] Looking for positional encodings in /home/xdoni4/m1p/graph-neural-pde/data/pos_encodings/Cora_GDC.pkl...\n",
      "    Found them! Loading cached version\n",
      "[i] Looking for positional encodings in /home/xdoni4/m1p/graph-neural-pde/data/pos_encodings/Cora_GDC.pkl...\n",
      "    Found them! Loading cached version\n",
      "[i] Looking for positional encodings in /home/xdoni4/m1p/graph-neural-pde/data/pos_encodings/Cora_GDC.pkl...\n",
      "    Found them! Loading cached version\n",
      "[i] Looking for positional encodings in /home/xdoni4/m1p/graph-neural-pde/data/pos_encodings/Cora_GDC.pkl...\n",
      "    Found them! Loading cached version\n",
      "[i] Looking for positional encodings in /home/xdoni4/m1p/graph-neural-pde/data/pos_encodings/Cora_GDC.pkl...\n",
      "    Found them! Loading cached version\n",
      "[i] Looking for positional encodings in /home/xdoni4/m1p/graph-neural-pde/data/pos_encodings/Cora_GDC.pkl...\n",
      "    Found them! Loading cached version\n",
      "[i] Looking for positional encodings in /home/xdoni4/m1p/graph-neural-pde/data/pos_encodings/Cora_GDC.pkl...\n",
      "    Found them! Loading cached version\n",
      "[i] Looking for positional encodings in /home/xdoni4/m1p/graph-neural-pde/data/pos_encodings/Cora_GDC.pkl...\n",
      "    Found them! Loading cached version\n",
      "[i] Looking for positional encodings in /home/xdoni4/m1p/graph-neural-pde/data/pos_encodings/Cora_GDC.pkl...\n",
      "    Found them! Loading cached version\n",
      "[i] Looking for positional encodings in /home/xdoni4/m1p/graph-neural-pde/data/pos_encodings/Cora_GDC.pkl...\n",
      "    Found them! Loading cached version\n",
      "[i] Looking for positional encodings in /home/xdoni4/m1p/graph-neural-pde/data/pos_encodings/Cora_GDC.pkl...\n",
      "    Found them! Loading cached version\n",
      "[i] Looking for positional encodings in /home/xdoni4/m1p/graph-neural-pde/data/pos_encodings/Cora_GDC.pkl...\n",
      "    Found them! Loading cached version\n",
      "[i] Looking for positional encodings in /home/xdoni4/m1p/graph-neural-pde/data/pos_encodings/Cora_GDC.pkl...\n",
      "    Found them! Loading cached version\n",
      "[i] Looking for positional encodings in /home/xdoni4/m1p/graph-neural-pde/data/pos_encodings/Cora_GDC.pkl...\n",
      "    Found them! Loading cached version\n",
      "[i] Looking for positional encodings in /home/xdoni4/m1p/graph-neural-pde/data/pos_encodings/Cora_GDC.pkl...\n",
      "    Found them! Loading cached version\n",
      "[i] Looking for positional encodings in /home/xdoni4/m1p/graph-neural-pde/data/pos_encodings/Cora_GDC.pkl...\n",
      "    Found them! Loading cached version\n",
      "[i] Looking for positional encodings in /home/xdoni4/m1p/graph-neural-pde/data/pos_encodings/Cora_GDC.pkl...\n",
      "    Found them! Loading cached version\n",
      "[i] Looking for positional encodings in /home/xdoni4/m1p/graph-neural-pde/data/pos_encodings/Cora_GDC.pkl...\n",
      "    Found them! Loading cached version\n",
      "[i] Looking for positional encodings in /home/xdoni4/m1p/graph-neural-pde/data/pos_encodings/Cora_GDC.pkl...\n",
      "    Found them! Loading cached version\n",
      "[i] Looking for positional encodings in /home/xdoni4/m1p/graph-neural-pde/data/pos_encodings/Cora_GDC.pkl...\n",
      "    Found them! Loading cached version\n",
      "[i] Looking for positional encodings in /home/xdoni4/m1p/graph-neural-pde/data/pos_encodings/Cora_GDC.pkl...\n",
      "    Found them! Loading cached version\n",
      "[i] Looking for positional encodings in /home/xdoni4/m1p/graph-neural-pde/data/pos_encodings/Cora_GDC.pkl...\n",
      "    Found them! Loading cached version\n",
      "[i] Looking for positional encodings in /home/xdoni4/m1p/graph-neural-pde/data/pos_encodings/Cora_GDC.pkl...\n",
      "    Found them! Loading cached version\n",
      "[i] Looking for positional encodings in /home/xdoni4/m1p/graph-neural-pde/data/pos_encodings/Cora_GDC.pkl...\n",
      "    Found them! Loading cached version\n",
      "[i] Looking for positional encodings in /home/xdoni4/m1p/graph-neural-pde/data/pos_encodings/Cora_GDC.pkl...\n",
      "    Found them! Loading cached version\n",
      "[i] Looking for positional encodings in /home/xdoni4/m1p/graph-neural-pde/data/pos_encodings/Cora_GDC.pkl...\n",
      "    Found them! Loading cached version\n",
      "[i] Looking for positional encodings in /home/xdoni4/m1p/graph-neural-pde/data/pos_encodings/Cora_GDC.pkl...\n",
      "    Found them! Loading cached version\n",
      "[i] Looking for positional encodings in /home/xdoni4/m1p/graph-neural-pde/data/pos_encodings/Cora_GDC.pkl...\n",
      "    Found them! Loading cached version\n",
      "[i] Looking for positional encodings in /home/xdoni4/m1p/graph-neural-pde/data/pos_encodings/Cora_GDC.pkl...\n",
      "    Found them! Loading cached version\n",
      "[i] Looking for positional encodings in /home/xdoni4/m1p/graph-neural-pde/data/pos_encodings/Cora_GDC.pkl...\n",
      "    Found them! Loading cached version\n",
      "[i] Looking for positional encodings in /home/xdoni4/m1p/graph-neural-pde/data/pos_encodings/Cora_GDC.pkl...\n",
      "    Found them! Loading cached version\n",
      "[i] Looking for positional encodings in /home/xdoni4/m1p/graph-neural-pde/data/pos_encodings/Cora_GDC.pkl...\n",
      "    Found them! Loading cached version\n",
      "[i] Looking for positional encodings in /home/xdoni4/m1p/graph-neural-pde/data/pos_encodings/Cora_GDC.pkl...\n",
      "    Found them! Loading cached version\n",
      "[i] Looking for positional encodings in /home/xdoni4/m1p/graph-neural-pde/data/pos_encodings/Cora_GDC.pkl...\n",
      "    Found them! Loading cached version\n",
      "[i] Looking for positional encodings in /home/xdoni4/m1p/graph-neural-pde/data/pos_encodings/Cora_GDC.pkl...\n",
      "    Found them! Loading cached version\n",
      "[i] Looking for positional encodings in /home/xdoni4/m1p/graph-neural-pde/data/pos_encodings/Cora_GDC.pkl...\n",
      "    Found them! Loading cached version\n",
      "[i] Looking for positional encodings in /home/xdoni4/m1p/graph-neural-pde/data/pos_encodings/Cora_GDC.pkl...\n",
      "    Found them! Loading cached version\n",
      "[i] Looking for positional encodings in /home/xdoni4/m1p/graph-neural-pde/data/pos_encodings/Cora_GDC.pkl...\n",
      "    Found them! Loading cached version\n",
      "[i] Looking for positional encodings in /home/xdoni4/m1p/graph-neural-pde/data/pos_encodings/Cora_GDC.pkl...\n",
      "    Found them! Loading cached version\n",
      "[i] Looking for positional encodings in /home/xdoni4/m1p/graph-neural-pde/data/pos_encodings/Cora_GDC.pkl...\n",
      "    Found them! Loading cached version\n",
      "[i] Looking for positional encodings in /home/xdoni4/m1p/graph-neural-pde/data/pos_encodings/Cora_GDC.pkl...\n",
      "    Found them! Loading cached version\n",
      "[i] Looking for positional encodings in /home/xdoni4/m1p/graph-neural-pde/data/pos_encodings/Cora_GDC.pkl...\n",
      "    Found them! Loading cached version\n",
      "[i] Looking for positional encodings in /home/xdoni4/m1p/graph-neural-pde/data/pos_encodings/Cora_GDC.pkl...\n",
      "    Found them! Loading cached version\n",
      "[i] Looking for positional encodings in /home/xdoni4/m1p/graph-neural-pde/data/pos_encodings/Cora_GDC.pkl...\n",
      "    Found them! Loading cached version\n",
      "[i] Looking for positional encodings in /home/xdoni4/m1p/graph-neural-pde/data/pos_encodings/Cora_GDC.pkl...\n",
      "    Found them! Loading cached version\n",
      "[i] Looking for positional encodings in /home/xdoni4/m1p/graph-neural-pde/data/pos_encodings/Cora_GDC.pkl...\n",
      "    Found them! Loading cached version\n",
      "[i] Looking for positional encodings in /home/xdoni4/m1p/graph-neural-pde/data/pos_encodings/Cora_GDC.pkl...\n",
      "    Found them! Loading cached version\n",
      "[i] Looking for positional encodings in /home/xdoni4/m1p/graph-neural-pde/data/pos_encodings/Cora_GDC.pkl...\n",
      "    Found them! Loading cached version\n",
      "[i] Looking for positional encodings in /home/xdoni4/m1p/graph-neural-pde/data/pos_encodings/Cora_GDC.pkl...\n",
      "    Found them! Loading cached version\n",
      "[i] Looking for positional encodings in /home/xdoni4/m1p/graph-neural-pde/data/pos_encodings/Cora_GDC.pkl...\n",
      "    Found them! Loading cached version\n",
      "[i] Looking for positional encodings in /home/xdoni4/m1p/graph-neural-pde/data/pos_encodings/Cora_GDC.pkl...\n",
      "    Found them! Loading cached version\n",
      "[i] Looking for positional encodings in /home/xdoni4/m1p/graph-neural-pde/data/pos_encodings/Cora_GDC.pkl...\n",
      "    Found them! Loading cached version\n",
      "[i] Looking for positional encodings in /home/xdoni4/m1p/graph-neural-pde/data/pos_encodings/Cora_GDC.pkl...\n",
      "    Found them! Loading cached version\n",
      "[i] Looking for positional encodings in /home/xdoni4/m1p/graph-neural-pde/data/pos_encodings/Cora_GDC.pkl...\n",
      "    Found them! Loading cached version\n",
      "[i] Looking for positional encodings in /home/xdoni4/m1p/graph-neural-pde/data/pos_encodings/Cora_GDC.pkl...\n",
      "    Found them! Loading cached version\n",
      "[i] Looking for positional encodings in /home/xdoni4/m1p/graph-neural-pde/data/pos_encodings/Cora_GDC.pkl...\n",
      "    Found them! Loading cached version\n",
      "[i] Looking for positional encodings in /home/xdoni4/m1p/graph-neural-pde/data/pos_encodings/Cora_GDC.pkl...\n",
      "    Found them! Loading cached version\n",
      "[i] Looking for positional encodings in /home/xdoni4/m1p/graph-neural-pde/data/pos_encodings/Cora_GDC.pkl...\n",
      "    Found them! Loading cached version\n",
      "[i] Looking for positional encodings in /home/xdoni4/m1p/graph-neural-pde/data/pos_encodings/Cora_GDC.pkl...\n",
      "    Found them! Loading cached version\n",
      "[i] Looking for positional encodings in /home/xdoni4/m1p/graph-neural-pde/data/pos_encodings/Cora_GDC.pkl...\n",
      "    Found them! Loading cached version\n",
      "[i] Looking for positional encodings in /home/xdoni4/m1p/graph-neural-pde/data/pos_encodings/Cora_GDC.pkl...\n",
      "    Found them! Loading cached version\n",
      "[i] Looking for positional encodings in /home/xdoni4/m1p/graph-neural-pde/data/pos_encodings/Cora_GDC.pkl...\n",
      "    Found them! Loading cached version\n",
      "[i] Looking for positional encodings in /home/xdoni4/m1p/graph-neural-pde/data/pos_encodings/Cora_GDC.pkl...\n",
      "    Found them! Loading cached version\n",
      "[i] Looking for positional encodings in /home/xdoni4/m1p/graph-neural-pde/data/pos_encodings/Cora_GDC.pkl...\n",
      "    Found them! Loading cached version\n",
      "[i] Looking for positional encodings in /home/xdoni4/m1p/graph-neural-pde/data/pos_encodings/Cora_GDC.pkl...\n",
      "    Found them! Loading cached version\n",
      "[i] Looking for positional encodings in /home/xdoni4/m1p/graph-neural-pde/data/pos_encodings/Cora_GDC.pkl...\n",
      "    Found them! Loading cached version\n",
      "[i] Looking for positional encodings in /home/xdoni4/m1p/graph-neural-pde/data/pos_encodings/Cora_GDC.pkl...\n",
      "    Found them! Loading cached version\n",
      "[i] Looking for positional encodings in /home/xdoni4/m1p/graph-neural-pde/data/pos_encodings/Cora_GDC.pkl...\n",
      "    Found them! Loading cached version\n",
      "[i] Looking for positional encodings in /home/xdoni4/m1p/graph-neural-pde/data/pos_encodings/Cora_GDC.pkl...\n",
      "    Found them! Loading cached version\n",
      "[i] Looking for positional encodings in /home/xdoni4/m1p/graph-neural-pde/data/pos_encodings/Cora_GDC.pkl...\n",
      "    Found them! Loading cached version\n",
      "[i] Looking for positional encodings in /home/xdoni4/m1p/graph-neural-pde/data/pos_encodings/Cora_GDC.pkl...\n",
      "    Found them! Loading cached version\n",
      "[i] Looking for positional encodings in /home/xdoni4/m1p/graph-neural-pde/data/pos_encodings/Cora_GDC.pkl...\n",
      "    Found them! Loading cached version\n",
      "[i] Looking for positional encodings in /home/xdoni4/m1p/graph-neural-pde/data/pos_encodings/Cora_GDC.pkl...\n",
      "    Found them! Loading cached version\n",
      "[i] Looking for positional encodings in /home/xdoni4/m1p/graph-neural-pde/data/pos_encodings/Cora_GDC.pkl...\n",
      "    Found them! Loading cached version\n",
      "[i] Looking for positional encodings in /home/xdoni4/m1p/graph-neural-pde/data/pos_encodings/Cora_GDC.pkl...\n",
      "    Found them! Loading cached version\n",
      "[i] Looking for positional encodings in /home/xdoni4/m1p/graph-neural-pde/data/pos_encodings/Cora_GDC.pkl...\n",
      "    Found them! Loading cached version\n"
     ]
    },
    {
     "name": "stderr",
     "output_type": "stream",
     "text": [
      "  0%|          | 0/89 [00:00<?, ?it/s]/home/xdoni4/miniconda3/envs/m1p/lib/python3.9/site-packages/torchdiffeq/_impl/misc.py:11: UserWarning: Dopri5Solver: Unexpected arguments {'step_size': 1, 'max_iters': 100}\n",
      "  warnings.warn('{}: Unexpected arguments {}'.format(solver.__class__.__name__, unused_kwargs))\n",
      "100%|██████████| 89/89 [20:06<00:00, 13.55s/it]\n"
     ]
    },
    {
     "name": "stdout",
     "output_type": "stream",
     "text": [
      "TRAIN: epoch = 1, loss = 0.697, accuracy = 0.483, f1 = 0.482\n"
     ]
    },
    {
     "name": "stderr",
     "output_type": "stream",
     "text": [
      "/home/xdoni4/miniconda3/envs/m1p/lib/python3.9/site-packages/torchdiffeq/_impl/misc.py:11: UserWarning: Dopri5Solver: Unexpected arguments {'step_size': 1, 'max_iters': 100}\n",
      "  warnings.warn('{}: Unexpected arguments {}'.format(solver.__class__.__name__, unused_kwargs))\n"
     ]
    },
    {
     "name": "stdout",
     "output_type": "stream",
     "text": [
      "TEST: loss = 0.673, accuracy = 0.7, f1 = 0.653\n",
      "--------------------------------------------------\n",
      "\n",
      "===================================================================================\n",
      "\n",
      "Building adjacencies T=15\n"
     ]
    },
    {
     "name": "stderr",
     "output_type": "stream",
     "text": [
      "100%|██████████| 89/89 [00:04<00:00, 20.57it/s]\n"
     ]
    },
    {
     "name": "stdout",
     "output_type": "stream",
     "text": [
      "(89, 241, 32, 32)\n"
     ]
    },
    {
     "name": "stderr",
     "output_type": "stream",
     "text": [
      "100%|██████████| 30/30 [00:01<00:00, 19.83it/s]\n"
     ]
    },
    {
     "name": "stdout",
     "output_type": "stream",
     "text": [
      "(30, 241, 32, 32)\n",
      "T=15, alpha=0.8, NF=5, sigma=0.05\n",
      "Running GCN\n",
      "241\n",
      "\n",
      "===================================================================================\n",
      "\n"
     ]
    },
    {
     "name": "stderr",
     "output_type": "stream",
     "text": [
      "100%|██████████| 89/89 [00:06<00:00, 14.23it/s]\n"
     ]
    },
    {
     "name": "stdout",
     "output_type": "stream",
     "text": [
      "TRAIN: epoch = 1, loss = 0.699, accuracy = 0.506, f1 = 0.506\n",
      "TEST: loss = 0.67, accuracy = 0.6, f1 = 0.375\n",
      "--------------------------------------------------\n"
     ]
    },
    {
     "name": "stderr",
     "output_type": "stream",
     "text": [
      "100%|██████████| 89/89 [00:05<00:00, 16.93it/s]\n"
     ]
    },
    {
     "name": "stdout",
     "output_type": "stream",
     "text": [
      "TRAIN: epoch = 2, loss = 0.599, accuracy = 0.742, f1 = 0.658\n",
      "TEST: loss = 0.641, accuracy = 0.633, f1 = 0.388\n",
      "--------------------------------------------------\n"
     ]
    },
    {
     "name": "stderr",
     "output_type": "stream",
     "text": [
      "100%|██████████| 89/89 [00:06<00:00, 14.57it/s]\n"
     ]
    },
    {
     "name": "stdout",
     "output_type": "stream",
     "text": [
      "TRAIN: epoch = 3, loss = 0.535, accuracy = 0.809, f1 = 0.761\n",
      "TEST: loss = 0.622, accuracy = 0.6, f1 = 0.375\n",
      "--------------------------------------------------\n"
     ]
    },
    {
     "name": "stderr",
     "output_type": "stream",
     "text": [
      "100%|██████████| 89/89 [00:07<00:00, 12.27it/s]\n"
     ]
    },
    {
     "name": "stdout",
     "output_type": "stream",
     "text": [
      "TRAIN: epoch = 4, loss = 0.45, accuracy = 0.876, f1 = 0.855\n",
      "TEST: loss = 0.606, accuracy = 0.633, f1 = 0.46\n",
      "--------------------------------------------------\n"
     ]
    },
    {
     "name": "stderr",
     "output_type": "stream",
     "text": [
      "100%|██████████| 89/89 [00:11<00:00,  7.48it/s]\n"
     ]
    },
    {
     "name": "stdout",
     "output_type": "stream",
     "text": [
      "TRAIN: epoch = 5, loss = 0.386, accuracy = 0.876, f1 = 0.852\n",
      "TEST: loss = 0.586, accuracy = 0.633, f1 = 0.46\n",
      "--------------------------------------------------\n"
     ]
    },
    {
     "name": "stderr",
     "output_type": "stream",
     "text": [
      "100%|██████████| 89/89 [00:05<00:00, 16.66it/s]\n"
     ]
    },
    {
     "name": "stdout",
     "output_type": "stream",
     "text": [
      "TRAIN: epoch = 6, loss = 0.286, accuracy = 0.955, f1 = 0.951\n",
      "TEST: loss = 0.572, accuracy = 0.633, f1 = 0.46\n",
      "--------------------------------------------------\n"
     ]
    },
    {
     "name": "stderr",
     "output_type": "stream",
     "text": [
      "100%|██████████| 89/89 [00:04<00:00, 17.85it/s]\n"
     ]
    },
    {
     "name": "stdout",
     "output_type": "stream",
     "text": [
      "TRAIN: epoch = 7, loss = 0.275, accuracy = 0.966, f1 = 0.963\n",
      "TEST: loss = 0.576, accuracy = 0.633, f1 = 0.46\n",
      "--------------------------------------------------\n"
     ]
    },
    {
     "name": "stderr",
     "output_type": "stream",
     "text": [
      "100%|██████████| 89/89 [00:04<00:00, 20.93it/s]\n"
     ]
    },
    {
     "name": "stdout",
     "output_type": "stream",
     "text": [
      "TRAIN: epoch = 8, loss = 0.205, accuracy = 0.966, f1 = 0.963\n",
      "TEST: loss = 0.581, accuracy = 0.667, f1 = 0.534\n",
      "--------------------------------------------------\n"
     ]
    },
    {
     "name": "stderr",
     "output_type": "stream",
     "text": [
      "100%|██████████| 89/89 [00:11<00:00,  7.48it/s]\n"
     ]
    },
    {
     "name": "stdout",
     "output_type": "stream",
     "text": [
      "TRAIN: epoch = 9, loss = 0.179, accuracy = 0.978, f1 = 0.976\n",
      "TEST: loss = 0.576, accuracy = 0.667, f1 = 0.534\n",
      "--------------------------------------------------\n"
     ]
    },
    {
     "name": "stderr",
     "output_type": "stream",
     "text": [
      "100%|██████████| 89/89 [00:04<00:00, 20.36it/s]\n"
     ]
    },
    {
     "name": "stdout",
     "output_type": "stream",
     "text": [
      "TRAIN: epoch = 10, loss = 0.151, accuracy = 0.989, f1 = 0.988\n",
      "TEST: loss = 0.576, accuracy = 0.667, f1 = 0.534\n",
      "--------------------------------------------------\n",
      "\n",
      "===================================================================================\n",
      "\n",
      "Running GRAND\n",
      "241\n",
      "\n",
      "===================================================================================\n",
      "\n"
     ]
    },
    {
     "name": "stderr",
     "output_type": "stream",
     "text": [
      "  0%|          | 0/89 [00:00<?, ?it/s]/home/xdoni4/miniconda3/envs/m1p/lib/python3.9/site-packages/torchdiffeq/_impl/misc.py:11: UserWarning: Dopri5Solver: Unexpected arguments {'step_size': 1, 'max_iters': 100}\n",
      "  warnings.warn('{}: Unexpected arguments {}'.format(solver.__class__.__name__, unused_kwargs))\n",
      "100%|██████████| 89/89 [15:23<00:00, 10.38s/it]\n"
     ]
    },
    {
     "name": "stdout",
     "output_type": "stream",
     "text": [
      "TRAIN: epoch = 1, loss = 0.657, accuracy = 0.64, f1 = 0.555\n"
     ]
    },
    {
     "name": "stderr",
     "output_type": "stream",
     "text": [
      "/home/xdoni4/miniconda3/envs/m1p/lib/python3.9/site-packages/torchdiffeq/_impl/misc.py:11: UserWarning: Dopri5Solver: Unexpected arguments {'step_size': 1, 'max_iters': 100}\n",
      "  warnings.warn('{}: Unexpected arguments {}'.format(solver.__class__.__name__, unused_kwargs))\n"
     ]
    },
    {
     "name": "stdout",
     "output_type": "stream",
     "text": [
      "TEST: loss = 0.639, accuracy = 0.633, f1 = 0.388\n",
      "--------------------------------------------------\n"
     ]
    },
    {
     "name": "stderr",
     "output_type": "stream",
     "text": [
      "  0%|          | 0/89 [00:00<?, ?it/s]/home/xdoni4/miniconda3/envs/m1p/lib/python3.9/site-packages/torchdiffeq/_impl/misc.py:11: UserWarning: Dopri5Solver: Unexpected arguments {'step_size': 1, 'max_iters': 100}\n",
      "  warnings.warn('{}: Unexpected arguments {}'.format(solver.__class__.__name__, unused_kwargs))\n",
      "100%|██████████| 89/89 [13:45<00:00,  9.27s/it]\n"
     ]
    },
    {
     "name": "stdout",
     "output_type": "stream",
     "text": [
      "TRAIN: epoch = 2, loss = 0.61, accuracy = 0.685, f1 = 0.549\n"
     ]
    },
    {
     "name": "stderr",
     "output_type": "stream",
     "text": [
      "/home/xdoni4/miniconda3/envs/m1p/lib/python3.9/site-packages/torchdiffeq/_impl/misc.py:11: UserWarning: Dopri5Solver: Unexpected arguments {'step_size': 1, 'max_iters': 100}\n",
      "  warnings.warn('{}: Unexpected arguments {}'.format(solver.__class__.__name__, unused_kwargs))\n"
     ]
    },
    {
     "name": "stdout",
     "output_type": "stream",
     "text": [
      "TEST: loss = 0.614, accuracy = 0.667, f1 = 0.479\n",
      "--------------------------------------------------\n"
     ]
    },
    {
     "name": "stderr",
     "output_type": "stream",
     "text": [
      "  0%|          | 0/89 [00:00<?, ?it/s]/home/xdoni4/miniconda3/envs/m1p/lib/python3.9/site-packages/torchdiffeq/_impl/misc.py:11: UserWarning: Dopri5Solver: Unexpected arguments {'step_size': 1, 'max_iters': 100}\n",
      "  warnings.warn('{}: Unexpected arguments {}'.format(solver.__class__.__name__, unused_kwargs))\n",
      "100%|██████████| 89/89 [10:24<00:00,  7.01s/it]\n"
     ]
    },
    {
     "name": "stdout",
     "output_type": "stream",
     "text": [
      "TRAIN: epoch = 3, loss = 0.544, accuracy = 0.775, f1 = 0.698\n"
     ]
    },
    {
     "name": "stderr",
     "output_type": "stream",
     "text": [
      "/home/xdoni4/miniconda3/envs/m1p/lib/python3.9/site-packages/torchdiffeq/_impl/misc.py:11: UserWarning: Dopri5Solver: Unexpected arguments {'step_size': 1, 'max_iters': 100}\n",
      "  warnings.warn('{}: Unexpected arguments {}'.format(solver.__class__.__name__, unused_kwargs))\n"
     ]
    },
    {
     "name": "stdout",
     "output_type": "stream",
     "text": [
      "TEST: loss = 0.601, accuracy = 0.633, f1 = 0.46\n",
      "--------------------------------------------------\n",
      "\n",
      "===================================================================================\n",
      "\n",
      "Running BLEND\n",
      "241\n",
      "\n",
      "===================================================================================\n",
      "\n",
      "[i] Looking for positional encodings in /home/xdoni4/m1p/graph-neural-pde/data/pos_encodings/Cora_GDC.pkl...\n",
      "    Found them! Loading cached version\n",
      "[i] Looking for positional encodings in /home/xdoni4/m1p/graph-neural-pde/data/pos_encodings/Cora_GDC.pkl...\n",
      "    Found them! Loading cached version\n",
      "[i] Looking for positional encodings in /home/xdoni4/m1p/graph-neural-pde/data/pos_encodings/Cora_GDC.pkl...\n",
      "    Found them! Loading cached version\n",
      "[i] Looking for positional encodings in /home/xdoni4/m1p/graph-neural-pde/data/pos_encodings/Cora_GDC.pkl...\n",
      "    Found them! Loading cached version\n",
      "[i] Looking for positional encodings in /home/xdoni4/m1p/graph-neural-pde/data/pos_encodings/Cora_GDC.pkl...\n",
      "    Found them! Loading cached version\n",
      "[i] Looking for positional encodings in /home/xdoni4/m1p/graph-neural-pde/data/pos_encodings/Cora_GDC.pkl...\n",
      "    Found them! Loading cached version\n",
      "[i] Looking for positional encodings in /home/xdoni4/m1p/graph-neural-pde/data/pos_encodings/Cora_GDC.pkl...\n",
      "    Found them! Loading cached version\n",
      "[i] Looking for positional encodings in /home/xdoni4/m1p/graph-neural-pde/data/pos_encodings/Cora_GDC.pkl...\n",
      "    Found them! Loading cached version\n",
      "[i] Looking for positional encodings in /home/xdoni4/m1p/graph-neural-pde/data/pos_encodings/Cora_GDC.pkl...\n",
      "    Found them! Loading cached version\n",
      "[i] Looking for positional encodings in /home/xdoni4/m1p/graph-neural-pde/data/pos_encodings/Cora_GDC.pkl...\n",
      "    Found them! Loading cached version\n",
      "[i] Looking for positional encodings in /home/xdoni4/m1p/graph-neural-pde/data/pos_encodings/Cora_GDC.pkl...\n",
      "    Found them! Loading cached version\n",
      "[i] Looking for positional encodings in /home/xdoni4/m1p/graph-neural-pde/data/pos_encodings/Cora_GDC.pkl...\n",
      "    Found them! Loading cached version\n",
      "[i] Looking for positional encodings in /home/xdoni4/m1p/graph-neural-pde/data/pos_encodings/Cora_GDC.pkl...\n",
      "    Found them! Loading cached version\n",
      "[i] Looking for positional encodings in /home/xdoni4/m1p/graph-neural-pde/data/pos_encodings/Cora_GDC.pkl...\n",
      "    Found them! Loading cached version\n",
      "[i] Looking for positional encodings in /home/xdoni4/m1p/graph-neural-pde/data/pos_encodings/Cora_GDC.pkl...\n",
      "    Found them! Loading cached version\n",
      "[i] Looking for positional encodings in /home/xdoni4/m1p/graph-neural-pde/data/pos_encodings/Cora_GDC.pkl...\n",
      "    Found them! Loading cached version\n",
      "[i] Looking for positional encodings in /home/xdoni4/m1p/graph-neural-pde/data/pos_encodings/Cora_GDC.pkl...\n",
      "    Found them! Loading cached version\n",
      "[i] Looking for positional encodings in /home/xdoni4/m1p/graph-neural-pde/data/pos_encodings/Cora_GDC.pkl...\n",
      "    Found them! Loading cached version\n",
      "[i] Looking for positional encodings in /home/xdoni4/m1p/graph-neural-pde/data/pos_encodings/Cora_GDC.pkl...\n",
      "    Found them! Loading cached version\n",
      "[i] Looking for positional encodings in /home/xdoni4/m1p/graph-neural-pde/data/pos_encodings/Cora_GDC.pkl...\n",
      "    Found them! Loading cached version\n",
      "[i] Looking for positional encodings in /home/xdoni4/m1p/graph-neural-pde/data/pos_encodings/Cora_GDC.pkl...\n",
      "    Found them! Loading cached version\n",
      "[i] Looking for positional encodings in /home/xdoni4/m1p/graph-neural-pde/data/pos_encodings/Cora_GDC.pkl...\n",
      "    Found them! Loading cached version\n",
      "[i] Looking for positional encodings in /home/xdoni4/m1p/graph-neural-pde/data/pos_encodings/Cora_GDC.pkl...\n",
      "    Found them! Loading cached version\n",
      "[i] Looking for positional encodings in /home/xdoni4/m1p/graph-neural-pde/data/pos_encodings/Cora_GDC.pkl...\n",
      "    Found them! Loading cached version\n",
      "[i] Looking for positional encodings in /home/xdoni4/m1p/graph-neural-pde/data/pos_encodings/Cora_GDC.pkl...\n",
      "    Found them! Loading cached version\n",
      "[i] Looking for positional encodings in /home/xdoni4/m1p/graph-neural-pde/data/pos_encodings/Cora_GDC.pkl...\n",
      "    Found them! Loading cached version\n",
      "[i] Looking for positional encodings in /home/xdoni4/m1p/graph-neural-pde/data/pos_encodings/Cora_GDC.pkl...\n",
      "    Found them! Loading cached version\n",
      "[i] Looking for positional encodings in /home/xdoni4/m1p/graph-neural-pde/data/pos_encodings/Cora_GDC.pkl...\n",
      "    Found them! Loading cached version\n",
      "[i] Looking for positional encodings in /home/xdoni4/m1p/graph-neural-pde/data/pos_encodings/Cora_GDC.pkl...\n",
      "    Found them! Loading cached version\n",
      "[i] Looking for positional encodings in /home/xdoni4/m1p/graph-neural-pde/data/pos_encodings/Cora_GDC.pkl...\n",
      "    Found them! Loading cached version\n",
      "[i] Looking for positional encodings in /home/xdoni4/m1p/graph-neural-pde/data/pos_encodings/Cora_GDC.pkl...\n",
      "    Found them! Loading cached version\n",
      "[i] Looking for positional encodings in /home/xdoni4/m1p/graph-neural-pde/data/pos_encodings/Cora_GDC.pkl...\n",
      "    Found them! Loading cached version\n",
      "[i] Looking for positional encodings in /home/xdoni4/m1p/graph-neural-pde/data/pos_encodings/Cora_GDC.pkl...\n",
      "    Found them! Loading cached version\n",
      "[i] Looking for positional encodings in /home/xdoni4/m1p/graph-neural-pde/data/pos_encodings/Cora_GDC.pkl...\n",
      "    Found them! Loading cached version\n",
      "[i] Looking for positional encodings in /home/xdoni4/m1p/graph-neural-pde/data/pos_encodings/Cora_GDC.pkl...\n",
      "    Found them! Loading cached version\n",
      "[i] Looking for positional encodings in /home/xdoni4/m1p/graph-neural-pde/data/pos_encodings/Cora_GDC.pkl...\n",
      "    Found them! Loading cached version\n",
      "[i] Looking for positional encodings in /home/xdoni4/m1p/graph-neural-pde/data/pos_encodings/Cora_GDC.pkl...\n",
      "    Found them! Loading cached version\n",
      "[i] Looking for positional encodings in /home/xdoni4/m1p/graph-neural-pde/data/pos_encodings/Cora_GDC.pkl...\n",
      "    Found them! Loading cached version\n",
      "[i] Looking for positional encodings in /home/xdoni4/m1p/graph-neural-pde/data/pos_encodings/Cora_GDC.pkl...\n",
      "    Found them! Loading cached version\n",
      "[i] Looking for positional encodings in /home/xdoni4/m1p/graph-neural-pde/data/pos_encodings/Cora_GDC.pkl...\n",
      "    Found them! Loading cached version\n",
      "[i] Looking for positional encodings in /home/xdoni4/m1p/graph-neural-pde/data/pos_encodings/Cora_GDC.pkl...\n",
      "    Found them! Loading cached version\n",
      "[i] Looking for positional encodings in /home/xdoni4/m1p/graph-neural-pde/data/pos_encodings/Cora_GDC.pkl...\n",
      "    Found them! Loading cached version\n",
      "[i] Looking for positional encodings in /home/xdoni4/m1p/graph-neural-pde/data/pos_encodings/Cora_GDC.pkl...\n",
      "    Found them! Loading cached version\n",
      "[i] Looking for positional encodings in /home/xdoni4/m1p/graph-neural-pde/data/pos_encodings/Cora_GDC.pkl...\n",
      "    Found them! Loading cached version\n",
      "[i] Looking for positional encodings in /home/xdoni4/m1p/graph-neural-pde/data/pos_encodings/Cora_GDC.pkl...\n",
      "    Found them! Loading cached version\n",
      "[i] Looking for positional encodings in /home/xdoni4/m1p/graph-neural-pde/data/pos_encodings/Cora_GDC.pkl...\n",
      "    Found them! Loading cached version\n",
      "[i] Looking for positional encodings in /home/xdoni4/m1p/graph-neural-pde/data/pos_encodings/Cora_GDC.pkl...\n",
      "    Found them! Loading cached version\n",
      "[i] Looking for positional encodings in /home/xdoni4/m1p/graph-neural-pde/data/pos_encodings/Cora_GDC.pkl...\n",
      "    Found them! Loading cached version\n",
      "[i] Looking for positional encodings in /home/xdoni4/m1p/graph-neural-pde/data/pos_encodings/Cora_GDC.pkl...\n",
      "    Found them! Loading cached version\n",
      "[i] Looking for positional encodings in /home/xdoni4/m1p/graph-neural-pde/data/pos_encodings/Cora_GDC.pkl...\n",
      "    Found them! Loading cached version\n",
      "[i] Looking for positional encodings in /home/xdoni4/m1p/graph-neural-pde/data/pos_encodings/Cora_GDC.pkl...\n",
      "    Found them! Loading cached version\n",
      "[i] Looking for positional encodings in /home/xdoni4/m1p/graph-neural-pde/data/pos_encodings/Cora_GDC.pkl...\n",
      "    Found them! Loading cached version\n",
      "[i] Looking for positional encodings in /home/xdoni4/m1p/graph-neural-pde/data/pos_encodings/Cora_GDC.pkl...\n",
      "    Found them! Loading cached version\n",
      "[i] Looking for positional encodings in /home/xdoni4/m1p/graph-neural-pde/data/pos_encodings/Cora_GDC.pkl...\n",
      "    Found them! Loading cached version\n",
      "[i] Looking for positional encodings in /home/xdoni4/m1p/graph-neural-pde/data/pos_encodings/Cora_GDC.pkl...\n",
      "    Found them! Loading cached version\n",
      "[i] Looking for positional encodings in /home/xdoni4/m1p/graph-neural-pde/data/pos_encodings/Cora_GDC.pkl...\n",
      "    Found them! Loading cached version\n",
      "[i] Looking for positional encodings in /home/xdoni4/m1p/graph-neural-pde/data/pos_encodings/Cora_GDC.pkl...\n",
      "    Found them! Loading cached version\n",
      "[i] Looking for positional encodings in /home/xdoni4/m1p/graph-neural-pde/data/pos_encodings/Cora_GDC.pkl...\n",
      "    Found them! Loading cached version\n",
      "[i] Looking for positional encodings in /home/xdoni4/m1p/graph-neural-pde/data/pos_encodings/Cora_GDC.pkl...\n",
      "    Found them! Loading cached version\n",
      "[i] Looking for positional encodings in /home/xdoni4/m1p/graph-neural-pde/data/pos_encodings/Cora_GDC.pkl...\n",
      "    Found them! Loading cached version\n",
      "[i] Looking for positional encodings in /home/xdoni4/m1p/graph-neural-pde/data/pos_encodings/Cora_GDC.pkl...\n",
      "    Found them! Loading cached version\n",
      "[i] Looking for positional encodings in /home/xdoni4/m1p/graph-neural-pde/data/pos_encodings/Cora_GDC.pkl...\n",
      "    Found them! Loading cached version\n",
      "[i] Looking for positional encodings in /home/xdoni4/m1p/graph-neural-pde/data/pos_encodings/Cora_GDC.pkl...\n",
      "    Found them! Loading cached version\n",
      "[i] Looking for positional encodings in /home/xdoni4/m1p/graph-neural-pde/data/pos_encodings/Cora_GDC.pkl...\n",
      "    Found them! Loading cached version\n",
      "[i] Looking for positional encodings in /home/xdoni4/m1p/graph-neural-pde/data/pos_encodings/Cora_GDC.pkl...\n",
      "    Found them! Loading cached version\n",
      "[i] Looking for positional encodings in /home/xdoni4/m1p/graph-neural-pde/data/pos_encodings/Cora_GDC.pkl...\n",
      "    Found them! Loading cached version\n",
      "[i] Looking for positional encodings in /home/xdoni4/m1p/graph-neural-pde/data/pos_encodings/Cora_GDC.pkl...\n",
      "    Found them! Loading cached version\n",
      "[i] Looking for positional encodings in /home/xdoni4/m1p/graph-neural-pde/data/pos_encodings/Cora_GDC.pkl...\n",
      "    Found them! Loading cached version\n",
      "[i] Looking for positional encodings in /home/xdoni4/m1p/graph-neural-pde/data/pos_encodings/Cora_GDC.pkl...\n",
      "    Found them! Loading cached version\n",
      "[i] Looking for positional encodings in /home/xdoni4/m1p/graph-neural-pde/data/pos_encodings/Cora_GDC.pkl...\n",
      "    Found them! Loading cached version\n",
      "[i] Looking for positional encodings in /home/xdoni4/m1p/graph-neural-pde/data/pos_encodings/Cora_GDC.pkl...\n",
      "    Found them! Loading cached version\n",
      "[i] Looking for positional encodings in /home/xdoni4/m1p/graph-neural-pde/data/pos_encodings/Cora_GDC.pkl...\n",
      "    Found them! Loading cached version\n",
      "[i] Looking for positional encodings in /home/xdoni4/m1p/graph-neural-pde/data/pos_encodings/Cora_GDC.pkl...\n",
      "    Found them! Loading cached version\n",
      "[i] Looking for positional encodings in /home/xdoni4/m1p/graph-neural-pde/data/pos_encodings/Cora_GDC.pkl...\n",
      "    Found them! Loading cached version\n",
      "[i] Looking for positional encodings in /home/xdoni4/m1p/graph-neural-pde/data/pos_encodings/Cora_GDC.pkl...\n",
      "    Found them! Loading cached version\n",
      "[i] Looking for positional encodings in /home/xdoni4/m1p/graph-neural-pde/data/pos_encodings/Cora_GDC.pkl...\n",
      "    Found them! Loading cached version\n",
      "[i] Looking for positional encodings in /home/xdoni4/m1p/graph-neural-pde/data/pos_encodings/Cora_GDC.pkl...\n",
      "    Found them! Loading cached version\n",
      "[i] Looking for positional encodings in /home/xdoni4/m1p/graph-neural-pde/data/pos_encodings/Cora_GDC.pkl...\n",
      "    Found them! Loading cached version\n",
      "[i] Looking for positional encodings in /home/xdoni4/m1p/graph-neural-pde/data/pos_encodings/Cora_GDC.pkl...\n",
      "    Found them! Loading cached version\n",
      "[i] Looking for positional encodings in /home/xdoni4/m1p/graph-neural-pde/data/pos_encodings/Cora_GDC.pkl...\n",
      "    Found them! Loading cached version\n",
      "[i] Looking for positional encodings in /home/xdoni4/m1p/graph-neural-pde/data/pos_encodings/Cora_GDC.pkl...\n",
      "    Found them! Loading cached version\n",
      "[i] Looking for positional encodings in /home/xdoni4/m1p/graph-neural-pde/data/pos_encodings/Cora_GDC.pkl...\n",
      "    Found them! Loading cached version\n",
      "[i] Looking for positional encodings in /home/xdoni4/m1p/graph-neural-pde/data/pos_encodings/Cora_GDC.pkl...\n",
      "    Found them! Loading cached version\n",
      "[i] Looking for positional encodings in /home/xdoni4/m1p/graph-neural-pde/data/pos_encodings/Cora_GDC.pkl...\n",
      "    Found them! Loading cached version\n",
      "[i] Looking for positional encodings in /home/xdoni4/m1p/graph-neural-pde/data/pos_encodings/Cora_GDC.pkl...\n",
      "    Found them! Loading cached version\n",
      "[i] Looking for positional encodings in /home/xdoni4/m1p/graph-neural-pde/data/pos_encodings/Cora_GDC.pkl...\n",
      "    Found them! Loading cached version\n",
      "[i] Looking for positional encodings in /home/xdoni4/m1p/graph-neural-pde/data/pos_encodings/Cora_GDC.pkl...\n",
      "    Found them! Loading cached version\n",
      "[i] Looking for positional encodings in /home/xdoni4/m1p/graph-neural-pde/data/pos_encodings/Cora_GDC.pkl...\n",
      "    Found them! Loading cached version\n",
      "[i] Looking for positional encodings in /home/xdoni4/m1p/graph-neural-pde/data/pos_encodings/Cora_GDC.pkl...\n",
      "    Found them! Loading cached version\n",
      "[i] Looking for positional encodings in /home/xdoni4/m1p/graph-neural-pde/data/pos_encodings/Cora_GDC.pkl...\n",
      "    Found them! Loading cached version\n",
      "[i] Looking for positional encodings in /home/xdoni4/m1p/graph-neural-pde/data/pos_encodings/Cora_GDC.pkl...\n",
      "    Found them! Loading cached version\n",
      "[i] Looking for positional encodings in /home/xdoni4/m1p/graph-neural-pde/data/pos_encodings/Cora_GDC.pkl...\n",
      "    Found them! Loading cached version\n",
      "[i] Looking for positional encodings in /home/xdoni4/m1p/graph-neural-pde/data/pos_encodings/Cora_GDC.pkl...\n",
      "    Found them! Loading cached version\n",
      "[i] Looking for positional encodings in /home/xdoni4/m1p/graph-neural-pde/data/pos_encodings/Cora_GDC.pkl...\n",
      "    Found them! Loading cached version\n",
      "[i] Looking for positional encodings in /home/xdoni4/m1p/graph-neural-pde/data/pos_encodings/Cora_GDC.pkl...\n",
      "    Found them! Loading cached version\n",
      "[i] Looking for positional encodings in /home/xdoni4/m1p/graph-neural-pde/data/pos_encodings/Cora_GDC.pkl...\n",
      "    Found them! Loading cached version\n",
      "[i] Looking for positional encodings in /home/xdoni4/m1p/graph-neural-pde/data/pos_encodings/Cora_GDC.pkl...\n",
      "    Found them! Loading cached version\n",
      "[i] Looking for positional encodings in /home/xdoni4/m1p/graph-neural-pde/data/pos_encodings/Cora_GDC.pkl...\n",
      "    Found them! Loading cached version\n",
      "[i] Looking for positional encodings in /home/xdoni4/m1p/graph-neural-pde/data/pos_encodings/Cora_GDC.pkl...\n",
      "    Found them! Loading cached version\n",
      "[i] Looking for positional encodings in /home/xdoni4/m1p/graph-neural-pde/data/pos_encodings/Cora_GDC.pkl...\n",
      "    Found them! Loading cached version\n",
      "[i] Looking for positional encodings in /home/xdoni4/m1p/graph-neural-pde/data/pos_encodings/Cora_GDC.pkl...\n",
      "    Found them! Loading cached version\n",
      "[i] Looking for positional encodings in /home/xdoni4/m1p/graph-neural-pde/data/pos_encodings/Cora_GDC.pkl...\n",
      "    Found them! Loading cached version\n",
      "[i] Looking for positional encodings in /home/xdoni4/m1p/graph-neural-pde/data/pos_encodings/Cora_GDC.pkl...\n",
      "    Found them! Loading cached version\n",
      "[i] Looking for positional encodings in /home/xdoni4/m1p/graph-neural-pde/data/pos_encodings/Cora_GDC.pkl...\n",
      "    Found them! Loading cached version\n",
      "[i] Looking for positional encodings in /home/xdoni4/m1p/graph-neural-pde/data/pos_encodings/Cora_GDC.pkl...\n",
      "    Found them! Loading cached version\n",
      "[i] Looking for positional encodings in /home/xdoni4/m1p/graph-neural-pde/data/pos_encodings/Cora_GDC.pkl...\n",
      "    Found them! Loading cached version\n",
      "[i] Looking for positional encodings in /home/xdoni4/m1p/graph-neural-pde/data/pos_encodings/Cora_GDC.pkl...\n",
      "    Found them! Loading cached version\n",
      "[i] Looking for positional encodings in /home/xdoni4/m1p/graph-neural-pde/data/pos_encodings/Cora_GDC.pkl...\n",
      "    Found them! Loading cached version\n",
      "[i] Looking for positional encodings in /home/xdoni4/m1p/graph-neural-pde/data/pos_encodings/Cora_GDC.pkl...\n",
      "    Found them! Loading cached version\n",
      "[i] Looking for positional encodings in /home/xdoni4/m1p/graph-neural-pde/data/pos_encodings/Cora_GDC.pkl...\n",
      "    Found them! Loading cached version\n",
      "[i] Looking for positional encodings in /home/xdoni4/m1p/graph-neural-pde/data/pos_encodings/Cora_GDC.pkl...\n",
      "    Found them! Loading cached version\n",
      "[i] Looking for positional encodings in /home/xdoni4/m1p/graph-neural-pde/data/pos_encodings/Cora_GDC.pkl...\n",
      "    Found them! Loading cached version\n",
      "[i] Looking for positional encodings in /home/xdoni4/m1p/graph-neural-pde/data/pos_encodings/Cora_GDC.pkl...\n",
      "    Found them! Loading cached version\n",
      "[i] Looking for positional encodings in /home/xdoni4/m1p/graph-neural-pde/data/pos_encodings/Cora_GDC.pkl...\n",
      "    Found them! Loading cached version\n",
      "[i] Looking for positional encodings in /home/xdoni4/m1p/graph-neural-pde/data/pos_encodings/Cora_GDC.pkl...\n",
      "    Found them! Loading cached version\n",
      "[i] Looking for positional encodings in /home/xdoni4/m1p/graph-neural-pde/data/pos_encodings/Cora_GDC.pkl...\n",
      "    Found them! Loading cached version\n",
      "[i] Looking for positional encodings in /home/xdoni4/m1p/graph-neural-pde/data/pos_encodings/Cora_GDC.pkl...\n",
      "    Found them! Loading cached version\n",
      "[i] Looking for positional encodings in /home/xdoni4/m1p/graph-neural-pde/data/pos_encodings/Cora_GDC.pkl...\n",
      "    Found them! Loading cached version\n",
      "[i] Looking for positional encodings in /home/xdoni4/m1p/graph-neural-pde/data/pos_encodings/Cora_GDC.pkl...\n",
      "    Found them! Loading cached version\n",
      "[i] Looking for positional encodings in /home/xdoni4/m1p/graph-neural-pde/data/pos_encodings/Cora_GDC.pkl...\n",
      "    Found them! Loading cached version\n",
      "[i] Looking for positional encodings in /home/xdoni4/m1p/graph-neural-pde/data/pos_encodings/Cora_GDC.pkl...\n",
      "    Found them! Loading cached version\n",
      "[i] Looking for positional encodings in /home/xdoni4/m1p/graph-neural-pde/data/pos_encodings/Cora_GDC.pkl...\n",
      "    Found them! Loading cached version\n",
      "[i] Looking for positional encodings in /home/xdoni4/m1p/graph-neural-pde/data/pos_encodings/Cora_GDC.pkl...\n",
      "    Found them! Loading cached version\n",
      "[i] Looking for positional encodings in /home/xdoni4/m1p/graph-neural-pde/data/pos_encodings/Cora_GDC.pkl...\n",
      "    Found them! Loading cached version\n",
      "[i] Looking for positional encodings in /home/xdoni4/m1p/graph-neural-pde/data/pos_encodings/Cora_GDC.pkl...\n",
      "    Found them! Loading cached version\n",
      "[i] Looking for positional encodings in /home/xdoni4/m1p/graph-neural-pde/data/pos_encodings/Cora_GDC.pkl...\n",
      "    Found them! Loading cached version\n",
      "[i] Looking for positional encodings in /home/xdoni4/m1p/graph-neural-pde/data/pos_encodings/Cora_GDC.pkl...\n",
      "    Found them! Loading cached version\n",
      "[i] Looking for positional encodings in /home/xdoni4/m1p/graph-neural-pde/data/pos_encodings/Cora_GDC.pkl...\n",
      "    Found them! Loading cached version\n",
      "[i] Looking for positional encodings in /home/xdoni4/m1p/graph-neural-pde/data/pos_encodings/Cora_GDC.pkl...\n",
      "    Found them! Loading cached version\n",
      "[i] Looking for positional encodings in /home/xdoni4/m1p/graph-neural-pde/data/pos_encodings/Cora_GDC.pkl...\n",
      "    Found them! Loading cached version\n",
      "[i] Looking for positional encodings in /home/xdoni4/m1p/graph-neural-pde/data/pos_encodings/Cora_GDC.pkl...\n",
      "    Found them! Loading cached version\n",
      "[i] Looking for positional encodings in /home/xdoni4/m1p/graph-neural-pde/data/pos_encodings/Cora_GDC.pkl...\n",
      "    Found them! Loading cached version\n",
      "[i] Looking for positional encodings in /home/xdoni4/m1p/graph-neural-pde/data/pos_encodings/Cora_GDC.pkl...\n",
      "    Found them! Loading cached version\n",
      "[i] Looking for positional encodings in /home/xdoni4/m1p/graph-neural-pde/data/pos_encodings/Cora_GDC.pkl...\n",
      "    Found them! Loading cached version\n",
      "[i] Looking for positional encodings in /home/xdoni4/m1p/graph-neural-pde/data/pos_encodings/Cora_GDC.pkl...\n",
      "    Found them! Loading cached version\n",
      "[i] Looking for positional encodings in /home/xdoni4/m1p/graph-neural-pde/data/pos_encodings/Cora_GDC.pkl...\n",
      "    Found them! Loading cached version\n",
      "[i] Looking for positional encodings in /home/xdoni4/m1p/graph-neural-pde/data/pos_encodings/Cora_GDC.pkl...\n",
      "    Found them! Loading cached version\n",
      "[i] Looking for positional encodings in /home/xdoni4/m1p/graph-neural-pde/data/pos_encodings/Cora_GDC.pkl...\n",
      "    Found them! Loading cached version\n",
      "[i] Looking for positional encodings in /home/xdoni4/m1p/graph-neural-pde/data/pos_encodings/Cora_GDC.pkl...\n",
      "    Found them! Loading cached version\n",
      "[i] Looking for positional encodings in /home/xdoni4/m1p/graph-neural-pde/data/pos_encodings/Cora_GDC.pkl...\n",
      "    Found them! Loading cached version\n",
      "[i] Looking for positional encodings in /home/xdoni4/m1p/graph-neural-pde/data/pos_encodings/Cora_GDC.pkl...\n",
      "    Found them! Loading cached version\n",
      "[i] Looking for positional encodings in /home/xdoni4/m1p/graph-neural-pde/data/pos_encodings/Cora_GDC.pkl...\n",
      "    Found them! Loading cached version\n",
      "[i] Looking for positional encodings in /home/xdoni4/m1p/graph-neural-pde/data/pos_encodings/Cora_GDC.pkl...\n",
      "    Found them! Loading cached version\n",
      "[i] Looking for positional encodings in /home/xdoni4/m1p/graph-neural-pde/data/pos_encodings/Cora_GDC.pkl...\n",
      "    Found them! Loading cached version\n",
      "[i] Looking for positional encodings in /home/xdoni4/m1p/graph-neural-pde/data/pos_encodings/Cora_GDC.pkl...\n",
      "    Found them! Loading cached version\n",
      "[i] Looking for positional encodings in /home/xdoni4/m1p/graph-neural-pde/data/pos_encodings/Cora_GDC.pkl...\n",
      "    Found them! Loading cached version\n",
      "[i] Looking for positional encodings in /home/xdoni4/m1p/graph-neural-pde/data/pos_encodings/Cora_GDC.pkl...\n",
      "    Found them! Loading cached version\n",
      "[i] Looking for positional encodings in /home/xdoni4/m1p/graph-neural-pde/data/pos_encodings/Cora_GDC.pkl...\n",
      "    Found them! Loading cached version\n",
      "[i] Looking for positional encodings in /home/xdoni4/m1p/graph-neural-pde/data/pos_encodings/Cora_GDC.pkl...\n",
      "    Found them! Loading cached version\n",
      "[i] Looking for positional encodings in /home/xdoni4/m1p/graph-neural-pde/data/pos_encodings/Cora_GDC.pkl...\n",
      "    Found them! Loading cached version\n",
      "[i] Looking for positional encodings in /home/xdoni4/m1p/graph-neural-pde/data/pos_encodings/Cora_GDC.pkl...\n",
      "    Found them! Loading cached version\n",
      "[i] Looking for positional encodings in /home/xdoni4/m1p/graph-neural-pde/data/pos_encodings/Cora_GDC.pkl...\n",
      "    Found them! Loading cached version\n",
      "[i] Looking for positional encodings in /home/xdoni4/m1p/graph-neural-pde/data/pos_encodings/Cora_GDC.pkl...\n",
      "    Found them! Loading cached version\n",
      "[i] Looking for positional encodings in /home/xdoni4/m1p/graph-neural-pde/data/pos_encodings/Cora_GDC.pkl...\n",
      "    Found them! Loading cached version\n",
      "[i] Looking for positional encodings in /home/xdoni4/m1p/graph-neural-pde/data/pos_encodings/Cora_GDC.pkl...\n",
      "    Found them! Loading cached version\n",
      "[i] Looking for positional encodings in /home/xdoni4/m1p/graph-neural-pde/data/pos_encodings/Cora_GDC.pkl...\n",
      "    Found them! Loading cached version\n",
      "[i] Looking for positional encodings in /home/xdoni4/m1p/graph-neural-pde/data/pos_encodings/Cora_GDC.pkl...\n",
      "    Found them! Loading cached version\n",
      "[i] Looking for positional encodings in /home/xdoni4/m1p/graph-neural-pde/data/pos_encodings/Cora_GDC.pkl...\n",
      "    Found them! Loading cached version\n",
      "[i] Looking for positional encodings in /home/xdoni4/m1p/graph-neural-pde/data/pos_encodings/Cora_GDC.pkl...\n",
      "    Found them! Loading cached version\n",
      "[i] Looking for positional encodings in /home/xdoni4/m1p/graph-neural-pde/data/pos_encodings/Cora_GDC.pkl...\n",
      "    Found them! Loading cached version\n",
      "[i] Looking for positional encodings in /home/xdoni4/m1p/graph-neural-pde/data/pos_encodings/Cora_GDC.pkl...\n",
      "    Found them! Loading cached version\n",
      "[i] Looking for positional encodings in /home/xdoni4/m1p/graph-neural-pde/data/pos_encodings/Cora_GDC.pkl...\n",
      "    Found them! Loading cached version\n",
      "[i] Looking for positional encodings in /home/xdoni4/m1p/graph-neural-pde/data/pos_encodings/Cora_GDC.pkl...\n",
      "    Found them! Loading cached version\n",
      "[i] Looking for positional encodings in /home/xdoni4/m1p/graph-neural-pde/data/pos_encodings/Cora_GDC.pkl...\n",
      "    Found them! Loading cached version\n",
      "[i] Looking for positional encodings in /home/xdoni4/m1p/graph-neural-pde/data/pos_encodings/Cora_GDC.pkl...\n",
      "    Found them! Loading cached version\n",
      "[i] Looking for positional encodings in /home/xdoni4/m1p/graph-neural-pde/data/pos_encodings/Cora_GDC.pkl...\n",
      "    Found them! Loading cached version\n",
      "[i] Looking for positional encodings in /home/xdoni4/m1p/graph-neural-pde/data/pos_encodings/Cora_GDC.pkl...\n",
      "    Found them! Loading cached version\n",
      "[i] Looking for positional encodings in /home/xdoni4/m1p/graph-neural-pde/data/pos_encodings/Cora_GDC.pkl...\n",
      "    Found them! Loading cached version\n",
      "[i] Looking for positional encodings in /home/xdoni4/m1p/graph-neural-pde/data/pos_encodings/Cora_GDC.pkl...\n",
      "    Found them! Loading cached version\n",
      "[i] Looking for positional encodings in /home/xdoni4/m1p/graph-neural-pde/data/pos_encodings/Cora_GDC.pkl...\n",
      "    Found them! Loading cached version\n",
      "[i] Looking for positional encodings in /home/xdoni4/m1p/graph-neural-pde/data/pos_encodings/Cora_GDC.pkl...\n",
      "    Found them! Loading cached version\n",
      "[i] Looking for positional encodings in /home/xdoni4/m1p/graph-neural-pde/data/pos_encodings/Cora_GDC.pkl...\n",
      "    Found them! Loading cached version\n",
      "[i] Looking for positional encodings in /home/xdoni4/m1p/graph-neural-pde/data/pos_encodings/Cora_GDC.pkl...\n",
      "    Found them! Loading cached version\n",
      "[i] Looking for positional encodings in /home/xdoni4/m1p/graph-neural-pde/data/pos_encodings/Cora_GDC.pkl...\n",
      "    Found them! Loading cached version\n",
      "[i] Looking for positional encodings in /home/xdoni4/m1p/graph-neural-pde/data/pos_encodings/Cora_GDC.pkl...\n",
      "    Found them! Loading cached version\n",
      "[i] Looking for positional encodings in /home/xdoni4/m1p/graph-neural-pde/data/pos_encodings/Cora_GDC.pkl...\n",
      "    Found them! Loading cached version\n",
      "[i] Looking for positional encodings in /home/xdoni4/m1p/graph-neural-pde/data/pos_encodings/Cora_GDC.pkl...\n",
      "    Found them! Loading cached version\n",
      "[i] Looking for positional encodings in /home/xdoni4/m1p/graph-neural-pde/data/pos_encodings/Cora_GDC.pkl...\n",
      "    Found them! Loading cached version\n",
      "[i] Looking for positional encodings in /home/xdoni4/m1p/graph-neural-pde/data/pos_encodings/Cora_GDC.pkl...\n",
      "    Found them! Loading cached version\n",
      "[i] Looking for positional encodings in /home/xdoni4/m1p/graph-neural-pde/data/pos_encodings/Cora_GDC.pkl...\n",
      "    Found them! Loading cached version\n",
      "[i] Looking for positional encodings in /home/xdoni4/m1p/graph-neural-pde/data/pos_encodings/Cora_GDC.pkl...\n",
      "    Found them! Loading cached version\n",
      "[i] Looking for positional encodings in /home/xdoni4/m1p/graph-neural-pde/data/pos_encodings/Cora_GDC.pkl...\n",
      "    Found them! Loading cached version\n",
      "[i] Looking for positional encodings in /home/xdoni4/m1p/graph-neural-pde/data/pos_encodings/Cora_GDC.pkl...\n",
      "    Found them! Loading cached version\n",
      "[i] Looking for positional encodings in /home/xdoni4/m1p/graph-neural-pde/data/pos_encodings/Cora_GDC.pkl...\n",
      "    Found them! Loading cached version\n",
      "[i] Looking for positional encodings in /home/xdoni4/m1p/graph-neural-pde/data/pos_encodings/Cora_GDC.pkl...\n",
      "    Found them! Loading cached version\n",
      "[i] Looking for positional encodings in /home/xdoni4/m1p/graph-neural-pde/data/pos_encodings/Cora_GDC.pkl...\n",
      "    Found them! Loading cached version\n",
      "[i] Looking for positional encodings in /home/xdoni4/m1p/graph-neural-pde/data/pos_encodings/Cora_GDC.pkl...\n",
      "    Found them! Loading cached version\n",
      "[i] Looking for positional encodings in /home/xdoni4/m1p/graph-neural-pde/data/pos_encodings/Cora_GDC.pkl...\n",
      "    Found them! Loading cached version\n",
      "[i] Looking for positional encodings in /home/xdoni4/m1p/graph-neural-pde/data/pos_encodings/Cora_GDC.pkl...\n",
      "    Found them! Loading cached version\n",
      "[i] Looking for positional encodings in /home/xdoni4/m1p/graph-neural-pde/data/pos_encodings/Cora_GDC.pkl...\n",
      "    Found them! Loading cached version\n",
      "[i] Looking for positional encodings in /home/xdoni4/m1p/graph-neural-pde/data/pos_encodings/Cora_GDC.pkl...\n",
      "    Found them! Loading cached version\n",
      "[i] Looking for positional encodings in /home/xdoni4/m1p/graph-neural-pde/data/pos_encodings/Cora_GDC.pkl...\n",
      "    Found them! Loading cached version\n",
      "[i] Looking for positional encodings in /home/xdoni4/m1p/graph-neural-pde/data/pos_encodings/Cora_GDC.pkl...\n",
      "    Found them! Loading cached version\n",
      "[i] Looking for positional encodings in /home/xdoni4/m1p/graph-neural-pde/data/pos_encodings/Cora_GDC.pkl...\n",
      "    Found them! Loading cached version\n",
      "[i] Looking for positional encodings in /home/xdoni4/m1p/graph-neural-pde/data/pos_encodings/Cora_GDC.pkl...\n",
      "    Found them! Loading cached version\n",
      "[i] Looking for positional encodings in /home/xdoni4/m1p/graph-neural-pde/data/pos_encodings/Cora_GDC.pkl...\n",
      "    Found them! Loading cached version\n",
      "[i] Looking for positional encodings in /home/xdoni4/m1p/graph-neural-pde/data/pos_encodings/Cora_GDC.pkl...\n",
      "    Found them! Loading cached version\n",
      "[i] Looking for positional encodings in /home/xdoni4/m1p/graph-neural-pde/data/pos_encodings/Cora_GDC.pkl...\n",
      "    Found them! Loading cached version\n",
      "[i] Looking for positional encodings in /home/xdoni4/m1p/graph-neural-pde/data/pos_encodings/Cora_GDC.pkl...\n",
      "    Found them! Loading cached version\n",
      "[i] Looking for positional encodings in /home/xdoni4/m1p/graph-neural-pde/data/pos_encodings/Cora_GDC.pkl...\n",
      "    Found them! Loading cached version\n",
      "[i] Looking for positional encodings in /home/xdoni4/m1p/graph-neural-pde/data/pos_encodings/Cora_GDC.pkl...\n",
      "    Found them! Loading cached version\n",
      "[i] Looking for positional encodings in /home/xdoni4/m1p/graph-neural-pde/data/pos_encodings/Cora_GDC.pkl...\n",
      "    Found them! Loading cached version\n",
      "[i] Looking for positional encodings in /home/xdoni4/m1p/graph-neural-pde/data/pos_encodings/Cora_GDC.pkl...\n",
      "    Found them! Loading cached version\n",
      "[i] Looking for positional encodings in /home/xdoni4/m1p/graph-neural-pde/data/pos_encodings/Cora_GDC.pkl...\n",
      "    Found them! Loading cached version\n",
      "[i] Looking for positional encodings in /home/xdoni4/m1p/graph-neural-pde/data/pos_encodings/Cora_GDC.pkl...\n",
      "    Found them! Loading cached version\n",
      "[i] Looking for positional encodings in /home/xdoni4/m1p/graph-neural-pde/data/pos_encodings/Cora_GDC.pkl...\n",
      "    Found them! Loading cached version\n",
      "[i] Looking for positional encodings in /home/xdoni4/m1p/graph-neural-pde/data/pos_encodings/Cora_GDC.pkl...\n",
      "    Found them! Loading cached version\n",
      "[i] Looking for positional encodings in /home/xdoni4/m1p/graph-neural-pde/data/pos_encodings/Cora_GDC.pkl...\n",
      "    Found them! Loading cached version\n",
      "[i] Looking for positional encodings in /home/xdoni4/m1p/graph-neural-pde/data/pos_encodings/Cora_GDC.pkl...\n",
      "    Found them! Loading cached version\n",
      "[i] Looking for positional encodings in /home/xdoni4/m1p/graph-neural-pde/data/pos_encodings/Cora_GDC.pkl...\n",
      "    Found them! Loading cached version\n",
      "[i] Looking for positional encodings in /home/xdoni4/m1p/graph-neural-pde/data/pos_encodings/Cora_GDC.pkl...\n",
      "    Found them! Loading cached version\n",
      "[i] Looking for positional encodings in /home/xdoni4/m1p/graph-neural-pde/data/pos_encodings/Cora_GDC.pkl...\n",
      "    Found them! Loading cached version\n",
      "[i] Looking for positional encodings in /home/xdoni4/m1p/graph-neural-pde/data/pos_encodings/Cora_GDC.pkl...\n",
      "    Found them! Loading cached version\n",
      "[i] Looking for positional encodings in /home/xdoni4/m1p/graph-neural-pde/data/pos_encodings/Cora_GDC.pkl...\n",
      "    Found them! Loading cached version\n",
      "[i] Looking for positional encodings in /home/xdoni4/m1p/graph-neural-pde/data/pos_encodings/Cora_GDC.pkl...\n",
      "    Found them! Loading cached version\n",
      "[i] Looking for positional encodings in /home/xdoni4/m1p/graph-neural-pde/data/pos_encodings/Cora_GDC.pkl...\n",
      "    Found them! Loading cached version\n",
      "[i] Looking for positional encodings in /home/xdoni4/m1p/graph-neural-pde/data/pos_encodings/Cora_GDC.pkl...\n",
      "    Found them! Loading cached version\n",
      "[i] Looking for positional encodings in /home/xdoni4/m1p/graph-neural-pde/data/pos_encodings/Cora_GDC.pkl...\n",
      "    Found them! Loading cached version\n",
      "[i] Looking for positional encodings in /home/xdoni4/m1p/graph-neural-pde/data/pos_encodings/Cora_GDC.pkl...\n",
      "    Found them! Loading cached version\n",
      "[i] Looking for positional encodings in /home/xdoni4/m1p/graph-neural-pde/data/pos_encodings/Cora_GDC.pkl...\n",
      "    Found them! Loading cached version\n",
      "[i] Looking for positional encodings in /home/xdoni4/m1p/graph-neural-pde/data/pos_encodings/Cora_GDC.pkl...\n",
      "    Found them! Loading cached version\n",
      "[i] Looking for positional encodings in /home/xdoni4/m1p/graph-neural-pde/data/pos_encodings/Cora_GDC.pkl...\n",
      "    Found them! Loading cached version\n",
      "[i] Looking for positional encodings in /home/xdoni4/m1p/graph-neural-pde/data/pos_encodings/Cora_GDC.pkl...\n",
      "    Found them! Loading cached version\n",
      "[i] Looking for positional encodings in /home/xdoni4/m1p/graph-neural-pde/data/pos_encodings/Cora_GDC.pkl...\n",
      "    Found them! Loading cached version\n",
      "[i] Looking for positional encodings in /home/xdoni4/m1p/graph-neural-pde/data/pos_encodings/Cora_GDC.pkl...\n",
      "    Found them! Loading cached version\n",
      "[i] Looking for positional encodings in /home/xdoni4/m1p/graph-neural-pde/data/pos_encodings/Cora_GDC.pkl...\n",
      "    Found them! Loading cached version\n",
      "[i] Looking for positional encodings in /home/xdoni4/m1p/graph-neural-pde/data/pos_encodings/Cora_GDC.pkl...\n",
      "    Found them! Loading cached version\n",
      "[i] Looking for positional encodings in /home/xdoni4/m1p/graph-neural-pde/data/pos_encodings/Cora_GDC.pkl...\n",
      "    Found them! Loading cached version\n",
      "[i] Looking for positional encodings in /home/xdoni4/m1p/graph-neural-pde/data/pos_encodings/Cora_GDC.pkl...\n",
      "    Found them! Loading cached version\n",
      "[i] Looking for positional encodings in /home/xdoni4/m1p/graph-neural-pde/data/pos_encodings/Cora_GDC.pkl...\n",
      "    Found them! Loading cached version\n",
      "[i] Looking for positional encodings in /home/xdoni4/m1p/graph-neural-pde/data/pos_encodings/Cora_GDC.pkl...\n",
      "    Found them! Loading cached version\n",
      "[i] Looking for positional encodings in /home/xdoni4/m1p/graph-neural-pde/data/pos_encodings/Cora_GDC.pkl...\n",
      "    Found them! Loading cached version\n",
      "[i] Looking for positional encodings in /home/xdoni4/m1p/graph-neural-pde/data/pos_encodings/Cora_GDC.pkl...\n",
      "    Found them! Loading cached version\n",
      "[i] Looking for positional encodings in /home/xdoni4/m1p/graph-neural-pde/data/pos_encodings/Cora_GDC.pkl...\n",
      "    Found them! Loading cached version\n",
      "[i] Looking for positional encodings in /home/xdoni4/m1p/graph-neural-pde/data/pos_encodings/Cora_GDC.pkl...\n",
      "    Found them! Loading cached version\n",
      "[i] Looking for positional encodings in /home/xdoni4/m1p/graph-neural-pde/data/pos_encodings/Cora_GDC.pkl...\n",
      "    Found them! Loading cached version\n",
      "[i] Looking for positional encodings in /home/xdoni4/m1p/graph-neural-pde/data/pos_encodings/Cora_GDC.pkl...\n",
      "    Found them! Loading cached version\n",
      "[i] Looking for positional encodings in /home/xdoni4/m1p/graph-neural-pde/data/pos_encodings/Cora_GDC.pkl...\n",
      "    Found them! Loading cached version\n",
      "[i] Looking for positional encodings in /home/xdoni4/m1p/graph-neural-pde/data/pos_encodings/Cora_GDC.pkl...\n",
      "    Found them! Loading cached version\n",
      "[i] Looking for positional encodings in /home/xdoni4/m1p/graph-neural-pde/data/pos_encodings/Cora_GDC.pkl...\n",
      "    Found them! Loading cached version\n",
      "[i] Looking for positional encodings in /home/xdoni4/m1p/graph-neural-pde/data/pos_encodings/Cora_GDC.pkl...\n",
      "    Found them! Loading cached version\n"
     ]
    },
    {
     "name": "stderr",
     "output_type": "stream",
     "text": [
      "  0%|          | 0/89 [00:00<?, ?it/s]/home/xdoni4/miniconda3/envs/m1p/lib/python3.9/site-packages/torchdiffeq/_impl/misc.py:11: UserWarning: Dopri5Solver: Unexpected arguments {'step_size': 1, 'max_iters': 100}\n",
      "  warnings.warn('{}: Unexpected arguments {}'.format(solver.__class__.__name__, unused_kwargs))\n",
      "100%|██████████| 89/89 [13:13<00:00,  8.92s/it]\n"
     ]
    },
    {
     "name": "stdout",
     "output_type": "stream",
     "text": [
      "TRAIN: epoch = 1, loss = 0.67, accuracy = 0.629, f1 = 0.458\n"
     ]
    },
    {
     "name": "stderr",
     "output_type": "stream",
     "text": [
      "/home/xdoni4/miniconda3/envs/m1p/lib/python3.9/site-packages/torchdiffeq/_impl/misc.py:11: UserWarning: Dopri5Solver: Unexpected arguments {'step_size': 1, 'max_iters': 100}\n",
      "  warnings.warn('{}: Unexpected arguments {}'.format(solver.__class__.__name__, unused_kwargs))\n"
     ]
    },
    {
     "name": "stdout",
     "output_type": "stream",
     "text": [
      "TEST: loss = 0.645, accuracy = 0.633, f1 = 0.388\n",
      "--------------------------------------------------\n",
      "\n",
      "===================================================================================\n",
      "\n",
      "Building adjacencies T=15\n"
     ]
    },
    {
     "name": "stderr",
     "output_type": "stream",
     "text": [
      "100%|██████████| 89/89 [00:04<00:00, 19.87it/s]\n"
     ]
    },
    {
     "name": "stdout",
     "output_type": "stream",
     "text": [
      "(89, 241, 32, 32)\n"
     ]
    },
    {
     "name": "stderr",
     "output_type": "stream",
     "text": [
      "100%|██████████| 30/30 [00:01<00:00, 20.33it/s]\n"
     ]
    },
    {
     "name": "stdout",
     "output_type": "stream",
     "text": [
      "(30, 241, 32, 32)\n",
      "T=15, alpha=0.8, NF=1, sigma=0\n",
      "Running GCN\n",
      "241\n",
      "\n",
      "===================================================================================\n",
      "\n"
     ]
    },
    {
     "name": "stderr",
     "output_type": "stream",
     "text": [
      "100%|██████████| 89/89 [00:11<00:00,  7.60it/s]\n"
     ]
    },
    {
     "name": "stdout",
     "output_type": "stream",
     "text": [
      "TRAIN: epoch = 1, loss = 0.698, accuracy = 0.517, f1 = 0.516\n",
      "TEST: loss = 0.706, accuracy = 0.433, f1 = 0.302\n",
      "--------------------------------------------------\n"
     ]
    },
    {
     "name": "stderr",
     "output_type": "stream",
     "text": [
      "100%|██████████| 89/89 [00:06<00:00, 14.49it/s]\n"
     ]
    },
    {
     "name": "stdout",
     "output_type": "stream",
     "text": [
      "TRAIN: epoch = 2, loss = 0.629, accuracy = 0.618, f1 = 0.538\n",
      "TEST: loss = 0.716, accuracy = 0.5, f1 = 0.333\n",
      "--------------------------------------------------\n"
     ]
    },
    {
     "name": "stderr",
     "output_type": "stream",
     "text": [
      "100%|██████████| 89/89 [00:05<00:00, 15.46it/s]\n"
     ]
    },
    {
     "name": "stdout",
     "output_type": "stream",
     "text": [
      "TRAIN: epoch = 3, loss = 0.587, accuracy = 0.685, f1 = 0.628\n",
      "TEST: loss = 0.726, accuracy = 0.5, f1 = 0.333\n",
      "--------------------------------------------------\n"
     ]
    },
    {
     "name": "stderr",
     "output_type": "stream",
     "text": [
      "100%|██████████| 89/89 [00:05<00:00, 16.82it/s]\n"
     ]
    },
    {
     "name": "stdout",
     "output_type": "stream",
     "text": [
      "TRAIN: epoch = 4, loss = 0.554, accuracy = 0.742, f1 = 0.703\n",
      "TEST: loss = 0.722, accuracy = 0.467, f1 = 0.318\n",
      "--------------------------------------------------\n"
     ]
    },
    {
     "name": "stderr",
     "output_type": "stream",
     "text": [
      "100%|██████████| 89/89 [00:03<00:00, 24.06it/s]\n"
     ]
    },
    {
     "name": "stdout",
     "output_type": "stream",
     "text": [
      "TRAIN: epoch = 5, loss = 0.513, accuracy = 0.775, f1 = 0.749\n",
      "TEST: loss = 0.718, accuracy = 0.467, f1 = 0.365\n",
      "--------------------------------------------------\n"
     ]
    },
    {
     "name": "stderr",
     "output_type": "stream",
     "text": [
      "100%|██████████| 89/89 [00:03<00:00, 24.62it/s]\n"
     ]
    },
    {
     "name": "stdout",
     "output_type": "stream",
     "text": [
      "TRAIN: epoch = 6, loss = 0.482, accuracy = 0.82, f1 = 0.799\n",
      "TEST: loss = 0.715, accuracy = 0.533, f1 = 0.444\n",
      "--------------------------------------------------\n"
     ]
    },
    {
     "name": "stderr",
     "output_type": "stream",
     "text": [
      "100%|██████████| 89/89 [00:08<00:00, 10.85it/s]\n"
     ]
    },
    {
     "name": "stdout",
     "output_type": "stream",
     "text": [
      "TRAIN: epoch = 7, loss = 0.434, accuracy = 0.854, f1 = 0.835\n",
      "TEST: loss = 0.689, accuracy = 0.6, f1 = 0.524\n",
      "--------------------------------------------------\n"
     ]
    },
    {
     "name": "stderr",
     "output_type": "stream",
     "text": [
      "100%|██████████| 89/89 [00:08<00:00, 10.35it/s]\n"
     ]
    },
    {
     "name": "stdout",
     "output_type": "stream",
     "text": [
      "TRAIN: epoch = 8, loss = 0.388, accuracy = 0.865, f1 = 0.852\n",
      "TEST: loss = 0.683, accuracy = 0.6, f1 = 0.524\n",
      "--------------------------------------------------\n"
     ]
    },
    {
     "name": "stderr",
     "output_type": "stream",
     "text": [
      "100%|██████████| 89/89 [00:13<00:00,  6.69it/s]\n"
     ]
    },
    {
     "name": "stdout",
     "output_type": "stream",
     "text": [
      "TRAIN: epoch = 9, loss = 0.332, accuracy = 0.865, f1 = 0.847\n",
      "TEST: loss = 0.696, accuracy = 0.633, f1 = 0.549\n",
      "--------------------------------------------------\n"
     ]
    },
    {
     "name": "stderr",
     "output_type": "stream",
     "text": [
      "100%|██████████| 89/89 [00:05<00:00, 16.50it/s]\n"
     ]
    },
    {
     "name": "stdout",
     "output_type": "stream",
     "text": [
      "TRAIN: epoch = 10, loss = 0.31, accuracy = 0.91, f1 = 0.901\n",
      "TEST: loss = 0.702, accuracy = 0.667, f1 = 0.574\n",
      "--------------------------------------------------\n",
      "\n",
      "===================================================================================\n",
      "\n",
      "Running GRAND\n",
      "241\n",
      "\n",
      "===================================================================================\n",
      "\n"
     ]
    },
    {
     "name": "stderr",
     "output_type": "stream",
     "text": [
      "  0%|          | 0/89 [00:00<?, ?it/s]/home/xdoni4/miniconda3/envs/m1p/lib/python3.9/site-packages/torchdiffeq/_impl/misc.py:11: UserWarning: Dopri5Solver: Unexpected arguments {'step_size': 1, 'max_iters': 100}\n",
      "  warnings.warn('{}: Unexpected arguments {}'.format(solver.__class__.__name__, unused_kwargs))\n",
      "100%|██████████| 89/89 [09:02<00:00,  6.09s/it]\n"
     ]
    },
    {
     "name": "stdout",
     "output_type": "stream",
     "text": [
      "TRAIN: epoch = 1, loss = 0.691, accuracy = 0.506, f1 = 0.388\n"
     ]
    },
    {
     "name": "stderr",
     "output_type": "stream",
     "text": [
      "/home/xdoni4/miniconda3/envs/m1p/lib/python3.9/site-packages/torchdiffeq/_impl/misc.py:11: UserWarning: Dopri5Solver: Unexpected arguments {'step_size': 1, 'max_iters': 100}\n",
      "  warnings.warn('{}: Unexpected arguments {}'.format(solver.__class__.__name__, unused_kwargs))\n"
     ]
    },
    {
     "name": "stdout",
     "output_type": "stream",
     "text": [
      "TEST: loss = 0.662, accuracy = 0.633, f1 = 0.388\n",
      "--------------------------------------------------\n"
     ]
    },
    {
     "name": "stderr",
     "output_type": "stream",
     "text": [
      "  0%|          | 0/89 [00:00<?, ?it/s]/home/xdoni4/miniconda3/envs/m1p/lib/python3.9/site-packages/torchdiffeq/_impl/misc.py:11: UserWarning: Dopri5Solver: Unexpected arguments {'step_size': 1, 'max_iters': 100}\n",
      "  warnings.warn('{}: Unexpected arguments {}'.format(solver.__class__.__name__, unused_kwargs))\n",
      "100%|██████████| 89/89 [08:20<00:00,  5.62s/it]\n"
     ]
    },
    {
     "name": "stdout",
     "output_type": "stream",
     "text": [
      "TRAIN: epoch = 2, loss = 0.623, accuracy = 0.64, f1 = 0.418\n"
     ]
    },
    {
     "name": "stderr",
     "output_type": "stream",
     "text": [
      "/home/xdoni4/miniconda3/envs/m1p/lib/python3.9/site-packages/torchdiffeq/_impl/misc.py:11: UserWarning: Dopri5Solver: Unexpected arguments {'step_size': 1, 'max_iters': 100}\n",
      "  warnings.warn('{}: Unexpected arguments {}'.format(solver.__class__.__name__, unused_kwargs))\n"
     ]
    },
    {
     "name": "stdout",
     "output_type": "stream",
     "text": [
      "TEST: loss = 0.647, accuracy = 0.633, f1 = 0.388\n",
      "--------------------------------------------------\n"
     ]
    },
    {
     "name": "stderr",
     "output_type": "stream",
     "text": [
      "  0%|          | 0/89 [00:00<?, ?it/s]/home/xdoni4/miniconda3/envs/m1p/lib/python3.9/site-packages/torchdiffeq/_impl/misc.py:11: UserWarning: Dopri5Solver: Unexpected arguments {'step_size': 1, 'max_iters': 100}\n",
      "  warnings.warn('{}: Unexpected arguments {}'.format(solver.__class__.__name__, unused_kwargs))\n",
      "100%|██████████| 89/89 [08:21<00:00,  5.64s/it]\n"
     ]
    },
    {
     "name": "stdout",
     "output_type": "stream",
     "text": [
      "TRAIN: epoch = 3, loss = 0.575, accuracy = 0.685, f1 = 0.532\n"
     ]
    },
    {
     "name": "stderr",
     "output_type": "stream",
     "text": [
      "/home/xdoni4/miniconda3/envs/m1p/lib/python3.9/site-packages/torchdiffeq/_impl/misc.py:11: UserWarning: Dopri5Solver: Unexpected arguments {'step_size': 1, 'max_iters': 100}\n",
      "  warnings.warn('{}: Unexpected arguments {}'.format(solver.__class__.__name__, unused_kwargs))\n"
     ]
    },
    {
     "name": "stdout",
     "output_type": "stream",
     "text": [
      "TEST: loss = 0.643, accuracy = 0.633, f1 = 0.388\n",
      "--------------------------------------------------\n",
      "\n",
      "===================================================================================\n",
      "\n",
      "Running BLEND\n",
      "241\n",
      "\n",
      "===================================================================================\n",
      "\n",
      "[i] Looking for positional encodings in /home/xdoni4/m1p/graph-neural-pde/data/pos_encodings/Cora_GDC.pkl...\n",
      "    Found them! Loading cached version\n",
      "[i] Looking for positional encodings in /home/xdoni4/m1p/graph-neural-pde/data/pos_encodings/Cora_GDC.pkl...\n",
      "    Found them! Loading cached version\n",
      "[i] Looking for positional encodings in /home/xdoni4/m1p/graph-neural-pde/data/pos_encodings/Cora_GDC.pkl...\n",
      "    Found them! Loading cached version\n",
      "[i] Looking for positional encodings in /home/xdoni4/m1p/graph-neural-pde/data/pos_encodings/Cora_GDC.pkl...\n",
      "    Found them! Loading cached version\n",
      "[i] Looking for positional encodings in /home/xdoni4/m1p/graph-neural-pde/data/pos_encodings/Cora_GDC.pkl...\n",
      "    Found them! Loading cached version\n",
      "[i] Looking for positional encodings in /home/xdoni4/m1p/graph-neural-pde/data/pos_encodings/Cora_GDC.pkl...\n",
      "    Found them! Loading cached version\n",
      "[i] Looking for positional encodings in /home/xdoni4/m1p/graph-neural-pde/data/pos_encodings/Cora_GDC.pkl...\n",
      "    Found them! Loading cached version\n",
      "[i] Looking for positional encodings in /home/xdoni4/m1p/graph-neural-pde/data/pos_encodings/Cora_GDC.pkl...\n",
      "    Found them! Loading cached version\n",
      "[i] Looking for positional encodings in /home/xdoni4/m1p/graph-neural-pde/data/pos_encodings/Cora_GDC.pkl...\n",
      "    Found them! Loading cached version\n",
      "[i] Looking for positional encodings in /home/xdoni4/m1p/graph-neural-pde/data/pos_encodings/Cora_GDC.pkl...\n",
      "    Found them! Loading cached version\n",
      "[i] Looking for positional encodings in /home/xdoni4/m1p/graph-neural-pde/data/pos_encodings/Cora_GDC.pkl...\n",
      "    Found them! Loading cached version\n",
      "[i] Looking for positional encodings in /home/xdoni4/m1p/graph-neural-pde/data/pos_encodings/Cora_GDC.pkl...\n",
      "    Found them! Loading cached version\n",
      "[i] Looking for positional encodings in /home/xdoni4/m1p/graph-neural-pde/data/pos_encodings/Cora_GDC.pkl...\n",
      "    Found them! Loading cached version\n",
      "[i] Looking for positional encodings in /home/xdoni4/m1p/graph-neural-pde/data/pos_encodings/Cora_GDC.pkl...\n",
      "    Found them! Loading cached version\n",
      "[i] Looking for positional encodings in /home/xdoni4/m1p/graph-neural-pde/data/pos_encodings/Cora_GDC.pkl...\n",
      "    Found them! Loading cached version\n",
      "[i] Looking for positional encodings in /home/xdoni4/m1p/graph-neural-pde/data/pos_encodings/Cora_GDC.pkl...\n",
      "    Found them! Loading cached version\n",
      "[i] Looking for positional encodings in /home/xdoni4/m1p/graph-neural-pde/data/pos_encodings/Cora_GDC.pkl...\n",
      "    Found them! Loading cached version\n",
      "[i] Looking for positional encodings in /home/xdoni4/m1p/graph-neural-pde/data/pos_encodings/Cora_GDC.pkl...\n",
      "    Found them! Loading cached version\n",
      "[i] Looking for positional encodings in /home/xdoni4/m1p/graph-neural-pde/data/pos_encodings/Cora_GDC.pkl...\n",
      "    Found them! Loading cached version\n",
      "[i] Looking for positional encodings in /home/xdoni4/m1p/graph-neural-pde/data/pos_encodings/Cora_GDC.pkl...\n",
      "    Found them! Loading cached version\n",
      "[i] Looking for positional encodings in /home/xdoni4/m1p/graph-neural-pde/data/pos_encodings/Cora_GDC.pkl...\n",
      "    Found them! Loading cached version\n",
      "[i] Looking for positional encodings in /home/xdoni4/m1p/graph-neural-pde/data/pos_encodings/Cora_GDC.pkl...\n",
      "    Found them! Loading cached version\n",
      "[i] Looking for positional encodings in /home/xdoni4/m1p/graph-neural-pde/data/pos_encodings/Cora_GDC.pkl...\n",
      "    Found them! Loading cached version\n",
      "[i] Looking for positional encodings in /home/xdoni4/m1p/graph-neural-pde/data/pos_encodings/Cora_GDC.pkl...\n",
      "    Found them! Loading cached version\n",
      "[i] Looking for positional encodings in /home/xdoni4/m1p/graph-neural-pde/data/pos_encodings/Cora_GDC.pkl...\n",
      "    Found them! Loading cached version\n",
      "[i] Looking for positional encodings in /home/xdoni4/m1p/graph-neural-pde/data/pos_encodings/Cora_GDC.pkl...\n",
      "    Found them! Loading cached version\n",
      "[i] Looking for positional encodings in /home/xdoni4/m1p/graph-neural-pde/data/pos_encodings/Cora_GDC.pkl...\n",
      "    Found them! Loading cached version\n",
      "[i] Looking for positional encodings in /home/xdoni4/m1p/graph-neural-pde/data/pos_encodings/Cora_GDC.pkl...\n",
      "    Found them! Loading cached version\n",
      "[i] Looking for positional encodings in /home/xdoni4/m1p/graph-neural-pde/data/pos_encodings/Cora_GDC.pkl...\n",
      "    Found them! Loading cached version\n",
      "[i] Looking for positional encodings in /home/xdoni4/m1p/graph-neural-pde/data/pos_encodings/Cora_GDC.pkl...\n",
      "    Found them! Loading cached version\n",
      "[i] Looking for positional encodings in /home/xdoni4/m1p/graph-neural-pde/data/pos_encodings/Cora_GDC.pkl...\n",
      "    Found them! Loading cached version\n",
      "[i] Looking for positional encodings in /home/xdoni4/m1p/graph-neural-pde/data/pos_encodings/Cora_GDC.pkl...\n",
      "    Found them! Loading cached version\n",
      "[i] Looking for positional encodings in /home/xdoni4/m1p/graph-neural-pde/data/pos_encodings/Cora_GDC.pkl...\n",
      "    Found them! Loading cached version\n",
      "[i] Looking for positional encodings in /home/xdoni4/m1p/graph-neural-pde/data/pos_encodings/Cora_GDC.pkl...\n",
      "    Found them! Loading cached version\n",
      "[i] Looking for positional encodings in /home/xdoni4/m1p/graph-neural-pde/data/pos_encodings/Cora_GDC.pkl...\n",
      "    Found them! Loading cached version\n",
      "[i] Looking for positional encodings in /home/xdoni4/m1p/graph-neural-pde/data/pos_encodings/Cora_GDC.pkl...\n",
      "    Found them! Loading cached version\n",
      "[i] Looking for positional encodings in /home/xdoni4/m1p/graph-neural-pde/data/pos_encodings/Cora_GDC.pkl...\n",
      "    Found them! Loading cached version\n",
      "[i] Looking for positional encodings in /home/xdoni4/m1p/graph-neural-pde/data/pos_encodings/Cora_GDC.pkl...\n",
      "    Found them! Loading cached version\n",
      "[i] Looking for positional encodings in /home/xdoni4/m1p/graph-neural-pde/data/pos_encodings/Cora_GDC.pkl...\n",
      "    Found them! Loading cached version\n",
      "[i] Looking for positional encodings in /home/xdoni4/m1p/graph-neural-pde/data/pos_encodings/Cora_GDC.pkl...\n",
      "    Found them! Loading cached version\n",
      "[i] Looking for positional encodings in /home/xdoni4/m1p/graph-neural-pde/data/pos_encodings/Cora_GDC.pkl...\n",
      "    Found them! Loading cached version\n",
      "[i] Looking for positional encodings in /home/xdoni4/m1p/graph-neural-pde/data/pos_encodings/Cora_GDC.pkl...\n",
      "    Found them! Loading cached version\n",
      "[i] Looking for positional encodings in /home/xdoni4/m1p/graph-neural-pde/data/pos_encodings/Cora_GDC.pkl...\n",
      "    Found them! Loading cached version\n",
      "[i] Looking for positional encodings in /home/xdoni4/m1p/graph-neural-pde/data/pos_encodings/Cora_GDC.pkl...\n",
      "    Found them! Loading cached version\n",
      "[i] Looking for positional encodings in /home/xdoni4/m1p/graph-neural-pde/data/pos_encodings/Cora_GDC.pkl...\n",
      "    Found them! Loading cached version\n",
      "[i] Looking for positional encodings in /home/xdoni4/m1p/graph-neural-pde/data/pos_encodings/Cora_GDC.pkl...\n",
      "    Found them! Loading cached version\n",
      "[i] Looking for positional encodings in /home/xdoni4/m1p/graph-neural-pde/data/pos_encodings/Cora_GDC.pkl...\n",
      "    Found them! Loading cached version\n",
      "[i] Looking for positional encodings in /home/xdoni4/m1p/graph-neural-pde/data/pos_encodings/Cora_GDC.pkl...\n",
      "    Found them! Loading cached version\n",
      "[i] Looking for positional encodings in /home/xdoni4/m1p/graph-neural-pde/data/pos_encodings/Cora_GDC.pkl...\n",
      "    Found them! Loading cached version\n",
      "[i] Looking for positional encodings in /home/xdoni4/m1p/graph-neural-pde/data/pos_encodings/Cora_GDC.pkl...\n",
      "    Found them! Loading cached version\n",
      "[i] Looking for positional encodings in /home/xdoni4/m1p/graph-neural-pde/data/pos_encodings/Cora_GDC.pkl...\n",
      "    Found them! Loading cached version\n",
      "[i] Looking for positional encodings in /home/xdoni4/m1p/graph-neural-pde/data/pos_encodings/Cora_GDC.pkl...\n",
      "    Found them! Loading cached version\n",
      "[i] Looking for positional encodings in /home/xdoni4/m1p/graph-neural-pde/data/pos_encodings/Cora_GDC.pkl...\n",
      "    Found them! Loading cached version\n",
      "[i] Looking for positional encodings in /home/xdoni4/m1p/graph-neural-pde/data/pos_encodings/Cora_GDC.pkl...\n",
      "    Found them! Loading cached version\n",
      "[i] Looking for positional encodings in /home/xdoni4/m1p/graph-neural-pde/data/pos_encodings/Cora_GDC.pkl...\n",
      "    Found them! Loading cached version\n",
      "[i] Looking for positional encodings in /home/xdoni4/m1p/graph-neural-pde/data/pos_encodings/Cora_GDC.pkl...\n",
      "    Found them! Loading cached version\n",
      "[i] Looking for positional encodings in /home/xdoni4/m1p/graph-neural-pde/data/pos_encodings/Cora_GDC.pkl...\n",
      "    Found them! Loading cached version\n",
      "[i] Looking for positional encodings in /home/xdoni4/m1p/graph-neural-pde/data/pos_encodings/Cora_GDC.pkl...\n",
      "    Found them! Loading cached version\n",
      "[i] Looking for positional encodings in /home/xdoni4/m1p/graph-neural-pde/data/pos_encodings/Cora_GDC.pkl...\n",
      "    Found them! Loading cached version\n",
      "[i] Looking for positional encodings in /home/xdoni4/m1p/graph-neural-pde/data/pos_encodings/Cora_GDC.pkl...\n",
      "    Found them! Loading cached version\n",
      "[i] Looking for positional encodings in /home/xdoni4/m1p/graph-neural-pde/data/pos_encodings/Cora_GDC.pkl...\n",
      "    Found them! Loading cached version\n",
      "[i] Looking for positional encodings in /home/xdoni4/m1p/graph-neural-pde/data/pos_encodings/Cora_GDC.pkl...\n",
      "    Found them! Loading cached version\n",
      "[i] Looking for positional encodings in /home/xdoni4/m1p/graph-neural-pde/data/pos_encodings/Cora_GDC.pkl...\n",
      "    Found them! Loading cached version\n",
      "[i] Looking for positional encodings in /home/xdoni4/m1p/graph-neural-pde/data/pos_encodings/Cora_GDC.pkl...\n",
      "    Found them! Loading cached version\n",
      "[i] Looking for positional encodings in /home/xdoni4/m1p/graph-neural-pde/data/pos_encodings/Cora_GDC.pkl...\n",
      "    Found them! Loading cached version\n",
      "[i] Looking for positional encodings in /home/xdoni4/m1p/graph-neural-pde/data/pos_encodings/Cora_GDC.pkl...\n",
      "    Found them! Loading cached version\n",
      "[i] Looking for positional encodings in /home/xdoni4/m1p/graph-neural-pde/data/pos_encodings/Cora_GDC.pkl...\n",
      "    Found them! Loading cached version\n",
      "[i] Looking for positional encodings in /home/xdoni4/m1p/graph-neural-pde/data/pos_encodings/Cora_GDC.pkl...\n",
      "    Found them! Loading cached version\n",
      "[i] Looking for positional encodings in /home/xdoni4/m1p/graph-neural-pde/data/pos_encodings/Cora_GDC.pkl...\n",
      "    Found them! Loading cached version\n",
      "[i] Looking for positional encodings in /home/xdoni4/m1p/graph-neural-pde/data/pos_encodings/Cora_GDC.pkl...\n",
      "    Found them! Loading cached version\n",
      "[i] Looking for positional encodings in /home/xdoni4/m1p/graph-neural-pde/data/pos_encodings/Cora_GDC.pkl...\n",
      "    Found them! Loading cached version\n",
      "[i] Looking for positional encodings in /home/xdoni4/m1p/graph-neural-pde/data/pos_encodings/Cora_GDC.pkl...\n",
      "    Found them! Loading cached version\n",
      "[i] Looking for positional encodings in /home/xdoni4/m1p/graph-neural-pde/data/pos_encodings/Cora_GDC.pkl...\n",
      "    Found them! Loading cached version\n",
      "[i] Looking for positional encodings in /home/xdoni4/m1p/graph-neural-pde/data/pos_encodings/Cora_GDC.pkl...\n",
      "    Found them! Loading cached version\n",
      "[i] Looking for positional encodings in /home/xdoni4/m1p/graph-neural-pde/data/pos_encodings/Cora_GDC.pkl...\n",
      "    Found them! Loading cached version\n",
      "[i] Looking for positional encodings in /home/xdoni4/m1p/graph-neural-pde/data/pos_encodings/Cora_GDC.pkl...\n",
      "    Found them! Loading cached version\n",
      "[i] Looking for positional encodings in /home/xdoni4/m1p/graph-neural-pde/data/pos_encodings/Cora_GDC.pkl...\n",
      "    Found them! Loading cached version\n",
      "[i] Looking for positional encodings in /home/xdoni4/m1p/graph-neural-pde/data/pos_encodings/Cora_GDC.pkl...\n",
      "    Found them! Loading cached version\n",
      "[i] Looking for positional encodings in /home/xdoni4/m1p/graph-neural-pde/data/pos_encodings/Cora_GDC.pkl...\n",
      "    Found them! Loading cached version\n",
      "[i] Looking for positional encodings in /home/xdoni4/m1p/graph-neural-pde/data/pos_encodings/Cora_GDC.pkl...\n",
      "    Found them! Loading cached version\n",
      "[i] Looking for positional encodings in /home/xdoni4/m1p/graph-neural-pde/data/pos_encodings/Cora_GDC.pkl...\n",
      "    Found them! Loading cached version\n",
      "[i] Looking for positional encodings in /home/xdoni4/m1p/graph-neural-pde/data/pos_encodings/Cora_GDC.pkl...\n",
      "    Found them! Loading cached version\n",
      "[i] Looking for positional encodings in /home/xdoni4/m1p/graph-neural-pde/data/pos_encodings/Cora_GDC.pkl...\n",
      "    Found them! Loading cached version\n",
      "[i] Looking for positional encodings in /home/xdoni4/m1p/graph-neural-pde/data/pos_encodings/Cora_GDC.pkl...\n",
      "    Found them! Loading cached version\n",
      "[i] Looking for positional encodings in /home/xdoni4/m1p/graph-neural-pde/data/pos_encodings/Cora_GDC.pkl...\n",
      "    Found them! Loading cached version\n",
      "[i] Looking for positional encodings in /home/xdoni4/m1p/graph-neural-pde/data/pos_encodings/Cora_GDC.pkl...\n",
      "    Found them! Loading cached version\n",
      "[i] Looking for positional encodings in /home/xdoni4/m1p/graph-neural-pde/data/pos_encodings/Cora_GDC.pkl...\n",
      "    Found them! Loading cached version\n",
      "[i] Looking for positional encodings in /home/xdoni4/m1p/graph-neural-pde/data/pos_encodings/Cora_GDC.pkl...\n",
      "    Found them! Loading cached version\n",
      "[i] Looking for positional encodings in /home/xdoni4/m1p/graph-neural-pde/data/pos_encodings/Cora_GDC.pkl...\n",
      "    Found them! Loading cached version\n",
      "[i] Looking for positional encodings in /home/xdoni4/m1p/graph-neural-pde/data/pos_encodings/Cora_GDC.pkl...\n",
      "    Found them! Loading cached version\n",
      "[i] Looking for positional encodings in /home/xdoni4/m1p/graph-neural-pde/data/pos_encodings/Cora_GDC.pkl...\n",
      "    Found them! Loading cached version\n",
      "[i] Looking for positional encodings in /home/xdoni4/m1p/graph-neural-pde/data/pos_encodings/Cora_GDC.pkl...\n",
      "    Found them! Loading cached version\n",
      "[i] Looking for positional encodings in /home/xdoni4/m1p/graph-neural-pde/data/pos_encodings/Cora_GDC.pkl...\n",
      "    Found them! Loading cached version\n",
      "[i] Looking for positional encodings in /home/xdoni4/m1p/graph-neural-pde/data/pos_encodings/Cora_GDC.pkl...\n",
      "    Found them! Loading cached version\n",
      "[i] Looking for positional encodings in /home/xdoni4/m1p/graph-neural-pde/data/pos_encodings/Cora_GDC.pkl...\n",
      "    Found them! Loading cached version\n",
      "[i] Looking for positional encodings in /home/xdoni4/m1p/graph-neural-pde/data/pos_encodings/Cora_GDC.pkl...\n",
      "    Found them! Loading cached version\n",
      "[i] Looking for positional encodings in /home/xdoni4/m1p/graph-neural-pde/data/pos_encodings/Cora_GDC.pkl...\n",
      "    Found them! Loading cached version\n",
      "[i] Looking for positional encodings in /home/xdoni4/m1p/graph-neural-pde/data/pos_encodings/Cora_GDC.pkl...\n",
      "    Found them! Loading cached version\n",
      "[i] Looking for positional encodings in /home/xdoni4/m1p/graph-neural-pde/data/pos_encodings/Cora_GDC.pkl...\n",
      "    Found them! Loading cached version\n",
      "[i] Looking for positional encodings in /home/xdoni4/m1p/graph-neural-pde/data/pos_encodings/Cora_GDC.pkl...\n",
      "    Found them! Loading cached version\n",
      "[i] Looking for positional encodings in /home/xdoni4/m1p/graph-neural-pde/data/pos_encodings/Cora_GDC.pkl...\n",
      "    Found them! Loading cached version\n",
      "[i] Looking for positional encodings in /home/xdoni4/m1p/graph-neural-pde/data/pos_encodings/Cora_GDC.pkl...\n",
      "    Found them! Loading cached version\n",
      "[i] Looking for positional encodings in /home/xdoni4/m1p/graph-neural-pde/data/pos_encodings/Cora_GDC.pkl...\n",
      "    Found them! Loading cached version\n",
      "[i] Looking for positional encodings in /home/xdoni4/m1p/graph-neural-pde/data/pos_encodings/Cora_GDC.pkl...\n",
      "    Found them! Loading cached version\n",
      "[i] Looking for positional encodings in /home/xdoni4/m1p/graph-neural-pde/data/pos_encodings/Cora_GDC.pkl...\n",
      "    Found them! Loading cached version\n",
      "[i] Looking for positional encodings in /home/xdoni4/m1p/graph-neural-pde/data/pos_encodings/Cora_GDC.pkl...\n",
      "    Found them! Loading cached version\n",
      "[i] Looking for positional encodings in /home/xdoni4/m1p/graph-neural-pde/data/pos_encodings/Cora_GDC.pkl...\n",
      "    Found them! Loading cached version\n",
      "[i] Looking for positional encodings in /home/xdoni4/m1p/graph-neural-pde/data/pos_encodings/Cora_GDC.pkl...\n",
      "    Found them! Loading cached version\n",
      "[i] Looking for positional encodings in /home/xdoni4/m1p/graph-neural-pde/data/pos_encodings/Cora_GDC.pkl...\n",
      "    Found them! Loading cached version\n",
      "[i] Looking for positional encodings in /home/xdoni4/m1p/graph-neural-pde/data/pos_encodings/Cora_GDC.pkl...\n",
      "    Found them! Loading cached version\n",
      "[i] Looking for positional encodings in /home/xdoni4/m1p/graph-neural-pde/data/pos_encodings/Cora_GDC.pkl...\n",
      "    Found them! Loading cached version\n",
      "[i] Looking for positional encodings in /home/xdoni4/m1p/graph-neural-pde/data/pos_encodings/Cora_GDC.pkl...\n",
      "    Found them! Loading cached version\n",
      "[i] Looking for positional encodings in /home/xdoni4/m1p/graph-neural-pde/data/pos_encodings/Cora_GDC.pkl...\n",
      "    Found them! Loading cached version\n",
      "[i] Looking for positional encodings in /home/xdoni4/m1p/graph-neural-pde/data/pos_encodings/Cora_GDC.pkl...\n",
      "    Found them! Loading cached version\n",
      "[i] Looking for positional encodings in /home/xdoni4/m1p/graph-neural-pde/data/pos_encodings/Cora_GDC.pkl...\n",
      "    Found them! Loading cached version\n",
      "[i] Looking for positional encodings in /home/xdoni4/m1p/graph-neural-pde/data/pos_encodings/Cora_GDC.pkl...\n",
      "    Found them! Loading cached version\n",
      "[i] Looking for positional encodings in /home/xdoni4/m1p/graph-neural-pde/data/pos_encodings/Cora_GDC.pkl...\n",
      "    Found them! Loading cached version\n",
      "[i] Looking for positional encodings in /home/xdoni4/m1p/graph-neural-pde/data/pos_encodings/Cora_GDC.pkl...\n",
      "    Found them! Loading cached version\n",
      "[i] Looking for positional encodings in /home/xdoni4/m1p/graph-neural-pde/data/pos_encodings/Cora_GDC.pkl...\n",
      "    Found them! Loading cached version\n",
      "[i] Looking for positional encodings in /home/xdoni4/m1p/graph-neural-pde/data/pos_encodings/Cora_GDC.pkl...\n",
      "    Found them! Loading cached version\n",
      "[i] Looking for positional encodings in /home/xdoni4/m1p/graph-neural-pde/data/pos_encodings/Cora_GDC.pkl...\n",
      "    Found them! Loading cached version\n",
      "[i] Looking for positional encodings in /home/xdoni4/m1p/graph-neural-pde/data/pos_encodings/Cora_GDC.pkl...\n",
      "    Found them! Loading cached version\n",
      "[i] Looking for positional encodings in /home/xdoni4/m1p/graph-neural-pde/data/pos_encodings/Cora_GDC.pkl...\n",
      "    Found them! Loading cached version\n",
      "[i] Looking for positional encodings in /home/xdoni4/m1p/graph-neural-pde/data/pos_encodings/Cora_GDC.pkl...\n",
      "    Found them! Loading cached version\n",
      "[i] Looking for positional encodings in /home/xdoni4/m1p/graph-neural-pde/data/pos_encodings/Cora_GDC.pkl...\n",
      "    Found them! Loading cached version\n",
      "[i] Looking for positional encodings in /home/xdoni4/m1p/graph-neural-pde/data/pos_encodings/Cora_GDC.pkl...\n",
      "    Found them! Loading cached version\n",
      "[i] Looking for positional encodings in /home/xdoni4/m1p/graph-neural-pde/data/pos_encodings/Cora_GDC.pkl...\n",
      "    Found them! Loading cached version\n",
      "[i] Looking for positional encodings in /home/xdoni4/m1p/graph-neural-pde/data/pos_encodings/Cora_GDC.pkl...\n",
      "    Found them! Loading cached version\n",
      "[i] Looking for positional encodings in /home/xdoni4/m1p/graph-neural-pde/data/pos_encodings/Cora_GDC.pkl...\n",
      "    Found them! Loading cached version\n",
      "[i] Looking for positional encodings in /home/xdoni4/m1p/graph-neural-pde/data/pos_encodings/Cora_GDC.pkl...\n",
      "    Found them! Loading cached version\n",
      "[i] Looking for positional encodings in /home/xdoni4/m1p/graph-neural-pde/data/pos_encodings/Cora_GDC.pkl...\n",
      "    Found them! Loading cached version\n",
      "[i] Looking for positional encodings in /home/xdoni4/m1p/graph-neural-pde/data/pos_encodings/Cora_GDC.pkl...\n",
      "    Found them! Loading cached version\n",
      "[i] Looking for positional encodings in /home/xdoni4/m1p/graph-neural-pde/data/pos_encodings/Cora_GDC.pkl...\n",
      "    Found them! Loading cached version\n",
      "[i] Looking for positional encodings in /home/xdoni4/m1p/graph-neural-pde/data/pos_encodings/Cora_GDC.pkl...\n",
      "    Found them! Loading cached version\n",
      "[i] Looking for positional encodings in /home/xdoni4/m1p/graph-neural-pde/data/pos_encodings/Cora_GDC.pkl...\n",
      "    Found them! Loading cached version\n",
      "[i] Looking for positional encodings in /home/xdoni4/m1p/graph-neural-pde/data/pos_encodings/Cora_GDC.pkl...\n",
      "    Found them! Loading cached version\n",
      "[i] Looking for positional encodings in /home/xdoni4/m1p/graph-neural-pde/data/pos_encodings/Cora_GDC.pkl...\n",
      "    Found them! Loading cached version\n",
      "[i] Looking for positional encodings in /home/xdoni4/m1p/graph-neural-pde/data/pos_encodings/Cora_GDC.pkl...\n",
      "    Found them! Loading cached version\n",
      "[i] Looking for positional encodings in /home/xdoni4/m1p/graph-neural-pde/data/pos_encodings/Cora_GDC.pkl...\n",
      "    Found them! Loading cached version\n",
      "[i] Looking for positional encodings in /home/xdoni4/m1p/graph-neural-pde/data/pos_encodings/Cora_GDC.pkl...\n",
      "    Found them! Loading cached version\n",
      "[i] Looking for positional encodings in /home/xdoni4/m1p/graph-neural-pde/data/pos_encodings/Cora_GDC.pkl...\n",
      "    Found them! Loading cached version\n",
      "[i] Looking for positional encodings in /home/xdoni4/m1p/graph-neural-pde/data/pos_encodings/Cora_GDC.pkl...\n",
      "    Found them! Loading cached version\n",
      "[i] Looking for positional encodings in /home/xdoni4/m1p/graph-neural-pde/data/pos_encodings/Cora_GDC.pkl...\n",
      "    Found them! Loading cached version\n",
      "[i] Looking for positional encodings in /home/xdoni4/m1p/graph-neural-pde/data/pos_encodings/Cora_GDC.pkl...\n",
      "    Found them! Loading cached version\n",
      "[i] Looking for positional encodings in /home/xdoni4/m1p/graph-neural-pde/data/pos_encodings/Cora_GDC.pkl...\n",
      "    Found them! Loading cached version\n",
      "[i] Looking for positional encodings in /home/xdoni4/m1p/graph-neural-pde/data/pos_encodings/Cora_GDC.pkl...\n",
      "    Found them! Loading cached version\n",
      "[i] Looking for positional encodings in /home/xdoni4/m1p/graph-neural-pde/data/pos_encodings/Cora_GDC.pkl...\n",
      "    Found them! Loading cached version\n",
      "[i] Looking for positional encodings in /home/xdoni4/m1p/graph-neural-pde/data/pos_encodings/Cora_GDC.pkl...\n",
      "    Found them! Loading cached version\n",
      "[i] Looking for positional encodings in /home/xdoni4/m1p/graph-neural-pde/data/pos_encodings/Cora_GDC.pkl...\n",
      "    Found them! Loading cached version\n",
      "[i] Looking for positional encodings in /home/xdoni4/m1p/graph-neural-pde/data/pos_encodings/Cora_GDC.pkl...\n",
      "    Found them! Loading cached version\n",
      "[i] Looking for positional encodings in /home/xdoni4/m1p/graph-neural-pde/data/pos_encodings/Cora_GDC.pkl...\n",
      "    Found them! Loading cached version\n",
      "[i] Looking for positional encodings in /home/xdoni4/m1p/graph-neural-pde/data/pos_encodings/Cora_GDC.pkl...\n",
      "    Found them! Loading cached version\n",
      "[i] Looking for positional encodings in /home/xdoni4/m1p/graph-neural-pde/data/pos_encodings/Cora_GDC.pkl...\n",
      "    Found them! Loading cached version\n",
      "[i] Looking for positional encodings in /home/xdoni4/m1p/graph-neural-pde/data/pos_encodings/Cora_GDC.pkl...\n",
      "    Found them! Loading cached version\n",
      "[i] Looking for positional encodings in /home/xdoni4/m1p/graph-neural-pde/data/pos_encodings/Cora_GDC.pkl...\n",
      "    Found them! Loading cached version\n",
      "[i] Looking for positional encodings in /home/xdoni4/m1p/graph-neural-pde/data/pos_encodings/Cora_GDC.pkl...\n",
      "    Found them! Loading cached version\n",
      "[i] Looking for positional encodings in /home/xdoni4/m1p/graph-neural-pde/data/pos_encodings/Cora_GDC.pkl...\n",
      "    Found them! Loading cached version\n",
      "[i] Looking for positional encodings in /home/xdoni4/m1p/graph-neural-pde/data/pos_encodings/Cora_GDC.pkl...\n",
      "    Found them! Loading cached version\n",
      "[i] Looking for positional encodings in /home/xdoni4/m1p/graph-neural-pde/data/pos_encodings/Cora_GDC.pkl...\n",
      "    Found them! Loading cached version\n",
      "[i] Looking for positional encodings in /home/xdoni4/m1p/graph-neural-pde/data/pos_encodings/Cora_GDC.pkl...\n",
      "    Found them! Loading cached version\n",
      "[i] Looking for positional encodings in /home/xdoni4/m1p/graph-neural-pde/data/pos_encodings/Cora_GDC.pkl...\n",
      "    Found them! Loading cached version\n",
      "[i] Looking for positional encodings in /home/xdoni4/m1p/graph-neural-pde/data/pos_encodings/Cora_GDC.pkl...\n",
      "    Found them! Loading cached version\n",
      "[i] Looking for positional encodings in /home/xdoni4/m1p/graph-neural-pde/data/pos_encodings/Cora_GDC.pkl...\n",
      "    Found them! Loading cached version\n",
      "[i] Looking for positional encodings in /home/xdoni4/m1p/graph-neural-pde/data/pos_encodings/Cora_GDC.pkl...\n",
      "    Found them! Loading cached version\n",
      "[i] Looking for positional encodings in /home/xdoni4/m1p/graph-neural-pde/data/pos_encodings/Cora_GDC.pkl...\n",
      "    Found them! Loading cached version\n",
      "[i] Looking for positional encodings in /home/xdoni4/m1p/graph-neural-pde/data/pos_encodings/Cora_GDC.pkl...\n",
      "    Found them! Loading cached version\n",
      "[i] Looking for positional encodings in /home/xdoni4/m1p/graph-neural-pde/data/pos_encodings/Cora_GDC.pkl...\n",
      "    Found them! Loading cached version\n",
      "[i] Looking for positional encodings in /home/xdoni4/m1p/graph-neural-pde/data/pos_encodings/Cora_GDC.pkl...\n",
      "    Found them! Loading cached version\n",
      "[i] Looking for positional encodings in /home/xdoni4/m1p/graph-neural-pde/data/pos_encodings/Cora_GDC.pkl...\n",
      "    Found them! Loading cached version\n",
      "[i] Looking for positional encodings in /home/xdoni4/m1p/graph-neural-pde/data/pos_encodings/Cora_GDC.pkl...\n",
      "    Found them! Loading cached version\n",
      "[i] Looking for positional encodings in /home/xdoni4/m1p/graph-neural-pde/data/pos_encodings/Cora_GDC.pkl...\n",
      "    Found them! Loading cached version\n",
      "[i] Looking for positional encodings in /home/xdoni4/m1p/graph-neural-pde/data/pos_encodings/Cora_GDC.pkl...\n",
      "    Found them! Loading cached version\n",
      "[i] Looking for positional encodings in /home/xdoni4/m1p/graph-neural-pde/data/pos_encodings/Cora_GDC.pkl...\n",
      "    Found them! Loading cached version\n",
      "[i] Looking for positional encodings in /home/xdoni4/m1p/graph-neural-pde/data/pos_encodings/Cora_GDC.pkl...\n",
      "    Found them! Loading cached version\n",
      "[i] Looking for positional encodings in /home/xdoni4/m1p/graph-neural-pde/data/pos_encodings/Cora_GDC.pkl...\n",
      "    Found them! Loading cached version\n",
      "[i] Looking for positional encodings in /home/xdoni4/m1p/graph-neural-pde/data/pos_encodings/Cora_GDC.pkl...\n",
      "    Found them! Loading cached version\n",
      "[i] Looking for positional encodings in /home/xdoni4/m1p/graph-neural-pde/data/pos_encodings/Cora_GDC.pkl...\n",
      "    Found them! Loading cached version\n",
      "[i] Looking for positional encodings in /home/xdoni4/m1p/graph-neural-pde/data/pos_encodings/Cora_GDC.pkl...\n",
      "    Found them! Loading cached version\n",
      "[i] Looking for positional encodings in /home/xdoni4/m1p/graph-neural-pde/data/pos_encodings/Cora_GDC.pkl...\n",
      "    Found them! Loading cached version\n",
      "[i] Looking for positional encodings in /home/xdoni4/m1p/graph-neural-pde/data/pos_encodings/Cora_GDC.pkl...\n",
      "    Found them! Loading cached version\n",
      "[i] Looking for positional encodings in /home/xdoni4/m1p/graph-neural-pde/data/pos_encodings/Cora_GDC.pkl...\n",
      "    Found them! Loading cached version\n",
      "[i] Looking for positional encodings in /home/xdoni4/m1p/graph-neural-pde/data/pos_encodings/Cora_GDC.pkl...\n",
      "    Found them! Loading cached version\n",
      "[i] Looking for positional encodings in /home/xdoni4/m1p/graph-neural-pde/data/pos_encodings/Cora_GDC.pkl...\n",
      "    Found them! Loading cached version\n",
      "[i] Looking for positional encodings in /home/xdoni4/m1p/graph-neural-pde/data/pos_encodings/Cora_GDC.pkl...\n",
      "    Found them! Loading cached version\n",
      "[i] Looking for positional encodings in /home/xdoni4/m1p/graph-neural-pde/data/pos_encodings/Cora_GDC.pkl...\n",
      "    Found them! Loading cached version\n",
      "[i] Looking for positional encodings in /home/xdoni4/m1p/graph-neural-pde/data/pos_encodings/Cora_GDC.pkl...\n",
      "    Found them! Loading cached version\n",
      "[i] Looking for positional encodings in /home/xdoni4/m1p/graph-neural-pde/data/pos_encodings/Cora_GDC.pkl...\n",
      "    Found them! Loading cached version\n",
      "[i] Looking for positional encodings in /home/xdoni4/m1p/graph-neural-pde/data/pos_encodings/Cora_GDC.pkl...\n",
      "    Found them! Loading cached version\n",
      "[i] Looking for positional encodings in /home/xdoni4/m1p/graph-neural-pde/data/pos_encodings/Cora_GDC.pkl...\n",
      "    Found them! Loading cached version\n",
      "[i] Looking for positional encodings in /home/xdoni4/m1p/graph-neural-pde/data/pos_encodings/Cora_GDC.pkl...\n",
      "    Found them! Loading cached version\n",
      "[i] Looking for positional encodings in /home/xdoni4/m1p/graph-neural-pde/data/pos_encodings/Cora_GDC.pkl...\n",
      "    Found them! Loading cached version\n",
      "[i] Looking for positional encodings in /home/xdoni4/m1p/graph-neural-pde/data/pos_encodings/Cora_GDC.pkl...\n",
      "    Found them! Loading cached version\n",
      "[i] Looking for positional encodings in /home/xdoni4/m1p/graph-neural-pde/data/pos_encodings/Cora_GDC.pkl...\n",
      "    Found them! Loading cached version\n",
      "[i] Looking for positional encodings in /home/xdoni4/m1p/graph-neural-pde/data/pos_encodings/Cora_GDC.pkl...\n",
      "    Found them! Loading cached version\n",
      "[i] Looking for positional encodings in /home/xdoni4/m1p/graph-neural-pde/data/pos_encodings/Cora_GDC.pkl...\n",
      "    Found them! Loading cached version\n",
      "[i] Looking for positional encodings in /home/xdoni4/m1p/graph-neural-pde/data/pos_encodings/Cora_GDC.pkl...\n",
      "    Found them! Loading cached version\n",
      "[i] Looking for positional encodings in /home/xdoni4/m1p/graph-neural-pde/data/pos_encodings/Cora_GDC.pkl...\n",
      "    Found them! Loading cached version\n",
      "[i] Looking for positional encodings in /home/xdoni4/m1p/graph-neural-pde/data/pos_encodings/Cora_GDC.pkl...\n",
      "    Found them! Loading cached version\n",
      "[i] Looking for positional encodings in /home/xdoni4/m1p/graph-neural-pde/data/pos_encodings/Cora_GDC.pkl...\n",
      "    Found them! Loading cached version\n",
      "[i] Looking for positional encodings in /home/xdoni4/m1p/graph-neural-pde/data/pos_encodings/Cora_GDC.pkl...\n",
      "    Found them! Loading cached version\n",
      "[i] Looking for positional encodings in /home/xdoni4/m1p/graph-neural-pde/data/pos_encodings/Cora_GDC.pkl...\n",
      "    Found them! Loading cached version\n",
      "[i] Looking for positional encodings in /home/xdoni4/m1p/graph-neural-pde/data/pos_encodings/Cora_GDC.pkl...\n",
      "    Found them! Loading cached version\n",
      "[i] Looking for positional encodings in /home/xdoni4/m1p/graph-neural-pde/data/pos_encodings/Cora_GDC.pkl...\n",
      "    Found them! Loading cached version\n",
      "[i] Looking for positional encodings in /home/xdoni4/m1p/graph-neural-pde/data/pos_encodings/Cora_GDC.pkl...\n",
      "    Found them! Loading cached version\n",
      "[i] Looking for positional encodings in /home/xdoni4/m1p/graph-neural-pde/data/pos_encodings/Cora_GDC.pkl...\n",
      "    Found them! Loading cached version\n",
      "[i] Looking for positional encodings in /home/xdoni4/m1p/graph-neural-pde/data/pos_encodings/Cora_GDC.pkl...\n",
      "    Found them! Loading cached version\n",
      "[i] Looking for positional encodings in /home/xdoni4/m1p/graph-neural-pde/data/pos_encodings/Cora_GDC.pkl...\n",
      "    Found them! Loading cached version\n",
      "[i] Looking for positional encodings in /home/xdoni4/m1p/graph-neural-pde/data/pos_encodings/Cora_GDC.pkl...\n",
      "    Found them! Loading cached version\n",
      "[i] Looking for positional encodings in /home/xdoni4/m1p/graph-neural-pde/data/pos_encodings/Cora_GDC.pkl...\n",
      "    Found them! Loading cached version\n",
      "[i] Looking for positional encodings in /home/xdoni4/m1p/graph-neural-pde/data/pos_encodings/Cora_GDC.pkl...\n",
      "    Found them! Loading cached version\n",
      "[i] Looking for positional encodings in /home/xdoni4/m1p/graph-neural-pde/data/pos_encodings/Cora_GDC.pkl...\n",
      "    Found them! Loading cached version\n",
      "[i] Looking for positional encodings in /home/xdoni4/m1p/graph-neural-pde/data/pos_encodings/Cora_GDC.pkl...\n",
      "    Found them! Loading cached version\n",
      "[i] Looking for positional encodings in /home/xdoni4/m1p/graph-neural-pde/data/pos_encodings/Cora_GDC.pkl...\n",
      "    Found them! Loading cached version\n",
      "[i] Looking for positional encodings in /home/xdoni4/m1p/graph-neural-pde/data/pos_encodings/Cora_GDC.pkl...\n",
      "    Found them! Loading cached version\n",
      "[i] Looking for positional encodings in /home/xdoni4/m1p/graph-neural-pde/data/pos_encodings/Cora_GDC.pkl...\n",
      "    Found them! Loading cached version\n",
      "[i] Looking for positional encodings in /home/xdoni4/m1p/graph-neural-pde/data/pos_encodings/Cora_GDC.pkl...\n",
      "    Found them! Loading cached version\n",
      "[i] Looking for positional encodings in /home/xdoni4/m1p/graph-neural-pde/data/pos_encodings/Cora_GDC.pkl...\n",
      "    Found them! Loading cached version\n",
      "[i] Looking for positional encodings in /home/xdoni4/m1p/graph-neural-pde/data/pos_encodings/Cora_GDC.pkl...\n",
      "    Found them! Loading cached version\n",
      "[i] Looking for positional encodings in /home/xdoni4/m1p/graph-neural-pde/data/pos_encodings/Cora_GDC.pkl...\n",
      "    Found them! Loading cached version\n",
      "[i] Looking for positional encodings in /home/xdoni4/m1p/graph-neural-pde/data/pos_encodings/Cora_GDC.pkl...\n",
      "    Found them! Loading cached version\n",
      "[i] Looking for positional encodings in /home/xdoni4/m1p/graph-neural-pde/data/pos_encodings/Cora_GDC.pkl...\n",
      "    Found them! Loading cached version\n",
      "[i] Looking for positional encodings in /home/xdoni4/m1p/graph-neural-pde/data/pos_encodings/Cora_GDC.pkl...\n",
      "    Found them! Loading cached version\n",
      "[i] Looking for positional encodings in /home/xdoni4/m1p/graph-neural-pde/data/pos_encodings/Cora_GDC.pkl...\n",
      "    Found them! Loading cached version\n",
      "[i] Looking for positional encodings in /home/xdoni4/m1p/graph-neural-pde/data/pos_encodings/Cora_GDC.pkl...\n",
      "    Found them! Loading cached version\n",
      "[i] Looking for positional encodings in /home/xdoni4/m1p/graph-neural-pde/data/pos_encodings/Cora_GDC.pkl...\n",
      "    Found them! Loading cached version\n",
      "[i] Looking for positional encodings in /home/xdoni4/m1p/graph-neural-pde/data/pos_encodings/Cora_GDC.pkl...\n",
      "    Found them! Loading cached version\n",
      "[i] Looking for positional encodings in /home/xdoni4/m1p/graph-neural-pde/data/pos_encodings/Cora_GDC.pkl...\n",
      "    Found them! Loading cached version\n",
      "[i] Looking for positional encodings in /home/xdoni4/m1p/graph-neural-pde/data/pos_encodings/Cora_GDC.pkl...\n",
      "    Found them! Loading cached version\n",
      "[i] Looking for positional encodings in /home/xdoni4/m1p/graph-neural-pde/data/pos_encodings/Cora_GDC.pkl...\n",
      "    Found them! Loading cached version\n",
      "[i] Looking for positional encodings in /home/xdoni4/m1p/graph-neural-pde/data/pos_encodings/Cora_GDC.pkl...\n",
      "    Found them! Loading cached version\n",
      "[i] Looking for positional encodings in /home/xdoni4/m1p/graph-neural-pde/data/pos_encodings/Cora_GDC.pkl...\n",
      "    Found them! Loading cached version\n",
      "[i] Looking for positional encodings in /home/xdoni4/m1p/graph-neural-pde/data/pos_encodings/Cora_GDC.pkl...\n",
      "    Found them! Loading cached version\n",
      "[i] Looking for positional encodings in /home/xdoni4/m1p/graph-neural-pde/data/pos_encodings/Cora_GDC.pkl...\n",
      "    Found them! Loading cached version\n",
      "[i] Looking for positional encodings in /home/xdoni4/m1p/graph-neural-pde/data/pos_encodings/Cora_GDC.pkl...\n",
      "    Found them! Loading cached version\n",
      "[i] Looking for positional encodings in /home/xdoni4/m1p/graph-neural-pde/data/pos_encodings/Cora_GDC.pkl...\n",
      "    Found them! Loading cached version\n",
      "[i] Looking for positional encodings in /home/xdoni4/m1p/graph-neural-pde/data/pos_encodings/Cora_GDC.pkl...\n",
      "    Found them! Loading cached version\n",
      "[i] Looking for positional encodings in /home/xdoni4/m1p/graph-neural-pde/data/pos_encodings/Cora_GDC.pkl...\n",
      "    Found them! Loading cached version\n",
      "[i] Looking for positional encodings in /home/xdoni4/m1p/graph-neural-pde/data/pos_encodings/Cora_GDC.pkl...\n",
      "    Found them! Loading cached version\n",
      "[i] Looking for positional encodings in /home/xdoni4/m1p/graph-neural-pde/data/pos_encodings/Cora_GDC.pkl...\n",
      "    Found them! Loading cached version\n",
      "[i] Looking for positional encodings in /home/xdoni4/m1p/graph-neural-pde/data/pos_encodings/Cora_GDC.pkl...\n",
      "    Found them! Loading cached version\n",
      "[i] Looking for positional encodings in /home/xdoni4/m1p/graph-neural-pde/data/pos_encodings/Cora_GDC.pkl...\n",
      "    Found them! Loading cached version\n"
     ]
    },
    {
     "name": "stderr",
     "output_type": "stream",
     "text": [
      "  0%|          | 0/89 [00:00<?, ?it/s]/home/xdoni4/miniconda3/envs/m1p/lib/python3.9/site-packages/torchdiffeq/_impl/misc.py:11: UserWarning: Dopri5Solver: Unexpected arguments {'step_size': 1, 'max_iters': 100}\n",
      "  warnings.warn('{}: Unexpected arguments {}'.format(solver.__class__.__name__, unused_kwargs))\n",
      "100%|██████████| 89/89 [19:13<00:00, 12.96s/it]\n"
     ]
    },
    {
     "name": "stdout",
     "output_type": "stream",
     "text": [
      "TRAIN: epoch = 1, loss = 0.656, accuracy = 0.674, f1 = 0.581\n"
     ]
    },
    {
     "name": "stderr",
     "output_type": "stream",
     "text": [
      "/home/xdoni4/miniconda3/envs/m1p/lib/python3.9/site-packages/torchdiffeq/_impl/misc.py:11: UserWarning: Dopri5Solver: Unexpected arguments {'step_size': 1, 'max_iters': 100}\n",
      "  warnings.warn('{}: Unexpected arguments {}'.format(solver.__class__.__name__, unused_kwargs))\n"
     ]
    },
    {
     "name": "stdout",
     "output_type": "stream",
     "text": [
      "TEST: loss = 0.635, accuracy = 0.633, f1 = 0.388\n",
      "--------------------------------------------------\n",
      "\n",
      "===================================================================================\n",
      "\n"
     ]
    }
   ],
   "source": [
    "Ts = [15, 25, 15, 15, 15]\n",
    "alphas = [0.8, 0.8, 0.5, 0.8, 0.8]\n",
    "sigmas = [0, 0, 0, 0.05, 0]\n",
    "NFs = [5, 5, 5, 5, 1]\n",
    "grand_results = []\n",
    "beltrami_results = []\n",
    "gcn_results = []\n",
    "\n",
    "for i in range(len(Ts)):\n",
    "    T, alpha, sigma, NF = Ts[i], alphas[i], sigmas[i], NFs[i]\n",
    "    if sigma != 0:\n",
    "        sigma_train = sps.norm(0, sigma*X_train.var(axis=-1)[..., None]).rvs(size=(X_train.shape))\n",
    "        sigma_test = sps.norm(0, sigma*X_test.var(axis=-1)[..., None]).rvs(size=(X_test.shape))\n",
    "        X_train += sigma_train\n",
    "        X_test += sigma_test\n",
    "\n",
    "    print(f'Building adjacencies T={T}')\n",
    "    build_adjacencies(X_train, 'dataset/adj_Pears_{}_train.npy'.format(T), T)\n",
    "    build_adjacencies(X_test, 'dataset/adj_Pears_{}_test.npy'.format(T), T)\n",
    "\n",
    "    print(f'T={T}, alpha={alpha}, NF={NF}, sigma={sigma}')\n",
    "    print(\"Running GCN\")\n",
    "    best_acc, best_f1_score, train_losses_arrays, test_losses_arrays = conduct_experiment(T, num_epochs=10, alpha=alpha, NF=NF, gcn=True)\n",
    "    gcn_results.append({\n",
    "        'best_acc' : best_acc,\n",
    "        'best_f1_score' : best_f1_score,\n",
    "        'train_losses_arrays' : train_losses_arrays,\n",
    "        'test_losses_arrays' : test_losses_arrays\n",
    "    })\n",
    "    \n",
    "    print(\"Running GRAND\")\n",
    "    best_acc, best_f1_score, train_losses_arrays, test_losses_arrays = conduct_experiment(T, num_epochs=3, alpha=alpha, NF=NF)\n",
    "    grand_results.append({\n",
    "        'best_acc' : best_acc,\n",
    "        'best_f1_score' : best_f1_score,\n",
    "        'train_losses_arrays' : train_losses_arrays,\n",
    "        'test_losses_arrays' : test_losses_arrays\n",
    "    })\n",
    "\n",
    "    print(\"Running BLEND\")\n",
    "    best_acc, best_f1_score, train_losses_arrays, test_losses_arrays = conduct_experiment(T, num_epochs=1, alpha=alpha, NF=NF, beltrami=True)\n",
    "    beltrami_results.append({\n",
    "        'best_acc' : best_acc,\n",
    "        'best_f1_score' : best_f1_score,\n",
    "        'train_losses_arrays' : train_losses_arrays,\n",
    "        'test_losses_arrays' : test_losses_arrays\n",
    "    })\n",
    "\n",
    "    if sigma != 0:\n",
    "        X_train -= sigma_train\n",
    "        X_test -= sigma_test"
   ]
  },
  {
   "cell_type": "code",
   "execution_count": 48,
   "id": "05e7d1c1",
   "metadata": {},
   "outputs": [
    {
     "name": "stdout",
     "output_type": "stream",
     "text": [
      "Building adjacencies T=15\n"
     ]
    },
    {
     "name": "stderr",
     "output_type": "stream",
     "text": [
      "100%|██████████| 89/89 [00:04<00:00, 19.18it/s]\n"
     ]
    },
    {
     "name": "stdout",
     "output_type": "stream",
     "text": [
      "(89, 241, 32, 32)\n"
     ]
    },
    {
     "name": "stderr",
     "output_type": "stream",
     "text": [
      "100%|██████████| 30/30 [00:01<00:00, 22.16it/s]\n"
     ]
    },
    {
     "name": "stdout",
     "output_type": "stream",
     "text": [
      "(30, 241, 32, 32)\n",
      "T=15, alpha=0.5, NF=5, sigma=0.1\n",
      "Running GCN\n",
      "241\n",
      "\n",
      "===================================================================================\n",
      "\n"
     ]
    },
    {
     "name": "stderr",
     "output_type": "stream",
     "text": [
      "100%|██████████| 89/89 [00:04<00:00, 20.18it/s]\n"
     ]
    },
    {
     "name": "stdout",
     "output_type": "stream",
     "text": [
      "TRAIN: epoch = 1, loss = 0.69, accuracy = 0.528, f1 = 0.51\n",
      "TEST: loss = 0.666, accuracy = 0.633, f1 = 0.388\n",
      "--------------------------------------------------\n"
     ]
    },
    {
     "name": "stderr",
     "output_type": "stream",
     "text": [
      "100%|██████████| 89/89 [00:07<00:00, 11.49it/s]\n"
     ]
    },
    {
     "name": "stdout",
     "output_type": "stream",
     "text": [
      "TRAIN: epoch = 2, loss = 0.635, accuracy = 0.674, f1 = 0.505\n",
      "TEST: loss = 0.654, accuracy = 0.633, f1 = 0.388\n",
      "--------------------------------------------------\n"
     ]
    },
    {
     "name": "stderr",
     "output_type": "stream",
     "text": [
      "100%|██████████| 89/89 [00:07<00:00, 12.21it/s]\n"
     ]
    },
    {
     "name": "stdout",
     "output_type": "stream",
     "text": [
      "TRAIN: epoch = 3, loss = 0.564, accuracy = 0.719, f1 = 0.604\n",
      "TEST: loss = 0.648, accuracy = 0.633, f1 = 0.388\n",
      "--------------------------------------------------\n"
     ]
    },
    {
     "name": "stderr",
     "output_type": "stream",
     "text": [
      "100%|██████████| 89/89 [00:04<00:00, 20.38it/s]\n"
     ]
    },
    {
     "name": "stdout",
     "output_type": "stream",
     "text": [
      "TRAIN: epoch = 4, loss = 0.485, accuracy = 0.787, f1 = 0.739\n",
      "TEST: loss = 0.65, accuracy = 0.567, f1 = 0.362\n",
      "--------------------------------------------------\n"
     ]
    },
    {
     "name": "stderr",
     "output_type": "stream",
     "text": [
      "100%|██████████| 89/89 [00:04<00:00, 20.27it/s]\n"
     ]
    },
    {
     "name": "stdout",
     "output_type": "stream",
     "text": [
      "TRAIN: epoch = 5, loss = 0.437, accuracy = 0.843, f1 = 0.824\n",
      "TEST: loss = 0.643, accuracy = 0.567, f1 = 0.362\n",
      "--------------------------------------------------\n"
     ]
    },
    {
     "name": "stderr",
     "output_type": "stream",
     "text": [
      "100%|██████████| 89/89 [00:11<00:00,  7.95it/s]\n"
     ]
    },
    {
     "name": "stdout",
     "output_type": "stream",
     "text": [
      "TRAIN: epoch = 6, loss = 0.371, accuracy = 0.899, f1 = 0.884\n",
      "TEST: loss = 0.643, accuracy = 0.667, f1 = 0.574\n",
      "--------------------------------------------------\n"
     ]
    },
    {
     "name": "stderr",
     "output_type": "stream",
     "text": [
      "100%|██████████| 89/89 [00:04<00:00, 20.49it/s]\n"
     ]
    },
    {
     "name": "stdout",
     "output_type": "stream",
     "text": [
      "TRAIN: epoch = 7, loss = 0.358, accuracy = 0.899, f1 = 0.889\n",
      "TEST: loss = 0.661, accuracy = 0.633, f1 = 0.46\n",
      "--------------------------------------------------\n"
     ]
    },
    {
     "name": "stderr",
     "output_type": "stream",
     "text": [
      "100%|██████████| 89/89 [00:04<00:00, 18.23it/s]\n"
     ]
    },
    {
     "name": "stdout",
     "output_type": "stream",
     "text": [
      "TRAIN: epoch = 8, loss = 0.29, accuracy = 0.944, f1 = 0.939\n",
      "TEST: loss = 0.652, accuracy = 0.667, f1 = 0.574\n",
      "--------------------------------------------------\n"
     ]
    },
    {
     "name": "stderr",
     "output_type": "stream",
     "text": [
      "100%|██████████| 89/89 [00:10<00:00,  8.85it/s]\n"
     ]
    },
    {
     "name": "stdout",
     "output_type": "stream",
     "text": [
      "TRAIN: epoch = 9, loss = 0.222, accuracy = 0.989, f1 = 0.988\n",
      "TEST: loss = 0.68, accuracy = 0.7, f1 = 0.6\n",
      "--------------------------------------------------\n"
     ]
    },
    {
     "name": "stderr",
     "output_type": "stream",
     "text": [
      "100%|██████████| 89/89 [00:04<00:00, 20.54it/s]\n"
     ]
    },
    {
     "name": "stdout",
     "output_type": "stream",
     "text": [
      "TRAIN: epoch = 10, loss = 0.207, accuracy = 0.966, f1 = 0.963\n",
      "TEST: loss = 0.699, accuracy = 0.667, f1 = 0.574\n",
      "--------------------------------------------------\n",
      "\n",
      "===================================================================================\n",
      "\n",
      "Running GRAND\n",
      "241\n",
      "\n",
      "===================================================================================\n",
      "\n"
     ]
    },
    {
     "name": "stderr",
     "output_type": "stream",
     "text": [
      "  0%|          | 0/89 [00:00<?, ?it/s]/home/xdoni4/miniconda3/envs/m1p/lib/python3.9/site-packages/torchdiffeq/_impl/misc.py:11: UserWarning: Dopri5Solver: Unexpected arguments {'step_size': 1, 'max_iters': 100}\n",
      "  warnings.warn('{}: Unexpected arguments {}'.format(solver.__class__.__name__, unused_kwargs))\n",
      "100%|██████████| 89/89 [14:54<00:00, 10.04s/it]\n"
     ]
    },
    {
     "name": "stdout",
     "output_type": "stream",
     "text": [
      "TRAIN: epoch = 1, loss = 0.712, accuracy = 0.438, f1 = 0.432\n"
     ]
    },
    {
     "name": "stderr",
     "output_type": "stream",
     "text": [
      "/home/xdoni4/miniconda3/envs/m1p/lib/python3.9/site-packages/torchdiffeq/_impl/misc.py:11: UserWarning: Dopri5Solver: Unexpected arguments {'step_size': 1, 'max_iters': 100}\n",
      "  warnings.warn('{}: Unexpected arguments {}'.format(solver.__class__.__name__, unused_kwargs))\n"
     ]
    },
    {
     "name": "stdout",
     "output_type": "stream",
     "text": [
      "TEST: loss = 0.673, accuracy = 0.633, f1 = 0.576\n",
      "--------------------------------------------------\n"
     ]
    },
    {
     "name": "stderr",
     "output_type": "stream",
     "text": [
      "  0%|          | 0/89 [00:00<?, ?it/s]/home/xdoni4/miniconda3/envs/m1p/lib/python3.9/site-packages/torchdiffeq/_impl/misc.py:11: UserWarning: Dopri5Solver: Unexpected arguments {'step_size': 1, 'max_iters': 100}\n",
      "  warnings.warn('{}: Unexpected arguments {}'.format(solver.__class__.__name__, unused_kwargs))\n",
      "100%|██████████| 89/89 [15:56<00:00, 10.75s/it]\n"
     ]
    },
    {
     "name": "stdout",
     "output_type": "stream",
     "text": [
      "TRAIN: epoch = 2, loss = 0.613, accuracy = 0.764, f1 = 0.734\n"
     ]
    },
    {
     "name": "stderr",
     "output_type": "stream",
     "text": [
      "/home/xdoni4/miniconda3/envs/m1p/lib/python3.9/site-packages/torchdiffeq/_impl/misc.py:11: UserWarning: Dopri5Solver: Unexpected arguments {'step_size': 1, 'max_iters': 100}\n",
      "  warnings.warn('{}: Unexpected arguments {}'.format(solver.__class__.__name__, unused_kwargs))\n"
     ]
    },
    {
     "name": "stdout",
     "output_type": "stream",
     "text": [
      "TEST: loss = 0.639, accuracy = 0.7, f1 = 0.631\n",
      "--------------------------------------------------\n"
     ]
    },
    {
     "name": "stderr",
     "output_type": "stream",
     "text": [
      "  0%|          | 0/89 [00:00<?, ?it/s]/home/xdoni4/miniconda3/envs/m1p/lib/python3.9/site-packages/torchdiffeq/_impl/misc.py:11: UserWarning: Dopri5Solver: Unexpected arguments {'step_size': 1, 'max_iters': 100}\n",
      "  warnings.warn('{}: Unexpected arguments {}'.format(solver.__class__.__name__, unused_kwargs))\n",
      "100%|██████████| 89/89 [15:24<00:00, 10.38s/it]\n"
     ]
    },
    {
     "name": "stdout",
     "output_type": "stream",
     "text": [
      "TRAIN: epoch = 3, loss = 0.534, accuracy = 0.865, f1 = 0.847\n"
     ]
    },
    {
     "name": "stderr",
     "output_type": "stream",
     "text": [
      "/home/xdoni4/miniconda3/envs/m1p/lib/python3.9/site-packages/torchdiffeq/_impl/misc.py:11: UserWarning: Dopri5Solver: Unexpected arguments {'step_size': 1, 'max_iters': 100}\n",
      "  warnings.warn('{}: Unexpected arguments {}'.format(solver.__class__.__name__, unused_kwargs))\n"
     ]
    },
    {
     "name": "stdout",
     "output_type": "stream",
     "text": [
      "TEST: loss = 0.62, accuracy = 0.733, f1 = 0.659\n",
      "--------------------------------------------------\n",
      "\n",
      "===================================================================================\n",
      "\n",
      "Running BLEND\n",
      "241\n",
      "\n",
      "===================================================================================\n",
      "\n",
      "[i] Looking for positional encodings in /home/xdoni4/m1p/graph-neural-pde/data/pos_encodings/Cora_GDC.pkl...\n",
      "    Found them! Loading cached version\n",
      "[i] Looking for positional encodings in /home/xdoni4/m1p/graph-neural-pde/data/pos_encodings/Cora_GDC.pkl...\n",
      "    Found them! Loading cached version\n",
      "[i] Looking for positional encodings in /home/xdoni4/m1p/graph-neural-pde/data/pos_encodings/Cora_GDC.pkl...\n",
      "    Found them! Loading cached version\n",
      "[i] Looking for positional encodings in /home/xdoni4/m1p/graph-neural-pde/data/pos_encodings/Cora_GDC.pkl...\n",
      "    Found them! Loading cached version\n",
      "[i] Looking for positional encodings in /home/xdoni4/m1p/graph-neural-pde/data/pos_encodings/Cora_GDC.pkl...\n",
      "    Found them! Loading cached version\n",
      "[i] Looking for positional encodings in /home/xdoni4/m1p/graph-neural-pde/data/pos_encodings/Cora_GDC.pkl...\n",
      "    Found them! Loading cached version\n",
      "[i] Looking for positional encodings in /home/xdoni4/m1p/graph-neural-pde/data/pos_encodings/Cora_GDC.pkl...\n",
      "    Found them! Loading cached version\n",
      "[i] Looking for positional encodings in /home/xdoni4/m1p/graph-neural-pde/data/pos_encodings/Cora_GDC.pkl...\n",
      "    Found them! Loading cached version\n",
      "[i] Looking for positional encodings in /home/xdoni4/m1p/graph-neural-pde/data/pos_encodings/Cora_GDC.pkl...\n",
      "    Found them! Loading cached version\n",
      "[i] Looking for positional encodings in /home/xdoni4/m1p/graph-neural-pde/data/pos_encodings/Cora_GDC.pkl...\n",
      "    Found them! Loading cached version\n",
      "[i] Looking for positional encodings in /home/xdoni4/m1p/graph-neural-pde/data/pos_encodings/Cora_GDC.pkl...\n",
      "    Found them! Loading cached version\n",
      "[i] Looking for positional encodings in /home/xdoni4/m1p/graph-neural-pde/data/pos_encodings/Cora_GDC.pkl...\n",
      "    Found them! Loading cached version\n",
      "[i] Looking for positional encodings in /home/xdoni4/m1p/graph-neural-pde/data/pos_encodings/Cora_GDC.pkl...\n",
      "    Found them! Loading cached version\n",
      "[i] Looking for positional encodings in /home/xdoni4/m1p/graph-neural-pde/data/pos_encodings/Cora_GDC.pkl...\n",
      "    Found them! Loading cached version\n",
      "[i] Looking for positional encodings in /home/xdoni4/m1p/graph-neural-pde/data/pos_encodings/Cora_GDC.pkl...\n",
      "    Found them! Loading cached version\n",
      "[i] Looking for positional encodings in /home/xdoni4/m1p/graph-neural-pde/data/pos_encodings/Cora_GDC.pkl...\n",
      "    Found them! Loading cached version\n",
      "[i] Looking for positional encodings in /home/xdoni4/m1p/graph-neural-pde/data/pos_encodings/Cora_GDC.pkl...\n",
      "    Found them! Loading cached version\n",
      "[i] Looking for positional encodings in /home/xdoni4/m1p/graph-neural-pde/data/pos_encodings/Cora_GDC.pkl...\n",
      "    Found them! Loading cached version\n",
      "[i] Looking for positional encodings in /home/xdoni4/m1p/graph-neural-pde/data/pos_encodings/Cora_GDC.pkl...\n",
      "    Found them! Loading cached version\n",
      "[i] Looking for positional encodings in /home/xdoni4/m1p/graph-neural-pde/data/pos_encodings/Cora_GDC.pkl...\n",
      "    Found them! Loading cached version\n",
      "[i] Looking for positional encodings in /home/xdoni4/m1p/graph-neural-pde/data/pos_encodings/Cora_GDC.pkl...\n",
      "    Found them! Loading cached version\n",
      "[i] Looking for positional encodings in /home/xdoni4/m1p/graph-neural-pde/data/pos_encodings/Cora_GDC.pkl...\n",
      "    Found them! Loading cached version\n",
      "[i] Looking for positional encodings in /home/xdoni4/m1p/graph-neural-pde/data/pos_encodings/Cora_GDC.pkl...\n",
      "    Found them! Loading cached version\n",
      "[i] Looking for positional encodings in /home/xdoni4/m1p/graph-neural-pde/data/pos_encodings/Cora_GDC.pkl...\n",
      "    Found them! Loading cached version\n",
      "[i] Looking for positional encodings in /home/xdoni4/m1p/graph-neural-pde/data/pos_encodings/Cora_GDC.pkl...\n",
      "    Found them! Loading cached version\n",
      "[i] Looking for positional encodings in /home/xdoni4/m1p/graph-neural-pde/data/pos_encodings/Cora_GDC.pkl...\n",
      "    Found them! Loading cached version\n",
      "[i] Looking for positional encodings in /home/xdoni4/m1p/graph-neural-pde/data/pos_encodings/Cora_GDC.pkl...\n",
      "    Found them! Loading cached version\n",
      "[i] Looking for positional encodings in /home/xdoni4/m1p/graph-neural-pde/data/pos_encodings/Cora_GDC.pkl...\n",
      "    Found them! Loading cached version\n",
      "[i] Looking for positional encodings in /home/xdoni4/m1p/graph-neural-pde/data/pos_encodings/Cora_GDC.pkl...\n",
      "    Found them! Loading cached version\n",
      "[i] Looking for positional encodings in /home/xdoni4/m1p/graph-neural-pde/data/pos_encodings/Cora_GDC.pkl...\n",
      "    Found them! Loading cached version\n",
      "[i] Looking for positional encodings in /home/xdoni4/m1p/graph-neural-pde/data/pos_encodings/Cora_GDC.pkl...\n",
      "    Found them! Loading cached version\n",
      "[i] Looking for positional encodings in /home/xdoni4/m1p/graph-neural-pde/data/pos_encodings/Cora_GDC.pkl...\n",
      "    Found them! Loading cached version\n",
      "[i] Looking for positional encodings in /home/xdoni4/m1p/graph-neural-pde/data/pos_encodings/Cora_GDC.pkl...\n",
      "    Found them! Loading cached version\n",
      "[i] Looking for positional encodings in /home/xdoni4/m1p/graph-neural-pde/data/pos_encodings/Cora_GDC.pkl...\n",
      "    Found them! Loading cached version\n",
      "[i] Looking for positional encodings in /home/xdoni4/m1p/graph-neural-pde/data/pos_encodings/Cora_GDC.pkl...\n",
      "    Found them! Loading cached version\n",
      "[i] Looking for positional encodings in /home/xdoni4/m1p/graph-neural-pde/data/pos_encodings/Cora_GDC.pkl...\n",
      "    Found them! Loading cached version\n",
      "[i] Looking for positional encodings in /home/xdoni4/m1p/graph-neural-pde/data/pos_encodings/Cora_GDC.pkl...\n",
      "    Found them! Loading cached version\n",
      "[i] Looking for positional encodings in /home/xdoni4/m1p/graph-neural-pde/data/pos_encodings/Cora_GDC.pkl...\n",
      "    Found them! Loading cached version\n",
      "[i] Looking for positional encodings in /home/xdoni4/m1p/graph-neural-pde/data/pos_encodings/Cora_GDC.pkl...\n",
      "    Found them! Loading cached version\n",
      "[i] Looking for positional encodings in /home/xdoni4/m1p/graph-neural-pde/data/pos_encodings/Cora_GDC.pkl...\n",
      "    Found them! Loading cached version\n",
      "[i] Looking for positional encodings in /home/xdoni4/m1p/graph-neural-pde/data/pos_encodings/Cora_GDC.pkl...\n",
      "    Found them! Loading cached version\n",
      "[i] Looking for positional encodings in /home/xdoni4/m1p/graph-neural-pde/data/pos_encodings/Cora_GDC.pkl...\n",
      "    Found them! Loading cached version\n",
      "[i] Looking for positional encodings in /home/xdoni4/m1p/graph-neural-pde/data/pos_encodings/Cora_GDC.pkl...\n",
      "    Found them! Loading cached version\n",
      "[i] Looking for positional encodings in /home/xdoni4/m1p/graph-neural-pde/data/pos_encodings/Cora_GDC.pkl...\n",
      "    Found them! Loading cached version\n",
      "[i] Looking for positional encodings in /home/xdoni4/m1p/graph-neural-pde/data/pos_encodings/Cora_GDC.pkl...\n",
      "    Found them! Loading cached version\n",
      "[i] Looking for positional encodings in /home/xdoni4/m1p/graph-neural-pde/data/pos_encodings/Cora_GDC.pkl...\n",
      "    Found them! Loading cached version\n",
      "[i] Looking for positional encodings in /home/xdoni4/m1p/graph-neural-pde/data/pos_encodings/Cora_GDC.pkl...\n",
      "    Found them! Loading cached version\n",
      "[i] Looking for positional encodings in /home/xdoni4/m1p/graph-neural-pde/data/pos_encodings/Cora_GDC.pkl...\n",
      "    Found them! Loading cached version\n",
      "[i] Looking for positional encodings in /home/xdoni4/m1p/graph-neural-pde/data/pos_encodings/Cora_GDC.pkl...\n",
      "    Found them! Loading cached version\n",
      "[i] Looking for positional encodings in /home/xdoni4/m1p/graph-neural-pde/data/pos_encodings/Cora_GDC.pkl...\n",
      "    Found them! Loading cached version\n",
      "[i] Looking for positional encodings in /home/xdoni4/m1p/graph-neural-pde/data/pos_encodings/Cora_GDC.pkl...\n",
      "    Found them! Loading cached version\n",
      "[i] Looking for positional encodings in /home/xdoni4/m1p/graph-neural-pde/data/pos_encodings/Cora_GDC.pkl...\n",
      "    Found them! Loading cached version\n",
      "[i] Looking for positional encodings in /home/xdoni4/m1p/graph-neural-pde/data/pos_encodings/Cora_GDC.pkl...\n",
      "    Found them! Loading cached version\n",
      "[i] Looking for positional encodings in /home/xdoni4/m1p/graph-neural-pde/data/pos_encodings/Cora_GDC.pkl...\n",
      "    Found them! Loading cached version\n",
      "[i] Looking for positional encodings in /home/xdoni4/m1p/graph-neural-pde/data/pos_encodings/Cora_GDC.pkl...\n",
      "    Found them! Loading cached version\n",
      "[i] Looking for positional encodings in /home/xdoni4/m1p/graph-neural-pde/data/pos_encodings/Cora_GDC.pkl...\n",
      "    Found them! Loading cached version\n",
      "[i] Looking for positional encodings in /home/xdoni4/m1p/graph-neural-pde/data/pos_encodings/Cora_GDC.pkl...\n",
      "    Found them! Loading cached version\n",
      "[i] Looking for positional encodings in /home/xdoni4/m1p/graph-neural-pde/data/pos_encodings/Cora_GDC.pkl...\n",
      "    Found them! Loading cached version\n",
      "[i] Looking for positional encodings in /home/xdoni4/m1p/graph-neural-pde/data/pos_encodings/Cora_GDC.pkl...\n",
      "    Found them! Loading cached version\n",
      "[i] Looking for positional encodings in /home/xdoni4/m1p/graph-neural-pde/data/pos_encodings/Cora_GDC.pkl...\n",
      "    Found them! Loading cached version\n",
      "[i] Looking for positional encodings in /home/xdoni4/m1p/graph-neural-pde/data/pos_encodings/Cora_GDC.pkl...\n",
      "    Found them! Loading cached version\n",
      "[i] Looking for positional encodings in /home/xdoni4/m1p/graph-neural-pde/data/pos_encodings/Cora_GDC.pkl...\n",
      "    Found them! Loading cached version\n",
      "[i] Looking for positional encodings in /home/xdoni4/m1p/graph-neural-pde/data/pos_encodings/Cora_GDC.pkl...\n",
      "    Found them! Loading cached version\n",
      "[i] Looking for positional encodings in /home/xdoni4/m1p/graph-neural-pde/data/pos_encodings/Cora_GDC.pkl...\n",
      "    Found them! Loading cached version\n",
      "[i] Looking for positional encodings in /home/xdoni4/m1p/graph-neural-pde/data/pos_encodings/Cora_GDC.pkl...\n",
      "    Found them! Loading cached version\n",
      "[i] Looking for positional encodings in /home/xdoni4/m1p/graph-neural-pde/data/pos_encodings/Cora_GDC.pkl...\n",
      "    Found them! Loading cached version\n",
      "[i] Looking for positional encodings in /home/xdoni4/m1p/graph-neural-pde/data/pos_encodings/Cora_GDC.pkl...\n",
      "    Found them! Loading cached version\n",
      "[i] Looking for positional encodings in /home/xdoni4/m1p/graph-neural-pde/data/pos_encodings/Cora_GDC.pkl...\n",
      "    Found them! Loading cached version\n",
      "[i] Looking for positional encodings in /home/xdoni4/m1p/graph-neural-pde/data/pos_encodings/Cora_GDC.pkl...\n",
      "    Found them! Loading cached version\n",
      "[i] Looking for positional encodings in /home/xdoni4/m1p/graph-neural-pde/data/pos_encodings/Cora_GDC.pkl...\n",
      "    Found them! Loading cached version\n",
      "[i] Looking for positional encodings in /home/xdoni4/m1p/graph-neural-pde/data/pos_encodings/Cora_GDC.pkl...\n",
      "    Found them! Loading cached version\n",
      "[i] Looking for positional encodings in /home/xdoni4/m1p/graph-neural-pde/data/pos_encodings/Cora_GDC.pkl...\n",
      "    Found them! Loading cached version\n",
      "[i] Looking for positional encodings in /home/xdoni4/m1p/graph-neural-pde/data/pos_encodings/Cora_GDC.pkl...\n",
      "    Found them! Loading cached version\n",
      "[i] Looking for positional encodings in /home/xdoni4/m1p/graph-neural-pde/data/pos_encodings/Cora_GDC.pkl...\n",
      "    Found them! Loading cached version\n",
      "[i] Looking for positional encodings in /home/xdoni4/m1p/graph-neural-pde/data/pos_encodings/Cora_GDC.pkl...\n",
      "    Found them! Loading cached version\n",
      "[i] Looking for positional encodings in /home/xdoni4/m1p/graph-neural-pde/data/pos_encodings/Cora_GDC.pkl...\n",
      "    Found them! Loading cached version\n",
      "[i] Looking for positional encodings in /home/xdoni4/m1p/graph-neural-pde/data/pos_encodings/Cora_GDC.pkl...\n",
      "    Found them! Loading cached version\n",
      "[i] Looking for positional encodings in /home/xdoni4/m1p/graph-neural-pde/data/pos_encodings/Cora_GDC.pkl...\n",
      "    Found them! Loading cached version\n",
      "[i] Looking for positional encodings in /home/xdoni4/m1p/graph-neural-pde/data/pos_encodings/Cora_GDC.pkl...\n",
      "    Found them! Loading cached version\n",
      "[i] Looking for positional encodings in /home/xdoni4/m1p/graph-neural-pde/data/pos_encodings/Cora_GDC.pkl...\n",
      "    Found them! Loading cached version\n",
      "[i] Looking for positional encodings in /home/xdoni4/m1p/graph-neural-pde/data/pos_encodings/Cora_GDC.pkl...\n",
      "    Found them! Loading cached version\n",
      "[i] Looking for positional encodings in /home/xdoni4/m1p/graph-neural-pde/data/pos_encodings/Cora_GDC.pkl...\n",
      "    Found them! Loading cached version\n",
      "[i] Looking for positional encodings in /home/xdoni4/m1p/graph-neural-pde/data/pos_encodings/Cora_GDC.pkl...\n",
      "    Found them! Loading cached version\n",
      "[i] Looking for positional encodings in /home/xdoni4/m1p/graph-neural-pde/data/pos_encodings/Cora_GDC.pkl...\n",
      "    Found them! Loading cached version\n",
      "[i] Looking for positional encodings in /home/xdoni4/m1p/graph-neural-pde/data/pos_encodings/Cora_GDC.pkl...\n",
      "    Found them! Loading cached version\n",
      "[i] Looking for positional encodings in /home/xdoni4/m1p/graph-neural-pde/data/pos_encodings/Cora_GDC.pkl...\n",
      "    Found them! Loading cached version\n",
      "[i] Looking for positional encodings in /home/xdoni4/m1p/graph-neural-pde/data/pos_encodings/Cora_GDC.pkl...\n",
      "    Found them! Loading cached version\n",
      "[i] Looking for positional encodings in /home/xdoni4/m1p/graph-neural-pde/data/pos_encodings/Cora_GDC.pkl...\n",
      "    Found them! Loading cached version\n",
      "[i] Looking for positional encodings in /home/xdoni4/m1p/graph-neural-pde/data/pos_encodings/Cora_GDC.pkl...\n",
      "    Found them! Loading cached version\n",
      "[i] Looking for positional encodings in /home/xdoni4/m1p/graph-neural-pde/data/pos_encodings/Cora_GDC.pkl...\n",
      "    Found them! Loading cached version\n",
      "[i] Looking for positional encodings in /home/xdoni4/m1p/graph-neural-pde/data/pos_encodings/Cora_GDC.pkl...\n",
      "    Found them! Loading cached version\n",
      "[i] Looking for positional encodings in /home/xdoni4/m1p/graph-neural-pde/data/pos_encodings/Cora_GDC.pkl...\n",
      "    Found them! Loading cached version\n",
      "[i] Looking for positional encodings in /home/xdoni4/m1p/graph-neural-pde/data/pos_encodings/Cora_GDC.pkl...\n",
      "    Found them! Loading cached version\n",
      "[i] Looking for positional encodings in /home/xdoni4/m1p/graph-neural-pde/data/pos_encodings/Cora_GDC.pkl...\n",
      "    Found them! Loading cached version\n",
      "[i] Looking for positional encodings in /home/xdoni4/m1p/graph-neural-pde/data/pos_encodings/Cora_GDC.pkl...\n",
      "    Found them! Loading cached version\n",
      "[i] Looking for positional encodings in /home/xdoni4/m1p/graph-neural-pde/data/pos_encodings/Cora_GDC.pkl...\n",
      "    Found them! Loading cached version\n",
      "[i] Looking for positional encodings in /home/xdoni4/m1p/graph-neural-pde/data/pos_encodings/Cora_GDC.pkl...\n",
      "    Found them! Loading cached version\n",
      "[i] Looking for positional encodings in /home/xdoni4/m1p/graph-neural-pde/data/pos_encodings/Cora_GDC.pkl...\n",
      "    Found them! Loading cached version\n",
      "[i] Looking for positional encodings in /home/xdoni4/m1p/graph-neural-pde/data/pos_encodings/Cora_GDC.pkl...\n",
      "    Found them! Loading cached version\n",
      "[i] Looking for positional encodings in /home/xdoni4/m1p/graph-neural-pde/data/pos_encodings/Cora_GDC.pkl...\n",
      "    Found them! Loading cached version\n",
      "[i] Looking for positional encodings in /home/xdoni4/m1p/graph-neural-pde/data/pos_encodings/Cora_GDC.pkl...\n",
      "    Found them! Loading cached version\n",
      "[i] Looking for positional encodings in /home/xdoni4/m1p/graph-neural-pde/data/pos_encodings/Cora_GDC.pkl...\n",
      "    Found them! Loading cached version\n",
      "[i] Looking for positional encodings in /home/xdoni4/m1p/graph-neural-pde/data/pos_encodings/Cora_GDC.pkl...\n",
      "    Found them! Loading cached version\n",
      "[i] Looking for positional encodings in /home/xdoni4/m1p/graph-neural-pde/data/pos_encodings/Cora_GDC.pkl...\n",
      "    Found them! Loading cached version\n",
      "[i] Looking for positional encodings in /home/xdoni4/m1p/graph-neural-pde/data/pos_encodings/Cora_GDC.pkl...\n",
      "    Found them! Loading cached version\n",
      "[i] Looking for positional encodings in /home/xdoni4/m1p/graph-neural-pde/data/pos_encodings/Cora_GDC.pkl...\n",
      "    Found them! Loading cached version\n",
      "[i] Looking for positional encodings in /home/xdoni4/m1p/graph-neural-pde/data/pos_encodings/Cora_GDC.pkl...\n",
      "    Found them! Loading cached version\n",
      "[i] Looking for positional encodings in /home/xdoni4/m1p/graph-neural-pde/data/pos_encodings/Cora_GDC.pkl...\n",
      "    Found them! Loading cached version\n",
      "[i] Looking for positional encodings in /home/xdoni4/m1p/graph-neural-pde/data/pos_encodings/Cora_GDC.pkl...\n",
      "    Found them! Loading cached version\n",
      "[i] Looking for positional encodings in /home/xdoni4/m1p/graph-neural-pde/data/pos_encodings/Cora_GDC.pkl...\n",
      "    Found them! Loading cached version\n",
      "[i] Looking for positional encodings in /home/xdoni4/m1p/graph-neural-pde/data/pos_encodings/Cora_GDC.pkl...\n",
      "    Found them! Loading cached version\n",
      "[i] Looking for positional encodings in /home/xdoni4/m1p/graph-neural-pde/data/pos_encodings/Cora_GDC.pkl...\n",
      "    Found them! Loading cached version\n",
      "[i] Looking for positional encodings in /home/xdoni4/m1p/graph-neural-pde/data/pos_encodings/Cora_GDC.pkl...\n",
      "    Found them! Loading cached version\n",
      "[i] Looking for positional encodings in /home/xdoni4/m1p/graph-neural-pde/data/pos_encodings/Cora_GDC.pkl...\n",
      "    Found them! Loading cached version\n",
      "[i] Looking for positional encodings in /home/xdoni4/m1p/graph-neural-pde/data/pos_encodings/Cora_GDC.pkl...\n",
      "    Found them! Loading cached version\n",
      "[i] Looking for positional encodings in /home/xdoni4/m1p/graph-neural-pde/data/pos_encodings/Cora_GDC.pkl...\n",
      "    Found them! Loading cached version\n",
      "[i] Looking for positional encodings in /home/xdoni4/m1p/graph-neural-pde/data/pos_encodings/Cora_GDC.pkl...\n",
      "    Found them! Loading cached version\n",
      "[i] Looking for positional encodings in /home/xdoni4/m1p/graph-neural-pde/data/pos_encodings/Cora_GDC.pkl...\n",
      "    Found them! Loading cached version\n",
      "[i] Looking for positional encodings in /home/xdoni4/m1p/graph-neural-pde/data/pos_encodings/Cora_GDC.pkl...\n",
      "    Found them! Loading cached version\n",
      "[i] Looking for positional encodings in /home/xdoni4/m1p/graph-neural-pde/data/pos_encodings/Cora_GDC.pkl...\n",
      "    Found them! Loading cached version\n",
      "[i] Looking for positional encodings in /home/xdoni4/m1p/graph-neural-pde/data/pos_encodings/Cora_GDC.pkl...\n",
      "    Found them! Loading cached version\n",
      "[i] Looking for positional encodings in /home/xdoni4/m1p/graph-neural-pde/data/pos_encodings/Cora_GDC.pkl...\n",
      "    Found them! Loading cached version\n",
      "[i] Looking for positional encodings in /home/xdoni4/m1p/graph-neural-pde/data/pos_encodings/Cora_GDC.pkl...\n",
      "    Found them! Loading cached version\n",
      "[i] Looking for positional encodings in /home/xdoni4/m1p/graph-neural-pde/data/pos_encodings/Cora_GDC.pkl...\n",
      "    Found them! Loading cached version\n",
      "[i] Looking for positional encodings in /home/xdoni4/m1p/graph-neural-pde/data/pos_encodings/Cora_GDC.pkl...\n",
      "    Found them! Loading cached version\n",
      "[i] Looking for positional encodings in /home/xdoni4/m1p/graph-neural-pde/data/pos_encodings/Cora_GDC.pkl...\n",
      "    Found them! Loading cached version\n",
      "[i] Looking for positional encodings in /home/xdoni4/m1p/graph-neural-pde/data/pos_encodings/Cora_GDC.pkl...\n",
      "    Found them! Loading cached version\n",
      "[i] Looking for positional encodings in /home/xdoni4/m1p/graph-neural-pde/data/pos_encodings/Cora_GDC.pkl...\n",
      "    Found them! Loading cached version\n",
      "[i] Looking for positional encodings in /home/xdoni4/m1p/graph-neural-pde/data/pos_encodings/Cora_GDC.pkl...\n",
      "    Found them! Loading cached version\n",
      "[i] Looking for positional encodings in /home/xdoni4/m1p/graph-neural-pde/data/pos_encodings/Cora_GDC.pkl...\n",
      "    Found them! Loading cached version\n",
      "[i] Looking for positional encodings in /home/xdoni4/m1p/graph-neural-pde/data/pos_encodings/Cora_GDC.pkl...\n",
      "    Found them! Loading cached version\n",
      "[i] Looking for positional encodings in /home/xdoni4/m1p/graph-neural-pde/data/pos_encodings/Cora_GDC.pkl...\n",
      "    Found them! Loading cached version\n",
      "[i] Looking for positional encodings in /home/xdoni4/m1p/graph-neural-pde/data/pos_encodings/Cora_GDC.pkl...\n",
      "    Found them! Loading cached version\n",
      "[i] Looking for positional encodings in /home/xdoni4/m1p/graph-neural-pde/data/pos_encodings/Cora_GDC.pkl...\n",
      "    Found them! Loading cached version\n",
      "[i] Looking for positional encodings in /home/xdoni4/m1p/graph-neural-pde/data/pos_encodings/Cora_GDC.pkl...\n",
      "    Found them! Loading cached version\n",
      "[i] Looking for positional encodings in /home/xdoni4/m1p/graph-neural-pde/data/pos_encodings/Cora_GDC.pkl...\n",
      "    Found them! Loading cached version\n",
      "[i] Looking for positional encodings in /home/xdoni4/m1p/graph-neural-pde/data/pos_encodings/Cora_GDC.pkl...\n",
      "    Found them! Loading cached version\n",
      "[i] Looking for positional encodings in /home/xdoni4/m1p/graph-neural-pde/data/pos_encodings/Cora_GDC.pkl...\n",
      "    Found them! Loading cached version\n",
      "[i] Looking for positional encodings in /home/xdoni4/m1p/graph-neural-pde/data/pos_encodings/Cora_GDC.pkl...\n",
      "    Found them! Loading cached version\n",
      "[i] Looking for positional encodings in /home/xdoni4/m1p/graph-neural-pde/data/pos_encodings/Cora_GDC.pkl...\n",
      "    Found them! Loading cached version\n",
      "[i] Looking for positional encodings in /home/xdoni4/m1p/graph-neural-pde/data/pos_encodings/Cora_GDC.pkl...\n",
      "    Found them! Loading cached version\n",
      "[i] Looking for positional encodings in /home/xdoni4/m1p/graph-neural-pde/data/pos_encodings/Cora_GDC.pkl...\n",
      "    Found them! Loading cached version\n",
      "[i] Looking for positional encodings in /home/xdoni4/m1p/graph-neural-pde/data/pos_encodings/Cora_GDC.pkl...\n",
      "    Found them! Loading cached version\n",
      "[i] Looking for positional encodings in /home/xdoni4/m1p/graph-neural-pde/data/pos_encodings/Cora_GDC.pkl...\n",
      "    Found them! Loading cached version\n",
      "[i] Looking for positional encodings in /home/xdoni4/m1p/graph-neural-pde/data/pos_encodings/Cora_GDC.pkl...\n",
      "    Found them! Loading cached version\n",
      "[i] Looking for positional encodings in /home/xdoni4/m1p/graph-neural-pde/data/pos_encodings/Cora_GDC.pkl...\n",
      "    Found them! Loading cached version\n",
      "[i] Looking for positional encodings in /home/xdoni4/m1p/graph-neural-pde/data/pos_encodings/Cora_GDC.pkl...\n",
      "    Found them! Loading cached version\n",
      "[i] Looking for positional encodings in /home/xdoni4/m1p/graph-neural-pde/data/pos_encodings/Cora_GDC.pkl...\n",
      "    Found them! Loading cached version\n",
      "[i] Looking for positional encodings in /home/xdoni4/m1p/graph-neural-pde/data/pos_encodings/Cora_GDC.pkl...\n",
      "    Found them! Loading cached version\n",
      "[i] Looking for positional encodings in /home/xdoni4/m1p/graph-neural-pde/data/pos_encodings/Cora_GDC.pkl...\n",
      "    Found them! Loading cached version\n",
      "[i] Looking for positional encodings in /home/xdoni4/m1p/graph-neural-pde/data/pos_encodings/Cora_GDC.pkl...\n",
      "    Found them! Loading cached version\n",
      "[i] Looking for positional encodings in /home/xdoni4/m1p/graph-neural-pde/data/pos_encodings/Cora_GDC.pkl...\n",
      "    Found them! Loading cached version\n",
      "[i] Looking for positional encodings in /home/xdoni4/m1p/graph-neural-pde/data/pos_encodings/Cora_GDC.pkl...\n",
      "    Found them! Loading cached version\n",
      "[i] Looking for positional encodings in /home/xdoni4/m1p/graph-neural-pde/data/pos_encodings/Cora_GDC.pkl...\n",
      "    Found them! Loading cached version\n",
      "[i] Looking for positional encodings in /home/xdoni4/m1p/graph-neural-pde/data/pos_encodings/Cora_GDC.pkl...\n",
      "    Found them! Loading cached version\n",
      "[i] Looking for positional encodings in /home/xdoni4/m1p/graph-neural-pde/data/pos_encodings/Cora_GDC.pkl...\n",
      "    Found them! Loading cached version\n",
      "[i] Looking for positional encodings in /home/xdoni4/m1p/graph-neural-pde/data/pos_encodings/Cora_GDC.pkl...\n",
      "    Found them! Loading cached version\n",
      "[i] Looking for positional encodings in /home/xdoni4/m1p/graph-neural-pde/data/pos_encodings/Cora_GDC.pkl...\n",
      "    Found them! Loading cached version\n",
      "[i] Looking for positional encodings in /home/xdoni4/m1p/graph-neural-pde/data/pos_encodings/Cora_GDC.pkl...\n",
      "    Found them! Loading cached version\n",
      "[i] Looking for positional encodings in /home/xdoni4/m1p/graph-neural-pde/data/pos_encodings/Cora_GDC.pkl...\n",
      "    Found them! Loading cached version\n",
      "[i] Looking for positional encodings in /home/xdoni4/m1p/graph-neural-pde/data/pos_encodings/Cora_GDC.pkl...\n",
      "    Found them! Loading cached version\n",
      "[i] Looking for positional encodings in /home/xdoni4/m1p/graph-neural-pde/data/pos_encodings/Cora_GDC.pkl...\n",
      "    Found them! Loading cached version\n",
      "[i] Looking for positional encodings in /home/xdoni4/m1p/graph-neural-pde/data/pos_encodings/Cora_GDC.pkl...\n",
      "    Found them! Loading cached version\n",
      "[i] Looking for positional encodings in /home/xdoni4/m1p/graph-neural-pde/data/pos_encodings/Cora_GDC.pkl...\n",
      "    Found them! Loading cached version\n",
      "[i] Looking for positional encodings in /home/xdoni4/m1p/graph-neural-pde/data/pos_encodings/Cora_GDC.pkl...\n",
      "    Found them! Loading cached version\n",
      "[i] Looking for positional encodings in /home/xdoni4/m1p/graph-neural-pde/data/pos_encodings/Cora_GDC.pkl...\n",
      "    Found them! Loading cached version\n",
      "[i] Looking for positional encodings in /home/xdoni4/m1p/graph-neural-pde/data/pos_encodings/Cora_GDC.pkl...\n",
      "    Found them! Loading cached version\n",
      "[i] Looking for positional encodings in /home/xdoni4/m1p/graph-neural-pde/data/pos_encodings/Cora_GDC.pkl...\n",
      "    Found them! Loading cached version\n",
      "[i] Looking for positional encodings in /home/xdoni4/m1p/graph-neural-pde/data/pos_encodings/Cora_GDC.pkl...\n",
      "    Found them! Loading cached version\n",
      "[i] Looking for positional encodings in /home/xdoni4/m1p/graph-neural-pde/data/pos_encodings/Cora_GDC.pkl...\n",
      "    Found them! Loading cached version\n",
      "[i] Looking for positional encodings in /home/xdoni4/m1p/graph-neural-pde/data/pos_encodings/Cora_GDC.pkl...\n",
      "    Found them! Loading cached version\n",
      "[i] Looking for positional encodings in /home/xdoni4/m1p/graph-neural-pde/data/pos_encodings/Cora_GDC.pkl...\n",
      "    Found them! Loading cached version\n",
      "[i] Looking for positional encodings in /home/xdoni4/m1p/graph-neural-pde/data/pos_encodings/Cora_GDC.pkl...\n",
      "    Found them! Loading cached version\n",
      "[i] Looking for positional encodings in /home/xdoni4/m1p/graph-neural-pde/data/pos_encodings/Cora_GDC.pkl...\n",
      "    Found them! Loading cached version\n",
      "[i] Looking for positional encodings in /home/xdoni4/m1p/graph-neural-pde/data/pos_encodings/Cora_GDC.pkl...\n",
      "    Found them! Loading cached version\n",
      "[i] Looking for positional encodings in /home/xdoni4/m1p/graph-neural-pde/data/pos_encodings/Cora_GDC.pkl...\n",
      "    Found them! Loading cached version\n",
      "[i] Looking for positional encodings in /home/xdoni4/m1p/graph-neural-pde/data/pos_encodings/Cora_GDC.pkl...\n",
      "    Found them! Loading cached version\n",
      "[i] Looking for positional encodings in /home/xdoni4/m1p/graph-neural-pde/data/pos_encodings/Cora_GDC.pkl...\n",
      "    Found them! Loading cached version\n",
      "[i] Looking for positional encodings in /home/xdoni4/m1p/graph-neural-pde/data/pos_encodings/Cora_GDC.pkl...\n",
      "    Found them! Loading cached version\n",
      "[i] Looking for positional encodings in /home/xdoni4/m1p/graph-neural-pde/data/pos_encodings/Cora_GDC.pkl...\n",
      "    Found them! Loading cached version\n",
      "[i] Looking for positional encodings in /home/xdoni4/m1p/graph-neural-pde/data/pos_encodings/Cora_GDC.pkl...\n",
      "    Found them! Loading cached version\n",
      "[i] Looking for positional encodings in /home/xdoni4/m1p/graph-neural-pde/data/pos_encodings/Cora_GDC.pkl...\n",
      "    Found them! Loading cached version\n",
      "[i] Looking for positional encodings in /home/xdoni4/m1p/graph-neural-pde/data/pos_encodings/Cora_GDC.pkl...\n",
      "    Found them! Loading cached version\n",
      "[i] Looking for positional encodings in /home/xdoni4/m1p/graph-neural-pde/data/pos_encodings/Cora_GDC.pkl...\n",
      "    Found them! Loading cached version\n",
      "[i] Looking for positional encodings in /home/xdoni4/m1p/graph-neural-pde/data/pos_encodings/Cora_GDC.pkl...\n",
      "    Found them! Loading cached version\n",
      "[i] Looking for positional encodings in /home/xdoni4/m1p/graph-neural-pde/data/pos_encodings/Cora_GDC.pkl...\n",
      "    Found them! Loading cached version\n",
      "[i] Looking for positional encodings in /home/xdoni4/m1p/graph-neural-pde/data/pos_encodings/Cora_GDC.pkl...\n",
      "    Found them! Loading cached version\n",
      "[i] Looking for positional encodings in /home/xdoni4/m1p/graph-neural-pde/data/pos_encodings/Cora_GDC.pkl...\n",
      "    Found them! Loading cached version\n",
      "[i] Looking for positional encodings in /home/xdoni4/m1p/graph-neural-pde/data/pos_encodings/Cora_GDC.pkl...\n",
      "    Found them! Loading cached version\n",
      "[i] Looking for positional encodings in /home/xdoni4/m1p/graph-neural-pde/data/pos_encodings/Cora_GDC.pkl...\n",
      "    Found them! Loading cached version\n",
      "[i] Looking for positional encodings in /home/xdoni4/m1p/graph-neural-pde/data/pos_encodings/Cora_GDC.pkl...\n",
      "    Found them! Loading cached version\n",
      "[i] Looking for positional encodings in /home/xdoni4/m1p/graph-neural-pde/data/pos_encodings/Cora_GDC.pkl...\n",
      "    Found them! Loading cached version\n",
      "[i] Looking for positional encodings in /home/xdoni4/m1p/graph-neural-pde/data/pos_encodings/Cora_GDC.pkl...\n",
      "    Found them! Loading cached version\n",
      "[i] Looking for positional encodings in /home/xdoni4/m1p/graph-neural-pde/data/pos_encodings/Cora_GDC.pkl...\n",
      "    Found them! Loading cached version\n",
      "[i] Looking for positional encodings in /home/xdoni4/m1p/graph-neural-pde/data/pos_encodings/Cora_GDC.pkl...\n",
      "    Found them! Loading cached version\n",
      "[i] Looking for positional encodings in /home/xdoni4/m1p/graph-neural-pde/data/pos_encodings/Cora_GDC.pkl...\n",
      "    Found them! Loading cached version\n",
      "[i] Looking for positional encodings in /home/xdoni4/m1p/graph-neural-pde/data/pos_encodings/Cora_GDC.pkl...\n",
      "    Found them! Loading cached version\n",
      "[i] Looking for positional encodings in /home/xdoni4/m1p/graph-neural-pde/data/pos_encodings/Cora_GDC.pkl...\n",
      "    Found them! Loading cached version\n",
      "[i] Looking for positional encodings in /home/xdoni4/m1p/graph-neural-pde/data/pos_encodings/Cora_GDC.pkl...\n",
      "    Found them! Loading cached version\n",
      "[i] Looking for positional encodings in /home/xdoni4/m1p/graph-neural-pde/data/pos_encodings/Cora_GDC.pkl...\n",
      "    Found them! Loading cached version\n",
      "[i] Looking for positional encodings in /home/xdoni4/m1p/graph-neural-pde/data/pos_encodings/Cora_GDC.pkl...\n",
      "    Found them! Loading cached version\n",
      "[i] Looking for positional encodings in /home/xdoni4/m1p/graph-neural-pde/data/pos_encodings/Cora_GDC.pkl...\n",
      "    Found them! Loading cached version\n",
      "[i] Looking for positional encodings in /home/xdoni4/m1p/graph-neural-pde/data/pos_encodings/Cora_GDC.pkl...\n",
      "    Found them! Loading cached version\n",
      "[i] Looking for positional encodings in /home/xdoni4/m1p/graph-neural-pde/data/pos_encodings/Cora_GDC.pkl...\n",
      "    Found them! Loading cached version\n",
      "[i] Looking for positional encodings in /home/xdoni4/m1p/graph-neural-pde/data/pos_encodings/Cora_GDC.pkl...\n",
      "    Found them! Loading cached version\n",
      "[i] Looking for positional encodings in /home/xdoni4/m1p/graph-neural-pde/data/pos_encodings/Cora_GDC.pkl...\n",
      "    Found them! Loading cached version\n",
      "[i] Looking for positional encodings in /home/xdoni4/m1p/graph-neural-pde/data/pos_encodings/Cora_GDC.pkl...\n",
      "    Found them! Loading cached version\n",
      "[i] Looking for positional encodings in /home/xdoni4/m1p/graph-neural-pde/data/pos_encodings/Cora_GDC.pkl...\n",
      "    Found them! Loading cached version\n",
      "[i] Looking for positional encodings in /home/xdoni4/m1p/graph-neural-pde/data/pos_encodings/Cora_GDC.pkl...\n",
      "    Found them! Loading cached version\n",
      "[i] Looking for positional encodings in /home/xdoni4/m1p/graph-neural-pde/data/pos_encodings/Cora_GDC.pkl...\n",
      "    Found them! Loading cached version\n",
      "[i] Looking for positional encodings in /home/xdoni4/m1p/graph-neural-pde/data/pos_encodings/Cora_GDC.pkl...\n",
      "    Found them! Loading cached version\n",
      "[i] Looking for positional encodings in /home/xdoni4/m1p/graph-neural-pde/data/pos_encodings/Cora_GDC.pkl...\n",
      "    Found them! Loading cached version\n",
      "[i] Looking for positional encodings in /home/xdoni4/m1p/graph-neural-pde/data/pos_encodings/Cora_GDC.pkl...\n",
      "    Found them! Loading cached version\n",
      "[i] Looking for positional encodings in /home/xdoni4/m1p/graph-neural-pde/data/pos_encodings/Cora_GDC.pkl...\n",
      "    Found them! Loading cached version\n",
      "[i] Looking for positional encodings in /home/xdoni4/m1p/graph-neural-pde/data/pos_encodings/Cora_GDC.pkl...\n",
      "    Found them! Loading cached version\n",
      "[i] Looking for positional encodings in /home/xdoni4/m1p/graph-neural-pde/data/pos_encodings/Cora_GDC.pkl...\n",
      "    Found them! Loading cached version\n",
      "[i] Looking for positional encodings in /home/xdoni4/m1p/graph-neural-pde/data/pos_encodings/Cora_GDC.pkl...\n",
      "    Found them! Loading cached version\n",
      "[i] Looking for positional encodings in /home/xdoni4/m1p/graph-neural-pde/data/pos_encodings/Cora_GDC.pkl...\n",
      "    Found them! Loading cached version\n",
      "[i] Looking for positional encodings in /home/xdoni4/m1p/graph-neural-pde/data/pos_encodings/Cora_GDC.pkl...\n",
      "    Found them! Loading cached version\n",
      "[i] Looking for positional encodings in /home/xdoni4/m1p/graph-neural-pde/data/pos_encodings/Cora_GDC.pkl...\n",
      "    Found them! Loading cached version\n",
      "[i] Looking for positional encodings in /home/xdoni4/m1p/graph-neural-pde/data/pos_encodings/Cora_GDC.pkl...\n",
      "    Found them! Loading cached version\n",
      "[i] Looking for positional encodings in /home/xdoni4/m1p/graph-neural-pde/data/pos_encodings/Cora_GDC.pkl...\n",
      "    Found them! Loading cached version\n",
      "[i] Looking for positional encodings in /home/xdoni4/m1p/graph-neural-pde/data/pos_encodings/Cora_GDC.pkl...\n",
      "    Found them! Loading cached version\n",
      "[i] Looking for positional encodings in /home/xdoni4/m1p/graph-neural-pde/data/pos_encodings/Cora_GDC.pkl...\n",
      "    Found them! Loading cached version\n",
      "[i] Looking for positional encodings in /home/xdoni4/m1p/graph-neural-pde/data/pos_encodings/Cora_GDC.pkl...\n",
      "    Found them! Loading cached version\n",
      "[i] Looking for positional encodings in /home/xdoni4/m1p/graph-neural-pde/data/pos_encodings/Cora_GDC.pkl...\n",
      "    Found them! Loading cached version\n",
      "[i] Looking for positional encodings in /home/xdoni4/m1p/graph-neural-pde/data/pos_encodings/Cora_GDC.pkl...\n",
      "    Found them! Loading cached version\n",
      "[i] Looking for positional encodings in /home/xdoni4/m1p/graph-neural-pde/data/pos_encodings/Cora_GDC.pkl...\n",
      "    Found them! Loading cached version\n",
      "[i] Looking for positional encodings in /home/xdoni4/m1p/graph-neural-pde/data/pos_encodings/Cora_GDC.pkl...\n",
      "    Found them! Loading cached version\n",
      "[i] Looking for positional encodings in /home/xdoni4/m1p/graph-neural-pde/data/pos_encodings/Cora_GDC.pkl...\n",
      "    Found them! Loading cached version\n",
      "[i] Looking for positional encodings in /home/xdoni4/m1p/graph-neural-pde/data/pos_encodings/Cora_GDC.pkl...\n",
      "    Found them! Loading cached version\n",
      "[i] Looking for positional encodings in /home/xdoni4/m1p/graph-neural-pde/data/pos_encodings/Cora_GDC.pkl...\n",
      "    Found them! Loading cached version\n",
      "[i] Looking for positional encodings in /home/xdoni4/m1p/graph-neural-pde/data/pos_encodings/Cora_GDC.pkl...\n",
      "    Found them! Loading cached version\n",
      "[i] Looking for positional encodings in /home/xdoni4/m1p/graph-neural-pde/data/pos_encodings/Cora_GDC.pkl...\n",
      "    Found them! Loading cached version\n",
      "[i] Looking for positional encodings in /home/xdoni4/m1p/graph-neural-pde/data/pos_encodings/Cora_GDC.pkl...\n",
      "    Found them! Loading cached version\n",
      "[i] Looking for positional encodings in /home/xdoni4/m1p/graph-neural-pde/data/pos_encodings/Cora_GDC.pkl...\n",
      "    Found them! Loading cached version\n",
      "[i] Looking for positional encodings in /home/xdoni4/m1p/graph-neural-pde/data/pos_encodings/Cora_GDC.pkl...\n",
      "    Found them! Loading cached version\n",
      "[i] Looking for positional encodings in /home/xdoni4/m1p/graph-neural-pde/data/pos_encodings/Cora_GDC.pkl...\n",
      "    Found them! Loading cached version\n",
      "[i] Looking for positional encodings in /home/xdoni4/m1p/graph-neural-pde/data/pos_encodings/Cora_GDC.pkl...\n",
      "    Found them! Loading cached version\n",
      "[i] Looking for positional encodings in /home/xdoni4/m1p/graph-neural-pde/data/pos_encodings/Cora_GDC.pkl...\n",
      "    Found them! Loading cached version\n",
      "[i] Looking for positional encodings in /home/xdoni4/m1p/graph-neural-pde/data/pos_encodings/Cora_GDC.pkl...\n",
      "    Found them! Loading cached version\n"
     ]
    },
    {
     "name": "stderr",
     "output_type": "stream",
     "text": [
      "  0%|          | 0/89 [00:00<?, ?it/s]/home/xdoni4/miniconda3/envs/m1p/lib/python3.9/site-packages/torchdiffeq/_impl/misc.py:11: UserWarning: Dopri5Solver: Unexpected arguments {'step_size': 1, 'max_iters': 100}\n",
      "  warnings.warn('{}: Unexpected arguments {}'.format(solver.__class__.__name__, unused_kwargs))\n",
      "100%|██████████| 89/89 [13:56<00:00,  9.39s/it]\n"
     ]
    },
    {
     "name": "stdout",
     "output_type": "stream",
     "text": [
      "TRAIN: epoch = 1, loss = 0.688, accuracy = 0.551, f1 = 0.548\n"
     ]
    },
    {
     "name": "stderr",
     "output_type": "stream",
     "text": [
      "/home/xdoni4/miniconda3/envs/m1p/lib/python3.9/site-packages/torchdiffeq/_impl/misc.py:11: UserWarning: Dopri5Solver: Unexpected arguments {'step_size': 1, 'max_iters': 100}\n",
      "  warnings.warn('{}: Unexpected arguments {}'.format(solver.__class__.__name__, unused_kwargs))\n"
     ]
    },
    {
     "name": "stdout",
     "output_type": "stream",
     "text": [
      "TEST: loss = 0.662, accuracy = 0.7, f1 = 0.558\n",
      "--------------------------------------------------\n"
     ]
    },
    {
     "name": "stderr",
     "output_type": "stream",
     "text": [
      "  0%|          | 0/89 [00:00<?, ?it/s]/home/xdoni4/miniconda3/envs/m1p/lib/python3.9/site-packages/torchdiffeq/_impl/misc.py:11: UserWarning: Dopri5Solver: Unexpected arguments {'step_size': 1, 'max_iters': 100}\n",
      "  warnings.warn('{}: Unexpected arguments {}'.format(solver.__class__.__name__, unused_kwargs))\n",
      "100%|██████████| 89/89 [16:27<00:00, 11.10s/it]\n"
     ]
    },
    {
     "name": "stdout",
     "output_type": "stream",
     "text": [
      "TRAIN: epoch = 2, loss = 0.625, accuracy = 0.708, f1 = 0.668\n"
     ]
    },
    {
     "name": "stderr",
     "output_type": "stream",
     "text": [
      "/home/xdoni4/miniconda3/envs/m1p/lib/python3.9/site-packages/torchdiffeq/_impl/misc.py:11: UserWarning: Dopri5Solver: Unexpected arguments {'step_size': 1, 'max_iters': 100}\n",
      "  warnings.warn('{}: Unexpected arguments {}'.format(solver.__class__.__name__, unused_kwargs))\n"
     ]
    },
    {
     "name": "stdout",
     "output_type": "stream",
     "text": [
      "TEST: loss = 0.636, accuracy = 0.7, f1 = 0.6\n",
      "--------------------------------------------------\n"
     ]
    },
    {
     "name": "stderr",
     "output_type": "stream",
     "text": [
      "  0%|          | 0/89 [00:00<?, ?it/s]/home/xdoni4/miniconda3/envs/m1p/lib/python3.9/site-packages/torchdiffeq/_impl/misc.py:11: UserWarning: Dopri5Solver: Unexpected arguments {'step_size': 1, 'max_iters': 100}\n",
      "  warnings.warn('{}: Unexpected arguments {}'.format(solver.__class__.__name__, unused_kwargs))\n",
      "100%|██████████| 89/89 [14:21<00:00,  9.68s/it]\n"
     ]
    },
    {
     "name": "stdout",
     "output_type": "stream",
     "text": [
      "TRAIN: epoch = 3, loss = 0.561, accuracy = 0.787, f1 = 0.755\n"
     ]
    },
    {
     "name": "stderr",
     "output_type": "stream",
     "text": [
      "/home/xdoni4/miniconda3/envs/m1p/lib/python3.9/site-packages/torchdiffeq/_impl/misc.py:11: UserWarning: Dopri5Solver: Unexpected arguments {'step_size': 1, 'max_iters': 100}\n",
      "  warnings.warn('{}: Unexpected arguments {}'.format(solver.__class__.__name__, unused_kwargs))\n"
     ]
    },
    {
     "name": "stdout",
     "output_type": "stream",
     "text": [
      "TEST: loss = 0.62, accuracy = 0.7, f1 = 0.6\n",
      "--------------------------------------------------\n",
      "\n",
      "===================================================================================\n",
      "\n",
      "Building adjacencies T=15\n"
     ]
    },
    {
     "name": "stderr",
     "output_type": "stream",
     "text": [
      "100%|██████████| 89/89 [00:04<00:00, 18.75it/s]\n"
     ]
    },
    {
     "name": "stdout",
     "output_type": "stream",
     "text": [
      "(89, 241, 32, 32)\n"
     ]
    },
    {
     "name": "stderr",
     "output_type": "stream",
     "text": [
      "100%|██████████| 30/30 [00:01<00:00, 20.20it/s]\n"
     ]
    },
    {
     "name": "stdout",
     "output_type": "stream",
     "text": [
      "(30, 241, 32, 32)\n",
      "T=15, alpha=0.5, NF=5, sigma=0.2\n",
      "Running GCN\n",
      "241\n",
      "\n",
      "===================================================================================\n",
      "\n"
     ]
    },
    {
     "name": "stderr",
     "output_type": "stream",
     "text": [
      "100%|██████████| 89/89 [00:04<00:00, 21.41it/s]\n"
     ]
    },
    {
     "name": "stdout",
     "output_type": "stream",
     "text": [
      "TRAIN: epoch = 1, loss = 0.692, accuracy = 0.494, f1 = 0.49\n",
      "TEST: loss = 0.662, accuracy = 0.633, f1 = 0.388\n",
      "--------------------------------------------------\n"
     ]
    },
    {
     "name": "stderr",
     "output_type": "stream",
     "text": [
      "100%|██████████| 89/89 [00:04<00:00, 19.82it/s]\n"
     ]
    },
    {
     "name": "stdout",
     "output_type": "stream",
     "text": [
      "TRAIN: epoch = 2, loss = 0.634, accuracy = 0.697, f1 = 0.572\n",
      "TEST: loss = 0.642, accuracy = 0.633, f1 = 0.388\n",
      "--------------------------------------------------\n"
     ]
    },
    {
     "name": "stderr",
     "output_type": "stream",
     "text": [
      "100%|██████████| 89/89 [00:04<00:00, 21.33it/s]\n"
     ]
    },
    {
     "name": "stdout",
     "output_type": "stream",
     "text": [
      "TRAIN: epoch = 3, loss = 0.586, accuracy = 0.73, f1 = 0.638\n",
      "TEST: loss = 0.624, accuracy = 0.667, f1 = 0.479\n",
      "--------------------------------------------------\n"
     ]
    },
    {
     "name": "stderr",
     "output_type": "stream",
     "text": [
      "100%|██████████| 89/89 [00:04<00:00, 19.87it/s]\n"
     ]
    },
    {
     "name": "stdout",
     "output_type": "stream",
     "text": [
      "TRAIN: epoch = 4, loss = 0.512, accuracy = 0.775, f1 = 0.715\n",
      "TEST: loss = 0.609, accuracy = 0.667, f1 = 0.479\n",
      "--------------------------------------------------\n"
     ]
    },
    {
     "name": "stderr",
     "output_type": "stream",
     "text": [
      "100%|██████████| 89/89 [00:03<00:00, 22.52it/s]\n"
     ]
    },
    {
     "name": "stdout",
     "output_type": "stream",
     "text": [
      "TRAIN: epoch = 5, loss = 0.459, accuracy = 0.876, f1 = 0.855\n",
      "TEST: loss = 0.592, accuracy = 0.667, f1 = 0.479\n",
      "--------------------------------------------------\n"
     ]
    },
    {
     "name": "stderr",
     "output_type": "stream",
     "text": [
      "100%|██████████| 89/89 [00:03<00:00, 22.48it/s]\n"
     ]
    },
    {
     "name": "stdout",
     "output_type": "stream",
     "text": [
      "TRAIN: epoch = 6, loss = 0.408, accuracy = 0.876, f1 = 0.855\n",
      "TEST: loss = 0.564, accuracy = 0.7, f1 = 0.558\n",
      "--------------------------------------------------\n"
     ]
    },
    {
     "name": "stderr",
     "output_type": "stream",
     "text": [
      "100%|██████████| 89/89 [00:04<00:00, 21.29it/s]\n"
     ]
    },
    {
     "name": "stdout",
     "output_type": "stream",
     "text": [
      "TRAIN: epoch = 7, loss = 0.345, accuracy = 0.91, f1 = 0.899\n",
      "TEST: loss = 0.565, accuracy = 0.7, f1 = 0.558\n",
      "--------------------------------------------------\n"
     ]
    },
    {
     "name": "stderr",
     "output_type": "stream",
     "text": [
      "100%|██████████| 89/89 [00:04<00:00, 22.17it/s]\n"
     ]
    },
    {
     "name": "stdout",
     "output_type": "stream",
     "text": [
      "TRAIN: epoch = 8, loss = 0.32, accuracy = 0.921, f1 = 0.913\n",
      "TEST: loss = 0.572, accuracy = 0.7, f1 = 0.558\n",
      "--------------------------------------------------\n"
     ]
    },
    {
     "name": "stderr",
     "output_type": "stream",
     "text": [
      "100%|██████████| 89/89 [00:10<00:00,  8.11it/s]\n"
     ]
    },
    {
     "name": "stdout",
     "output_type": "stream",
     "text": [
      "TRAIN: epoch = 9, loss = 0.233, accuracy = 0.966, f1 = 0.963\n",
      "TEST: loss = 0.552, accuracy = 0.7, f1 = 0.6\n",
      "--------------------------------------------------\n"
     ]
    },
    {
     "name": "stderr",
     "output_type": "stream",
     "text": [
      "100%|██████████| 89/89 [00:03<00:00, 22.26it/s]\n"
     ]
    },
    {
     "name": "stdout",
     "output_type": "stream",
     "text": [
      "TRAIN: epoch = 10, loss = 0.212, accuracy = 0.955, f1 = 0.951\n",
      "TEST: loss = 0.585, accuracy = 0.733, f1 = 0.627\n",
      "--------------------------------------------------\n",
      "\n",
      "===================================================================================\n",
      "\n",
      "Running GRAND\n",
      "241\n",
      "\n",
      "===================================================================================\n",
      "\n"
     ]
    },
    {
     "name": "stderr",
     "output_type": "stream",
     "text": [
      "  0%|          | 0/89 [00:00<?, ?it/s]/home/xdoni4/miniconda3/envs/m1p/lib/python3.9/site-packages/torchdiffeq/_impl/misc.py:11: UserWarning: Dopri5Solver: Unexpected arguments {'step_size': 1, 'max_iters': 100}\n",
      "  warnings.warn('{}: Unexpected arguments {}'.format(solver.__class__.__name__, unused_kwargs))\n",
      "100%|██████████| 89/89 [14:56<00:00, 10.07s/it]\n"
     ]
    },
    {
     "name": "stdout",
     "output_type": "stream",
     "text": [
      "TRAIN: epoch = 1, loss = 0.707, accuracy = 0.494, f1 = 0.493\n"
     ]
    },
    {
     "name": "stderr",
     "output_type": "stream",
     "text": [
      "/home/xdoni4/miniconda3/envs/m1p/lib/python3.9/site-packages/torchdiffeq/_impl/misc.py:11: UserWarning: Dopri5Solver: Unexpected arguments {'step_size': 1, 'max_iters': 100}\n",
      "  warnings.warn('{}: Unexpected arguments {}'.format(solver.__class__.__name__, unused_kwargs))\n"
     ]
    },
    {
     "name": "stdout",
     "output_type": "stream",
     "text": [
      "TEST: loss = 0.677, accuracy = 0.6, f1 = 0.524\n",
      "--------------------------------------------------\n"
     ]
    },
    {
     "name": "stderr",
     "output_type": "stream",
     "text": [
      "  0%|          | 0/89 [00:00<?, ?it/s]/home/xdoni4/miniconda3/envs/m1p/lib/python3.9/site-packages/torchdiffeq/_impl/misc.py:11: UserWarning: Dopri5Solver: Unexpected arguments {'step_size': 1, 'max_iters': 100}\n",
      "  warnings.warn('{}: Unexpected arguments {}'.format(solver.__class__.__name__, unused_kwargs))\n",
      "100%|██████████| 89/89 [14:46<00:00,  9.96s/it]\n"
     ]
    },
    {
     "name": "stdout",
     "output_type": "stream",
     "text": [
      "TRAIN: epoch = 2, loss = 0.646, accuracy = 0.663, f1 = 0.623\n"
     ]
    },
    {
     "name": "stderr",
     "output_type": "stream",
     "text": [
      "/home/xdoni4/miniconda3/envs/m1p/lib/python3.9/site-packages/torchdiffeq/_impl/misc.py:11: UserWarning: Dopri5Solver: Unexpected arguments {'step_size': 1, 'max_iters': 100}\n",
      "  warnings.warn('{}: Unexpected arguments {}'.format(solver.__class__.__name__, unused_kwargs))\n"
     ]
    },
    {
     "name": "stdout",
     "output_type": "stream",
     "text": [
      "TEST: loss = 0.659, accuracy = 0.567, f1 = 0.362\n",
      "--------------------------------------------------\n"
     ]
    },
    {
     "name": "stderr",
     "output_type": "stream",
     "text": [
      "  0%|          | 0/89 [00:00<?, ?it/s]/home/xdoni4/miniconda3/envs/m1p/lib/python3.9/site-packages/torchdiffeq/_impl/misc.py:11: UserWarning: Dopri5Solver: Unexpected arguments {'step_size': 1, 'max_iters': 100}\n",
      "  warnings.warn('{}: Unexpected arguments {}'.format(solver.__class__.__name__, unused_kwargs))\n",
      "100%|██████████| 89/89 [16:32<00:00, 11.15s/it]\n"
     ]
    },
    {
     "name": "stdout",
     "output_type": "stream",
     "text": [
      "TRAIN: epoch = 3, loss = 0.588, accuracy = 0.764, f1 = 0.711\n"
     ]
    },
    {
     "name": "stderr",
     "output_type": "stream",
     "text": [
      "/home/xdoni4/miniconda3/envs/m1p/lib/python3.9/site-packages/torchdiffeq/_impl/misc.py:11: UserWarning: Dopri5Solver: Unexpected arguments {'step_size': 1, 'max_iters': 100}\n",
      "  warnings.warn('{}: Unexpected arguments {}'.format(solver.__class__.__name__, unused_kwargs))\n"
     ]
    },
    {
     "name": "stdout",
     "output_type": "stream",
     "text": [
      "TEST: loss = 0.656, accuracy = 0.6, f1 = 0.375\n",
      "--------------------------------------------------\n",
      "\n",
      "===================================================================================\n",
      "\n",
      "Running BLEND\n",
      "241\n",
      "\n",
      "===================================================================================\n",
      "\n",
      "[i] Looking for positional encodings in /home/xdoni4/m1p/graph-neural-pde/data/pos_encodings/Cora_GDC.pkl...\n",
      "    Found them! Loading cached version\n",
      "[i] Looking for positional encodings in /home/xdoni4/m1p/graph-neural-pde/data/pos_encodings/Cora_GDC.pkl...\n",
      "    Found them! Loading cached version\n",
      "[i] Looking for positional encodings in /home/xdoni4/m1p/graph-neural-pde/data/pos_encodings/Cora_GDC.pkl...\n",
      "    Found them! Loading cached version\n",
      "[i] Looking for positional encodings in /home/xdoni4/m1p/graph-neural-pde/data/pos_encodings/Cora_GDC.pkl...\n",
      "    Found them! Loading cached version\n",
      "[i] Looking for positional encodings in /home/xdoni4/m1p/graph-neural-pde/data/pos_encodings/Cora_GDC.pkl...\n",
      "    Found them! Loading cached version\n",
      "[i] Looking for positional encodings in /home/xdoni4/m1p/graph-neural-pde/data/pos_encodings/Cora_GDC.pkl...\n",
      "    Found them! Loading cached version\n",
      "[i] Looking for positional encodings in /home/xdoni4/m1p/graph-neural-pde/data/pos_encodings/Cora_GDC.pkl...\n",
      "    Found them! Loading cached version\n",
      "[i] Looking for positional encodings in /home/xdoni4/m1p/graph-neural-pde/data/pos_encodings/Cora_GDC.pkl...\n",
      "    Found them! Loading cached version\n",
      "[i] Looking for positional encodings in /home/xdoni4/m1p/graph-neural-pde/data/pos_encodings/Cora_GDC.pkl...\n",
      "    Found them! Loading cached version\n",
      "[i] Looking for positional encodings in /home/xdoni4/m1p/graph-neural-pde/data/pos_encodings/Cora_GDC.pkl...\n",
      "    Found them! Loading cached version\n",
      "[i] Looking for positional encodings in /home/xdoni4/m1p/graph-neural-pde/data/pos_encodings/Cora_GDC.pkl...\n",
      "    Found them! Loading cached version\n",
      "[i] Looking for positional encodings in /home/xdoni4/m1p/graph-neural-pde/data/pos_encodings/Cora_GDC.pkl...\n",
      "    Found them! Loading cached version\n",
      "[i] Looking for positional encodings in /home/xdoni4/m1p/graph-neural-pde/data/pos_encodings/Cora_GDC.pkl...\n",
      "    Found them! Loading cached version\n",
      "[i] Looking for positional encodings in /home/xdoni4/m1p/graph-neural-pde/data/pos_encodings/Cora_GDC.pkl...\n",
      "    Found them! Loading cached version\n",
      "[i] Looking for positional encodings in /home/xdoni4/m1p/graph-neural-pde/data/pos_encodings/Cora_GDC.pkl...\n",
      "    Found them! Loading cached version\n",
      "[i] Looking for positional encodings in /home/xdoni4/m1p/graph-neural-pde/data/pos_encodings/Cora_GDC.pkl...\n",
      "    Found them! Loading cached version\n",
      "[i] Looking for positional encodings in /home/xdoni4/m1p/graph-neural-pde/data/pos_encodings/Cora_GDC.pkl...\n",
      "    Found them! Loading cached version\n",
      "[i] Looking for positional encodings in /home/xdoni4/m1p/graph-neural-pde/data/pos_encodings/Cora_GDC.pkl...\n",
      "    Found them! Loading cached version\n",
      "[i] Looking for positional encodings in /home/xdoni4/m1p/graph-neural-pde/data/pos_encodings/Cora_GDC.pkl...\n",
      "    Found them! Loading cached version\n",
      "[i] Looking for positional encodings in /home/xdoni4/m1p/graph-neural-pde/data/pos_encodings/Cora_GDC.pkl...\n",
      "    Found them! Loading cached version\n",
      "[i] Looking for positional encodings in /home/xdoni4/m1p/graph-neural-pde/data/pos_encodings/Cora_GDC.pkl...\n",
      "    Found them! Loading cached version\n",
      "[i] Looking for positional encodings in /home/xdoni4/m1p/graph-neural-pde/data/pos_encodings/Cora_GDC.pkl...\n",
      "    Found them! Loading cached version\n",
      "[i] Looking for positional encodings in /home/xdoni4/m1p/graph-neural-pde/data/pos_encodings/Cora_GDC.pkl...\n",
      "    Found them! Loading cached version\n",
      "[i] Looking for positional encodings in /home/xdoni4/m1p/graph-neural-pde/data/pos_encodings/Cora_GDC.pkl...\n",
      "    Found them! Loading cached version\n",
      "[i] Looking for positional encodings in /home/xdoni4/m1p/graph-neural-pde/data/pos_encodings/Cora_GDC.pkl...\n",
      "    Found them! Loading cached version\n",
      "[i] Looking for positional encodings in /home/xdoni4/m1p/graph-neural-pde/data/pos_encodings/Cora_GDC.pkl...\n",
      "    Found them! Loading cached version\n",
      "[i] Looking for positional encodings in /home/xdoni4/m1p/graph-neural-pde/data/pos_encodings/Cora_GDC.pkl...\n",
      "    Found them! Loading cached version\n",
      "[i] Looking for positional encodings in /home/xdoni4/m1p/graph-neural-pde/data/pos_encodings/Cora_GDC.pkl...\n",
      "    Found them! Loading cached version\n",
      "[i] Looking for positional encodings in /home/xdoni4/m1p/graph-neural-pde/data/pos_encodings/Cora_GDC.pkl...\n",
      "    Found them! Loading cached version\n",
      "[i] Looking for positional encodings in /home/xdoni4/m1p/graph-neural-pde/data/pos_encodings/Cora_GDC.pkl...\n",
      "    Found them! Loading cached version\n",
      "[i] Looking for positional encodings in /home/xdoni4/m1p/graph-neural-pde/data/pos_encodings/Cora_GDC.pkl...\n",
      "    Found them! Loading cached version\n",
      "[i] Looking for positional encodings in /home/xdoni4/m1p/graph-neural-pde/data/pos_encodings/Cora_GDC.pkl...\n",
      "    Found them! Loading cached version\n",
      "[i] Looking for positional encodings in /home/xdoni4/m1p/graph-neural-pde/data/pos_encodings/Cora_GDC.pkl...\n",
      "    Found them! Loading cached version\n",
      "[i] Looking for positional encodings in /home/xdoni4/m1p/graph-neural-pde/data/pos_encodings/Cora_GDC.pkl...\n",
      "    Found them! Loading cached version\n",
      "[i] Looking for positional encodings in /home/xdoni4/m1p/graph-neural-pde/data/pos_encodings/Cora_GDC.pkl...\n",
      "    Found them! Loading cached version\n",
      "[i] Looking for positional encodings in /home/xdoni4/m1p/graph-neural-pde/data/pos_encodings/Cora_GDC.pkl...\n",
      "    Found them! Loading cached version\n",
      "[i] Looking for positional encodings in /home/xdoni4/m1p/graph-neural-pde/data/pos_encodings/Cora_GDC.pkl...\n",
      "    Found them! Loading cached version\n",
      "[i] Looking for positional encodings in /home/xdoni4/m1p/graph-neural-pde/data/pos_encodings/Cora_GDC.pkl...\n",
      "    Found them! Loading cached version\n",
      "[i] Looking for positional encodings in /home/xdoni4/m1p/graph-neural-pde/data/pos_encodings/Cora_GDC.pkl...\n",
      "    Found them! Loading cached version\n",
      "[i] Looking for positional encodings in /home/xdoni4/m1p/graph-neural-pde/data/pos_encodings/Cora_GDC.pkl...\n",
      "    Found them! Loading cached version\n",
      "[i] Looking for positional encodings in /home/xdoni4/m1p/graph-neural-pde/data/pos_encodings/Cora_GDC.pkl...\n",
      "    Found them! Loading cached version\n",
      "[i] Looking for positional encodings in /home/xdoni4/m1p/graph-neural-pde/data/pos_encodings/Cora_GDC.pkl...\n",
      "    Found them! Loading cached version\n",
      "[i] Looking for positional encodings in /home/xdoni4/m1p/graph-neural-pde/data/pos_encodings/Cora_GDC.pkl...\n",
      "    Found them! Loading cached version\n",
      "[i] Looking for positional encodings in /home/xdoni4/m1p/graph-neural-pde/data/pos_encodings/Cora_GDC.pkl...\n",
      "    Found them! Loading cached version\n",
      "[i] Looking for positional encodings in /home/xdoni4/m1p/graph-neural-pde/data/pos_encodings/Cora_GDC.pkl...\n",
      "    Found them! Loading cached version\n",
      "[i] Looking for positional encodings in /home/xdoni4/m1p/graph-neural-pde/data/pos_encodings/Cora_GDC.pkl...\n",
      "    Found them! Loading cached version\n",
      "[i] Looking for positional encodings in /home/xdoni4/m1p/graph-neural-pde/data/pos_encodings/Cora_GDC.pkl...\n",
      "    Found them! Loading cached version\n",
      "[i] Looking for positional encodings in /home/xdoni4/m1p/graph-neural-pde/data/pos_encodings/Cora_GDC.pkl...\n",
      "    Found them! Loading cached version\n",
      "[i] Looking for positional encodings in /home/xdoni4/m1p/graph-neural-pde/data/pos_encodings/Cora_GDC.pkl...\n",
      "    Found them! Loading cached version\n",
      "[i] Looking for positional encodings in /home/xdoni4/m1p/graph-neural-pde/data/pos_encodings/Cora_GDC.pkl...\n",
      "    Found them! Loading cached version\n",
      "[i] Looking for positional encodings in /home/xdoni4/m1p/graph-neural-pde/data/pos_encodings/Cora_GDC.pkl...\n",
      "    Found them! Loading cached version\n",
      "[i] Looking for positional encodings in /home/xdoni4/m1p/graph-neural-pde/data/pos_encodings/Cora_GDC.pkl...\n",
      "    Found them! Loading cached version\n",
      "[i] Looking for positional encodings in /home/xdoni4/m1p/graph-neural-pde/data/pos_encodings/Cora_GDC.pkl...\n",
      "    Found them! Loading cached version\n",
      "[i] Looking for positional encodings in /home/xdoni4/m1p/graph-neural-pde/data/pos_encodings/Cora_GDC.pkl...\n",
      "    Found them! Loading cached version\n",
      "[i] Looking for positional encodings in /home/xdoni4/m1p/graph-neural-pde/data/pos_encodings/Cora_GDC.pkl...\n",
      "    Found them! Loading cached version\n",
      "[i] Looking for positional encodings in /home/xdoni4/m1p/graph-neural-pde/data/pos_encodings/Cora_GDC.pkl...\n",
      "    Found them! Loading cached version\n",
      "[i] Looking for positional encodings in /home/xdoni4/m1p/graph-neural-pde/data/pos_encodings/Cora_GDC.pkl...\n",
      "    Found them! Loading cached version\n",
      "[i] Looking for positional encodings in /home/xdoni4/m1p/graph-neural-pde/data/pos_encodings/Cora_GDC.pkl...\n",
      "    Found them! Loading cached version\n",
      "[i] Looking for positional encodings in /home/xdoni4/m1p/graph-neural-pde/data/pos_encodings/Cora_GDC.pkl...\n",
      "    Found them! Loading cached version\n",
      "[i] Looking for positional encodings in /home/xdoni4/m1p/graph-neural-pde/data/pos_encodings/Cora_GDC.pkl...\n",
      "    Found them! Loading cached version\n",
      "[i] Looking for positional encodings in /home/xdoni4/m1p/graph-neural-pde/data/pos_encodings/Cora_GDC.pkl...\n",
      "    Found them! Loading cached version\n",
      "[i] Looking for positional encodings in /home/xdoni4/m1p/graph-neural-pde/data/pos_encodings/Cora_GDC.pkl...\n",
      "    Found them! Loading cached version\n",
      "[i] Looking for positional encodings in /home/xdoni4/m1p/graph-neural-pde/data/pos_encodings/Cora_GDC.pkl...\n",
      "    Found them! Loading cached version\n",
      "[i] Looking for positional encodings in /home/xdoni4/m1p/graph-neural-pde/data/pos_encodings/Cora_GDC.pkl...\n",
      "    Found them! Loading cached version\n",
      "[i] Looking for positional encodings in /home/xdoni4/m1p/graph-neural-pde/data/pos_encodings/Cora_GDC.pkl...\n",
      "    Found them! Loading cached version\n",
      "[i] Looking for positional encodings in /home/xdoni4/m1p/graph-neural-pde/data/pos_encodings/Cora_GDC.pkl...\n",
      "    Found them! Loading cached version\n",
      "[i] Looking for positional encodings in /home/xdoni4/m1p/graph-neural-pde/data/pos_encodings/Cora_GDC.pkl...\n",
      "    Found them! Loading cached version\n",
      "[i] Looking for positional encodings in /home/xdoni4/m1p/graph-neural-pde/data/pos_encodings/Cora_GDC.pkl...\n",
      "    Found them! Loading cached version\n",
      "[i] Looking for positional encodings in /home/xdoni4/m1p/graph-neural-pde/data/pos_encodings/Cora_GDC.pkl...\n",
      "    Found them! Loading cached version\n",
      "[i] Looking for positional encodings in /home/xdoni4/m1p/graph-neural-pde/data/pos_encodings/Cora_GDC.pkl...\n",
      "    Found them! Loading cached version\n",
      "[i] Looking for positional encodings in /home/xdoni4/m1p/graph-neural-pde/data/pos_encodings/Cora_GDC.pkl...\n",
      "    Found them! Loading cached version\n",
      "[i] Looking for positional encodings in /home/xdoni4/m1p/graph-neural-pde/data/pos_encodings/Cora_GDC.pkl...\n",
      "    Found them! Loading cached version\n",
      "[i] Looking for positional encodings in /home/xdoni4/m1p/graph-neural-pde/data/pos_encodings/Cora_GDC.pkl...\n",
      "    Found them! Loading cached version\n",
      "[i] Looking for positional encodings in /home/xdoni4/m1p/graph-neural-pde/data/pos_encodings/Cora_GDC.pkl...\n",
      "    Found them! Loading cached version\n",
      "[i] Looking for positional encodings in /home/xdoni4/m1p/graph-neural-pde/data/pos_encodings/Cora_GDC.pkl...\n",
      "    Found them! Loading cached version\n",
      "[i] Looking for positional encodings in /home/xdoni4/m1p/graph-neural-pde/data/pos_encodings/Cora_GDC.pkl...\n",
      "    Found them! Loading cached version\n",
      "[i] Looking for positional encodings in /home/xdoni4/m1p/graph-neural-pde/data/pos_encodings/Cora_GDC.pkl...\n",
      "    Found them! Loading cached version\n",
      "[i] Looking for positional encodings in /home/xdoni4/m1p/graph-neural-pde/data/pos_encodings/Cora_GDC.pkl...\n",
      "    Found them! Loading cached version\n",
      "[i] Looking for positional encodings in /home/xdoni4/m1p/graph-neural-pde/data/pos_encodings/Cora_GDC.pkl...\n",
      "    Found them! Loading cached version\n",
      "[i] Looking for positional encodings in /home/xdoni4/m1p/graph-neural-pde/data/pos_encodings/Cora_GDC.pkl...\n",
      "    Found them! Loading cached version\n",
      "[i] Looking for positional encodings in /home/xdoni4/m1p/graph-neural-pde/data/pos_encodings/Cora_GDC.pkl...\n",
      "    Found them! Loading cached version\n",
      "[i] Looking for positional encodings in /home/xdoni4/m1p/graph-neural-pde/data/pos_encodings/Cora_GDC.pkl...\n",
      "    Found them! Loading cached version\n",
      "[i] Looking for positional encodings in /home/xdoni4/m1p/graph-neural-pde/data/pos_encodings/Cora_GDC.pkl...\n",
      "    Found them! Loading cached version\n",
      "[i] Looking for positional encodings in /home/xdoni4/m1p/graph-neural-pde/data/pos_encodings/Cora_GDC.pkl...\n",
      "    Found them! Loading cached version\n",
      "[i] Looking for positional encodings in /home/xdoni4/m1p/graph-neural-pde/data/pos_encodings/Cora_GDC.pkl...\n",
      "    Found them! Loading cached version\n",
      "[i] Looking for positional encodings in /home/xdoni4/m1p/graph-neural-pde/data/pos_encodings/Cora_GDC.pkl...\n",
      "    Found them! Loading cached version\n",
      "[i] Looking for positional encodings in /home/xdoni4/m1p/graph-neural-pde/data/pos_encodings/Cora_GDC.pkl...\n",
      "    Found them! Loading cached version\n",
      "[i] Looking for positional encodings in /home/xdoni4/m1p/graph-neural-pde/data/pos_encodings/Cora_GDC.pkl...\n",
      "    Found them! Loading cached version\n",
      "[i] Looking for positional encodings in /home/xdoni4/m1p/graph-neural-pde/data/pos_encodings/Cora_GDC.pkl...\n",
      "    Found them! Loading cached version\n",
      "[i] Looking for positional encodings in /home/xdoni4/m1p/graph-neural-pde/data/pos_encodings/Cora_GDC.pkl...\n",
      "    Found them! Loading cached version\n",
      "[i] Looking for positional encodings in /home/xdoni4/m1p/graph-neural-pde/data/pos_encodings/Cora_GDC.pkl...\n",
      "    Found them! Loading cached version\n",
      "[i] Looking for positional encodings in /home/xdoni4/m1p/graph-neural-pde/data/pos_encodings/Cora_GDC.pkl...\n",
      "    Found them! Loading cached version\n",
      "[i] Looking for positional encodings in /home/xdoni4/m1p/graph-neural-pde/data/pos_encodings/Cora_GDC.pkl...\n",
      "    Found them! Loading cached version\n",
      "[i] Looking for positional encodings in /home/xdoni4/m1p/graph-neural-pde/data/pos_encodings/Cora_GDC.pkl...\n",
      "    Found them! Loading cached version\n",
      "[i] Looking for positional encodings in /home/xdoni4/m1p/graph-neural-pde/data/pos_encodings/Cora_GDC.pkl...\n",
      "    Found them! Loading cached version\n",
      "[i] Looking for positional encodings in /home/xdoni4/m1p/graph-neural-pde/data/pos_encodings/Cora_GDC.pkl...\n",
      "    Found them! Loading cached version\n",
      "[i] Looking for positional encodings in /home/xdoni4/m1p/graph-neural-pde/data/pos_encodings/Cora_GDC.pkl...\n",
      "    Found them! Loading cached version\n",
      "[i] Looking for positional encodings in /home/xdoni4/m1p/graph-neural-pde/data/pos_encodings/Cora_GDC.pkl...\n",
      "    Found them! Loading cached version\n",
      "[i] Looking for positional encodings in /home/xdoni4/m1p/graph-neural-pde/data/pos_encodings/Cora_GDC.pkl...\n",
      "    Found them! Loading cached version\n",
      "[i] Looking for positional encodings in /home/xdoni4/m1p/graph-neural-pde/data/pos_encodings/Cora_GDC.pkl...\n",
      "    Found them! Loading cached version\n",
      "[i] Looking for positional encodings in /home/xdoni4/m1p/graph-neural-pde/data/pos_encodings/Cora_GDC.pkl...\n",
      "    Found them! Loading cached version\n",
      "[i] Looking for positional encodings in /home/xdoni4/m1p/graph-neural-pde/data/pos_encodings/Cora_GDC.pkl...\n",
      "    Found them! Loading cached version\n",
      "[i] Looking for positional encodings in /home/xdoni4/m1p/graph-neural-pde/data/pos_encodings/Cora_GDC.pkl...\n",
      "    Found them! Loading cached version\n",
      "[i] Looking for positional encodings in /home/xdoni4/m1p/graph-neural-pde/data/pos_encodings/Cora_GDC.pkl...\n",
      "    Found them! Loading cached version\n",
      "[i] Looking for positional encodings in /home/xdoni4/m1p/graph-neural-pde/data/pos_encodings/Cora_GDC.pkl...\n",
      "    Found them! Loading cached version\n",
      "[i] Looking for positional encodings in /home/xdoni4/m1p/graph-neural-pde/data/pos_encodings/Cora_GDC.pkl...\n",
      "    Found them! Loading cached version\n",
      "[i] Looking for positional encodings in /home/xdoni4/m1p/graph-neural-pde/data/pos_encodings/Cora_GDC.pkl...\n",
      "    Found them! Loading cached version\n",
      "[i] Looking for positional encodings in /home/xdoni4/m1p/graph-neural-pde/data/pos_encodings/Cora_GDC.pkl...\n",
      "    Found them! Loading cached version\n",
      "[i] Looking for positional encodings in /home/xdoni4/m1p/graph-neural-pde/data/pos_encodings/Cora_GDC.pkl...\n",
      "    Found them! Loading cached version\n",
      "[i] Looking for positional encodings in /home/xdoni4/m1p/graph-neural-pde/data/pos_encodings/Cora_GDC.pkl...\n",
      "    Found them! Loading cached version\n",
      "[i] Looking for positional encodings in /home/xdoni4/m1p/graph-neural-pde/data/pos_encodings/Cora_GDC.pkl...\n",
      "    Found them! Loading cached version\n",
      "[i] Looking for positional encodings in /home/xdoni4/m1p/graph-neural-pde/data/pos_encodings/Cora_GDC.pkl...\n",
      "    Found them! Loading cached version\n",
      "[i] Looking for positional encodings in /home/xdoni4/m1p/graph-neural-pde/data/pos_encodings/Cora_GDC.pkl...\n",
      "    Found them! Loading cached version\n",
      "[i] Looking for positional encodings in /home/xdoni4/m1p/graph-neural-pde/data/pos_encodings/Cora_GDC.pkl...\n",
      "    Found them! Loading cached version\n",
      "[i] Looking for positional encodings in /home/xdoni4/m1p/graph-neural-pde/data/pos_encodings/Cora_GDC.pkl...\n",
      "    Found them! Loading cached version\n",
      "[i] Looking for positional encodings in /home/xdoni4/m1p/graph-neural-pde/data/pos_encodings/Cora_GDC.pkl...\n",
      "    Found them! Loading cached version\n",
      "[i] Looking for positional encodings in /home/xdoni4/m1p/graph-neural-pde/data/pos_encodings/Cora_GDC.pkl...\n",
      "    Found them! Loading cached version\n",
      "[i] Looking for positional encodings in /home/xdoni4/m1p/graph-neural-pde/data/pos_encodings/Cora_GDC.pkl...\n",
      "    Found them! Loading cached version\n",
      "[i] Looking for positional encodings in /home/xdoni4/m1p/graph-neural-pde/data/pos_encodings/Cora_GDC.pkl...\n",
      "    Found them! Loading cached version\n",
      "[i] Looking for positional encodings in /home/xdoni4/m1p/graph-neural-pde/data/pos_encodings/Cora_GDC.pkl...\n",
      "    Found them! Loading cached version\n",
      "[i] Looking for positional encodings in /home/xdoni4/m1p/graph-neural-pde/data/pos_encodings/Cora_GDC.pkl...\n",
      "    Found them! Loading cached version\n",
      "[i] Looking for positional encodings in /home/xdoni4/m1p/graph-neural-pde/data/pos_encodings/Cora_GDC.pkl...\n",
      "    Found them! Loading cached version\n",
      "[i] Looking for positional encodings in /home/xdoni4/m1p/graph-neural-pde/data/pos_encodings/Cora_GDC.pkl...\n",
      "    Found them! Loading cached version\n",
      "[i] Looking for positional encodings in /home/xdoni4/m1p/graph-neural-pde/data/pos_encodings/Cora_GDC.pkl...\n",
      "    Found them! Loading cached version\n",
      "[i] Looking for positional encodings in /home/xdoni4/m1p/graph-neural-pde/data/pos_encodings/Cora_GDC.pkl...\n",
      "    Found them! Loading cached version\n",
      "[i] Looking for positional encodings in /home/xdoni4/m1p/graph-neural-pde/data/pos_encodings/Cora_GDC.pkl...\n",
      "    Found them! Loading cached version\n",
      "[i] Looking for positional encodings in /home/xdoni4/m1p/graph-neural-pde/data/pos_encodings/Cora_GDC.pkl...\n",
      "    Found them! Loading cached version\n",
      "[i] Looking for positional encodings in /home/xdoni4/m1p/graph-neural-pde/data/pos_encodings/Cora_GDC.pkl...\n",
      "    Found them! Loading cached version\n",
      "[i] Looking for positional encodings in /home/xdoni4/m1p/graph-neural-pde/data/pos_encodings/Cora_GDC.pkl...\n",
      "    Found them! Loading cached version\n",
      "[i] Looking for positional encodings in /home/xdoni4/m1p/graph-neural-pde/data/pos_encodings/Cora_GDC.pkl...\n",
      "    Found them! Loading cached version\n",
      "[i] Looking for positional encodings in /home/xdoni4/m1p/graph-neural-pde/data/pos_encodings/Cora_GDC.pkl...\n",
      "    Found them! Loading cached version\n",
      "[i] Looking for positional encodings in /home/xdoni4/m1p/graph-neural-pde/data/pos_encodings/Cora_GDC.pkl...\n",
      "    Found them! Loading cached version\n",
      "[i] Looking for positional encodings in /home/xdoni4/m1p/graph-neural-pde/data/pos_encodings/Cora_GDC.pkl...\n",
      "    Found them! Loading cached version\n",
      "[i] Looking for positional encodings in /home/xdoni4/m1p/graph-neural-pde/data/pos_encodings/Cora_GDC.pkl...\n",
      "    Found them! Loading cached version\n",
      "[i] Looking for positional encodings in /home/xdoni4/m1p/graph-neural-pde/data/pos_encodings/Cora_GDC.pkl...\n",
      "    Found them! Loading cached version\n",
      "[i] Looking for positional encodings in /home/xdoni4/m1p/graph-neural-pde/data/pos_encodings/Cora_GDC.pkl...\n",
      "    Found them! Loading cached version\n",
      "[i] Looking for positional encodings in /home/xdoni4/m1p/graph-neural-pde/data/pos_encodings/Cora_GDC.pkl...\n",
      "    Found them! Loading cached version\n",
      "[i] Looking for positional encodings in /home/xdoni4/m1p/graph-neural-pde/data/pos_encodings/Cora_GDC.pkl...\n",
      "    Found them! Loading cached version\n",
      "[i] Looking for positional encodings in /home/xdoni4/m1p/graph-neural-pde/data/pos_encodings/Cora_GDC.pkl...\n",
      "    Found them! Loading cached version\n",
      "[i] Looking for positional encodings in /home/xdoni4/m1p/graph-neural-pde/data/pos_encodings/Cora_GDC.pkl...\n",
      "    Found them! Loading cached version\n",
      "[i] Looking for positional encodings in /home/xdoni4/m1p/graph-neural-pde/data/pos_encodings/Cora_GDC.pkl...\n",
      "    Found them! Loading cached version\n",
      "[i] Looking for positional encodings in /home/xdoni4/m1p/graph-neural-pde/data/pos_encodings/Cora_GDC.pkl...\n",
      "    Found them! Loading cached version\n",
      "[i] Looking for positional encodings in /home/xdoni4/m1p/graph-neural-pde/data/pos_encodings/Cora_GDC.pkl...\n",
      "    Found them! Loading cached version\n",
      "[i] Looking for positional encodings in /home/xdoni4/m1p/graph-neural-pde/data/pos_encodings/Cora_GDC.pkl...\n",
      "    Found them! Loading cached version\n",
      "[i] Looking for positional encodings in /home/xdoni4/m1p/graph-neural-pde/data/pos_encodings/Cora_GDC.pkl...\n",
      "    Found them! Loading cached version\n",
      "[i] Looking for positional encodings in /home/xdoni4/m1p/graph-neural-pde/data/pos_encodings/Cora_GDC.pkl...\n",
      "    Found them! Loading cached version\n",
      "[i] Looking for positional encodings in /home/xdoni4/m1p/graph-neural-pde/data/pos_encodings/Cora_GDC.pkl...\n",
      "    Found them! Loading cached version\n",
      "[i] Looking for positional encodings in /home/xdoni4/m1p/graph-neural-pde/data/pos_encodings/Cora_GDC.pkl...\n",
      "    Found them! Loading cached version\n",
      "[i] Looking for positional encodings in /home/xdoni4/m1p/graph-neural-pde/data/pos_encodings/Cora_GDC.pkl...\n",
      "    Found them! Loading cached version\n",
      "[i] Looking for positional encodings in /home/xdoni4/m1p/graph-neural-pde/data/pos_encodings/Cora_GDC.pkl...\n",
      "    Found them! Loading cached version\n",
      "[i] Looking for positional encodings in /home/xdoni4/m1p/graph-neural-pde/data/pos_encodings/Cora_GDC.pkl...\n",
      "    Found them! Loading cached version\n",
      "[i] Looking for positional encodings in /home/xdoni4/m1p/graph-neural-pde/data/pos_encodings/Cora_GDC.pkl...\n",
      "    Found them! Loading cached version\n",
      "[i] Looking for positional encodings in /home/xdoni4/m1p/graph-neural-pde/data/pos_encodings/Cora_GDC.pkl...\n",
      "    Found them! Loading cached version\n",
      "[i] Looking for positional encodings in /home/xdoni4/m1p/graph-neural-pde/data/pos_encodings/Cora_GDC.pkl...\n",
      "    Found them! Loading cached version\n",
      "[i] Looking for positional encodings in /home/xdoni4/m1p/graph-neural-pde/data/pos_encodings/Cora_GDC.pkl...\n",
      "    Found them! Loading cached version\n",
      "[i] Looking for positional encodings in /home/xdoni4/m1p/graph-neural-pde/data/pos_encodings/Cora_GDC.pkl...\n",
      "    Found them! Loading cached version\n",
      "[i] Looking for positional encodings in /home/xdoni4/m1p/graph-neural-pde/data/pos_encodings/Cora_GDC.pkl...\n",
      "    Found them! Loading cached version\n",
      "[i] Looking for positional encodings in /home/xdoni4/m1p/graph-neural-pde/data/pos_encodings/Cora_GDC.pkl...\n",
      "    Found them! Loading cached version\n",
      "[i] Looking for positional encodings in /home/xdoni4/m1p/graph-neural-pde/data/pos_encodings/Cora_GDC.pkl...\n",
      "    Found them! Loading cached version\n",
      "[i] Looking for positional encodings in /home/xdoni4/m1p/graph-neural-pde/data/pos_encodings/Cora_GDC.pkl...\n",
      "    Found them! Loading cached version\n",
      "[i] Looking for positional encodings in /home/xdoni4/m1p/graph-neural-pde/data/pos_encodings/Cora_GDC.pkl...\n",
      "    Found them! Loading cached version\n",
      "[i] Looking for positional encodings in /home/xdoni4/m1p/graph-neural-pde/data/pos_encodings/Cora_GDC.pkl...\n",
      "    Found them! Loading cached version\n",
      "[i] Looking for positional encodings in /home/xdoni4/m1p/graph-neural-pde/data/pos_encodings/Cora_GDC.pkl...\n",
      "    Found them! Loading cached version\n",
      "[i] Looking for positional encodings in /home/xdoni4/m1p/graph-neural-pde/data/pos_encodings/Cora_GDC.pkl...\n",
      "    Found them! Loading cached version\n",
      "[i] Looking for positional encodings in /home/xdoni4/m1p/graph-neural-pde/data/pos_encodings/Cora_GDC.pkl...\n",
      "    Found them! Loading cached version\n",
      "[i] Looking for positional encodings in /home/xdoni4/m1p/graph-neural-pde/data/pos_encodings/Cora_GDC.pkl...\n",
      "    Found them! Loading cached version\n",
      "[i] Looking for positional encodings in /home/xdoni4/m1p/graph-neural-pde/data/pos_encodings/Cora_GDC.pkl...\n",
      "    Found them! Loading cached version\n",
      "[i] Looking for positional encodings in /home/xdoni4/m1p/graph-neural-pde/data/pos_encodings/Cora_GDC.pkl...\n",
      "    Found them! Loading cached version\n",
      "[i] Looking for positional encodings in /home/xdoni4/m1p/graph-neural-pde/data/pos_encodings/Cora_GDC.pkl...\n",
      "    Found them! Loading cached version\n",
      "[i] Looking for positional encodings in /home/xdoni4/m1p/graph-neural-pde/data/pos_encodings/Cora_GDC.pkl...\n",
      "    Found them! Loading cached version\n",
      "[i] Looking for positional encodings in /home/xdoni4/m1p/graph-neural-pde/data/pos_encodings/Cora_GDC.pkl...\n",
      "    Found them! Loading cached version\n",
      "[i] Looking for positional encodings in /home/xdoni4/m1p/graph-neural-pde/data/pos_encodings/Cora_GDC.pkl...\n",
      "    Found them! Loading cached version\n",
      "[i] Looking for positional encodings in /home/xdoni4/m1p/graph-neural-pde/data/pos_encodings/Cora_GDC.pkl...\n",
      "    Found them! Loading cached version\n",
      "[i] Looking for positional encodings in /home/xdoni4/m1p/graph-neural-pde/data/pos_encodings/Cora_GDC.pkl...\n",
      "    Found them! Loading cached version\n",
      "[i] Looking for positional encodings in /home/xdoni4/m1p/graph-neural-pde/data/pos_encodings/Cora_GDC.pkl...\n",
      "    Found them! Loading cached version\n",
      "[i] Looking for positional encodings in /home/xdoni4/m1p/graph-neural-pde/data/pos_encodings/Cora_GDC.pkl...\n",
      "    Found them! Loading cached version\n",
      "[i] Looking for positional encodings in /home/xdoni4/m1p/graph-neural-pde/data/pos_encodings/Cora_GDC.pkl...\n",
      "    Found them! Loading cached version\n",
      "[i] Looking for positional encodings in /home/xdoni4/m1p/graph-neural-pde/data/pos_encodings/Cora_GDC.pkl...\n",
      "    Found them! Loading cached version\n",
      "[i] Looking for positional encodings in /home/xdoni4/m1p/graph-neural-pde/data/pos_encodings/Cora_GDC.pkl...\n",
      "    Found them! Loading cached version\n",
      "[i] Looking for positional encodings in /home/xdoni4/m1p/graph-neural-pde/data/pos_encodings/Cora_GDC.pkl...\n",
      "    Found them! Loading cached version\n",
      "[i] Looking for positional encodings in /home/xdoni4/m1p/graph-neural-pde/data/pos_encodings/Cora_GDC.pkl...\n",
      "    Found them! Loading cached version\n",
      "[i] Looking for positional encodings in /home/xdoni4/m1p/graph-neural-pde/data/pos_encodings/Cora_GDC.pkl...\n",
      "    Found them! Loading cached version\n",
      "[i] Looking for positional encodings in /home/xdoni4/m1p/graph-neural-pde/data/pos_encodings/Cora_GDC.pkl...\n",
      "    Found them! Loading cached version\n",
      "[i] Looking for positional encodings in /home/xdoni4/m1p/graph-neural-pde/data/pos_encodings/Cora_GDC.pkl...\n",
      "    Found them! Loading cached version\n",
      "[i] Looking for positional encodings in /home/xdoni4/m1p/graph-neural-pde/data/pos_encodings/Cora_GDC.pkl...\n",
      "    Found them! Loading cached version\n",
      "[i] Looking for positional encodings in /home/xdoni4/m1p/graph-neural-pde/data/pos_encodings/Cora_GDC.pkl...\n",
      "    Found them! Loading cached version\n",
      "[i] Looking for positional encodings in /home/xdoni4/m1p/graph-neural-pde/data/pos_encodings/Cora_GDC.pkl...\n",
      "    Found them! Loading cached version\n",
      "[i] Looking for positional encodings in /home/xdoni4/m1p/graph-neural-pde/data/pos_encodings/Cora_GDC.pkl...\n",
      "    Found them! Loading cached version\n",
      "[i] Looking for positional encodings in /home/xdoni4/m1p/graph-neural-pde/data/pos_encodings/Cora_GDC.pkl...\n",
      "    Found them! Loading cached version\n",
      "[i] Looking for positional encodings in /home/xdoni4/m1p/graph-neural-pde/data/pos_encodings/Cora_GDC.pkl...\n",
      "    Found them! Loading cached version\n",
      "[i] Looking for positional encodings in /home/xdoni4/m1p/graph-neural-pde/data/pos_encodings/Cora_GDC.pkl...\n",
      "    Found them! Loading cached version\n",
      "[i] Looking for positional encodings in /home/xdoni4/m1p/graph-neural-pde/data/pos_encodings/Cora_GDC.pkl...\n",
      "    Found them! Loading cached version\n",
      "[i] Looking for positional encodings in /home/xdoni4/m1p/graph-neural-pde/data/pos_encodings/Cora_GDC.pkl...\n",
      "    Found them! Loading cached version\n",
      "[i] Looking for positional encodings in /home/xdoni4/m1p/graph-neural-pde/data/pos_encodings/Cora_GDC.pkl...\n",
      "    Found them! Loading cached version\n",
      "[i] Looking for positional encodings in /home/xdoni4/m1p/graph-neural-pde/data/pos_encodings/Cora_GDC.pkl...\n",
      "    Found them! Loading cached version\n",
      "[i] Looking for positional encodings in /home/xdoni4/m1p/graph-neural-pde/data/pos_encodings/Cora_GDC.pkl...\n",
      "    Found them! Loading cached version\n",
      "[i] Looking for positional encodings in /home/xdoni4/m1p/graph-neural-pde/data/pos_encodings/Cora_GDC.pkl...\n",
      "    Found them! Loading cached version\n",
      "[i] Looking for positional encodings in /home/xdoni4/m1p/graph-neural-pde/data/pos_encodings/Cora_GDC.pkl...\n",
      "    Found them! Loading cached version\n",
      "[i] Looking for positional encodings in /home/xdoni4/m1p/graph-neural-pde/data/pos_encodings/Cora_GDC.pkl...\n",
      "    Found them! Loading cached version\n",
      "[i] Looking for positional encodings in /home/xdoni4/m1p/graph-neural-pde/data/pos_encodings/Cora_GDC.pkl...\n",
      "    Found them! Loading cached version\n",
      "[i] Looking for positional encodings in /home/xdoni4/m1p/graph-neural-pde/data/pos_encodings/Cora_GDC.pkl...\n",
      "    Found them! Loading cached version\n",
      "[i] Looking for positional encodings in /home/xdoni4/m1p/graph-neural-pde/data/pos_encodings/Cora_GDC.pkl...\n",
      "    Found them! Loading cached version\n",
      "[i] Looking for positional encodings in /home/xdoni4/m1p/graph-neural-pde/data/pos_encodings/Cora_GDC.pkl...\n",
      "    Found them! Loading cached version\n",
      "[i] Looking for positional encodings in /home/xdoni4/m1p/graph-neural-pde/data/pos_encodings/Cora_GDC.pkl...\n",
      "    Found them! Loading cached version\n",
      "[i] Looking for positional encodings in /home/xdoni4/m1p/graph-neural-pde/data/pos_encodings/Cora_GDC.pkl...\n",
      "    Found them! Loading cached version\n",
      "[i] Looking for positional encodings in /home/xdoni4/m1p/graph-neural-pde/data/pos_encodings/Cora_GDC.pkl...\n",
      "    Found them! Loading cached version\n",
      "[i] Looking for positional encodings in /home/xdoni4/m1p/graph-neural-pde/data/pos_encodings/Cora_GDC.pkl...\n",
      "    Found them! Loading cached version\n",
      "[i] Looking for positional encodings in /home/xdoni4/m1p/graph-neural-pde/data/pos_encodings/Cora_GDC.pkl...\n",
      "    Found them! Loading cached version\n",
      "[i] Looking for positional encodings in /home/xdoni4/m1p/graph-neural-pde/data/pos_encodings/Cora_GDC.pkl...\n",
      "    Found them! Loading cached version\n",
      "[i] Looking for positional encodings in /home/xdoni4/m1p/graph-neural-pde/data/pos_encodings/Cora_GDC.pkl...\n",
      "    Found them! Loading cached version\n",
      "[i] Looking for positional encodings in /home/xdoni4/m1p/graph-neural-pde/data/pos_encodings/Cora_GDC.pkl...\n",
      "    Found them! Loading cached version\n",
      "[i] Looking for positional encodings in /home/xdoni4/m1p/graph-neural-pde/data/pos_encodings/Cora_GDC.pkl...\n",
      "    Found them! Loading cached version\n",
      "[i] Looking for positional encodings in /home/xdoni4/m1p/graph-neural-pde/data/pos_encodings/Cora_GDC.pkl...\n",
      "    Found them! Loading cached version\n",
      "[i] Looking for positional encodings in /home/xdoni4/m1p/graph-neural-pde/data/pos_encodings/Cora_GDC.pkl...\n",
      "    Found them! Loading cached version\n",
      "[i] Looking for positional encodings in /home/xdoni4/m1p/graph-neural-pde/data/pos_encodings/Cora_GDC.pkl...\n",
      "    Found them! Loading cached version\n",
      "[i] Looking for positional encodings in /home/xdoni4/m1p/graph-neural-pde/data/pos_encodings/Cora_GDC.pkl...\n",
      "    Found them! Loading cached version\n",
      "[i] Looking for positional encodings in /home/xdoni4/m1p/graph-neural-pde/data/pos_encodings/Cora_GDC.pkl...\n",
      "    Found them! Loading cached version\n",
      "[i] Looking for positional encodings in /home/xdoni4/m1p/graph-neural-pde/data/pos_encodings/Cora_GDC.pkl...\n",
      "    Found them! Loading cached version\n",
      "[i] Looking for positional encodings in /home/xdoni4/m1p/graph-neural-pde/data/pos_encodings/Cora_GDC.pkl...\n",
      "    Found them! Loading cached version\n",
      "[i] Looking for positional encodings in /home/xdoni4/m1p/graph-neural-pde/data/pos_encodings/Cora_GDC.pkl...\n",
      "    Found them! Loading cached version\n",
      "[i] Looking for positional encodings in /home/xdoni4/m1p/graph-neural-pde/data/pos_encodings/Cora_GDC.pkl...\n",
      "    Found them! Loading cached version\n",
      "[i] Looking for positional encodings in /home/xdoni4/m1p/graph-neural-pde/data/pos_encodings/Cora_GDC.pkl...\n",
      "    Found them! Loading cached version\n",
      "[i] Looking for positional encodings in /home/xdoni4/m1p/graph-neural-pde/data/pos_encodings/Cora_GDC.pkl...\n",
      "    Found them! Loading cached version\n",
      "[i] Looking for positional encodings in /home/xdoni4/m1p/graph-neural-pde/data/pos_encodings/Cora_GDC.pkl...\n",
      "    Found them! Loading cached version\n",
      "[i] Looking for positional encodings in /home/xdoni4/m1p/graph-neural-pde/data/pos_encodings/Cora_GDC.pkl...\n",
      "    Found them! Loading cached version\n",
      "[i] Looking for positional encodings in /home/xdoni4/m1p/graph-neural-pde/data/pos_encodings/Cora_GDC.pkl...\n",
      "    Found them! Loading cached version\n",
      "[i] Looking for positional encodings in /home/xdoni4/m1p/graph-neural-pde/data/pos_encodings/Cora_GDC.pkl...\n",
      "    Found them! Loading cached version\n",
      "[i] Looking for positional encodings in /home/xdoni4/m1p/graph-neural-pde/data/pos_encodings/Cora_GDC.pkl...\n",
      "    Found them! Loading cached version\n",
      "[i] Looking for positional encodings in /home/xdoni4/m1p/graph-neural-pde/data/pos_encodings/Cora_GDC.pkl...\n",
      "    Found them! Loading cached version\n",
      "[i] Looking for positional encodings in /home/xdoni4/m1p/graph-neural-pde/data/pos_encodings/Cora_GDC.pkl...\n",
      "    Found them! Loading cached version\n",
      "[i] Looking for positional encodings in /home/xdoni4/m1p/graph-neural-pde/data/pos_encodings/Cora_GDC.pkl...\n",
      "    Found them! Loading cached version\n",
      "[i] Looking for positional encodings in /home/xdoni4/m1p/graph-neural-pde/data/pos_encodings/Cora_GDC.pkl...\n",
      "    Found them! Loading cached version\n",
      "[i] Looking for positional encodings in /home/xdoni4/m1p/graph-neural-pde/data/pos_encodings/Cora_GDC.pkl...\n",
      "    Found them! Loading cached version\n",
      "[i] Looking for positional encodings in /home/xdoni4/m1p/graph-neural-pde/data/pos_encodings/Cora_GDC.pkl...\n",
      "    Found them! Loading cached version\n",
      "[i] Looking for positional encodings in /home/xdoni4/m1p/graph-neural-pde/data/pos_encodings/Cora_GDC.pkl...\n",
      "    Found them! Loading cached version\n",
      "[i] Looking for positional encodings in /home/xdoni4/m1p/graph-neural-pde/data/pos_encodings/Cora_GDC.pkl...\n",
      "    Found them! Loading cached version\n",
      "[i] Looking for positional encodings in /home/xdoni4/m1p/graph-neural-pde/data/pos_encodings/Cora_GDC.pkl...\n",
      "    Found them! Loading cached version\n",
      "[i] Looking for positional encodings in /home/xdoni4/m1p/graph-neural-pde/data/pos_encodings/Cora_GDC.pkl...\n",
      "    Found them! Loading cached version\n",
      "[i] Looking for positional encodings in /home/xdoni4/m1p/graph-neural-pde/data/pos_encodings/Cora_GDC.pkl...\n",
      "    Found them! Loading cached version\n",
      "[i] Looking for positional encodings in /home/xdoni4/m1p/graph-neural-pde/data/pos_encodings/Cora_GDC.pkl...\n",
      "    Found them! Loading cached version\n",
      "[i] Looking for positional encodings in /home/xdoni4/m1p/graph-neural-pde/data/pos_encodings/Cora_GDC.pkl...\n",
      "    Found them! Loading cached version\n"
     ]
    },
    {
     "name": "stderr",
     "output_type": "stream",
     "text": [
      "  0%|          | 0/89 [00:00<?, ?it/s]/home/xdoni4/miniconda3/envs/m1p/lib/python3.9/site-packages/torchdiffeq/_impl/misc.py:11: UserWarning: Dopri5Solver: Unexpected arguments {'step_size': 1, 'max_iters': 100}\n",
      "  warnings.warn('{}: Unexpected arguments {}'.format(solver.__class__.__name__, unused_kwargs))\n",
      "100%|██████████| 89/89 [20:39<00:00, 13.92s/it]\n"
     ]
    },
    {
     "name": "stdout",
     "output_type": "stream",
     "text": [
      "TRAIN: epoch = 1, loss = 0.662, accuracy = 0.663, f1 = 0.656\n"
     ]
    },
    {
     "name": "stderr",
     "output_type": "stream",
     "text": [
      "/home/xdoni4/miniconda3/envs/m1p/lib/python3.9/site-packages/torchdiffeq/_impl/misc.py:11: UserWarning: Dopri5Solver: Unexpected arguments {'step_size': 1, 'max_iters': 100}\n",
      "  warnings.warn('{}: Unexpected arguments {}'.format(solver.__class__.__name__, unused_kwargs))\n"
     ]
    },
    {
     "name": "stdout",
     "output_type": "stream",
     "text": [
      "TEST: loss = 0.673, accuracy = 0.6, f1 = 0.375\n",
      "--------------------------------------------------\n"
     ]
    },
    {
     "name": "stderr",
     "output_type": "stream",
     "text": [
      "  0%|          | 0/89 [00:00<?, ?it/s]/home/xdoni4/miniconda3/envs/m1p/lib/python3.9/site-packages/torchdiffeq/_impl/misc.py:11: UserWarning: Dopri5Solver: Unexpected arguments {'step_size': 1, 'max_iters': 100}\n",
      "  warnings.warn('{}: Unexpected arguments {}'.format(solver.__class__.__name__, unused_kwargs))\n",
      "100%|██████████| 89/89 [17:29<00:00, 11.79s/it]\n"
     ]
    },
    {
     "name": "stdout",
     "output_type": "stream",
     "text": [
      "TRAIN: epoch = 2, loss = 0.588, accuracy = 0.798, f1 = 0.75\n"
     ]
    },
    {
     "name": "stderr",
     "output_type": "stream",
     "text": [
      "/home/xdoni4/miniconda3/envs/m1p/lib/python3.9/site-packages/torchdiffeq/_impl/misc.py:11: UserWarning: Dopri5Solver: Unexpected arguments {'step_size': 1, 'max_iters': 100}\n",
      "  warnings.warn('{}: Unexpected arguments {}'.format(solver.__class__.__name__, unused_kwargs))\n"
     ]
    },
    {
     "name": "stdout",
     "output_type": "stream",
     "text": [
      "TEST: loss = 0.663, accuracy = 0.6, f1 = 0.375\n",
      "--------------------------------------------------\n"
     ]
    },
    {
     "name": "stderr",
     "output_type": "stream",
     "text": [
      "  0%|          | 0/89 [00:00<?, ?it/s]/home/xdoni4/miniconda3/envs/m1p/lib/python3.9/site-packages/torchdiffeq/_impl/misc.py:11: UserWarning: Dopri5Solver: Unexpected arguments {'step_size': 1, 'max_iters': 100}\n",
      "  warnings.warn('{}: Unexpected arguments {}'.format(solver.__class__.__name__, unused_kwargs))\n",
      "100%|██████████| 89/89 [16:28<00:00, 11.10s/it]\n"
     ]
    },
    {
     "name": "stdout",
     "output_type": "stream",
     "text": [
      "TRAIN: epoch = 3, loss = 0.552, accuracy = 0.708, f1 = 0.629\n"
     ]
    },
    {
     "name": "stderr",
     "output_type": "stream",
     "text": [
      "/home/xdoni4/miniconda3/envs/m1p/lib/python3.9/site-packages/torchdiffeq/_impl/misc.py:11: UserWarning: Dopri5Solver: Unexpected arguments {'step_size': 1, 'max_iters': 100}\n",
      "  warnings.warn('{}: Unexpected arguments {}'.format(solver.__class__.__name__, unused_kwargs))\n"
     ]
    },
    {
     "name": "stdout",
     "output_type": "stream",
     "text": [
      "TEST: loss = 0.662, accuracy = 0.633, f1 = 0.46\n",
      "--------------------------------------------------\n",
      "\n",
      "===================================================================================\n",
      "\n",
      "Building adjacencies T=15\n"
     ]
    },
    {
     "name": "stderr",
     "output_type": "stream",
     "text": [
      "100%|██████████| 89/89 [00:04<00:00, 17.88it/s]\n"
     ]
    },
    {
     "name": "stdout",
     "output_type": "stream",
     "text": [
      "(89, 241, 32, 32)\n"
     ]
    },
    {
     "name": "stderr",
     "output_type": "stream",
     "text": [
      "100%|██████████| 30/30 [00:01<00:00, 18.34it/s]\n"
     ]
    },
    {
     "name": "stdout",
     "output_type": "stream",
     "text": [
      "(30, 241, 32, 32)\n",
      "T=15, alpha=0.5, NF=5, sigma=0.3\n",
      "Running GCN\n",
      "241\n",
      "\n",
      "===================================================================================\n",
      "\n"
     ]
    },
    {
     "name": "stderr",
     "output_type": "stream",
     "text": [
      "100%|██████████| 89/89 [00:05<00:00, 15.77it/s]\n"
     ]
    },
    {
     "name": "stdout",
     "output_type": "stream",
     "text": [
      "TRAIN: epoch = 1, loss = 0.697, accuracy = 0.551, f1 = 0.551\n",
      "TEST: loss = 0.641, accuracy = 0.667, f1 = 0.479\n",
      "--------------------------------------------------\n"
     ]
    },
    {
     "name": "stderr",
     "output_type": "stream",
     "text": [
      "100%|██████████| 89/89 [00:06<00:00, 13.82it/s]\n"
     ]
    },
    {
     "name": "stdout",
     "output_type": "stream",
     "text": [
      "TRAIN: epoch = 2, loss = 0.603, accuracy = 0.73, f1 = 0.648\n",
      "TEST: loss = 0.628, accuracy = 0.667, f1 = 0.479\n",
      "--------------------------------------------------\n"
     ]
    },
    {
     "name": "stderr",
     "output_type": "stream",
     "text": [
      "100%|██████████| 89/89 [00:03<00:00, 24.72it/s]\n"
     ]
    },
    {
     "name": "stdout",
     "output_type": "stream",
     "text": [
      "TRAIN: epoch = 3, loss = 0.498, accuracy = 0.775, f1 = 0.728\n",
      "TEST: loss = 0.624, accuracy = 0.7, f1 = 0.558\n",
      "--------------------------------------------------\n"
     ]
    },
    {
     "name": "stderr",
     "output_type": "stream",
     "text": [
      "100%|██████████| 89/89 [00:05<00:00, 15.82it/s]\n"
     ]
    },
    {
     "name": "stdout",
     "output_type": "stream",
     "text": [
      "TRAIN: epoch = 4, loss = 0.456, accuracy = 0.854, f1 = 0.825\n",
      "TEST: loss = 0.62, accuracy = 0.667, f1 = 0.534\n",
      "--------------------------------------------------\n"
     ]
    },
    {
     "name": "stderr",
     "output_type": "stream",
     "text": [
      "100%|██████████| 89/89 [00:07<00:00, 11.75it/s]\n"
     ]
    },
    {
     "name": "stdout",
     "output_type": "stream",
     "text": [
      "TRAIN: epoch = 5, loss = 0.369, accuracy = 0.921, f1 = 0.911\n",
      "TEST: loss = 0.615, accuracy = 0.667, f1 = 0.534\n",
      "--------------------------------------------------\n"
     ]
    },
    {
     "name": "stderr",
     "output_type": "stream",
     "text": [
      "100%|██████████| 89/89 [00:07<00:00, 12.33it/s]\n"
     ]
    },
    {
     "name": "stdout",
     "output_type": "stream",
     "text": [
      "TRAIN: epoch = 6, loss = 0.32, accuracy = 0.933, f1 = 0.927\n",
      "TEST: loss = 0.618, accuracy = 0.667, f1 = 0.534\n",
      "--------------------------------------------------\n"
     ]
    },
    {
     "name": "stderr",
     "output_type": "stream",
     "text": [
      "100%|██████████| 89/89 [00:04<00:00, 19.02it/s]\n"
     ]
    },
    {
     "name": "stdout",
     "output_type": "stream",
     "text": [
      "TRAIN: epoch = 7, loss = 0.256, accuracy = 0.944, f1 = 0.938\n",
      "TEST: loss = 0.63, accuracy = 0.667, f1 = 0.534\n",
      "--------------------------------------------------\n"
     ]
    },
    {
     "name": "stderr",
     "output_type": "stream",
     "text": [
      "100%|██████████| 89/89 [00:04<00:00, 18.24it/s]\n"
     ]
    },
    {
     "name": "stdout",
     "output_type": "stream",
     "text": [
      "TRAIN: epoch = 8, loss = 0.211, accuracy = 0.966, f1 = 0.963\n",
      "TEST: loss = 0.632, accuracy = 0.667, f1 = 0.534\n",
      "--------------------------------------------------\n"
     ]
    },
    {
     "name": "stderr",
     "output_type": "stream",
     "text": [
      "100%|██████████| 89/89 [00:04<00:00, 19.52it/s]\n"
     ]
    },
    {
     "name": "stdout",
     "output_type": "stream",
     "text": [
      "TRAIN: epoch = 9, loss = 0.2, accuracy = 0.966, f1 = 0.963\n",
      "TEST: loss = 0.66, accuracy = 0.667, f1 = 0.534\n",
      "--------------------------------------------------\n"
     ]
    },
    {
     "name": "stderr",
     "output_type": "stream",
     "text": [
      "100%|██████████| 89/89 [00:04<00:00, 17.99it/s]\n"
     ]
    },
    {
     "name": "stdout",
     "output_type": "stream",
     "text": [
      "TRAIN: epoch = 10, loss = 0.159, accuracy = 1.0, f1 = 1.0\n",
      "TEST: loss = 0.665, accuracy = 0.7, f1 = 0.6\n",
      "--------------------------------------------------\n",
      "\n",
      "===================================================================================\n",
      "\n",
      "Running GRAND\n",
      "241\n",
      "\n",
      "===================================================================================\n",
      "\n"
     ]
    },
    {
     "name": "stderr",
     "output_type": "stream",
     "text": [
      "  0%|          | 0/89 [00:00<?, ?it/s]/home/xdoni4/miniconda3/envs/m1p/lib/python3.9/site-packages/torchdiffeq/_impl/misc.py:11: UserWarning: Dopri5Solver: Unexpected arguments {'step_size': 1, 'max_iters': 100}\n",
      "  warnings.warn('{}: Unexpected arguments {}'.format(solver.__class__.__name__, unused_kwargs))\n",
      "100%|██████████| 89/89 [13:55<00:00,  9.38s/it]\n"
     ]
    },
    {
     "name": "stdout",
     "output_type": "stream",
     "text": [
      "TRAIN: epoch = 1, loss = 0.713, accuracy = 0.393, f1 = 0.35\n"
     ]
    },
    {
     "name": "stderr",
     "output_type": "stream",
     "text": [
      "/home/xdoni4/miniconda3/envs/m1p/lib/python3.9/site-packages/torchdiffeq/_impl/misc.py:11: UserWarning: Dopri5Solver: Unexpected arguments {'step_size': 1, 'max_iters': 100}\n",
      "  warnings.warn('{}: Unexpected arguments {}'.format(solver.__class__.__name__, unused_kwargs))\n"
     ]
    },
    {
     "name": "stdout",
     "output_type": "stream",
     "text": [
      "TEST: loss = 0.694, accuracy = 0.433, f1 = 0.417\n",
      "--------------------------------------------------\n"
     ]
    },
    {
     "name": "stderr",
     "output_type": "stream",
     "text": [
      "  0%|          | 0/89 [00:00<?, ?it/s]/home/xdoni4/miniconda3/envs/m1p/lib/python3.9/site-packages/torchdiffeq/_impl/misc.py:11: UserWarning: Dopri5Solver: Unexpected arguments {'step_size': 1, 'max_iters': 100}\n",
      "  warnings.warn('{}: Unexpected arguments {}'.format(solver.__class__.__name__, unused_kwargs))\n",
      "100%|██████████| 89/89 [15:57<00:00, 10.76s/it]\n"
     ]
    },
    {
     "name": "stdout",
     "output_type": "stream",
     "text": [
      "TRAIN: epoch = 2, loss = 0.69, accuracy = 0.539, f1 = 0.536\n"
     ]
    },
    {
     "name": "stderr",
     "output_type": "stream",
     "text": [
      "/home/xdoni4/miniconda3/envs/m1p/lib/python3.9/site-packages/torchdiffeq/_impl/misc.py:11: UserWarning: Dopri5Solver: Unexpected arguments {'step_size': 1, 'max_iters': 100}\n",
      "  warnings.warn('{}: Unexpected arguments {}'.format(solver.__class__.__name__, unused_kwargs))\n"
     ]
    },
    {
     "name": "stdout",
     "output_type": "stream",
     "text": [
      "TEST: loss = 0.675, accuracy = 0.7, f1 = 0.653\n",
      "--------------------------------------------------\n"
     ]
    },
    {
     "name": "stderr",
     "output_type": "stream",
     "text": [
      "  0%|          | 0/89 [00:00<?, ?it/s]/home/xdoni4/miniconda3/envs/m1p/lib/python3.9/site-packages/torchdiffeq/_impl/misc.py:11: UserWarning: Dopri5Solver: Unexpected arguments {'step_size': 1, 'max_iters': 100}\n",
      "  warnings.warn('{}: Unexpected arguments {}'.format(solver.__class__.__name__, unused_kwargs))\n",
      "100%|██████████| 89/89 [12:41<00:00,  8.55s/it]\n"
     ]
    },
    {
     "name": "stdout",
     "output_type": "stream",
     "text": [
      "TRAIN: epoch = 3, loss = 0.653, accuracy = 0.719, f1 = 0.704\n"
     ]
    },
    {
     "name": "stderr",
     "output_type": "stream",
     "text": [
      "/home/xdoni4/miniconda3/envs/m1p/lib/python3.9/site-packages/torchdiffeq/_impl/misc.py:11: UserWarning: Dopri5Solver: Unexpected arguments {'step_size': 1, 'max_iters': 100}\n",
      "  warnings.warn('{}: Unexpected arguments {}'.format(solver.__class__.__name__, unused_kwargs))\n"
     ]
    },
    {
     "name": "stdout",
     "output_type": "stream",
     "text": [
      "TEST: loss = 0.653, accuracy = 0.7, f1 = 0.558\n",
      "--------------------------------------------------\n",
      "\n",
      "===================================================================================\n",
      "\n",
      "Running BLEND\n",
      "241\n",
      "\n",
      "===================================================================================\n",
      "\n",
      "[i] Looking for positional encodings in /home/xdoni4/m1p/graph-neural-pde/data/pos_encodings/Cora_GDC.pkl...\n",
      "    Found them! Loading cached version\n",
      "[i] Looking for positional encodings in /home/xdoni4/m1p/graph-neural-pde/data/pos_encodings/Cora_GDC.pkl...\n",
      "    Found them! Loading cached version\n",
      "[i] Looking for positional encodings in /home/xdoni4/m1p/graph-neural-pde/data/pos_encodings/Cora_GDC.pkl...\n",
      "    Found them! Loading cached version\n",
      "[i] Looking for positional encodings in /home/xdoni4/m1p/graph-neural-pde/data/pos_encodings/Cora_GDC.pkl...\n",
      "    Found them! Loading cached version\n",
      "[i] Looking for positional encodings in /home/xdoni4/m1p/graph-neural-pde/data/pos_encodings/Cora_GDC.pkl...\n",
      "    Found them! Loading cached version\n",
      "[i] Looking for positional encodings in /home/xdoni4/m1p/graph-neural-pde/data/pos_encodings/Cora_GDC.pkl...\n",
      "    Found them! Loading cached version\n",
      "[i] Looking for positional encodings in /home/xdoni4/m1p/graph-neural-pde/data/pos_encodings/Cora_GDC.pkl...\n",
      "    Found them! Loading cached version\n",
      "[i] Looking for positional encodings in /home/xdoni4/m1p/graph-neural-pde/data/pos_encodings/Cora_GDC.pkl...\n",
      "    Found them! Loading cached version\n",
      "[i] Looking for positional encodings in /home/xdoni4/m1p/graph-neural-pde/data/pos_encodings/Cora_GDC.pkl...\n",
      "    Found them! Loading cached version\n",
      "[i] Looking for positional encodings in /home/xdoni4/m1p/graph-neural-pde/data/pos_encodings/Cora_GDC.pkl...\n",
      "    Found them! Loading cached version\n",
      "[i] Looking for positional encodings in /home/xdoni4/m1p/graph-neural-pde/data/pos_encodings/Cora_GDC.pkl...\n",
      "    Found them! Loading cached version\n",
      "[i] Looking for positional encodings in /home/xdoni4/m1p/graph-neural-pde/data/pos_encodings/Cora_GDC.pkl...\n",
      "    Found them! Loading cached version\n",
      "[i] Looking for positional encodings in /home/xdoni4/m1p/graph-neural-pde/data/pos_encodings/Cora_GDC.pkl...\n",
      "    Found them! Loading cached version\n",
      "[i] Looking for positional encodings in /home/xdoni4/m1p/graph-neural-pde/data/pos_encodings/Cora_GDC.pkl...\n",
      "    Found them! Loading cached version\n",
      "[i] Looking for positional encodings in /home/xdoni4/m1p/graph-neural-pde/data/pos_encodings/Cora_GDC.pkl...\n",
      "    Found them! Loading cached version\n",
      "[i] Looking for positional encodings in /home/xdoni4/m1p/graph-neural-pde/data/pos_encodings/Cora_GDC.pkl...\n",
      "    Found them! Loading cached version\n",
      "[i] Looking for positional encodings in /home/xdoni4/m1p/graph-neural-pde/data/pos_encodings/Cora_GDC.pkl...\n",
      "    Found them! Loading cached version\n",
      "[i] Looking for positional encodings in /home/xdoni4/m1p/graph-neural-pde/data/pos_encodings/Cora_GDC.pkl...\n",
      "    Found them! Loading cached version\n",
      "[i] Looking for positional encodings in /home/xdoni4/m1p/graph-neural-pde/data/pos_encodings/Cora_GDC.pkl...\n",
      "    Found them! Loading cached version\n",
      "[i] Looking for positional encodings in /home/xdoni4/m1p/graph-neural-pde/data/pos_encodings/Cora_GDC.pkl...\n",
      "    Found them! Loading cached version\n",
      "[i] Looking for positional encodings in /home/xdoni4/m1p/graph-neural-pde/data/pos_encodings/Cora_GDC.pkl...\n",
      "    Found them! Loading cached version\n",
      "[i] Looking for positional encodings in /home/xdoni4/m1p/graph-neural-pde/data/pos_encodings/Cora_GDC.pkl...\n",
      "    Found them! Loading cached version\n",
      "[i] Looking for positional encodings in /home/xdoni4/m1p/graph-neural-pde/data/pos_encodings/Cora_GDC.pkl...\n",
      "    Found them! Loading cached version\n",
      "[i] Looking for positional encodings in /home/xdoni4/m1p/graph-neural-pde/data/pos_encodings/Cora_GDC.pkl...\n",
      "    Found them! Loading cached version\n",
      "[i] Looking for positional encodings in /home/xdoni4/m1p/graph-neural-pde/data/pos_encodings/Cora_GDC.pkl...\n",
      "    Found them! Loading cached version\n",
      "[i] Looking for positional encodings in /home/xdoni4/m1p/graph-neural-pde/data/pos_encodings/Cora_GDC.pkl...\n",
      "    Found them! Loading cached version\n",
      "[i] Looking for positional encodings in /home/xdoni4/m1p/graph-neural-pde/data/pos_encodings/Cora_GDC.pkl...\n",
      "    Found them! Loading cached version\n",
      "[i] Looking for positional encodings in /home/xdoni4/m1p/graph-neural-pde/data/pos_encodings/Cora_GDC.pkl...\n",
      "    Found them! Loading cached version\n",
      "[i] Looking for positional encodings in /home/xdoni4/m1p/graph-neural-pde/data/pos_encodings/Cora_GDC.pkl...\n",
      "    Found them! Loading cached version\n",
      "[i] Looking for positional encodings in /home/xdoni4/m1p/graph-neural-pde/data/pos_encodings/Cora_GDC.pkl...\n",
      "    Found them! Loading cached version\n",
      "[i] Looking for positional encodings in /home/xdoni4/m1p/graph-neural-pde/data/pos_encodings/Cora_GDC.pkl...\n",
      "    Found them! Loading cached version\n",
      "[i] Looking for positional encodings in /home/xdoni4/m1p/graph-neural-pde/data/pos_encodings/Cora_GDC.pkl...\n",
      "    Found them! Loading cached version\n",
      "[i] Looking for positional encodings in /home/xdoni4/m1p/graph-neural-pde/data/pos_encodings/Cora_GDC.pkl...\n",
      "    Found them! Loading cached version\n",
      "[i] Looking for positional encodings in /home/xdoni4/m1p/graph-neural-pde/data/pos_encodings/Cora_GDC.pkl...\n",
      "    Found them! Loading cached version\n",
      "[i] Looking for positional encodings in /home/xdoni4/m1p/graph-neural-pde/data/pos_encodings/Cora_GDC.pkl...\n",
      "    Found them! Loading cached version\n",
      "[i] Looking for positional encodings in /home/xdoni4/m1p/graph-neural-pde/data/pos_encodings/Cora_GDC.pkl...\n",
      "    Found them! Loading cached version\n",
      "[i] Looking for positional encodings in /home/xdoni4/m1p/graph-neural-pde/data/pos_encodings/Cora_GDC.pkl...\n",
      "    Found them! Loading cached version\n",
      "[i] Looking for positional encodings in /home/xdoni4/m1p/graph-neural-pde/data/pos_encodings/Cora_GDC.pkl...\n",
      "    Found them! Loading cached version\n",
      "[i] Looking for positional encodings in /home/xdoni4/m1p/graph-neural-pde/data/pos_encodings/Cora_GDC.pkl...\n",
      "    Found them! Loading cached version\n",
      "[i] Looking for positional encodings in /home/xdoni4/m1p/graph-neural-pde/data/pos_encodings/Cora_GDC.pkl...\n",
      "    Found them! Loading cached version\n",
      "[i] Looking for positional encodings in /home/xdoni4/m1p/graph-neural-pde/data/pos_encodings/Cora_GDC.pkl...\n",
      "    Found them! Loading cached version\n",
      "[i] Looking for positional encodings in /home/xdoni4/m1p/graph-neural-pde/data/pos_encodings/Cora_GDC.pkl...\n",
      "    Found them! Loading cached version\n",
      "[i] Looking for positional encodings in /home/xdoni4/m1p/graph-neural-pde/data/pos_encodings/Cora_GDC.pkl...\n",
      "    Found them! Loading cached version\n",
      "[i] Looking for positional encodings in /home/xdoni4/m1p/graph-neural-pde/data/pos_encodings/Cora_GDC.pkl...\n",
      "    Found them! Loading cached version\n",
      "[i] Looking for positional encodings in /home/xdoni4/m1p/graph-neural-pde/data/pos_encodings/Cora_GDC.pkl...\n",
      "    Found them! Loading cached version\n",
      "[i] Looking for positional encodings in /home/xdoni4/m1p/graph-neural-pde/data/pos_encodings/Cora_GDC.pkl...\n",
      "    Found them! Loading cached version\n",
      "[i] Looking for positional encodings in /home/xdoni4/m1p/graph-neural-pde/data/pos_encodings/Cora_GDC.pkl...\n",
      "    Found them! Loading cached version\n",
      "[i] Looking for positional encodings in /home/xdoni4/m1p/graph-neural-pde/data/pos_encodings/Cora_GDC.pkl...\n",
      "    Found them! Loading cached version\n",
      "[i] Looking for positional encodings in /home/xdoni4/m1p/graph-neural-pde/data/pos_encodings/Cora_GDC.pkl...\n",
      "    Found them! Loading cached version\n",
      "[i] Looking for positional encodings in /home/xdoni4/m1p/graph-neural-pde/data/pos_encodings/Cora_GDC.pkl...\n",
      "    Found them! Loading cached version\n",
      "[i] Looking for positional encodings in /home/xdoni4/m1p/graph-neural-pde/data/pos_encodings/Cora_GDC.pkl...\n",
      "    Found them! Loading cached version\n",
      "[i] Looking for positional encodings in /home/xdoni4/m1p/graph-neural-pde/data/pos_encodings/Cora_GDC.pkl...\n",
      "    Found them! Loading cached version\n",
      "[i] Looking for positional encodings in /home/xdoni4/m1p/graph-neural-pde/data/pos_encodings/Cora_GDC.pkl...\n",
      "    Found them! Loading cached version\n",
      "[i] Looking for positional encodings in /home/xdoni4/m1p/graph-neural-pde/data/pos_encodings/Cora_GDC.pkl...\n",
      "    Found them! Loading cached version\n",
      "[i] Looking for positional encodings in /home/xdoni4/m1p/graph-neural-pde/data/pos_encodings/Cora_GDC.pkl...\n",
      "    Found them! Loading cached version\n",
      "[i] Looking for positional encodings in /home/xdoni4/m1p/graph-neural-pde/data/pos_encodings/Cora_GDC.pkl...\n",
      "    Found them! Loading cached version\n",
      "[i] Looking for positional encodings in /home/xdoni4/m1p/graph-neural-pde/data/pos_encodings/Cora_GDC.pkl...\n",
      "    Found them! Loading cached version\n",
      "[i] Looking for positional encodings in /home/xdoni4/m1p/graph-neural-pde/data/pos_encodings/Cora_GDC.pkl...\n",
      "    Found them! Loading cached version\n",
      "[i] Looking for positional encodings in /home/xdoni4/m1p/graph-neural-pde/data/pos_encodings/Cora_GDC.pkl...\n",
      "    Found them! Loading cached version\n",
      "[i] Looking for positional encodings in /home/xdoni4/m1p/graph-neural-pde/data/pos_encodings/Cora_GDC.pkl...\n",
      "    Found them! Loading cached version\n",
      "[i] Looking for positional encodings in /home/xdoni4/m1p/graph-neural-pde/data/pos_encodings/Cora_GDC.pkl...\n",
      "    Found them! Loading cached version\n",
      "[i] Looking for positional encodings in /home/xdoni4/m1p/graph-neural-pde/data/pos_encodings/Cora_GDC.pkl...\n",
      "    Found them! Loading cached version\n",
      "[i] Looking for positional encodings in /home/xdoni4/m1p/graph-neural-pde/data/pos_encodings/Cora_GDC.pkl...\n",
      "    Found them! Loading cached version\n",
      "[i] Looking for positional encodings in /home/xdoni4/m1p/graph-neural-pde/data/pos_encodings/Cora_GDC.pkl...\n",
      "    Found them! Loading cached version\n",
      "[i] Looking for positional encodings in /home/xdoni4/m1p/graph-neural-pde/data/pos_encodings/Cora_GDC.pkl...\n",
      "    Found them! Loading cached version\n",
      "[i] Looking for positional encodings in /home/xdoni4/m1p/graph-neural-pde/data/pos_encodings/Cora_GDC.pkl...\n",
      "    Found them! Loading cached version\n",
      "[i] Looking for positional encodings in /home/xdoni4/m1p/graph-neural-pde/data/pos_encodings/Cora_GDC.pkl...\n",
      "    Found them! Loading cached version\n",
      "[i] Looking for positional encodings in /home/xdoni4/m1p/graph-neural-pde/data/pos_encodings/Cora_GDC.pkl...\n",
      "    Found them! Loading cached version\n",
      "[i] Looking for positional encodings in /home/xdoni4/m1p/graph-neural-pde/data/pos_encodings/Cora_GDC.pkl...\n",
      "    Found them! Loading cached version\n",
      "[i] Looking for positional encodings in /home/xdoni4/m1p/graph-neural-pde/data/pos_encodings/Cora_GDC.pkl...\n",
      "    Found them! Loading cached version\n",
      "[i] Looking for positional encodings in /home/xdoni4/m1p/graph-neural-pde/data/pos_encodings/Cora_GDC.pkl...\n",
      "    Found them! Loading cached version\n",
      "[i] Looking for positional encodings in /home/xdoni4/m1p/graph-neural-pde/data/pos_encodings/Cora_GDC.pkl...\n",
      "    Found them! Loading cached version\n",
      "[i] Looking for positional encodings in /home/xdoni4/m1p/graph-neural-pde/data/pos_encodings/Cora_GDC.pkl...\n",
      "    Found them! Loading cached version\n",
      "[i] Looking for positional encodings in /home/xdoni4/m1p/graph-neural-pde/data/pos_encodings/Cora_GDC.pkl...\n",
      "    Found them! Loading cached version\n",
      "[i] Looking for positional encodings in /home/xdoni4/m1p/graph-neural-pde/data/pos_encodings/Cora_GDC.pkl...\n",
      "    Found them! Loading cached version\n",
      "[i] Looking for positional encodings in /home/xdoni4/m1p/graph-neural-pde/data/pos_encodings/Cora_GDC.pkl...\n",
      "    Found them! Loading cached version\n",
      "[i] Looking for positional encodings in /home/xdoni4/m1p/graph-neural-pde/data/pos_encodings/Cora_GDC.pkl...\n",
      "    Found them! Loading cached version\n",
      "[i] Looking for positional encodings in /home/xdoni4/m1p/graph-neural-pde/data/pos_encodings/Cora_GDC.pkl...\n",
      "    Found them! Loading cached version\n",
      "[i] Looking for positional encodings in /home/xdoni4/m1p/graph-neural-pde/data/pos_encodings/Cora_GDC.pkl...\n",
      "    Found them! Loading cached version\n",
      "[i] Looking for positional encodings in /home/xdoni4/m1p/graph-neural-pde/data/pos_encodings/Cora_GDC.pkl...\n",
      "    Found them! Loading cached version\n",
      "[i] Looking for positional encodings in /home/xdoni4/m1p/graph-neural-pde/data/pos_encodings/Cora_GDC.pkl...\n",
      "    Found them! Loading cached version\n",
      "[i] Looking for positional encodings in /home/xdoni4/m1p/graph-neural-pde/data/pos_encodings/Cora_GDC.pkl...\n",
      "    Found them! Loading cached version\n",
      "[i] Looking for positional encodings in /home/xdoni4/m1p/graph-neural-pde/data/pos_encodings/Cora_GDC.pkl...\n",
      "    Found them! Loading cached version\n",
      "[i] Looking for positional encodings in /home/xdoni4/m1p/graph-neural-pde/data/pos_encodings/Cora_GDC.pkl...\n",
      "    Found them! Loading cached version\n",
      "[i] Looking for positional encodings in /home/xdoni4/m1p/graph-neural-pde/data/pos_encodings/Cora_GDC.pkl...\n",
      "    Found them! Loading cached version\n",
      "[i] Looking for positional encodings in /home/xdoni4/m1p/graph-neural-pde/data/pos_encodings/Cora_GDC.pkl...\n",
      "    Found them! Loading cached version\n",
      "[i] Looking for positional encodings in /home/xdoni4/m1p/graph-neural-pde/data/pos_encodings/Cora_GDC.pkl...\n",
      "    Found them! Loading cached version\n",
      "[i] Looking for positional encodings in /home/xdoni4/m1p/graph-neural-pde/data/pos_encodings/Cora_GDC.pkl...\n",
      "    Found them! Loading cached version\n",
      "[i] Looking for positional encodings in /home/xdoni4/m1p/graph-neural-pde/data/pos_encodings/Cora_GDC.pkl...\n",
      "    Found them! Loading cached version\n",
      "[i] Looking for positional encodings in /home/xdoni4/m1p/graph-neural-pde/data/pos_encodings/Cora_GDC.pkl...\n",
      "    Found them! Loading cached version\n",
      "[i] Looking for positional encodings in /home/xdoni4/m1p/graph-neural-pde/data/pos_encodings/Cora_GDC.pkl...\n",
      "    Found them! Loading cached version\n",
      "[i] Looking for positional encodings in /home/xdoni4/m1p/graph-neural-pde/data/pos_encodings/Cora_GDC.pkl...\n",
      "    Found them! Loading cached version\n",
      "[i] Looking for positional encodings in /home/xdoni4/m1p/graph-neural-pde/data/pos_encodings/Cora_GDC.pkl...\n",
      "    Found them! Loading cached version\n",
      "[i] Looking for positional encodings in /home/xdoni4/m1p/graph-neural-pde/data/pos_encodings/Cora_GDC.pkl...\n",
      "    Found them! Loading cached version\n",
      "[i] Looking for positional encodings in /home/xdoni4/m1p/graph-neural-pde/data/pos_encodings/Cora_GDC.pkl...\n",
      "    Found them! Loading cached version\n",
      "[i] Looking for positional encodings in /home/xdoni4/m1p/graph-neural-pde/data/pos_encodings/Cora_GDC.pkl...\n",
      "    Found them! Loading cached version\n",
      "[i] Looking for positional encodings in /home/xdoni4/m1p/graph-neural-pde/data/pos_encodings/Cora_GDC.pkl...\n",
      "    Found them! Loading cached version\n",
      "[i] Looking for positional encodings in /home/xdoni4/m1p/graph-neural-pde/data/pos_encodings/Cora_GDC.pkl...\n",
      "    Found them! Loading cached version\n",
      "[i] Looking for positional encodings in /home/xdoni4/m1p/graph-neural-pde/data/pos_encodings/Cora_GDC.pkl...\n",
      "    Found them! Loading cached version\n",
      "[i] Looking for positional encodings in /home/xdoni4/m1p/graph-neural-pde/data/pos_encodings/Cora_GDC.pkl...\n",
      "    Found them! Loading cached version\n",
      "[i] Looking for positional encodings in /home/xdoni4/m1p/graph-neural-pde/data/pos_encodings/Cora_GDC.pkl...\n",
      "    Found them! Loading cached version\n",
      "[i] Looking for positional encodings in /home/xdoni4/m1p/graph-neural-pde/data/pos_encodings/Cora_GDC.pkl...\n",
      "    Found them! Loading cached version\n",
      "[i] Looking for positional encodings in /home/xdoni4/m1p/graph-neural-pde/data/pos_encodings/Cora_GDC.pkl...\n",
      "    Found them! Loading cached version\n",
      "[i] Looking for positional encodings in /home/xdoni4/m1p/graph-neural-pde/data/pos_encodings/Cora_GDC.pkl...\n",
      "    Found them! Loading cached version\n",
      "[i] Looking for positional encodings in /home/xdoni4/m1p/graph-neural-pde/data/pos_encodings/Cora_GDC.pkl...\n",
      "    Found them! Loading cached version\n",
      "[i] Looking for positional encodings in /home/xdoni4/m1p/graph-neural-pde/data/pos_encodings/Cora_GDC.pkl...\n",
      "    Found them! Loading cached version\n",
      "[i] Looking for positional encodings in /home/xdoni4/m1p/graph-neural-pde/data/pos_encodings/Cora_GDC.pkl...\n",
      "    Found them! Loading cached version\n",
      "[i] Looking for positional encodings in /home/xdoni4/m1p/graph-neural-pde/data/pos_encodings/Cora_GDC.pkl...\n",
      "    Found them! Loading cached version\n",
      "[i] Looking for positional encodings in /home/xdoni4/m1p/graph-neural-pde/data/pos_encodings/Cora_GDC.pkl...\n",
      "    Found them! Loading cached version\n",
      "[i] Looking for positional encodings in /home/xdoni4/m1p/graph-neural-pde/data/pos_encodings/Cora_GDC.pkl...\n",
      "    Found them! Loading cached version\n",
      "[i] Looking for positional encodings in /home/xdoni4/m1p/graph-neural-pde/data/pos_encodings/Cora_GDC.pkl...\n",
      "    Found them! Loading cached version\n",
      "[i] Looking for positional encodings in /home/xdoni4/m1p/graph-neural-pde/data/pos_encodings/Cora_GDC.pkl...\n",
      "    Found them! Loading cached version\n",
      "[i] Looking for positional encodings in /home/xdoni4/m1p/graph-neural-pde/data/pos_encodings/Cora_GDC.pkl...\n",
      "    Found them! Loading cached version\n",
      "[i] Looking for positional encodings in /home/xdoni4/m1p/graph-neural-pde/data/pos_encodings/Cora_GDC.pkl...\n",
      "    Found them! Loading cached version\n",
      "[i] Looking for positional encodings in /home/xdoni4/m1p/graph-neural-pde/data/pos_encodings/Cora_GDC.pkl...\n",
      "    Found them! Loading cached version\n",
      "[i] Looking for positional encodings in /home/xdoni4/m1p/graph-neural-pde/data/pos_encodings/Cora_GDC.pkl...\n",
      "    Found them! Loading cached version\n",
      "[i] Looking for positional encodings in /home/xdoni4/m1p/graph-neural-pde/data/pos_encodings/Cora_GDC.pkl...\n",
      "    Found them! Loading cached version\n",
      "[i] Looking for positional encodings in /home/xdoni4/m1p/graph-neural-pde/data/pos_encodings/Cora_GDC.pkl...\n",
      "    Found them! Loading cached version\n",
      "[i] Looking for positional encodings in /home/xdoni4/m1p/graph-neural-pde/data/pos_encodings/Cora_GDC.pkl...\n",
      "    Found them! Loading cached version\n",
      "[i] Looking for positional encodings in /home/xdoni4/m1p/graph-neural-pde/data/pos_encodings/Cora_GDC.pkl...\n",
      "    Found them! Loading cached version\n",
      "[i] Looking for positional encodings in /home/xdoni4/m1p/graph-neural-pde/data/pos_encodings/Cora_GDC.pkl...\n",
      "    Found them! Loading cached version\n",
      "[i] Looking for positional encodings in /home/xdoni4/m1p/graph-neural-pde/data/pos_encodings/Cora_GDC.pkl...\n",
      "    Found them! Loading cached version\n",
      "[i] Looking for positional encodings in /home/xdoni4/m1p/graph-neural-pde/data/pos_encodings/Cora_GDC.pkl...\n",
      "    Found them! Loading cached version\n",
      "[i] Looking for positional encodings in /home/xdoni4/m1p/graph-neural-pde/data/pos_encodings/Cora_GDC.pkl...\n",
      "    Found them! Loading cached version\n",
      "[i] Looking for positional encodings in /home/xdoni4/m1p/graph-neural-pde/data/pos_encodings/Cora_GDC.pkl...\n",
      "    Found them! Loading cached version\n",
      "[i] Looking for positional encodings in /home/xdoni4/m1p/graph-neural-pde/data/pos_encodings/Cora_GDC.pkl...\n",
      "    Found them! Loading cached version\n",
      "[i] Looking for positional encodings in /home/xdoni4/m1p/graph-neural-pde/data/pos_encodings/Cora_GDC.pkl...\n",
      "    Found them! Loading cached version\n",
      "[i] Looking for positional encodings in /home/xdoni4/m1p/graph-neural-pde/data/pos_encodings/Cora_GDC.pkl...\n",
      "    Found them! Loading cached version\n",
      "[i] Looking for positional encodings in /home/xdoni4/m1p/graph-neural-pde/data/pos_encodings/Cora_GDC.pkl...\n",
      "    Found them! Loading cached version\n",
      "[i] Looking for positional encodings in /home/xdoni4/m1p/graph-neural-pde/data/pos_encodings/Cora_GDC.pkl...\n",
      "    Found them! Loading cached version\n",
      "[i] Looking for positional encodings in /home/xdoni4/m1p/graph-neural-pde/data/pos_encodings/Cora_GDC.pkl...\n",
      "    Found them! Loading cached version\n",
      "[i] Looking for positional encodings in /home/xdoni4/m1p/graph-neural-pde/data/pos_encodings/Cora_GDC.pkl...\n",
      "    Found them! Loading cached version\n",
      "[i] Looking for positional encodings in /home/xdoni4/m1p/graph-neural-pde/data/pos_encodings/Cora_GDC.pkl...\n",
      "    Found them! Loading cached version\n",
      "[i] Looking for positional encodings in /home/xdoni4/m1p/graph-neural-pde/data/pos_encodings/Cora_GDC.pkl...\n",
      "    Found them! Loading cached version\n",
      "[i] Looking for positional encodings in /home/xdoni4/m1p/graph-neural-pde/data/pos_encodings/Cora_GDC.pkl...\n",
      "    Found them! Loading cached version\n",
      "[i] Looking for positional encodings in /home/xdoni4/m1p/graph-neural-pde/data/pos_encodings/Cora_GDC.pkl...\n",
      "    Found them! Loading cached version\n",
      "[i] Looking for positional encodings in /home/xdoni4/m1p/graph-neural-pde/data/pos_encodings/Cora_GDC.pkl...\n",
      "    Found them! Loading cached version\n",
      "[i] Looking for positional encodings in /home/xdoni4/m1p/graph-neural-pde/data/pos_encodings/Cora_GDC.pkl...\n",
      "    Found them! Loading cached version\n",
      "[i] Looking for positional encodings in /home/xdoni4/m1p/graph-neural-pde/data/pos_encodings/Cora_GDC.pkl...\n",
      "    Found them! Loading cached version\n",
      "[i] Looking for positional encodings in /home/xdoni4/m1p/graph-neural-pde/data/pos_encodings/Cora_GDC.pkl...\n",
      "    Found them! Loading cached version\n",
      "[i] Looking for positional encodings in /home/xdoni4/m1p/graph-neural-pde/data/pos_encodings/Cora_GDC.pkl...\n",
      "    Found them! Loading cached version\n",
      "[i] Looking for positional encodings in /home/xdoni4/m1p/graph-neural-pde/data/pos_encodings/Cora_GDC.pkl...\n",
      "    Found them! Loading cached version\n",
      "[i] Looking for positional encodings in /home/xdoni4/m1p/graph-neural-pde/data/pos_encodings/Cora_GDC.pkl...\n",
      "    Found them! Loading cached version\n",
      "[i] Looking for positional encodings in /home/xdoni4/m1p/graph-neural-pde/data/pos_encodings/Cora_GDC.pkl...\n",
      "    Found them! Loading cached version\n",
      "[i] Looking for positional encodings in /home/xdoni4/m1p/graph-neural-pde/data/pos_encodings/Cora_GDC.pkl...\n",
      "    Found them! Loading cached version\n",
      "[i] Looking for positional encodings in /home/xdoni4/m1p/graph-neural-pde/data/pos_encodings/Cora_GDC.pkl...\n",
      "    Found them! Loading cached version\n",
      "[i] Looking for positional encodings in /home/xdoni4/m1p/graph-neural-pde/data/pos_encodings/Cora_GDC.pkl...\n",
      "    Found them! Loading cached version\n",
      "[i] Looking for positional encodings in /home/xdoni4/m1p/graph-neural-pde/data/pos_encodings/Cora_GDC.pkl...\n",
      "    Found them! Loading cached version\n",
      "[i] Looking for positional encodings in /home/xdoni4/m1p/graph-neural-pde/data/pos_encodings/Cora_GDC.pkl...\n",
      "    Found them! Loading cached version\n",
      "[i] Looking for positional encodings in /home/xdoni4/m1p/graph-neural-pde/data/pos_encodings/Cora_GDC.pkl...\n",
      "    Found them! Loading cached version\n",
      "[i] Looking for positional encodings in /home/xdoni4/m1p/graph-neural-pde/data/pos_encodings/Cora_GDC.pkl...\n",
      "    Found them! Loading cached version\n",
      "[i] Looking for positional encodings in /home/xdoni4/m1p/graph-neural-pde/data/pos_encodings/Cora_GDC.pkl...\n",
      "    Found them! Loading cached version\n",
      "[i] Looking for positional encodings in /home/xdoni4/m1p/graph-neural-pde/data/pos_encodings/Cora_GDC.pkl...\n",
      "    Found them! Loading cached version\n",
      "[i] Looking for positional encodings in /home/xdoni4/m1p/graph-neural-pde/data/pos_encodings/Cora_GDC.pkl...\n",
      "    Found them! Loading cached version\n",
      "[i] Looking for positional encodings in /home/xdoni4/m1p/graph-neural-pde/data/pos_encodings/Cora_GDC.pkl...\n",
      "    Found them! Loading cached version\n",
      "[i] Looking for positional encodings in /home/xdoni4/m1p/graph-neural-pde/data/pos_encodings/Cora_GDC.pkl...\n",
      "    Found them! Loading cached version\n",
      "[i] Looking for positional encodings in /home/xdoni4/m1p/graph-neural-pde/data/pos_encodings/Cora_GDC.pkl...\n",
      "    Found them! Loading cached version\n",
      "[i] Looking for positional encodings in /home/xdoni4/m1p/graph-neural-pde/data/pos_encodings/Cora_GDC.pkl...\n",
      "    Found them! Loading cached version\n",
      "[i] Looking for positional encodings in /home/xdoni4/m1p/graph-neural-pde/data/pos_encodings/Cora_GDC.pkl...\n",
      "    Found them! Loading cached version\n",
      "[i] Looking for positional encodings in /home/xdoni4/m1p/graph-neural-pde/data/pos_encodings/Cora_GDC.pkl...\n",
      "    Found them! Loading cached version\n",
      "[i] Looking for positional encodings in /home/xdoni4/m1p/graph-neural-pde/data/pos_encodings/Cora_GDC.pkl...\n",
      "    Found them! Loading cached version\n",
      "[i] Looking for positional encodings in /home/xdoni4/m1p/graph-neural-pde/data/pos_encodings/Cora_GDC.pkl...\n",
      "    Found them! Loading cached version\n",
      "[i] Looking for positional encodings in /home/xdoni4/m1p/graph-neural-pde/data/pos_encodings/Cora_GDC.pkl...\n",
      "    Found them! Loading cached version\n",
      "[i] Looking for positional encodings in /home/xdoni4/m1p/graph-neural-pde/data/pos_encodings/Cora_GDC.pkl...\n",
      "    Found them! Loading cached version\n",
      "[i] Looking for positional encodings in /home/xdoni4/m1p/graph-neural-pde/data/pos_encodings/Cora_GDC.pkl...\n",
      "    Found them! Loading cached version\n",
      "[i] Looking for positional encodings in /home/xdoni4/m1p/graph-neural-pde/data/pos_encodings/Cora_GDC.pkl...\n",
      "    Found them! Loading cached version\n",
      "[i] Looking for positional encodings in /home/xdoni4/m1p/graph-neural-pde/data/pos_encodings/Cora_GDC.pkl...\n",
      "    Found them! Loading cached version\n",
      "[i] Looking for positional encodings in /home/xdoni4/m1p/graph-neural-pde/data/pos_encodings/Cora_GDC.pkl...\n",
      "    Found them! Loading cached version\n",
      "[i] Looking for positional encodings in /home/xdoni4/m1p/graph-neural-pde/data/pos_encodings/Cora_GDC.pkl...\n",
      "    Found them! Loading cached version\n",
      "[i] Looking for positional encodings in /home/xdoni4/m1p/graph-neural-pde/data/pos_encodings/Cora_GDC.pkl...\n",
      "    Found them! Loading cached version\n",
      "[i] Looking for positional encodings in /home/xdoni4/m1p/graph-neural-pde/data/pos_encodings/Cora_GDC.pkl...\n",
      "    Found them! Loading cached version\n",
      "[i] Looking for positional encodings in /home/xdoni4/m1p/graph-neural-pde/data/pos_encodings/Cora_GDC.pkl...\n",
      "    Found them! Loading cached version\n",
      "[i] Looking for positional encodings in /home/xdoni4/m1p/graph-neural-pde/data/pos_encodings/Cora_GDC.pkl...\n",
      "    Found them! Loading cached version\n",
      "[i] Looking for positional encodings in /home/xdoni4/m1p/graph-neural-pde/data/pos_encodings/Cora_GDC.pkl...\n",
      "    Found them! Loading cached version\n",
      "[i] Looking for positional encodings in /home/xdoni4/m1p/graph-neural-pde/data/pos_encodings/Cora_GDC.pkl...\n",
      "    Found them! Loading cached version\n",
      "[i] Looking for positional encodings in /home/xdoni4/m1p/graph-neural-pde/data/pos_encodings/Cora_GDC.pkl...\n",
      "    Found them! Loading cached version\n",
      "[i] Looking for positional encodings in /home/xdoni4/m1p/graph-neural-pde/data/pos_encodings/Cora_GDC.pkl...\n",
      "    Found them! Loading cached version\n",
      "[i] Looking for positional encodings in /home/xdoni4/m1p/graph-neural-pde/data/pos_encodings/Cora_GDC.pkl...\n",
      "    Found them! Loading cached version\n",
      "[i] Looking for positional encodings in /home/xdoni4/m1p/graph-neural-pde/data/pos_encodings/Cora_GDC.pkl...\n",
      "    Found them! Loading cached version\n",
      "[i] Looking for positional encodings in /home/xdoni4/m1p/graph-neural-pde/data/pos_encodings/Cora_GDC.pkl...\n",
      "    Found them! Loading cached version\n",
      "[i] Looking for positional encodings in /home/xdoni4/m1p/graph-neural-pde/data/pos_encodings/Cora_GDC.pkl...\n",
      "    Found them! Loading cached version\n",
      "[i] Looking for positional encodings in /home/xdoni4/m1p/graph-neural-pde/data/pos_encodings/Cora_GDC.pkl...\n",
      "    Found them! Loading cached version\n",
      "[i] Looking for positional encodings in /home/xdoni4/m1p/graph-neural-pde/data/pos_encodings/Cora_GDC.pkl...\n",
      "    Found them! Loading cached version\n",
      "[i] Looking for positional encodings in /home/xdoni4/m1p/graph-neural-pde/data/pos_encodings/Cora_GDC.pkl...\n",
      "    Found them! Loading cached version\n",
      "[i] Looking for positional encodings in /home/xdoni4/m1p/graph-neural-pde/data/pos_encodings/Cora_GDC.pkl...\n",
      "    Found them! Loading cached version\n",
      "[i] Looking for positional encodings in /home/xdoni4/m1p/graph-neural-pde/data/pos_encodings/Cora_GDC.pkl...\n",
      "    Found them! Loading cached version\n",
      "[i] Looking for positional encodings in /home/xdoni4/m1p/graph-neural-pde/data/pos_encodings/Cora_GDC.pkl...\n",
      "    Found them! Loading cached version\n",
      "[i] Looking for positional encodings in /home/xdoni4/m1p/graph-neural-pde/data/pos_encodings/Cora_GDC.pkl...\n",
      "    Found them! Loading cached version\n",
      "[i] Looking for positional encodings in /home/xdoni4/m1p/graph-neural-pde/data/pos_encodings/Cora_GDC.pkl...\n",
      "    Found them! Loading cached version\n",
      "[i] Looking for positional encodings in /home/xdoni4/m1p/graph-neural-pde/data/pos_encodings/Cora_GDC.pkl...\n",
      "    Found them! Loading cached version\n",
      "[i] Looking for positional encodings in /home/xdoni4/m1p/graph-neural-pde/data/pos_encodings/Cora_GDC.pkl...\n",
      "    Found them! Loading cached version\n",
      "[i] Looking for positional encodings in /home/xdoni4/m1p/graph-neural-pde/data/pos_encodings/Cora_GDC.pkl...\n",
      "    Found them! Loading cached version\n",
      "[i] Looking for positional encodings in /home/xdoni4/m1p/graph-neural-pde/data/pos_encodings/Cora_GDC.pkl...\n",
      "    Found them! Loading cached version\n",
      "[i] Looking for positional encodings in /home/xdoni4/m1p/graph-neural-pde/data/pos_encodings/Cora_GDC.pkl...\n",
      "    Found them! Loading cached version\n",
      "[i] Looking for positional encodings in /home/xdoni4/m1p/graph-neural-pde/data/pos_encodings/Cora_GDC.pkl...\n",
      "    Found them! Loading cached version\n",
      "[i] Looking for positional encodings in /home/xdoni4/m1p/graph-neural-pde/data/pos_encodings/Cora_GDC.pkl...\n",
      "    Found them! Loading cached version\n",
      "[i] Looking for positional encodings in /home/xdoni4/m1p/graph-neural-pde/data/pos_encodings/Cora_GDC.pkl...\n",
      "    Found them! Loading cached version\n",
      "[i] Looking for positional encodings in /home/xdoni4/m1p/graph-neural-pde/data/pos_encodings/Cora_GDC.pkl...\n",
      "    Found them! Loading cached version\n",
      "[i] Looking for positional encodings in /home/xdoni4/m1p/graph-neural-pde/data/pos_encodings/Cora_GDC.pkl...\n",
      "    Found them! Loading cached version\n",
      "[i] Looking for positional encodings in /home/xdoni4/m1p/graph-neural-pde/data/pos_encodings/Cora_GDC.pkl...\n",
      "    Found them! Loading cached version\n",
      "[i] Looking for positional encodings in /home/xdoni4/m1p/graph-neural-pde/data/pos_encodings/Cora_GDC.pkl...\n",
      "    Found them! Loading cached version\n",
      "[i] Looking for positional encodings in /home/xdoni4/m1p/graph-neural-pde/data/pos_encodings/Cora_GDC.pkl...\n",
      "    Found them! Loading cached version\n",
      "[i] Looking for positional encodings in /home/xdoni4/m1p/graph-neural-pde/data/pos_encodings/Cora_GDC.pkl...\n",
      "    Found them! Loading cached version\n",
      "[i] Looking for positional encodings in /home/xdoni4/m1p/graph-neural-pde/data/pos_encodings/Cora_GDC.pkl...\n",
      "    Found them! Loading cached version\n",
      "[i] Looking for positional encodings in /home/xdoni4/m1p/graph-neural-pde/data/pos_encodings/Cora_GDC.pkl...\n",
      "    Found them! Loading cached version\n",
      "[i] Looking for positional encodings in /home/xdoni4/m1p/graph-neural-pde/data/pos_encodings/Cora_GDC.pkl...\n",
      "    Found them! Loading cached version\n",
      "[i] Looking for positional encodings in /home/xdoni4/m1p/graph-neural-pde/data/pos_encodings/Cora_GDC.pkl...\n",
      "    Found them! Loading cached version\n",
      "[i] Looking for positional encodings in /home/xdoni4/m1p/graph-neural-pde/data/pos_encodings/Cora_GDC.pkl...\n",
      "    Found them! Loading cached version\n",
      "[i] Looking for positional encodings in /home/xdoni4/m1p/graph-neural-pde/data/pos_encodings/Cora_GDC.pkl...\n",
      "    Found them! Loading cached version\n",
      "[i] Looking for positional encodings in /home/xdoni4/m1p/graph-neural-pde/data/pos_encodings/Cora_GDC.pkl...\n",
      "    Found them! Loading cached version\n",
      "[i] Looking for positional encodings in /home/xdoni4/m1p/graph-neural-pde/data/pos_encodings/Cora_GDC.pkl...\n",
      "    Found them! Loading cached version\n",
      "[i] Looking for positional encodings in /home/xdoni4/m1p/graph-neural-pde/data/pos_encodings/Cora_GDC.pkl...\n",
      "    Found them! Loading cached version\n",
      "[i] Looking for positional encodings in /home/xdoni4/m1p/graph-neural-pde/data/pos_encodings/Cora_GDC.pkl...\n",
      "    Found them! Loading cached version\n",
      "[i] Looking for positional encodings in /home/xdoni4/m1p/graph-neural-pde/data/pos_encodings/Cora_GDC.pkl...\n",
      "    Found them! Loading cached version\n",
      "[i] Looking for positional encodings in /home/xdoni4/m1p/graph-neural-pde/data/pos_encodings/Cora_GDC.pkl...\n",
      "    Found them! Loading cached version\n",
      "[i] Looking for positional encodings in /home/xdoni4/m1p/graph-neural-pde/data/pos_encodings/Cora_GDC.pkl...\n",
      "    Found them! Loading cached version\n",
      "[i] Looking for positional encodings in /home/xdoni4/m1p/graph-neural-pde/data/pos_encodings/Cora_GDC.pkl...\n",
      "    Found them! Loading cached version\n",
      "[i] Looking for positional encodings in /home/xdoni4/m1p/graph-neural-pde/data/pos_encodings/Cora_GDC.pkl...\n",
      "    Found them! Loading cached version\n",
      "[i] Looking for positional encodings in /home/xdoni4/m1p/graph-neural-pde/data/pos_encodings/Cora_GDC.pkl...\n",
      "    Found them! Loading cached version\n",
      "[i] Looking for positional encodings in /home/xdoni4/m1p/graph-neural-pde/data/pos_encodings/Cora_GDC.pkl...\n",
      "    Found them! Loading cached version\n",
      "[i] Looking for positional encodings in /home/xdoni4/m1p/graph-neural-pde/data/pos_encodings/Cora_GDC.pkl...\n",
      "    Found them! Loading cached version\n",
      "[i] Looking for positional encodings in /home/xdoni4/m1p/graph-neural-pde/data/pos_encodings/Cora_GDC.pkl...\n",
      "    Found them! Loading cached version\n",
      "[i] Looking for positional encodings in /home/xdoni4/m1p/graph-neural-pde/data/pos_encodings/Cora_GDC.pkl...\n",
      "    Found them! Loading cached version\n",
      "[i] Looking for positional encodings in /home/xdoni4/m1p/graph-neural-pde/data/pos_encodings/Cora_GDC.pkl...\n",
      "    Found them! Loading cached version\n",
      "[i] Looking for positional encodings in /home/xdoni4/m1p/graph-neural-pde/data/pos_encodings/Cora_GDC.pkl...\n",
      "    Found them! Loading cached version\n",
      "[i] Looking for positional encodings in /home/xdoni4/m1p/graph-neural-pde/data/pos_encodings/Cora_GDC.pkl...\n",
      "    Found them! Loading cached version\n",
      "[i] Looking for positional encodings in /home/xdoni4/m1p/graph-neural-pde/data/pos_encodings/Cora_GDC.pkl...\n",
      "    Found them! Loading cached version\n",
      "[i] Looking for positional encodings in /home/xdoni4/m1p/graph-neural-pde/data/pos_encodings/Cora_GDC.pkl...\n",
      "    Found them! Loading cached version\n",
      "[i] Looking for positional encodings in /home/xdoni4/m1p/graph-neural-pde/data/pos_encodings/Cora_GDC.pkl...\n",
      "    Found them! Loading cached version\n",
      "[i] Looking for positional encodings in /home/xdoni4/m1p/graph-neural-pde/data/pos_encodings/Cora_GDC.pkl...\n",
      "    Found them! Loading cached version\n",
      "[i] Looking for positional encodings in /home/xdoni4/m1p/graph-neural-pde/data/pos_encodings/Cora_GDC.pkl...\n",
      "    Found them! Loading cached version\n",
      "[i] Looking for positional encodings in /home/xdoni4/m1p/graph-neural-pde/data/pos_encodings/Cora_GDC.pkl...\n",
      "    Found them! Loading cached version\n",
      "[i] Looking for positional encodings in /home/xdoni4/m1p/graph-neural-pde/data/pos_encodings/Cora_GDC.pkl...\n",
      "    Found them! Loading cached version\n",
      "[i] Looking for positional encodings in /home/xdoni4/m1p/graph-neural-pde/data/pos_encodings/Cora_GDC.pkl...\n",
      "    Found them! Loading cached version\n",
      "[i] Looking for positional encodings in /home/xdoni4/m1p/graph-neural-pde/data/pos_encodings/Cora_GDC.pkl...\n",
      "    Found them! Loading cached version\n",
      "[i] Looking for positional encodings in /home/xdoni4/m1p/graph-neural-pde/data/pos_encodings/Cora_GDC.pkl...\n",
      "    Found them! Loading cached version\n",
      "[i] Looking for positional encodings in /home/xdoni4/m1p/graph-neural-pde/data/pos_encodings/Cora_GDC.pkl...\n",
      "    Found them! Loading cached version\n",
      "[i] Looking for positional encodings in /home/xdoni4/m1p/graph-neural-pde/data/pos_encodings/Cora_GDC.pkl...\n",
      "    Found them! Loading cached version\n",
      "[i] Looking for positional encodings in /home/xdoni4/m1p/graph-neural-pde/data/pos_encodings/Cora_GDC.pkl...\n",
      "    Found them! Loading cached version\n",
      "[i] Looking for positional encodings in /home/xdoni4/m1p/graph-neural-pde/data/pos_encodings/Cora_GDC.pkl...\n",
      "    Found them! Loading cached version\n",
      "[i] Looking for positional encodings in /home/xdoni4/m1p/graph-neural-pde/data/pos_encodings/Cora_GDC.pkl...\n",
      "    Found them! Loading cached version\n"
     ]
    },
    {
     "name": "stderr",
     "output_type": "stream",
     "text": [
      "  0%|          | 0/89 [00:00<?, ?it/s]/home/xdoni4/miniconda3/envs/m1p/lib/python3.9/site-packages/torchdiffeq/_impl/misc.py:11: UserWarning: Dopri5Solver: Unexpected arguments {'step_size': 1, 'max_iters': 100}\n",
      "  warnings.warn('{}: Unexpected arguments {}'.format(solver.__class__.__name__, unused_kwargs))\n",
      "100%|██████████| 89/89 [16:30<00:00, 11.13s/it]\n"
     ]
    },
    {
     "name": "stdout",
     "output_type": "stream",
     "text": [
      "TRAIN: epoch = 1, loss = 0.677, accuracy = 0.596, f1 = 0.54\n"
     ]
    },
    {
     "name": "stderr",
     "output_type": "stream",
     "text": [
      "/home/xdoni4/miniconda3/envs/m1p/lib/python3.9/site-packages/torchdiffeq/_impl/misc.py:11: UserWarning: Dopri5Solver: Unexpected arguments {'step_size': 1, 'max_iters': 100}\n",
      "  warnings.warn('{}: Unexpected arguments {}'.format(solver.__class__.__name__, unused_kwargs))\n"
     ]
    },
    {
     "name": "stdout",
     "output_type": "stream",
     "text": [
      "TEST: loss = 0.644, accuracy = 0.633, f1 = 0.388\n",
      "--------------------------------------------------\n"
     ]
    },
    {
     "name": "stderr",
     "output_type": "stream",
     "text": [
      "  0%|          | 0/89 [00:00<?, ?it/s]/home/xdoni4/miniconda3/envs/m1p/lib/python3.9/site-packages/torchdiffeq/_impl/misc.py:11: UserWarning: Dopri5Solver: Unexpected arguments {'step_size': 1, 'max_iters': 100}\n",
      "  warnings.warn('{}: Unexpected arguments {}'.format(solver.__class__.__name__, unused_kwargs))\n",
      "100%|██████████| 89/89 [14:18<00:00,  9.65s/it]\n"
     ]
    },
    {
     "name": "stdout",
     "output_type": "stream",
     "text": [
      "TRAIN: epoch = 2, loss = 0.62, accuracy = 0.674, f1 = 0.555\n"
     ]
    },
    {
     "name": "stderr",
     "output_type": "stream",
     "text": [
      "/home/xdoni4/miniconda3/envs/m1p/lib/python3.9/site-packages/torchdiffeq/_impl/misc.py:11: UserWarning: Dopri5Solver: Unexpected arguments {'step_size': 1, 'max_iters': 100}\n",
      "  warnings.warn('{}: Unexpected arguments {}'.format(solver.__class__.__name__, unused_kwargs))\n"
     ]
    },
    {
     "name": "stdout",
     "output_type": "stream",
     "text": [
      "TEST: loss = 0.627, accuracy = 0.633, f1 = 0.388\n",
      "--------------------------------------------------\n"
     ]
    },
    {
     "name": "stderr",
     "output_type": "stream",
     "text": [
      "  0%|          | 0/89 [00:00<?, ?it/s]/home/xdoni4/miniconda3/envs/m1p/lib/python3.9/site-packages/torchdiffeq/_impl/misc.py:11: UserWarning: Dopri5Solver: Unexpected arguments {'step_size': 1, 'max_iters': 100}\n",
      "  warnings.warn('{}: Unexpected arguments {}'.format(solver.__class__.__name__, unused_kwargs))\n",
      "100%|██████████| 89/89 [15:11<00:00, 10.24s/it]\n"
     ]
    },
    {
     "name": "stdout",
     "output_type": "stream",
     "text": [
      "TRAIN: epoch = 3, loss = 0.565, accuracy = 0.73, f1 = 0.613\n"
     ]
    },
    {
     "name": "stderr",
     "output_type": "stream",
     "text": [
      "/home/xdoni4/miniconda3/envs/m1p/lib/python3.9/site-packages/torchdiffeq/_impl/misc.py:11: UserWarning: Dopri5Solver: Unexpected arguments {'step_size': 1, 'max_iters': 100}\n",
      "  warnings.warn('{}: Unexpected arguments {}'.format(solver.__class__.__name__, unused_kwargs))\n"
     ]
    },
    {
     "name": "stdout",
     "output_type": "stream",
     "text": [
      "TEST: loss = 0.619, accuracy = 0.6, f1 = 0.375\n",
      "--------------------------------------------------\n",
      "\n",
      "===================================================================================\n",
      "\n",
      "Building adjacencies T=15\n"
     ]
    },
    {
     "name": "stderr",
     "output_type": "stream",
     "text": [
      "100%|██████████| 89/89 [00:05<00:00, 17.22it/s]\n"
     ]
    },
    {
     "name": "stdout",
     "output_type": "stream",
     "text": [
      "(89, 241, 32, 32)\n"
     ]
    },
    {
     "name": "stderr",
     "output_type": "stream",
     "text": [
      "100%|██████████| 30/30 [00:01<00:00, 17.20it/s]\n"
     ]
    },
    {
     "name": "stdout",
     "output_type": "stream",
     "text": [
      "(30, 241, 32, 32)\n",
      "T=15, alpha=0.8, NF=10, sigma=0\n",
      "Running GCN\n",
      "241\n",
      "\n",
      "===================================================================================\n",
      "\n"
     ]
    },
    {
     "name": "stderr",
     "output_type": "stream",
     "text": [
      "100%|██████████| 89/89 [00:04<00:00, 20.41it/s]\n"
     ]
    },
    {
     "name": "stdout",
     "output_type": "stream",
     "text": [
      "TRAIN: epoch = 1, loss = 0.646, accuracy = 0.708, f1 = 0.638\n",
      "TEST: loss = 0.646, accuracy = 0.633, f1 = 0.46\n",
      "--------------------------------------------------\n"
     ]
    },
    {
     "name": "stderr",
     "output_type": "stream",
     "text": [
      "100%|██████████| 89/89 [00:04<00:00, 19.81it/s]\n"
     ]
    },
    {
     "name": "stdout",
     "output_type": "stream",
     "text": [
      "TRAIN: epoch = 2, loss = 0.589, accuracy = 0.73, f1 = 0.681\n",
      "TEST: loss = 0.635, accuracy = 0.667, f1 = 0.534\n",
      "--------------------------------------------------\n"
     ]
    },
    {
     "name": "stderr",
     "output_type": "stream",
     "text": [
      "100%|██████████| 89/89 [00:04<00:00, 19.90it/s]\n"
     ]
    },
    {
     "name": "stdout",
     "output_type": "stream",
     "text": [
      "TRAIN: epoch = 3, loss = 0.513, accuracy = 0.831, f1 = 0.803\n",
      "TEST: loss = 0.617, accuracy = 0.7, f1 = 0.6\n",
      "--------------------------------------------------\n"
     ]
    },
    {
     "name": "stderr",
     "output_type": "stream",
     "text": [
      "100%|██████████| 89/89 [00:05<00:00, 17.72it/s]\n"
     ]
    },
    {
     "name": "stdout",
     "output_type": "stream",
     "text": [
      "TRAIN: epoch = 4, loss = 0.461, accuracy = 0.854, f1 = 0.832\n",
      "TEST: loss = 0.609, accuracy = 0.667, f1 = 0.574\n",
      "--------------------------------------------------\n"
     ]
    },
    {
     "name": "stderr",
     "output_type": "stream",
     "text": [
      "100%|██████████| 89/89 [00:05<00:00, 17.14it/s]\n"
     ]
    },
    {
     "name": "stdout",
     "output_type": "stream",
     "text": [
      "TRAIN: epoch = 5, loss = 0.398, accuracy = 0.888, f1 = 0.874\n",
      "TEST: loss = 0.6, accuracy = 0.667, f1 = 0.603\n",
      "--------------------------------------------------\n"
     ]
    },
    {
     "name": "stderr",
     "output_type": "stream",
     "text": [
      "100%|██████████| 89/89 [00:04<00:00, 19.50it/s]\n"
     ]
    },
    {
     "name": "stdout",
     "output_type": "stream",
     "text": [
      "TRAIN: epoch = 6, loss = 0.341, accuracy = 0.921, f1 = 0.914\n",
      "TEST: loss = 0.593, accuracy = 0.667, f1 = 0.625\n",
      "--------------------------------------------------\n"
     ]
    },
    {
     "name": "stderr",
     "output_type": "stream",
     "text": [
      "100%|██████████| 89/89 [00:10<00:00,  8.55it/s]\n"
     ]
    },
    {
     "name": "stdout",
     "output_type": "stream",
     "text": [
      "TRAIN: epoch = 7, loss = 0.274, accuracy = 0.933, f1 = 0.927\n",
      "TEST: loss = 0.589, accuracy = 0.7, f1 = 0.67\n",
      "--------------------------------------------------\n"
     ]
    },
    {
     "name": "stderr",
     "output_type": "stream",
     "text": [
      "100%|██████████| 89/89 [00:04<00:00, 18.13it/s]\n"
     ]
    },
    {
     "name": "stdout",
     "output_type": "stream",
     "text": [
      "TRAIN: epoch = 8, loss = 0.258, accuracy = 0.91, f1 = 0.899\n",
      "TEST: loss = 0.587, accuracy = 0.7, f1 = 0.67\n",
      "--------------------------------------------------\n"
     ]
    },
    {
     "name": "stderr",
     "output_type": "stream",
     "text": [
      "100%|██████████| 89/89 [00:04<00:00, 18.88it/s]\n"
     ]
    },
    {
     "name": "stdout",
     "output_type": "stream",
     "text": [
      "TRAIN: epoch = 9, loss = 0.191, accuracy = 0.989, f1 = 0.988\n",
      "TEST: loss = 0.596, accuracy = 0.7, f1 = 0.67\n",
      "--------------------------------------------------\n"
     ]
    },
    {
     "name": "stderr",
     "output_type": "stream",
     "text": [
      "100%|██████████| 89/89 [00:11<00:00,  7.84it/s]\n"
     ]
    },
    {
     "name": "stdout",
     "output_type": "stream",
     "text": [
      "TRAIN: epoch = 10, loss = 0.18, accuracy = 0.978, f1 = 0.976\n",
      "TEST: loss = 0.611, accuracy = 0.633, f1 = 0.576\n",
      "--------------------------------------------------\n",
      "\n",
      "===================================================================================\n",
      "\n",
      "Running GRAND\n",
      "241\n",
      "\n",
      "===================================================================================\n",
      "\n"
     ]
    },
    {
     "name": "stderr",
     "output_type": "stream",
     "text": [
      "  0%|          | 0/89 [00:00<?, ?it/s]/home/xdoni4/miniconda3/envs/m1p/lib/python3.9/site-packages/torchdiffeq/_impl/misc.py:11: UserWarning: Dopri5Solver: Unexpected arguments {'step_size': 1, 'max_iters': 100}\n",
      "  warnings.warn('{}: Unexpected arguments {}'.format(solver.__class__.__name__, unused_kwargs))\n",
      "100%|██████████| 89/89 [10:35<00:00,  7.14s/it]\n"
     ]
    },
    {
     "name": "stdout",
     "output_type": "stream",
     "text": [
      "TRAIN: epoch = 1, loss = 0.683, accuracy = 0.551, f1 = 0.551\n"
     ]
    },
    {
     "name": "stderr",
     "output_type": "stream",
     "text": [
      "/home/xdoni4/miniconda3/envs/m1p/lib/python3.9/site-packages/torchdiffeq/_impl/misc.py:11: UserWarning: Dopri5Solver: Unexpected arguments {'step_size': 1, 'max_iters': 100}\n",
      "  warnings.warn('{}: Unexpected arguments {}'.format(solver.__class__.__name__, unused_kwargs))\n"
     ]
    },
    {
     "name": "stdout",
     "output_type": "stream",
     "text": [
      "TEST: loss = 0.668, accuracy = 0.633, f1 = 0.576\n",
      "--------------------------------------------------\n"
     ]
    },
    {
     "name": "stderr",
     "output_type": "stream",
     "text": [
      "  0%|          | 0/89 [00:00<?, ?it/s]/home/xdoni4/miniconda3/envs/m1p/lib/python3.9/site-packages/torchdiffeq/_impl/misc.py:11: UserWarning: Dopri5Solver: Unexpected arguments {'step_size': 1, 'max_iters': 100}\n",
      "  warnings.warn('{}: Unexpected arguments {}'.format(solver.__class__.__name__, unused_kwargs))\n",
      "100%|██████████| 89/89 [12:15<00:00,  8.26s/it]\n"
     ]
    },
    {
     "name": "stdout",
     "output_type": "stream",
     "text": [
      "TRAIN: epoch = 2, loss = 0.619, accuracy = 0.742, f1 = 0.691\n"
     ]
    },
    {
     "name": "stderr",
     "output_type": "stream",
     "text": [
      "/home/xdoni4/miniconda3/envs/m1p/lib/python3.9/site-packages/torchdiffeq/_impl/misc.py:11: UserWarning: Dopri5Solver: Unexpected arguments {'step_size': 1, 'max_iters': 100}\n",
      "  warnings.warn('{}: Unexpected arguments {}'.format(solver.__class__.__name__, unused_kwargs))\n"
     ]
    },
    {
     "name": "stdout",
     "output_type": "stream",
     "text": [
      "TEST: loss = 0.634, accuracy = 0.633, f1 = 0.46\n",
      "--------------------------------------------------\n"
     ]
    },
    {
     "name": "stderr",
     "output_type": "stream",
     "text": [
      "  0%|          | 0/89 [00:00<?, ?it/s]/home/xdoni4/miniconda3/envs/m1p/lib/python3.9/site-packages/torchdiffeq/_impl/misc.py:11: UserWarning: Dopri5Solver: Unexpected arguments {'step_size': 1, 'max_iters': 100}\n",
      "  warnings.warn('{}: Unexpected arguments {}'.format(solver.__class__.__name__, unused_kwargs))\n",
      "100%|██████████| 89/89 [11:18<00:00,  7.62s/it]\n"
     ]
    },
    {
     "name": "stdout",
     "output_type": "stream",
     "text": [
      "TRAIN: epoch = 3, loss = 0.543, accuracy = 0.787, f1 = 0.75\n"
     ]
    },
    {
     "name": "stderr",
     "output_type": "stream",
     "text": [
      "/home/xdoni4/miniconda3/envs/m1p/lib/python3.9/site-packages/torchdiffeq/_impl/misc.py:11: UserWarning: Dopri5Solver: Unexpected arguments {'step_size': 1, 'max_iters': 100}\n",
      "  warnings.warn('{}: Unexpected arguments {}'.format(solver.__class__.__name__, unused_kwargs))\n"
     ]
    },
    {
     "name": "stdout",
     "output_type": "stream",
     "text": [
      "TEST: loss = 0.614, accuracy = 0.667, f1 = 0.534\n",
      "--------------------------------------------------\n",
      "\n",
      "===================================================================================\n",
      "\n",
      "Running BLEND\n",
      "241\n",
      "\n",
      "===================================================================================\n",
      "\n",
      "[i] Looking for positional encodings in /home/xdoni4/m1p/graph-neural-pde/data/pos_encodings/Cora_GDC.pkl...\n",
      "    Found them! Loading cached version\n",
      "[i] Looking for positional encodings in /home/xdoni4/m1p/graph-neural-pde/data/pos_encodings/Cora_GDC.pkl...\n",
      "    Found them! Loading cached version\n",
      "[i] Looking for positional encodings in /home/xdoni4/m1p/graph-neural-pde/data/pos_encodings/Cora_GDC.pkl...\n",
      "    Found them! Loading cached version\n",
      "[i] Looking for positional encodings in /home/xdoni4/m1p/graph-neural-pde/data/pos_encodings/Cora_GDC.pkl...\n",
      "    Found them! Loading cached version\n",
      "[i] Looking for positional encodings in /home/xdoni4/m1p/graph-neural-pde/data/pos_encodings/Cora_GDC.pkl...\n",
      "    Found them! Loading cached version\n",
      "[i] Looking for positional encodings in /home/xdoni4/m1p/graph-neural-pde/data/pos_encodings/Cora_GDC.pkl...\n",
      "    Found them! Loading cached version\n",
      "[i] Looking for positional encodings in /home/xdoni4/m1p/graph-neural-pde/data/pos_encodings/Cora_GDC.pkl...\n",
      "    Found them! Loading cached version\n",
      "[i] Looking for positional encodings in /home/xdoni4/m1p/graph-neural-pde/data/pos_encodings/Cora_GDC.pkl...\n",
      "    Found them! Loading cached version\n",
      "[i] Looking for positional encodings in /home/xdoni4/m1p/graph-neural-pde/data/pos_encodings/Cora_GDC.pkl...\n",
      "    Found them! Loading cached version\n",
      "[i] Looking for positional encodings in /home/xdoni4/m1p/graph-neural-pde/data/pos_encodings/Cora_GDC.pkl...\n",
      "    Found them! Loading cached version\n",
      "[i] Looking for positional encodings in /home/xdoni4/m1p/graph-neural-pde/data/pos_encodings/Cora_GDC.pkl...\n",
      "    Found them! Loading cached version\n",
      "[i] Looking for positional encodings in /home/xdoni4/m1p/graph-neural-pde/data/pos_encodings/Cora_GDC.pkl...\n",
      "    Found them! Loading cached version\n",
      "[i] Looking for positional encodings in /home/xdoni4/m1p/graph-neural-pde/data/pos_encodings/Cora_GDC.pkl...\n",
      "    Found them! Loading cached version\n",
      "[i] Looking for positional encodings in /home/xdoni4/m1p/graph-neural-pde/data/pos_encodings/Cora_GDC.pkl...\n",
      "    Found them! Loading cached version\n",
      "[i] Looking for positional encodings in /home/xdoni4/m1p/graph-neural-pde/data/pos_encodings/Cora_GDC.pkl...\n",
      "    Found them! Loading cached version\n",
      "[i] Looking for positional encodings in /home/xdoni4/m1p/graph-neural-pde/data/pos_encodings/Cora_GDC.pkl...\n",
      "    Found them! Loading cached version\n",
      "[i] Looking for positional encodings in /home/xdoni4/m1p/graph-neural-pde/data/pos_encodings/Cora_GDC.pkl...\n",
      "    Found them! Loading cached version\n",
      "[i] Looking for positional encodings in /home/xdoni4/m1p/graph-neural-pde/data/pos_encodings/Cora_GDC.pkl...\n",
      "    Found them! Loading cached version\n",
      "[i] Looking for positional encodings in /home/xdoni4/m1p/graph-neural-pde/data/pos_encodings/Cora_GDC.pkl...\n",
      "    Found them! Loading cached version\n",
      "[i] Looking for positional encodings in /home/xdoni4/m1p/graph-neural-pde/data/pos_encodings/Cora_GDC.pkl...\n",
      "    Found them! Loading cached version\n",
      "[i] Looking for positional encodings in /home/xdoni4/m1p/graph-neural-pde/data/pos_encodings/Cora_GDC.pkl...\n",
      "    Found them! Loading cached version\n",
      "[i] Looking for positional encodings in /home/xdoni4/m1p/graph-neural-pde/data/pos_encodings/Cora_GDC.pkl...\n",
      "    Found them! Loading cached version\n",
      "[i] Looking for positional encodings in /home/xdoni4/m1p/graph-neural-pde/data/pos_encodings/Cora_GDC.pkl...\n",
      "    Found them! Loading cached version\n",
      "[i] Looking for positional encodings in /home/xdoni4/m1p/graph-neural-pde/data/pos_encodings/Cora_GDC.pkl...\n",
      "    Found them! Loading cached version\n",
      "[i] Looking for positional encodings in /home/xdoni4/m1p/graph-neural-pde/data/pos_encodings/Cora_GDC.pkl...\n",
      "    Found them! Loading cached version\n",
      "[i] Looking for positional encodings in /home/xdoni4/m1p/graph-neural-pde/data/pos_encodings/Cora_GDC.pkl...\n",
      "    Found them! Loading cached version\n",
      "[i] Looking for positional encodings in /home/xdoni4/m1p/graph-neural-pde/data/pos_encodings/Cora_GDC.pkl...\n",
      "    Found them! Loading cached version\n",
      "[i] Looking for positional encodings in /home/xdoni4/m1p/graph-neural-pde/data/pos_encodings/Cora_GDC.pkl...\n",
      "    Found them! Loading cached version\n",
      "[i] Looking for positional encodings in /home/xdoni4/m1p/graph-neural-pde/data/pos_encodings/Cora_GDC.pkl...\n",
      "    Found them! Loading cached version\n",
      "[i] Looking for positional encodings in /home/xdoni4/m1p/graph-neural-pde/data/pos_encodings/Cora_GDC.pkl...\n",
      "    Found them! Loading cached version\n",
      "[i] Looking for positional encodings in /home/xdoni4/m1p/graph-neural-pde/data/pos_encodings/Cora_GDC.pkl...\n",
      "    Found them! Loading cached version\n",
      "[i] Looking for positional encodings in /home/xdoni4/m1p/graph-neural-pde/data/pos_encodings/Cora_GDC.pkl...\n",
      "    Found them! Loading cached version\n",
      "[i] Looking for positional encodings in /home/xdoni4/m1p/graph-neural-pde/data/pos_encodings/Cora_GDC.pkl...\n",
      "    Found them! Loading cached version\n",
      "[i] Looking for positional encodings in /home/xdoni4/m1p/graph-neural-pde/data/pos_encodings/Cora_GDC.pkl...\n",
      "    Found them! Loading cached version\n",
      "[i] Looking for positional encodings in /home/xdoni4/m1p/graph-neural-pde/data/pos_encodings/Cora_GDC.pkl...\n",
      "    Found them! Loading cached version\n",
      "[i] Looking for positional encodings in /home/xdoni4/m1p/graph-neural-pde/data/pos_encodings/Cora_GDC.pkl...\n",
      "    Found them! Loading cached version\n",
      "[i] Looking for positional encodings in /home/xdoni4/m1p/graph-neural-pde/data/pos_encodings/Cora_GDC.pkl...\n",
      "    Found them! Loading cached version\n",
      "[i] Looking for positional encodings in /home/xdoni4/m1p/graph-neural-pde/data/pos_encodings/Cora_GDC.pkl...\n",
      "    Found them! Loading cached version\n",
      "[i] Looking for positional encodings in /home/xdoni4/m1p/graph-neural-pde/data/pos_encodings/Cora_GDC.pkl...\n",
      "    Found them! Loading cached version\n",
      "[i] Looking for positional encodings in /home/xdoni4/m1p/graph-neural-pde/data/pos_encodings/Cora_GDC.pkl...\n",
      "    Found them! Loading cached version\n",
      "[i] Looking for positional encodings in /home/xdoni4/m1p/graph-neural-pde/data/pos_encodings/Cora_GDC.pkl...\n",
      "    Found them! Loading cached version\n",
      "[i] Looking for positional encodings in /home/xdoni4/m1p/graph-neural-pde/data/pos_encodings/Cora_GDC.pkl...\n",
      "    Found them! Loading cached version\n",
      "[i] Looking for positional encodings in /home/xdoni4/m1p/graph-neural-pde/data/pos_encodings/Cora_GDC.pkl...\n",
      "    Found them! Loading cached version\n",
      "[i] Looking for positional encodings in /home/xdoni4/m1p/graph-neural-pde/data/pos_encodings/Cora_GDC.pkl...\n",
      "    Found them! Loading cached version\n",
      "[i] Looking for positional encodings in /home/xdoni4/m1p/graph-neural-pde/data/pos_encodings/Cora_GDC.pkl...\n",
      "    Found them! Loading cached version\n",
      "[i] Looking for positional encodings in /home/xdoni4/m1p/graph-neural-pde/data/pos_encodings/Cora_GDC.pkl...\n",
      "    Found them! Loading cached version\n",
      "[i] Looking for positional encodings in /home/xdoni4/m1p/graph-neural-pde/data/pos_encodings/Cora_GDC.pkl...\n",
      "    Found them! Loading cached version\n",
      "[i] Looking for positional encodings in /home/xdoni4/m1p/graph-neural-pde/data/pos_encodings/Cora_GDC.pkl...\n",
      "    Found them! Loading cached version\n",
      "[i] Looking for positional encodings in /home/xdoni4/m1p/graph-neural-pde/data/pos_encodings/Cora_GDC.pkl...\n",
      "    Found them! Loading cached version\n",
      "[i] Looking for positional encodings in /home/xdoni4/m1p/graph-neural-pde/data/pos_encodings/Cora_GDC.pkl...\n",
      "    Found them! Loading cached version\n",
      "[i] Looking for positional encodings in /home/xdoni4/m1p/graph-neural-pde/data/pos_encodings/Cora_GDC.pkl...\n",
      "    Found them! Loading cached version\n",
      "[i] Looking for positional encodings in /home/xdoni4/m1p/graph-neural-pde/data/pos_encodings/Cora_GDC.pkl...\n",
      "    Found them! Loading cached version\n",
      "[i] Looking for positional encodings in /home/xdoni4/m1p/graph-neural-pde/data/pos_encodings/Cora_GDC.pkl...\n",
      "    Found them! Loading cached version\n",
      "[i] Looking for positional encodings in /home/xdoni4/m1p/graph-neural-pde/data/pos_encodings/Cora_GDC.pkl...\n",
      "    Found them! Loading cached version\n",
      "[i] Looking for positional encodings in /home/xdoni4/m1p/graph-neural-pde/data/pos_encodings/Cora_GDC.pkl...\n",
      "    Found them! Loading cached version\n",
      "[i] Looking for positional encodings in /home/xdoni4/m1p/graph-neural-pde/data/pos_encodings/Cora_GDC.pkl...\n",
      "    Found them! Loading cached version\n",
      "[i] Looking for positional encodings in /home/xdoni4/m1p/graph-neural-pde/data/pos_encodings/Cora_GDC.pkl...\n",
      "    Found them! Loading cached version\n",
      "[i] Looking for positional encodings in /home/xdoni4/m1p/graph-neural-pde/data/pos_encodings/Cora_GDC.pkl...\n",
      "    Found them! Loading cached version\n",
      "[i] Looking for positional encodings in /home/xdoni4/m1p/graph-neural-pde/data/pos_encodings/Cora_GDC.pkl...\n",
      "    Found them! Loading cached version\n",
      "[i] Looking for positional encodings in /home/xdoni4/m1p/graph-neural-pde/data/pos_encodings/Cora_GDC.pkl...\n",
      "    Found them! Loading cached version\n",
      "[i] Looking for positional encodings in /home/xdoni4/m1p/graph-neural-pde/data/pos_encodings/Cora_GDC.pkl...\n",
      "    Found them! Loading cached version\n",
      "[i] Looking for positional encodings in /home/xdoni4/m1p/graph-neural-pde/data/pos_encodings/Cora_GDC.pkl...\n",
      "    Found them! Loading cached version\n",
      "[i] Looking for positional encodings in /home/xdoni4/m1p/graph-neural-pde/data/pos_encodings/Cora_GDC.pkl...\n",
      "    Found them! Loading cached version\n",
      "[i] Looking for positional encodings in /home/xdoni4/m1p/graph-neural-pde/data/pos_encodings/Cora_GDC.pkl...\n",
      "    Found them! Loading cached version\n",
      "[i] Looking for positional encodings in /home/xdoni4/m1p/graph-neural-pde/data/pos_encodings/Cora_GDC.pkl...\n",
      "    Found them! Loading cached version\n",
      "[i] Looking for positional encodings in /home/xdoni4/m1p/graph-neural-pde/data/pos_encodings/Cora_GDC.pkl...\n",
      "    Found them! Loading cached version\n",
      "[i] Looking for positional encodings in /home/xdoni4/m1p/graph-neural-pde/data/pos_encodings/Cora_GDC.pkl...\n",
      "    Found them! Loading cached version\n",
      "[i] Looking for positional encodings in /home/xdoni4/m1p/graph-neural-pde/data/pos_encodings/Cora_GDC.pkl...\n",
      "    Found them! Loading cached version\n",
      "[i] Looking for positional encodings in /home/xdoni4/m1p/graph-neural-pde/data/pos_encodings/Cora_GDC.pkl...\n",
      "    Found them! Loading cached version\n",
      "[i] Looking for positional encodings in /home/xdoni4/m1p/graph-neural-pde/data/pos_encodings/Cora_GDC.pkl...\n",
      "    Found them! Loading cached version\n",
      "[i] Looking for positional encodings in /home/xdoni4/m1p/graph-neural-pde/data/pos_encodings/Cora_GDC.pkl...\n",
      "    Found them! Loading cached version\n",
      "[i] Looking for positional encodings in /home/xdoni4/m1p/graph-neural-pde/data/pos_encodings/Cora_GDC.pkl...\n",
      "    Found them! Loading cached version\n",
      "[i] Looking for positional encodings in /home/xdoni4/m1p/graph-neural-pde/data/pos_encodings/Cora_GDC.pkl...\n",
      "    Found them! Loading cached version\n",
      "[i] Looking for positional encodings in /home/xdoni4/m1p/graph-neural-pde/data/pos_encodings/Cora_GDC.pkl...\n",
      "    Found them! Loading cached version\n",
      "[i] Looking for positional encodings in /home/xdoni4/m1p/graph-neural-pde/data/pos_encodings/Cora_GDC.pkl...\n",
      "    Found them! Loading cached version\n",
      "[i] Looking for positional encodings in /home/xdoni4/m1p/graph-neural-pde/data/pos_encodings/Cora_GDC.pkl...\n",
      "    Found them! Loading cached version\n",
      "[i] Looking for positional encodings in /home/xdoni4/m1p/graph-neural-pde/data/pos_encodings/Cora_GDC.pkl...\n",
      "    Found them! Loading cached version\n",
      "[i] Looking for positional encodings in /home/xdoni4/m1p/graph-neural-pde/data/pos_encodings/Cora_GDC.pkl...\n",
      "    Found them! Loading cached version\n",
      "[i] Looking for positional encodings in /home/xdoni4/m1p/graph-neural-pde/data/pos_encodings/Cora_GDC.pkl...\n",
      "    Found them! Loading cached version\n",
      "[i] Looking for positional encodings in /home/xdoni4/m1p/graph-neural-pde/data/pos_encodings/Cora_GDC.pkl...\n",
      "    Found them! Loading cached version\n",
      "[i] Looking for positional encodings in /home/xdoni4/m1p/graph-neural-pde/data/pos_encodings/Cora_GDC.pkl...\n",
      "    Found them! Loading cached version\n",
      "[i] Looking for positional encodings in /home/xdoni4/m1p/graph-neural-pde/data/pos_encodings/Cora_GDC.pkl...\n",
      "    Found them! Loading cached version\n",
      "[i] Looking for positional encodings in /home/xdoni4/m1p/graph-neural-pde/data/pos_encodings/Cora_GDC.pkl...\n",
      "    Found them! Loading cached version\n",
      "[i] Looking for positional encodings in /home/xdoni4/m1p/graph-neural-pde/data/pos_encodings/Cora_GDC.pkl...\n",
      "    Found them! Loading cached version\n",
      "[i] Looking for positional encodings in /home/xdoni4/m1p/graph-neural-pde/data/pos_encodings/Cora_GDC.pkl...\n",
      "    Found them! Loading cached version\n",
      "[i] Looking for positional encodings in /home/xdoni4/m1p/graph-neural-pde/data/pos_encodings/Cora_GDC.pkl...\n",
      "    Found them! Loading cached version\n",
      "[i] Looking for positional encodings in /home/xdoni4/m1p/graph-neural-pde/data/pos_encodings/Cora_GDC.pkl...\n",
      "    Found them! Loading cached version\n",
      "[i] Looking for positional encodings in /home/xdoni4/m1p/graph-neural-pde/data/pos_encodings/Cora_GDC.pkl...\n",
      "    Found them! Loading cached version\n",
      "[i] Looking for positional encodings in /home/xdoni4/m1p/graph-neural-pde/data/pos_encodings/Cora_GDC.pkl...\n",
      "    Found them! Loading cached version\n",
      "[i] Looking for positional encodings in /home/xdoni4/m1p/graph-neural-pde/data/pos_encodings/Cora_GDC.pkl...\n",
      "    Found them! Loading cached version\n",
      "[i] Looking for positional encodings in /home/xdoni4/m1p/graph-neural-pde/data/pos_encodings/Cora_GDC.pkl...\n",
      "    Found them! Loading cached version\n",
      "[i] Looking for positional encodings in /home/xdoni4/m1p/graph-neural-pde/data/pos_encodings/Cora_GDC.pkl...\n",
      "    Found them! Loading cached version\n",
      "[i] Looking for positional encodings in /home/xdoni4/m1p/graph-neural-pde/data/pos_encodings/Cora_GDC.pkl...\n",
      "    Found them! Loading cached version\n",
      "[i] Looking for positional encodings in /home/xdoni4/m1p/graph-neural-pde/data/pos_encodings/Cora_GDC.pkl...\n",
      "    Found them! Loading cached version\n",
      "[i] Looking for positional encodings in /home/xdoni4/m1p/graph-neural-pde/data/pos_encodings/Cora_GDC.pkl...\n",
      "    Found them! Loading cached version\n",
      "[i] Looking for positional encodings in /home/xdoni4/m1p/graph-neural-pde/data/pos_encodings/Cora_GDC.pkl...\n",
      "    Found them! Loading cached version\n",
      "[i] Looking for positional encodings in /home/xdoni4/m1p/graph-neural-pde/data/pos_encodings/Cora_GDC.pkl...\n",
      "    Found them! Loading cached version\n",
      "[i] Looking for positional encodings in /home/xdoni4/m1p/graph-neural-pde/data/pos_encodings/Cora_GDC.pkl...\n",
      "    Found them! Loading cached version\n",
      "[i] Looking for positional encodings in /home/xdoni4/m1p/graph-neural-pde/data/pos_encodings/Cora_GDC.pkl...\n",
      "    Found them! Loading cached version\n",
      "[i] Looking for positional encodings in /home/xdoni4/m1p/graph-neural-pde/data/pos_encodings/Cora_GDC.pkl...\n",
      "    Found them! Loading cached version\n",
      "[i] Looking for positional encodings in /home/xdoni4/m1p/graph-neural-pde/data/pos_encodings/Cora_GDC.pkl...\n",
      "    Found them! Loading cached version\n",
      "[i] Looking for positional encodings in /home/xdoni4/m1p/graph-neural-pde/data/pos_encodings/Cora_GDC.pkl...\n",
      "    Found them! Loading cached version\n",
      "[i] Looking for positional encodings in /home/xdoni4/m1p/graph-neural-pde/data/pos_encodings/Cora_GDC.pkl...\n",
      "    Found them! Loading cached version\n",
      "[i] Looking for positional encodings in /home/xdoni4/m1p/graph-neural-pde/data/pos_encodings/Cora_GDC.pkl...\n",
      "    Found them! Loading cached version\n",
      "[i] Looking for positional encodings in /home/xdoni4/m1p/graph-neural-pde/data/pos_encodings/Cora_GDC.pkl...\n",
      "    Found them! Loading cached version\n",
      "[i] Looking for positional encodings in /home/xdoni4/m1p/graph-neural-pde/data/pos_encodings/Cora_GDC.pkl...\n",
      "    Found them! Loading cached version\n",
      "[i] Looking for positional encodings in /home/xdoni4/m1p/graph-neural-pde/data/pos_encodings/Cora_GDC.pkl...\n",
      "    Found them! Loading cached version\n",
      "[i] Looking for positional encodings in /home/xdoni4/m1p/graph-neural-pde/data/pos_encodings/Cora_GDC.pkl...\n",
      "    Found them! Loading cached version\n",
      "[i] Looking for positional encodings in /home/xdoni4/m1p/graph-neural-pde/data/pos_encodings/Cora_GDC.pkl...\n",
      "    Found them! Loading cached version\n",
      "[i] Looking for positional encodings in /home/xdoni4/m1p/graph-neural-pde/data/pos_encodings/Cora_GDC.pkl...\n",
      "    Found them! Loading cached version\n",
      "[i] Looking for positional encodings in /home/xdoni4/m1p/graph-neural-pde/data/pos_encodings/Cora_GDC.pkl...\n",
      "    Found them! Loading cached version\n",
      "[i] Looking for positional encodings in /home/xdoni4/m1p/graph-neural-pde/data/pos_encodings/Cora_GDC.pkl...\n",
      "    Found them! Loading cached version\n",
      "[i] Looking for positional encodings in /home/xdoni4/m1p/graph-neural-pde/data/pos_encodings/Cora_GDC.pkl...\n",
      "    Found them! Loading cached version\n",
      "[i] Looking for positional encodings in /home/xdoni4/m1p/graph-neural-pde/data/pos_encodings/Cora_GDC.pkl...\n",
      "    Found them! Loading cached version\n",
      "[i] Looking for positional encodings in /home/xdoni4/m1p/graph-neural-pde/data/pos_encodings/Cora_GDC.pkl...\n",
      "    Found them! Loading cached version\n",
      "[i] Looking for positional encodings in /home/xdoni4/m1p/graph-neural-pde/data/pos_encodings/Cora_GDC.pkl...\n",
      "    Found them! Loading cached version\n",
      "[i] Looking for positional encodings in /home/xdoni4/m1p/graph-neural-pde/data/pos_encodings/Cora_GDC.pkl...\n",
      "    Found them! Loading cached version\n",
      "[i] Looking for positional encodings in /home/xdoni4/m1p/graph-neural-pde/data/pos_encodings/Cora_GDC.pkl...\n",
      "    Found them! Loading cached version\n",
      "[i] Looking for positional encodings in /home/xdoni4/m1p/graph-neural-pde/data/pos_encodings/Cora_GDC.pkl...\n",
      "    Found them! Loading cached version\n",
      "[i] Looking for positional encodings in /home/xdoni4/m1p/graph-neural-pde/data/pos_encodings/Cora_GDC.pkl...\n",
      "    Found them! Loading cached version\n",
      "[i] Looking for positional encodings in /home/xdoni4/m1p/graph-neural-pde/data/pos_encodings/Cora_GDC.pkl...\n",
      "    Found them! Loading cached version\n",
      "[i] Looking for positional encodings in /home/xdoni4/m1p/graph-neural-pde/data/pos_encodings/Cora_GDC.pkl...\n",
      "    Found them! Loading cached version\n",
      "[i] Looking for positional encodings in /home/xdoni4/m1p/graph-neural-pde/data/pos_encodings/Cora_GDC.pkl...\n",
      "    Found them! Loading cached version\n",
      "[i] Looking for positional encodings in /home/xdoni4/m1p/graph-neural-pde/data/pos_encodings/Cora_GDC.pkl...\n",
      "    Found them! Loading cached version\n",
      "[i] Looking for positional encodings in /home/xdoni4/m1p/graph-neural-pde/data/pos_encodings/Cora_GDC.pkl...\n",
      "    Found them! Loading cached version\n",
      "[i] Looking for positional encodings in /home/xdoni4/m1p/graph-neural-pde/data/pos_encodings/Cora_GDC.pkl...\n",
      "    Found them! Loading cached version\n",
      "[i] Looking for positional encodings in /home/xdoni4/m1p/graph-neural-pde/data/pos_encodings/Cora_GDC.pkl...\n",
      "    Found them! Loading cached version\n",
      "[i] Looking for positional encodings in /home/xdoni4/m1p/graph-neural-pde/data/pos_encodings/Cora_GDC.pkl...\n",
      "    Found them! Loading cached version\n",
      "[i] Looking for positional encodings in /home/xdoni4/m1p/graph-neural-pde/data/pos_encodings/Cora_GDC.pkl...\n",
      "    Found them! Loading cached version\n",
      "[i] Looking for positional encodings in /home/xdoni4/m1p/graph-neural-pde/data/pos_encodings/Cora_GDC.pkl...\n",
      "    Found them! Loading cached version\n",
      "[i] Looking for positional encodings in /home/xdoni4/m1p/graph-neural-pde/data/pos_encodings/Cora_GDC.pkl...\n",
      "    Found them! Loading cached version\n",
      "[i] Looking for positional encodings in /home/xdoni4/m1p/graph-neural-pde/data/pos_encodings/Cora_GDC.pkl...\n",
      "    Found them! Loading cached version\n",
      "[i] Looking for positional encodings in /home/xdoni4/m1p/graph-neural-pde/data/pos_encodings/Cora_GDC.pkl...\n",
      "    Found them! Loading cached version\n",
      "[i] Looking for positional encodings in /home/xdoni4/m1p/graph-neural-pde/data/pos_encodings/Cora_GDC.pkl...\n",
      "    Found them! Loading cached version\n",
      "[i] Looking for positional encodings in /home/xdoni4/m1p/graph-neural-pde/data/pos_encodings/Cora_GDC.pkl...\n",
      "    Found them! Loading cached version\n",
      "[i] Looking for positional encodings in /home/xdoni4/m1p/graph-neural-pde/data/pos_encodings/Cora_GDC.pkl...\n",
      "    Found them! Loading cached version\n",
      "[i] Looking for positional encodings in /home/xdoni4/m1p/graph-neural-pde/data/pos_encodings/Cora_GDC.pkl...\n",
      "    Found them! Loading cached version\n",
      "[i] Looking for positional encodings in /home/xdoni4/m1p/graph-neural-pde/data/pos_encodings/Cora_GDC.pkl...\n",
      "    Found them! Loading cached version\n",
      "[i] Looking for positional encodings in /home/xdoni4/m1p/graph-neural-pde/data/pos_encodings/Cora_GDC.pkl...\n",
      "    Found them! Loading cached version\n",
      "[i] Looking for positional encodings in /home/xdoni4/m1p/graph-neural-pde/data/pos_encodings/Cora_GDC.pkl...\n",
      "    Found them! Loading cached version\n",
      "[i] Looking for positional encodings in /home/xdoni4/m1p/graph-neural-pde/data/pos_encodings/Cora_GDC.pkl...\n",
      "    Found them! Loading cached version\n",
      "[i] Looking for positional encodings in /home/xdoni4/m1p/graph-neural-pde/data/pos_encodings/Cora_GDC.pkl...\n",
      "    Found them! Loading cached version\n",
      "[i] Looking for positional encodings in /home/xdoni4/m1p/graph-neural-pde/data/pos_encodings/Cora_GDC.pkl...\n",
      "    Found them! Loading cached version\n",
      "[i] Looking for positional encodings in /home/xdoni4/m1p/graph-neural-pde/data/pos_encodings/Cora_GDC.pkl...\n",
      "    Found them! Loading cached version\n",
      "[i] Looking for positional encodings in /home/xdoni4/m1p/graph-neural-pde/data/pos_encodings/Cora_GDC.pkl...\n",
      "    Found them! Loading cached version\n",
      "[i] Looking for positional encodings in /home/xdoni4/m1p/graph-neural-pde/data/pos_encodings/Cora_GDC.pkl...\n",
      "    Found them! Loading cached version\n",
      "[i] Looking for positional encodings in /home/xdoni4/m1p/graph-neural-pde/data/pos_encodings/Cora_GDC.pkl...\n",
      "    Found them! Loading cached version\n",
      "[i] Looking for positional encodings in /home/xdoni4/m1p/graph-neural-pde/data/pos_encodings/Cora_GDC.pkl...\n",
      "    Found them! Loading cached version\n",
      "[i] Looking for positional encodings in /home/xdoni4/m1p/graph-neural-pde/data/pos_encodings/Cora_GDC.pkl...\n",
      "    Found them! Loading cached version\n",
      "[i] Looking for positional encodings in /home/xdoni4/m1p/graph-neural-pde/data/pos_encodings/Cora_GDC.pkl...\n",
      "    Found them! Loading cached version\n",
      "[i] Looking for positional encodings in /home/xdoni4/m1p/graph-neural-pde/data/pos_encodings/Cora_GDC.pkl...\n",
      "    Found them! Loading cached version\n",
      "[i] Looking for positional encodings in /home/xdoni4/m1p/graph-neural-pde/data/pos_encodings/Cora_GDC.pkl...\n",
      "    Found them! Loading cached version\n",
      "[i] Looking for positional encodings in /home/xdoni4/m1p/graph-neural-pde/data/pos_encodings/Cora_GDC.pkl...\n",
      "    Found them! Loading cached version\n",
      "[i] Looking for positional encodings in /home/xdoni4/m1p/graph-neural-pde/data/pos_encodings/Cora_GDC.pkl...\n",
      "    Found them! Loading cached version\n",
      "[i] Looking for positional encodings in /home/xdoni4/m1p/graph-neural-pde/data/pos_encodings/Cora_GDC.pkl...\n",
      "    Found them! Loading cached version\n",
      "[i] Looking for positional encodings in /home/xdoni4/m1p/graph-neural-pde/data/pos_encodings/Cora_GDC.pkl...\n",
      "    Found them! Loading cached version\n",
      "[i] Looking for positional encodings in /home/xdoni4/m1p/graph-neural-pde/data/pos_encodings/Cora_GDC.pkl...\n",
      "    Found them! Loading cached version\n",
      "[i] Looking for positional encodings in /home/xdoni4/m1p/graph-neural-pde/data/pos_encodings/Cora_GDC.pkl...\n",
      "    Found them! Loading cached version\n",
      "[i] Looking for positional encodings in /home/xdoni4/m1p/graph-neural-pde/data/pos_encodings/Cora_GDC.pkl...\n",
      "    Found them! Loading cached version\n",
      "[i] Looking for positional encodings in /home/xdoni4/m1p/graph-neural-pde/data/pos_encodings/Cora_GDC.pkl...\n",
      "    Found them! Loading cached version\n",
      "[i] Looking for positional encodings in /home/xdoni4/m1p/graph-neural-pde/data/pos_encodings/Cora_GDC.pkl...\n",
      "    Found them! Loading cached version\n",
      "[i] Looking for positional encodings in /home/xdoni4/m1p/graph-neural-pde/data/pos_encodings/Cora_GDC.pkl...\n",
      "    Found them! Loading cached version\n",
      "[i] Looking for positional encodings in /home/xdoni4/m1p/graph-neural-pde/data/pos_encodings/Cora_GDC.pkl...\n",
      "    Found them! Loading cached version\n",
      "[i] Looking for positional encodings in /home/xdoni4/m1p/graph-neural-pde/data/pos_encodings/Cora_GDC.pkl...\n",
      "    Found them! Loading cached version\n",
      "[i] Looking for positional encodings in /home/xdoni4/m1p/graph-neural-pde/data/pos_encodings/Cora_GDC.pkl...\n",
      "    Found them! Loading cached version\n",
      "[i] Looking for positional encodings in /home/xdoni4/m1p/graph-neural-pde/data/pos_encodings/Cora_GDC.pkl...\n",
      "    Found them! Loading cached version\n",
      "[i] Looking for positional encodings in /home/xdoni4/m1p/graph-neural-pde/data/pos_encodings/Cora_GDC.pkl...\n",
      "    Found them! Loading cached version\n",
      "[i] Looking for positional encodings in /home/xdoni4/m1p/graph-neural-pde/data/pos_encodings/Cora_GDC.pkl...\n",
      "    Found them! Loading cached version\n",
      "[i] Looking for positional encodings in /home/xdoni4/m1p/graph-neural-pde/data/pos_encodings/Cora_GDC.pkl...\n",
      "    Found them! Loading cached version\n",
      "[i] Looking for positional encodings in /home/xdoni4/m1p/graph-neural-pde/data/pos_encodings/Cora_GDC.pkl...\n",
      "    Found them! Loading cached version\n",
      "[i] Looking for positional encodings in /home/xdoni4/m1p/graph-neural-pde/data/pos_encodings/Cora_GDC.pkl...\n",
      "    Found them! Loading cached version\n",
      "[i] Looking for positional encodings in /home/xdoni4/m1p/graph-neural-pde/data/pos_encodings/Cora_GDC.pkl...\n",
      "    Found them! Loading cached version\n",
      "[i] Looking for positional encodings in /home/xdoni4/m1p/graph-neural-pde/data/pos_encodings/Cora_GDC.pkl...\n",
      "    Found them! Loading cached version\n",
      "[i] Looking for positional encodings in /home/xdoni4/m1p/graph-neural-pde/data/pos_encodings/Cora_GDC.pkl...\n",
      "    Found them! Loading cached version\n",
      "[i] Looking for positional encodings in /home/xdoni4/m1p/graph-neural-pde/data/pos_encodings/Cora_GDC.pkl...\n",
      "    Found them! Loading cached version\n",
      "[i] Looking for positional encodings in /home/xdoni4/m1p/graph-neural-pde/data/pos_encodings/Cora_GDC.pkl...\n",
      "    Found them! Loading cached version\n",
      "[i] Looking for positional encodings in /home/xdoni4/m1p/graph-neural-pde/data/pos_encodings/Cora_GDC.pkl...\n",
      "    Found them! Loading cached version\n",
      "[i] Looking for positional encodings in /home/xdoni4/m1p/graph-neural-pde/data/pos_encodings/Cora_GDC.pkl...\n",
      "    Found them! Loading cached version\n",
      "[i] Looking for positional encodings in /home/xdoni4/m1p/graph-neural-pde/data/pos_encodings/Cora_GDC.pkl...\n",
      "    Found them! Loading cached version\n",
      "[i] Looking for positional encodings in /home/xdoni4/m1p/graph-neural-pde/data/pos_encodings/Cora_GDC.pkl...\n",
      "    Found them! Loading cached version\n",
      "[i] Looking for positional encodings in /home/xdoni4/m1p/graph-neural-pde/data/pos_encodings/Cora_GDC.pkl...\n",
      "    Found them! Loading cached version\n",
      "[i] Looking for positional encodings in /home/xdoni4/m1p/graph-neural-pde/data/pos_encodings/Cora_GDC.pkl...\n",
      "    Found them! Loading cached version\n",
      "[i] Looking for positional encodings in /home/xdoni4/m1p/graph-neural-pde/data/pos_encodings/Cora_GDC.pkl...\n",
      "    Found them! Loading cached version\n",
      "[i] Looking for positional encodings in /home/xdoni4/m1p/graph-neural-pde/data/pos_encodings/Cora_GDC.pkl...\n",
      "    Found them! Loading cached version\n",
      "[i] Looking for positional encodings in /home/xdoni4/m1p/graph-neural-pde/data/pos_encodings/Cora_GDC.pkl...\n",
      "    Found them! Loading cached version\n",
      "[i] Looking for positional encodings in /home/xdoni4/m1p/graph-neural-pde/data/pos_encodings/Cora_GDC.pkl...\n",
      "    Found them! Loading cached version\n",
      "[i] Looking for positional encodings in /home/xdoni4/m1p/graph-neural-pde/data/pos_encodings/Cora_GDC.pkl...\n",
      "    Found them! Loading cached version\n",
      "[i] Looking for positional encodings in /home/xdoni4/m1p/graph-neural-pde/data/pos_encodings/Cora_GDC.pkl...\n",
      "    Found them! Loading cached version\n",
      "[i] Looking for positional encodings in /home/xdoni4/m1p/graph-neural-pde/data/pos_encodings/Cora_GDC.pkl...\n",
      "    Found them! Loading cached version\n",
      "[i] Looking for positional encodings in /home/xdoni4/m1p/graph-neural-pde/data/pos_encodings/Cora_GDC.pkl...\n",
      "    Found them! Loading cached version\n",
      "[i] Looking for positional encodings in /home/xdoni4/m1p/graph-neural-pde/data/pos_encodings/Cora_GDC.pkl...\n",
      "    Found them! Loading cached version\n",
      "[i] Looking for positional encodings in /home/xdoni4/m1p/graph-neural-pde/data/pos_encodings/Cora_GDC.pkl...\n",
      "    Found them! Loading cached version\n",
      "[i] Looking for positional encodings in /home/xdoni4/m1p/graph-neural-pde/data/pos_encodings/Cora_GDC.pkl...\n",
      "    Found them! Loading cached version\n",
      "[i] Looking for positional encodings in /home/xdoni4/m1p/graph-neural-pde/data/pos_encodings/Cora_GDC.pkl...\n",
      "    Found them! Loading cached version\n",
      "[i] Looking for positional encodings in /home/xdoni4/m1p/graph-neural-pde/data/pos_encodings/Cora_GDC.pkl...\n",
      "    Found them! Loading cached version\n",
      "[i] Looking for positional encodings in /home/xdoni4/m1p/graph-neural-pde/data/pos_encodings/Cora_GDC.pkl...\n",
      "    Found them! Loading cached version\n",
      "[i] Looking for positional encodings in /home/xdoni4/m1p/graph-neural-pde/data/pos_encodings/Cora_GDC.pkl...\n",
      "    Found them! Loading cached version\n",
      "[i] Looking for positional encodings in /home/xdoni4/m1p/graph-neural-pde/data/pos_encodings/Cora_GDC.pkl...\n",
      "    Found them! Loading cached version\n",
      "[i] Looking for positional encodings in /home/xdoni4/m1p/graph-neural-pde/data/pos_encodings/Cora_GDC.pkl...\n",
      "    Found them! Loading cached version\n",
      "[i] Looking for positional encodings in /home/xdoni4/m1p/graph-neural-pde/data/pos_encodings/Cora_GDC.pkl...\n",
      "    Found them! Loading cached version\n",
      "[i] Looking for positional encodings in /home/xdoni4/m1p/graph-neural-pde/data/pos_encodings/Cora_GDC.pkl...\n",
      "    Found them! Loading cached version\n",
      "[i] Looking for positional encodings in /home/xdoni4/m1p/graph-neural-pde/data/pos_encodings/Cora_GDC.pkl...\n",
      "    Found them! Loading cached version\n",
      "[i] Looking for positional encodings in /home/xdoni4/m1p/graph-neural-pde/data/pos_encodings/Cora_GDC.pkl...\n",
      "    Found them! Loading cached version\n",
      "[i] Looking for positional encodings in /home/xdoni4/m1p/graph-neural-pde/data/pos_encodings/Cora_GDC.pkl...\n",
      "    Found them! Loading cached version\n",
      "[i] Looking for positional encodings in /home/xdoni4/m1p/graph-neural-pde/data/pos_encodings/Cora_GDC.pkl...\n",
      "    Found them! Loading cached version\n",
      "[i] Looking for positional encodings in /home/xdoni4/m1p/graph-neural-pde/data/pos_encodings/Cora_GDC.pkl...\n",
      "    Found them! Loading cached version\n",
      "[i] Looking for positional encodings in /home/xdoni4/m1p/graph-neural-pde/data/pos_encodings/Cora_GDC.pkl...\n",
      "    Found them! Loading cached version\n",
      "[i] Looking for positional encodings in /home/xdoni4/m1p/graph-neural-pde/data/pos_encodings/Cora_GDC.pkl...\n",
      "    Found them! Loading cached version\n",
      "[i] Looking for positional encodings in /home/xdoni4/m1p/graph-neural-pde/data/pos_encodings/Cora_GDC.pkl...\n",
      "    Found them! Loading cached version\n",
      "[i] Looking for positional encodings in /home/xdoni4/m1p/graph-neural-pde/data/pos_encodings/Cora_GDC.pkl...\n",
      "    Found them! Loading cached version\n",
      "[i] Looking for positional encodings in /home/xdoni4/m1p/graph-neural-pde/data/pos_encodings/Cora_GDC.pkl...\n",
      "    Found them! Loading cached version\n",
      "[i] Looking for positional encodings in /home/xdoni4/m1p/graph-neural-pde/data/pos_encodings/Cora_GDC.pkl...\n",
      "    Found them! Loading cached version\n",
      "[i] Looking for positional encodings in /home/xdoni4/m1p/graph-neural-pde/data/pos_encodings/Cora_GDC.pkl...\n",
      "    Found them! Loading cached version\n",
      "[i] Looking for positional encodings in /home/xdoni4/m1p/graph-neural-pde/data/pos_encodings/Cora_GDC.pkl...\n",
      "    Found them! Loading cached version\n",
      "[i] Looking for positional encodings in /home/xdoni4/m1p/graph-neural-pde/data/pos_encodings/Cora_GDC.pkl...\n",
      "    Found them! Loading cached version\n",
      "[i] Looking for positional encodings in /home/xdoni4/m1p/graph-neural-pde/data/pos_encodings/Cora_GDC.pkl...\n",
      "    Found them! Loading cached version\n",
      "[i] Looking for positional encodings in /home/xdoni4/m1p/graph-neural-pde/data/pos_encodings/Cora_GDC.pkl...\n",
      "    Found them! Loading cached version\n",
      "[i] Looking for positional encodings in /home/xdoni4/m1p/graph-neural-pde/data/pos_encodings/Cora_GDC.pkl...\n",
      "    Found them! Loading cached version\n",
      "[i] Looking for positional encodings in /home/xdoni4/m1p/graph-neural-pde/data/pos_encodings/Cora_GDC.pkl...\n",
      "    Found them! Loading cached version\n",
      "[i] Looking for positional encodings in /home/xdoni4/m1p/graph-neural-pde/data/pos_encodings/Cora_GDC.pkl...\n",
      "    Found them! Loading cached version\n",
      "[i] Looking for positional encodings in /home/xdoni4/m1p/graph-neural-pde/data/pos_encodings/Cora_GDC.pkl...\n",
      "    Found them! Loading cached version\n",
      "[i] Looking for positional encodings in /home/xdoni4/m1p/graph-neural-pde/data/pos_encodings/Cora_GDC.pkl...\n",
      "    Found them! Loading cached version\n",
      "[i] Looking for positional encodings in /home/xdoni4/m1p/graph-neural-pde/data/pos_encodings/Cora_GDC.pkl...\n",
      "    Found them! Loading cached version\n",
      "[i] Looking for positional encodings in /home/xdoni4/m1p/graph-neural-pde/data/pos_encodings/Cora_GDC.pkl...\n",
      "    Found them! Loading cached version\n",
      "[i] Looking for positional encodings in /home/xdoni4/m1p/graph-neural-pde/data/pos_encodings/Cora_GDC.pkl...\n",
      "    Found them! Loading cached version\n",
      "[i] Looking for positional encodings in /home/xdoni4/m1p/graph-neural-pde/data/pos_encodings/Cora_GDC.pkl...\n",
      "    Found them! Loading cached version\n",
      "[i] Looking for positional encodings in /home/xdoni4/m1p/graph-neural-pde/data/pos_encodings/Cora_GDC.pkl...\n",
      "    Found them! Loading cached version\n",
      "[i] Looking for positional encodings in /home/xdoni4/m1p/graph-neural-pde/data/pos_encodings/Cora_GDC.pkl...\n",
      "    Found them! Loading cached version\n",
      "[i] Looking for positional encodings in /home/xdoni4/m1p/graph-neural-pde/data/pos_encodings/Cora_GDC.pkl...\n",
      "    Found them! Loading cached version\n",
      "[i] Looking for positional encodings in /home/xdoni4/m1p/graph-neural-pde/data/pos_encodings/Cora_GDC.pkl...\n",
      "    Found them! Loading cached version\n",
      "[i] Looking for positional encodings in /home/xdoni4/m1p/graph-neural-pde/data/pos_encodings/Cora_GDC.pkl...\n",
      "    Found them! Loading cached version\n",
      "[i] Looking for positional encodings in /home/xdoni4/m1p/graph-neural-pde/data/pos_encodings/Cora_GDC.pkl...\n",
      "    Found them! Loading cached version\n",
      "[i] Looking for positional encodings in /home/xdoni4/m1p/graph-neural-pde/data/pos_encodings/Cora_GDC.pkl...\n",
      "    Found them! Loading cached version\n",
      "[i] Looking for positional encodings in /home/xdoni4/m1p/graph-neural-pde/data/pos_encodings/Cora_GDC.pkl...\n",
      "    Found them! Loading cached version\n",
      "[i] Looking for positional encodings in /home/xdoni4/m1p/graph-neural-pde/data/pos_encodings/Cora_GDC.pkl...\n",
      "    Found them! Loading cached version\n",
      "[i] Looking for positional encodings in /home/xdoni4/m1p/graph-neural-pde/data/pos_encodings/Cora_GDC.pkl...\n",
      "    Found them! Loading cached version\n",
      "[i] Looking for positional encodings in /home/xdoni4/m1p/graph-neural-pde/data/pos_encodings/Cora_GDC.pkl...\n",
      "    Found them! Loading cached version\n",
      "[i] Looking for positional encodings in /home/xdoni4/m1p/graph-neural-pde/data/pos_encodings/Cora_GDC.pkl...\n",
      "    Found them! Loading cached version\n",
      "[i] Looking for positional encodings in /home/xdoni4/m1p/graph-neural-pde/data/pos_encodings/Cora_GDC.pkl...\n",
      "    Found them! Loading cached version\n",
      "[i] Looking for positional encodings in /home/xdoni4/m1p/graph-neural-pde/data/pos_encodings/Cora_GDC.pkl...\n",
      "    Found them! Loading cached version\n",
      "[i] Looking for positional encodings in /home/xdoni4/m1p/graph-neural-pde/data/pos_encodings/Cora_GDC.pkl...\n",
      "    Found them! Loading cached version\n"
     ]
    },
    {
     "name": "stderr",
     "output_type": "stream",
     "text": [
      "  0%|          | 0/89 [00:00<?, ?it/s]/home/xdoni4/miniconda3/envs/m1p/lib/python3.9/site-packages/torchdiffeq/_impl/misc.py:11: UserWarning: Dopri5Solver: Unexpected arguments {'step_size': 1, 'max_iters': 100}\n",
      "  warnings.warn('{}: Unexpected arguments {}'.format(solver.__class__.__name__, unused_kwargs))\n",
      "100%|██████████| 89/89 [14:00<00:00,  9.45s/it]\n"
     ]
    },
    {
     "name": "stdout",
     "output_type": "stream",
     "text": [
      "TRAIN: epoch = 1, loss = 0.691, accuracy = 0.494, f1 = 0.488\n"
     ]
    },
    {
     "name": "stderr",
     "output_type": "stream",
     "text": [
      "/home/xdoni4/miniconda3/envs/m1p/lib/python3.9/site-packages/torchdiffeq/_impl/misc.py:11: UserWarning: Dopri5Solver: Unexpected arguments {'step_size': 1, 'max_iters': 100}\n",
      "  warnings.warn('{}: Unexpected arguments {}'.format(solver.__class__.__name__, unused_kwargs))\n"
     ]
    },
    {
     "name": "stdout",
     "output_type": "stream",
     "text": [
      "TEST: loss = 0.651, accuracy = 0.633, f1 = 0.511\n",
      "--------------------------------------------------\n"
     ]
    },
    {
     "name": "stderr",
     "output_type": "stream",
     "text": [
      "  0%|          | 0/89 [00:00<?, ?it/s]/home/xdoni4/miniconda3/envs/m1p/lib/python3.9/site-packages/torchdiffeq/_impl/misc.py:11: UserWarning: Dopri5Solver: Unexpected arguments {'step_size': 1, 'max_iters': 100}\n",
      "  warnings.warn('{}: Unexpected arguments {}'.format(solver.__class__.__name__, unused_kwargs))\n",
      "100%|██████████| 89/89 [17:37<00:00, 11.89s/it]\n"
     ]
    },
    {
     "name": "stdout",
     "output_type": "stream",
     "text": [
      "TRAIN: epoch = 2, loss = 0.609, accuracy = 0.73, f1 = 0.666\n"
     ]
    },
    {
     "name": "stderr",
     "output_type": "stream",
     "text": [
      "/home/xdoni4/miniconda3/envs/m1p/lib/python3.9/site-packages/torchdiffeq/_impl/misc.py:11: UserWarning: Dopri5Solver: Unexpected arguments {'step_size': 1, 'max_iters': 100}\n",
      "  warnings.warn('{}: Unexpected arguments {}'.format(solver.__class__.__name__, unused_kwargs))\n"
     ]
    },
    {
     "name": "stdout",
     "output_type": "stream",
     "text": [
      "TEST: loss = 0.617, accuracy = 0.667, f1 = 0.534\n",
      "--------------------------------------------------\n"
     ]
    },
    {
     "name": "stderr",
     "output_type": "stream",
     "text": [
      "  0%|          | 0/89 [00:00<?, ?it/s]/home/xdoni4/miniconda3/envs/m1p/lib/python3.9/site-packages/torchdiffeq/_impl/misc.py:11: UserWarning: Dopri5Solver: Unexpected arguments {'step_size': 1, 'max_iters': 100}\n",
      "  warnings.warn('{}: Unexpected arguments {}'.format(solver.__class__.__name__, unused_kwargs))\n",
      "100%|██████████| 89/89 [17:31<00:00, 11.82s/it]\n"
     ]
    },
    {
     "name": "stdout",
     "output_type": "stream",
     "text": [
      "TRAIN: epoch = 3, loss = 0.534, accuracy = 0.809, f1 = 0.766\n"
     ]
    },
    {
     "name": "stderr",
     "output_type": "stream",
     "text": [
      "/home/xdoni4/miniconda3/envs/m1p/lib/python3.9/site-packages/torchdiffeq/_impl/misc.py:11: UserWarning: Dopri5Solver: Unexpected arguments {'step_size': 1, 'max_iters': 100}\n",
      "  warnings.warn('{}: Unexpected arguments {}'.format(solver.__class__.__name__, unused_kwargs))\n"
     ]
    },
    {
     "name": "stdout",
     "output_type": "stream",
     "text": [
      "TEST: loss = 0.592, accuracy = 0.733, f1 = 0.659\n",
      "--------------------------------------------------\n",
      "\n",
      "===================================================================================\n",
      "\n"
     ]
    },
    {
     "ename": "IndexError",
     "evalue": "list index out of range",
     "output_type": "error",
     "traceback": [
      "\u001b[0;31m---------------------------------------------------------------------------\u001b[0m",
      "\u001b[0;31mIndexError\u001b[0m                                Traceback (most recent call last)",
      "Cell \u001b[0;32mIn[48], line 7\u001b[0m\n\u001b[1;32m      4\u001b[0m NFs \u001b[38;5;241m=\u001b[39m [\u001b[38;5;241m5\u001b[39m, \u001b[38;5;241m5\u001b[39m, \u001b[38;5;241m5\u001b[39m, \u001b[38;5;241m10\u001b[39m]\n\u001b[1;32m      6\u001b[0m \u001b[38;5;28;01mfor\u001b[39;00m i \u001b[38;5;129;01min\u001b[39;00m \u001b[38;5;28mrange\u001b[39m(\u001b[38;5;28mlen\u001b[39m(Ts)):\n\u001b[0;32m----> 7\u001b[0m     T, alpha, sigma, NF \u001b[38;5;241m=\u001b[39m Ts[i], \u001b[43malphas\u001b[49m\u001b[43m[\u001b[49m\u001b[43mi\u001b[49m\u001b[43m]\u001b[49m, sigmas[i], NFs[i]\n\u001b[1;32m      8\u001b[0m     \u001b[38;5;28;01mif\u001b[39;00m sigma \u001b[38;5;241m!=\u001b[39m \u001b[38;5;241m0\u001b[39m:\n\u001b[1;32m      9\u001b[0m         sigma_train \u001b[38;5;241m=\u001b[39m sps\u001b[38;5;241m.\u001b[39mnorm(\u001b[38;5;241m0\u001b[39m, sigma\u001b[38;5;241m*\u001b[39mX_train\u001b[38;5;241m.\u001b[39mvar(axis\u001b[38;5;241m=\u001b[39m\u001b[38;5;241m-\u001b[39m\u001b[38;5;241m1\u001b[39m)[\u001b[38;5;241m.\u001b[39m\u001b[38;5;241m.\u001b[39m\u001b[38;5;241m.\u001b[39m, \u001b[38;5;28;01mNone\u001b[39;00m])\u001b[38;5;241m.\u001b[39mrvs(size\u001b[38;5;241m=\u001b[39m(X_train\u001b[38;5;241m.\u001b[39mshape))\n",
      "\u001b[0;31mIndexError\u001b[0m: list index out of range"
     ]
    }
   ],
   "source": [
    "Ts = [15, 15, 15, 15, 15]\n",
    "alphas = [0.5, 0.5, 0.5, 0.8]\n",
    "sigmas = [0.1, 0.2, 0.3, 0]\n",
    "NFs = [5, 5, 5, 10]\n",
    "\n",
    "for i in range(len(Ts)):\n",
    "    T, alpha, sigma, NF = Ts[i], alphas[i], sigmas[i], NFs[i]\n",
    "    if sigma != 0:\n",
    "        sigma_train = sps.norm(0, sigma*X_train.var(axis=-1)[..., None]).rvs(size=(X_train.shape))\n",
    "        sigma_test = sps.norm(0, sigma*X_test.var(axis=-1)[..., None]).rvs(size=(X_test.shape))\n",
    "        X_train += sigma_train\n",
    "        X_test += sigma_test\n",
    "\n",
    "    print(f'Building adjacencies T={T}')\n",
    "    build_adjacencies(X_train, 'dataset/adj_Pears_{}_train.npy'.format(T), T)\n",
    "    build_adjacencies(X_test, 'dataset/adj_Pears_{}_test.npy'.format(T), T)\n",
    "\n",
    "    print(f'T={T}, alpha={alpha}, NF={NF}, sigma={sigma}')\n",
    "    print(\"Running GCN\")\n",
    "    best_acc, best_f1_score, train_losses_arrays, test_losses_arrays = conduct_experiment(T, num_epochs=10, alpha=alpha, NF=NF, gcn=True)\n",
    "    gcn_results.append({\n",
    "        'best_acc' : best_acc,\n",
    "        'best_f1_score' : best_f1_score,\n",
    "        'train_losses_arrays' : train_losses_arrays,\n",
    "        'test_losses_arrays' : test_losses_arrays\n",
    "    })\n",
    "    \n",
    "    print(\"Running GRAND\")\n",
    "    best_acc, best_f1_score, train_losses_arrays, test_losses_arrays = conduct_experiment(T, num_epochs=3, alpha=alpha, NF=NF)\n",
    "    grand_results.append({\n",
    "        'best_acc' : best_acc,\n",
    "        'best_f1_score' : best_f1_score,\n",
    "        'train_losses_arrays' : train_losses_arrays,\n",
    "        'test_losses_arrays' : test_losses_arrays\n",
    "    })\n",
    "\n",
    "    print(\"Running BLEND\")\n",
    "    best_acc, best_f1_score, train_losses_arrays, test_losses_arrays = conduct_experiment(T, num_epochs=3, alpha=alpha, NF=NF, beltrami=True)\n",
    "    beltrami_results.append({\n",
    "        'best_acc' : best_acc,\n",
    "        'best_f1_score' : best_f1_score,\n",
    "        'train_losses_arrays' : train_losses_arrays,\n",
    "        'test_losses_arrays' : test_losses_arrays\n",
    "    })\n",
    "\n",
    "    if sigma != 0:\n",
    "        X_train -= sigma_train\n",
    "        X_test -= sigma_test"
   ]
  },
  {
   "cell_type": "code",
   "execution_count": 57,
   "id": "247d7df8",
   "metadata": {},
   "outputs": [
    {
     "data": {
      "text/plain": [
       "[{'best_acc': 0.7333333333333333,\n",
       "  'best_f1_score': 0.6590909090909092,\n",
       "  'train_losses_arrays': array([[0.6665563 , 0.62554845, 0.58469516, 0.54429098, 0.46646308,\n",
       "          0.43545658, 0.36012674, 0.33702952, 0.26882134, 0.23616939]]),\n",
       "  'test_losses_arrays': array([[0.65603624, 0.6578469 , 0.65404911, 0.64223792, 0.63414642,\n",
       "          0.61005438, 0.60335928, 0.6008678 , 0.5951841 , 0.59801721]])},\n",
       " {'best_acc': 0.7333333333333333,\n",
       "  'best_f1_score': 0.6590909090909092,\n",
       "  'train_losses_arrays': array([[0.66916356, 0.59861763, 0.56774421, 0.50069031, 0.4510822 ,\n",
       "          0.39264676, 0.37084137, 0.33623178, 0.27069946, 0.262452  ]]),\n",
       "  'test_losses_arrays': array([[0.64247944, 0.63213738, 0.62197832, 0.60262365, 0.59598049,\n",
       "          0.5907269 , 0.58104645, 0.57334859, 0.58007885, 0.58005189]])},\n",
       " {'best_acc': 0.6666666666666666,\n",
       "  'best_f1_score': 0.625,\n",
       "  'train_losses_arrays': array([[0.71020201, 0.60443085, 0.52151306, 0.46895607, 0.40304714,\n",
       "          0.37192759, 0.33480374, 0.25164597, 0.2017201 , 0.17063496]]),\n",
       "  'test_losses_arrays': array([[0.66957126, 0.64154791, 0.63254286, 0.62501129, 0.60849308,\n",
       "          0.59448604, 0.58438936, 0.59049482, 0.59677251, 0.61495974]])},\n",
       " {'best_acc': 0.6666666666666666,\n",
       "  'best_f1_score': 0.5341614906832298,\n",
       "  'train_losses_arrays': array([[0.69863694, 0.59886097, 0.53483912, 0.45037404, 0.38631901,\n",
       "          0.28602797, 0.27537477, 0.20525298, 0.17935706, 0.15125489]]),\n",
       "  'test_losses_arrays': array([[0.67004041, 0.64096807, 0.62150868, 0.60602138, 0.5860948 ,\n",
       "          0.57240408, 0.57631783, 0.58083228, 0.57638967, 0.57566334]])},\n",
       " {'best_acc': 0.6666666666666666,\n",
       "  'best_f1_score': 0.5738636363636364,\n",
       "  'train_losses_arrays': array([[0.69767106, 0.6286087 , 0.58671602, 0.55365353, 0.51307975,\n",
       "          0.48217479, 0.43399715, 0.3881021 , 0.33233672, 0.30950792]]),\n",
       "  'test_losses_arrays': array([[0.70605971, 0.71558679, 0.72578597, 0.72245786, 0.71759486,\n",
       "          0.71469812, 0.68918744, 0.68333224, 0.69574283, 0.70237584]])},\n",
       " {'best_acc': 0.7,\n",
       "  'best_f1_score': 0.6,\n",
       "  'train_losses_arrays': array([[0.68980565, 0.63466223, 0.56382846, 0.48450692, 0.43746379,\n",
       "          0.37079794, 0.35839488, 0.29006759, 0.22188218, 0.20694248]]),\n",
       "  'test_losses_arrays': array([[0.66551454, 0.65430419, 0.64825872, 0.65034713, 0.64332808,\n",
       "          0.64316734, 0.66110773, 0.65198294, 0.67962798, 0.69905508]])},\n",
       " {'best_acc': 0.7333333333333333,\n",
       "  'best_f1_score': 0.6273291925465838,\n",
       "  'train_losses_arrays': array([[0.69241871, 0.63353881, 0.58562596, 0.51210617, 0.45922748,\n",
       "          0.40800595, 0.34503756, 0.3198621 , 0.23324375, 0.21236286]]),\n",
       "  'test_losses_arrays': array([[0.66190102, 0.64200386, 0.62378725, 0.60910681, 0.59195711,\n",
       "          0.5637505 , 0.56495474, 0.57243828, 0.55169745, 0.58523585]])},\n",
       " {'best_acc': 0.7,\n",
       "  'best_f1_score': 0.6,\n",
       "  'train_losses_arrays': array([[0.69723034, 0.60347853, 0.49768248, 0.45630519, 0.36924679,\n",
       "          0.31960476, 0.25559611, 0.21146275, 0.20016005, 0.15866995]]),\n",
       "  'test_losses_arrays': array([[0.64131956, 0.62835599, 0.62429993, 0.6204976 , 0.6150833 ,\n",
       "          0.617682  , 0.63006608, 0.63181571, 0.6603077 , 0.66503217]])},\n",
       " {'best_acc': 0.7,\n",
       "  'best_f1_score': 0.6703296703296702,\n",
       "  'train_losses_arrays': array([[0.64639751, 0.58887737, 0.51335685, 0.46056849, 0.39758665,\n",
       "          0.34051508, 0.27420234, 0.25753157, 0.19113553, 0.18023625]]),\n",
       "  'test_losses_arrays': array([[0.6461873 , 0.63463411, 0.61691261, 0.60920662, 0.60047875,\n",
       "          0.59275332, 0.58874477, 0.58735905, 0.59577074, 0.61130356]])}]"
      ]
     },
     "execution_count": 57,
     "metadata": {},
     "output_type": "execute_result"
    }
   ],
   "source": [
    "gcn_results"
   ]
  },
  {
   "cell_type": "code",
   "execution_count": 68,
   "id": "9633194c",
   "metadata": {},
   "outputs": [
    {
     "data": {
      "text/plain": [
       "[1.0, 1.0, 1.0]"
      ]
     },
     "execution_count": 68,
     "metadata": {},
     "output_type": "execute_result"
    }
   ],
   "source": [
    "np.ones(3).tolist()"
   ]
  },
  {
   "cell_type": "code",
   "execution_count": 146,
   "id": "0ace839e",
   "metadata": {},
   "outputs": [
    {
     "name": "stdout",
     "output_type": "stream",
     "text": [
      "Building adjacencies T=15\n"
     ]
    },
    {
     "name": "stderr",
     "output_type": "stream",
     "text": [
      "100%|██████████| 89/89 [00:04<00:00, 19.79it/s]\n"
     ]
    },
    {
     "name": "stdout",
     "output_type": "stream",
     "text": [
      "(89, 241, 32, 32)\n"
     ]
    },
    {
     "name": "stderr",
     "output_type": "stream",
     "text": [
      "100%|██████████| 30/30 [00:01<00:00, 15.59it/s]\n"
     ]
    },
    {
     "name": "stdout",
     "output_type": "stream",
     "text": [
      "(30, 241, 32, 32)\n",
      "T=15, alpha=0.8, NF=5, sigma=0\n",
      "Running CNN\n",
      "241\n",
      "\n",
      "===================================================================================\n",
      "\n"
     ]
    },
    {
     "name": "stderr",
     "output_type": "stream",
     "text": [
      "100%|██████████| 89/89 [00:03<00:00, 29.48it/s]\n"
     ]
    },
    {
     "name": "stdout",
     "output_type": "stream",
     "text": [
      "TRAIN: epoch = 1, loss = 0.693, accuracy = 0.551, f1 = 0.529\n",
      "TEST: loss = 0.648, accuracy = 0.633, f1 = 0.388\n",
      "--------------------------------------------------\n"
     ]
    },
    {
     "name": "stderr",
     "output_type": "stream",
     "text": [
      "100%|██████████| 89/89 [00:02<00:00, 30.18it/s]\n"
     ]
    },
    {
     "name": "stdout",
     "output_type": "stream",
     "text": [
      "TRAIN: epoch = 2, loss = 0.621, accuracy = 0.674, f1 = 0.524\n",
      "TEST: loss = 0.651, accuracy = 0.7, f1 = 0.558\n",
      "--------------------------------------------------\n"
     ]
    },
    {
     "name": "stderr",
     "output_type": "stream",
     "text": [
      "100%|██████████| 89/89 [00:03<00:00, 29.64it/s]\n"
     ]
    },
    {
     "name": "stdout",
     "output_type": "stream",
     "text": [
      "TRAIN: epoch = 3, loss = 0.601, accuracy = 0.685, f1 = 0.611\n",
      "TEST: loss = 0.643, accuracy = 0.667, f1 = 0.534\n",
      "--------------------------------------------------\n"
     ]
    },
    {
     "name": "stderr",
     "output_type": "stream",
     "text": [
      "100%|██████████| 89/89 [00:03<00:00, 24.79it/s]\n"
     ]
    },
    {
     "name": "stdout",
     "output_type": "stream",
     "text": [
      "TRAIN: epoch = 4, loss = 0.543, accuracy = 0.73, f1 = 0.681\n",
      "TEST: loss = 0.653, accuracy = 0.667, f1 = 0.574\n",
      "--------------------------------------------------\n"
     ]
    },
    {
     "name": "stderr",
     "output_type": "stream",
     "text": [
      "100%|██████████| 89/89 [00:03<00:00, 27.22it/s]\n"
     ]
    },
    {
     "name": "stdout",
     "output_type": "stream",
     "text": [
      "TRAIN: epoch = 5, loss = 0.512, accuracy = 0.764, f1 = 0.704\n",
      "TEST: loss = 0.639, accuracy = 0.667, f1 = 0.574\n",
      "--------------------------------------------------\n"
     ]
    },
    {
     "name": "stderr",
     "output_type": "stream",
     "text": [
      "100%|██████████| 89/89 [00:03<00:00, 29.52it/s]\n"
     ]
    },
    {
     "name": "stdout",
     "output_type": "stream",
     "text": [
      "TRAIN: epoch = 6, loss = 0.476, accuracy = 0.843, f1 = 0.821\n",
      "TEST: loss = 0.65, accuracy = 0.667, f1 = 0.574\n",
      "--------------------------------------------------\n"
     ]
    },
    {
     "name": "stderr",
     "output_type": "stream",
     "text": [
      "100%|██████████| 89/89 [00:03<00:00, 29.00it/s]\n"
     ]
    },
    {
     "name": "stdout",
     "output_type": "stream",
     "text": [
      "TRAIN: epoch = 7, loss = 0.414, accuracy = 0.854, f1 = 0.832\n",
      "TEST: loss = 0.614, accuracy = 0.7, f1 = 0.631\n",
      "--------------------------------------------------\n"
     ]
    },
    {
     "name": "stderr",
     "output_type": "stream",
     "text": [
      "100%|██████████| 89/89 [00:03<00:00, 27.56it/s]\n"
     ]
    },
    {
     "name": "stdout",
     "output_type": "stream",
     "text": [
      "TRAIN: epoch = 8, loss = 0.383, accuracy = 0.831, f1 = 0.81\n",
      "TEST: loss = 0.601, accuracy = 0.7, f1 = 0.653\n",
      "--------------------------------------------------\n"
     ]
    },
    {
     "name": "stderr",
     "output_type": "stream",
     "text": [
      "100%|██████████| 89/89 [00:03<00:00, 25.00it/s]\n"
     ]
    },
    {
     "name": "stdout",
     "output_type": "stream",
     "text": [
      "TRAIN: epoch = 9, loss = 0.354, accuracy = 0.854, f1 = 0.835\n",
      "TEST: loss = 0.595, accuracy = 0.733, f1 = 0.683\n",
      "--------------------------------------------------\n"
     ]
    },
    {
     "name": "stderr",
     "output_type": "stream",
     "text": [
      "100%|██████████| 89/89 [00:03<00:00, 28.16it/s]\n"
     ]
    },
    {
     "name": "stdout",
     "output_type": "stream",
     "text": [
      "TRAIN: epoch = 10, loss = 0.324, accuracy = 0.843, f1 = 0.827\n",
      "TEST: loss = 0.607, accuracy = 0.733, f1 = 0.683\n",
      "--------------------------------------------------\n",
      "\n",
      "===================================================================================\n",
      "\n",
      "Building adjacencies T=25\n"
     ]
    },
    {
     "name": "stderr",
     "output_type": "stream",
     "text": [
      "100%|██████████| 89/89 [00:04<00:00, 19.31it/s]\n"
     ]
    },
    {
     "name": "stdout",
     "output_type": "stream",
     "text": [
      "(89, 231, 32, 32)\n"
     ]
    },
    {
     "name": "stderr",
     "output_type": "stream",
     "text": [
      "100%|██████████| 30/30 [00:01<00:00, 15.43it/s]\n"
     ]
    },
    {
     "name": "stdout",
     "output_type": "stream",
     "text": [
      "(30, 231, 32, 32)\n",
      "T=25, alpha=0.8, NF=5, sigma=0\n",
      "Running CNN\n",
      "231\n",
      "\n",
      "===================================================================================\n",
      "\n"
     ]
    },
    {
     "name": "stderr",
     "output_type": "stream",
     "text": [
      "100%|██████████| 89/89 [00:02<00:00, 31.50it/s]\n"
     ]
    },
    {
     "name": "stdout",
     "output_type": "stream",
     "text": [
      "TRAIN: epoch = 1, loss = 0.668, accuracy = 0.607, f1 = 0.403\n",
      "TEST: loss = 0.657, accuracy = 0.633, f1 = 0.388\n",
      "--------------------------------------------------\n"
     ]
    },
    {
     "name": "stderr",
     "output_type": "stream",
     "text": [
      "100%|██████████| 89/89 [00:02<00:00, 31.62it/s]\n"
     ]
    },
    {
     "name": "stdout",
     "output_type": "stream",
     "text": [
      "TRAIN: epoch = 2, loss = 0.651, accuracy = 0.64, f1 = 0.39\n",
      "TEST: loss = 0.656, accuracy = 0.633, f1 = 0.388\n",
      "--------------------------------------------------\n"
     ]
    },
    {
     "name": "stderr",
     "output_type": "stream",
     "text": [
      "100%|██████████| 89/89 [00:03<00:00, 28.28it/s]\n"
     ]
    },
    {
     "name": "stdout",
     "output_type": "stream",
     "text": [
      "TRAIN: epoch = 3, loss = 0.618, accuracy = 0.663, f1 = 0.455\n",
      "TEST: loss = 0.654, accuracy = 0.7, f1 = 0.558\n",
      "--------------------------------------------------\n"
     ]
    },
    {
     "name": "stderr",
     "output_type": "stream",
     "text": [
      "100%|██████████| 89/89 [00:03<00:00, 27.80it/s]\n"
     ]
    },
    {
     "name": "stdout",
     "output_type": "stream",
     "text": [
      "TRAIN: epoch = 4, loss = 0.571, accuracy = 0.719, f1 = 0.617\n",
      "TEST: loss = 0.662, accuracy = 0.633, f1 = 0.511\n",
      "--------------------------------------------------\n"
     ]
    },
    {
     "name": "stderr",
     "output_type": "stream",
     "text": [
      "100%|██████████| 89/89 [00:02<00:00, 31.54it/s]\n"
     ]
    },
    {
     "name": "stdout",
     "output_type": "stream",
     "text": [
      "TRAIN: epoch = 5, loss = 0.533, accuracy = 0.753, f1 = 0.708\n",
      "TEST: loss = 0.682, accuracy = 0.633, f1 = 0.511\n",
      "--------------------------------------------------\n"
     ]
    },
    {
     "name": "stderr",
     "output_type": "stream",
     "text": [
      "100%|██████████| 89/89 [00:02<00:00, 32.04it/s]\n"
     ]
    },
    {
     "name": "stdout",
     "output_type": "stream",
     "text": [
      "TRAIN: epoch = 6, loss = 0.495, accuracy = 0.775, f1 = 0.739\n",
      "TEST: loss = 0.684, accuracy = 0.6, f1 = 0.524\n",
      "--------------------------------------------------\n"
     ]
    },
    {
     "name": "stderr",
     "output_type": "stream",
     "text": [
      "100%|██████████| 89/89 [00:03<00:00, 29.00it/s]\n"
     ]
    },
    {
     "name": "stdout",
     "output_type": "stream",
     "text": [
      "TRAIN: epoch = 7, loss = 0.458, accuracy = 0.82, f1 = 0.799\n",
      "TEST: loss = 0.687, accuracy = 0.667, f1 = 0.574\n",
      "--------------------------------------------------\n"
     ]
    },
    {
     "name": "stderr",
     "output_type": "stream",
     "text": [
      "100%|██████████| 89/89 [00:02<00:00, 31.08it/s]\n"
     ]
    },
    {
     "name": "stdout",
     "output_type": "stream",
     "text": [
      "TRAIN: epoch = 8, loss = 0.418, accuracy = 0.809, f1 = 0.781\n",
      "TEST: loss = 0.691, accuracy = 0.633, f1 = 0.576\n",
      "--------------------------------------------------\n"
     ]
    },
    {
     "name": "stderr",
     "output_type": "stream",
     "text": [
      "100%|██████████| 89/89 [00:03<00:00, 26.63it/s]\n"
     ]
    },
    {
     "name": "stdout",
     "output_type": "stream",
     "text": [
      "TRAIN: epoch = 9, loss = 0.406, accuracy = 0.831, f1 = 0.813\n",
      "TEST: loss = 0.682, accuracy = 0.7, f1 = 0.631\n",
      "--------------------------------------------------\n"
     ]
    },
    {
     "name": "stderr",
     "output_type": "stream",
     "text": [
      "100%|██████████| 89/89 [00:02<00:00, 32.24it/s]\n"
     ]
    },
    {
     "name": "stdout",
     "output_type": "stream",
     "text": [
      "TRAIN: epoch = 10, loss = 0.362, accuracy = 0.876, f1 = 0.863\n",
      "TEST: loss = 0.697, accuracy = 0.733, f1 = 0.659\n",
      "--------------------------------------------------\n",
      "\n",
      "===================================================================================\n",
      "\n",
      "Building adjacencies T=15\n"
     ]
    },
    {
     "name": "stderr",
     "output_type": "stream",
     "text": [
      "100%|██████████| 89/89 [00:05<00:00, 17.66it/s]\n"
     ]
    },
    {
     "name": "stdout",
     "output_type": "stream",
     "text": [
      "(89, 241, 32, 32)\n"
     ]
    },
    {
     "name": "stderr",
     "output_type": "stream",
     "text": [
      "100%|██████████| 30/30 [00:01<00:00, 20.15it/s]\n"
     ]
    },
    {
     "name": "stdout",
     "output_type": "stream",
     "text": [
      "(30, 241, 32, 32)\n",
      "T=15, alpha=0.5, NF=5, sigma=0\n",
      "Running CNN\n",
      "241\n",
      "\n",
      "===================================================================================\n",
      "\n"
     ]
    },
    {
     "name": "stderr",
     "output_type": "stream",
     "text": [
      "100%|██████████| 89/89 [00:02<00:00, 29.93it/s]\n"
     ]
    },
    {
     "name": "stdout",
     "output_type": "stream",
     "text": [
      "TRAIN: epoch = 1, loss = 0.691, accuracy = 0.573, f1 = 0.536\n",
      "TEST: loss = 0.647, accuracy = 0.633, f1 = 0.388\n",
      "--------------------------------------------------\n"
     ]
    },
    {
     "name": "stderr",
     "output_type": "stream",
     "text": [
      "100%|██████████| 89/89 [00:02<00:00, 30.91it/s]\n"
     ]
    },
    {
     "name": "stdout",
     "output_type": "stream",
     "text": [
      "TRAIN: epoch = 2, loss = 0.636, accuracy = 0.652, f1 = 0.449\n",
      "TEST: loss = 0.632, accuracy = 0.633, f1 = 0.388\n",
      "--------------------------------------------------\n"
     ]
    },
    {
     "name": "stderr",
     "output_type": "stream",
     "text": [
      "100%|██████████| 89/89 [00:02<00:00, 29.83it/s]\n"
     ]
    },
    {
     "name": "stdout",
     "output_type": "stream",
     "text": [
      "TRAIN: epoch = 3, loss = 0.587, accuracy = 0.73, f1 = 0.613\n",
      "TEST: loss = 0.609, accuracy = 0.7, f1 = 0.558\n",
      "--------------------------------------------------\n"
     ]
    },
    {
     "name": "stderr",
     "output_type": "stream",
     "text": [
      "100%|██████████| 89/89 [00:03<00:00, 26.75it/s]\n"
     ]
    },
    {
     "name": "stdout",
     "output_type": "stream",
     "text": [
      "TRAIN: epoch = 4, loss = 0.55, accuracy = 0.753, f1 = 0.668\n",
      "TEST: loss = 0.578, accuracy = 0.667, f1 = 0.534\n",
      "--------------------------------------------------\n"
     ]
    },
    {
     "name": "stderr",
     "output_type": "stream",
     "text": [
      "100%|██████████| 89/89 [00:03<00:00, 29.46it/s]\n"
     ]
    },
    {
     "name": "stdout",
     "output_type": "stream",
     "text": [
      "TRAIN: epoch = 5, loss = 0.487, accuracy = 0.809, f1 = 0.772\n",
      "TEST: loss = 0.565, accuracy = 0.733, f1 = 0.683\n",
      "--------------------------------------------------\n"
     ]
    },
    {
     "name": "stderr",
     "output_type": "stream",
     "text": [
      "100%|██████████| 89/89 [00:03<00:00, 27.28it/s]\n"
     ]
    },
    {
     "name": "stdout",
     "output_type": "stream",
     "text": [
      "TRAIN: epoch = 6, loss = 0.453, accuracy = 0.854, f1 = 0.829\n",
      "TEST: loss = 0.56, accuracy = 0.733, f1 = 0.683\n",
      "--------------------------------------------------\n"
     ]
    },
    {
     "name": "stderr",
     "output_type": "stream",
     "text": [
      "100%|██████████| 89/89 [00:03<00:00, 28.33it/s]\n"
     ]
    },
    {
     "name": "stdout",
     "output_type": "stream",
     "text": [
      "TRAIN: epoch = 7, loss = 0.42, accuracy = 0.843, f1 = 0.818\n",
      "TEST: loss = 0.567, accuracy = 0.733, f1 = 0.683\n",
      "--------------------------------------------------\n"
     ]
    },
    {
     "name": "stderr",
     "output_type": "stream",
     "text": [
      "100%|██████████| 89/89 [00:02<00:00, 30.24it/s]\n"
     ]
    },
    {
     "name": "stdout",
     "output_type": "stream",
     "text": [
      "TRAIN: epoch = 8, loss = 0.389, accuracy = 0.854, f1 = 0.832\n",
      "TEST: loss = 0.576, accuracy = 0.733, f1 = 0.683\n",
      "--------------------------------------------------\n"
     ]
    },
    {
     "name": "stderr",
     "output_type": "stream",
     "text": [
      "100%|██████████| 89/89 [00:04<00:00, 19.06it/s]\n"
     ]
    },
    {
     "name": "stdout",
     "output_type": "stream",
     "text": [
      "TRAIN: epoch = 9, loss = 0.373, accuracy = 0.843, f1 = 0.818\n",
      "TEST: loss = 0.593, accuracy = 0.733, f1 = 0.683\n",
      "--------------------------------------------------\n"
     ]
    },
    {
     "name": "stderr",
     "output_type": "stream",
     "text": [
      "100%|██████████| 89/89 [00:04<00:00, 18.99it/s]\n"
     ]
    },
    {
     "name": "stdout",
     "output_type": "stream",
     "text": [
      "TRAIN: epoch = 10, loss = 0.35, accuracy = 0.854, f1 = 0.835\n",
      "TEST: loss = 0.602, accuracy = 0.733, f1 = 0.683\n",
      "--------------------------------------------------\n",
      "\n",
      "===================================================================================\n",
      "\n",
      "Building adjacencies T=15\n"
     ]
    },
    {
     "name": "stderr",
     "output_type": "stream",
     "text": [
      "100%|██████████| 89/89 [00:05<00:00, 15.66it/s]\n"
     ]
    },
    {
     "name": "stdout",
     "output_type": "stream",
     "text": [
      "(89, 241, 32, 32)\n"
     ]
    },
    {
     "name": "stderr",
     "output_type": "stream",
     "text": [
      "100%|██████████| 30/30 [00:01<00:00, 17.67it/s]\n"
     ]
    },
    {
     "name": "stdout",
     "output_type": "stream",
     "text": [
      "(30, 241, 32, 32)\n",
      "T=15, alpha=0.8, NF=5, sigma=0.05\n",
      "Running CNN\n",
      "241\n",
      "\n",
      "===================================================================================\n",
      "\n"
     ]
    },
    {
     "name": "stderr",
     "output_type": "stream",
     "text": [
      "100%|██████████| 89/89 [00:03<00:00, 26.73it/s]\n"
     ]
    },
    {
     "name": "stdout",
     "output_type": "stream",
     "text": [
      "TRAIN: epoch = 1, loss = 0.67, accuracy = 0.562, f1 = 0.514\n",
      "TEST: loss = 0.652, accuracy = 0.633, f1 = 0.388\n",
      "--------------------------------------------------\n"
     ]
    },
    {
     "name": "stderr",
     "output_type": "stream",
     "text": [
      "100%|██████████| 89/89 [00:04<00:00, 20.67it/s]\n"
     ]
    },
    {
     "name": "stdout",
     "output_type": "stream",
     "text": [
      "TRAIN: epoch = 2, loss = 0.668, accuracy = 0.64, f1 = 0.39\n",
      "TEST: loss = 0.647, accuracy = 0.633, f1 = 0.388\n",
      "--------------------------------------------------\n"
     ]
    },
    {
     "name": "stderr",
     "output_type": "stream",
     "text": [
      "100%|██████████| 89/89 [00:10<00:00,  8.90it/s]\n"
     ]
    },
    {
     "name": "stdout",
     "output_type": "stream",
     "text": [
      "TRAIN: epoch = 3, loss = 0.659, accuracy = 0.64, f1 = 0.39\n",
      "TEST: loss = 0.642, accuracy = 0.633, f1 = 0.388\n",
      "--------------------------------------------------\n"
     ]
    },
    {
     "name": "stderr",
     "output_type": "stream",
     "text": [
      "100%|██████████| 89/89 [00:03<00:00, 26.84it/s]\n"
     ]
    },
    {
     "name": "stdout",
     "output_type": "stream",
     "text": [
      "TRAIN: epoch = 4, loss = 0.639, accuracy = 0.64, f1 = 0.39\n",
      "TEST: loss = 0.631, accuracy = 0.633, f1 = 0.388\n",
      "--------------------------------------------------\n"
     ]
    },
    {
     "name": "stderr",
     "output_type": "stream",
     "text": [
      "100%|██████████| 89/89 [00:03<00:00, 22.53it/s]\n"
     ]
    },
    {
     "name": "stdout",
     "output_type": "stream",
     "text": [
      "TRAIN: epoch = 5, loss = 0.617, accuracy = 0.629, f1 = 0.437\n",
      "TEST: loss = 0.623, accuracy = 0.633, f1 = 0.388\n",
      "--------------------------------------------------\n"
     ]
    },
    {
     "name": "stderr",
     "output_type": "stream",
     "text": [
      "100%|██████████| 89/89 [00:04<00:00, 19.03it/s]\n"
     ]
    },
    {
     "name": "stdout",
     "output_type": "stream",
     "text": [
      "TRAIN: epoch = 6, loss = 0.601, accuracy = 0.697, f1 = 0.572\n",
      "TEST: loss = 0.617, accuracy = 0.667, f1 = 0.534\n",
      "--------------------------------------------------\n"
     ]
    },
    {
     "name": "stderr",
     "output_type": "stream",
     "text": [
      "100%|██████████| 89/89 [00:02<00:00, 30.17it/s]\n"
     ]
    },
    {
     "name": "stdout",
     "output_type": "stream",
     "text": [
      "TRAIN: epoch = 7, loss = 0.564, accuracy = 0.787, f1 = 0.725\n",
      "TEST: loss = 0.615, accuracy = 0.7, f1 = 0.6\n",
      "--------------------------------------------------\n"
     ]
    },
    {
     "name": "stderr",
     "output_type": "stream",
     "text": [
      "100%|██████████| 89/89 [00:03<00:00, 29.11it/s]\n"
     ]
    },
    {
     "name": "stdout",
     "output_type": "stream",
     "text": [
      "TRAIN: epoch = 8, loss = 0.558, accuracy = 0.708, f1 = 0.638\n",
      "TEST: loss = 0.613, accuracy = 0.7, f1 = 0.6\n",
      "--------------------------------------------------\n"
     ]
    },
    {
     "name": "stderr",
     "output_type": "stream",
     "text": [
      "100%|██████████| 89/89 [00:03<00:00, 29.57it/s]\n"
     ]
    },
    {
     "name": "stdout",
     "output_type": "stream",
     "text": [
      "TRAIN: epoch = 9, loss = 0.5, accuracy = 0.764, f1 = 0.704\n",
      "TEST: loss = 0.606, accuracy = 0.733, f1 = 0.659\n",
      "--------------------------------------------------\n"
     ]
    },
    {
     "name": "stderr",
     "output_type": "stream",
     "text": [
      "100%|██████████| 89/89 [00:03<00:00, 29.25it/s]\n"
     ]
    },
    {
     "name": "stdout",
     "output_type": "stream",
     "text": [
      "TRAIN: epoch = 10, loss = 0.471, accuracy = 0.82, f1 = 0.792\n",
      "TEST: loss = 0.612, accuracy = 0.7, f1 = 0.6\n",
      "--------------------------------------------------\n",
      "\n",
      "===================================================================================\n",
      "\n",
      "Building adjacencies T=15\n"
     ]
    },
    {
     "name": "stderr",
     "output_type": "stream",
     "text": [
      "100%|██████████| 89/89 [00:04<00:00, 20.56it/s]\n"
     ]
    },
    {
     "name": "stdout",
     "output_type": "stream",
     "text": [
      "(89, 241, 32, 32)\n"
     ]
    },
    {
     "name": "stderr",
     "output_type": "stream",
     "text": [
      "100%|██████████| 30/30 [00:01<00:00, 17.11it/s]\n"
     ]
    },
    {
     "name": "stdout",
     "output_type": "stream",
     "text": [
      "(30, 241, 32, 32)\n",
      "T=15, alpha=0.8, NF=1, sigma=0\n",
      "Running CNN\n",
      "241\n",
      "\n",
      "===================================================================================\n",
      "\n"
     ]
    },
    {
     "name": "stderr",
     "output_type": "stream",
     "text": [
      "100%|██████████| 89/89 [00:03<00:00, 28.22it/s]\n"
     ]
    },
    {
     "name": "stdout",
     "output_type": "stream",
     "text": [
      "TRAIN: epoch = 1, loss = 0.672, accuracy = 0.618, f1 = 0.382\n",
      "TEST: loss = 0.651, accuracy = 0.633, f1 = 0.388\n",
      "--------------------------------------------------\n"
     ]
    },
    {
     "name": "stderr",
     "output_type": "stream",
     "text": [
      "100%|██████████| 89/89 [00:03<00:00, 29.65it/s]\n"
     ]
    },
    {
     "name": "stdout",
     "output_type": "stream",
     "text": [
      "TRAIN: epoch = 2, loss = 0.663, accuracy = 0.64, f1 = 0.39\n",
      "TEST: loss = 0.648, accuracy = 0.633, f1 = 0.388\n",
      "--------------------------------------------------\n"
     ]
    },
    {
     "name": "stderr",
     "output_type": "stream",
     "text": [
      "100%|██████████| 89/89 [00:02<00:00, 29.98it/s]\n"
     ]
    },
    {
     "name": "stdout",
     "output_type": "stream",
     "text": [
      "TRAIN: epoch = 3, loss = 0.649, accuracy = 0.64, f1 = 0.39\n",
      "TEST: loss = 0.645, accuracy = 0.633, f1 = 0.388\n",
      "--------------------------------------------------\n"
     ]
    },
    {
     "name": "stderr",
     "output_type": "stream",
     "text": [
      "100%|██████████| 89/89 [00:05<00:00, 15.47it/s]\n"
     ]
    },
    {
     "name": "stdout",
     "output_type": "stream",
     "text": [
      "TRAIN: epoch = 4, loss = 0.65, accuracy = 0.64, f1 = 0.39\n",
      "TEST: loss = 0.636, accuracy = 0.633, f1 = 0.388\n",
      "--------------------------------------------------\n"
     ]
    },
    {
     "name": "stderr",
     "output_type": "stream",
     "text": [
      "100%|██████████| 89/89 [00:02<00:00, 32.93it/s]\n"
     ]
    },
    {
     "name": "stdout",
     "output_type": "stream",
     "text": [
      "TRAIN: epoch = 5, loss = 0.618, accuracy = 0.685, f1 = 0.513\n",
      "TEST: loss = 0.625, accuracy = 0.633, f1 = 0.388\n",
      "--------------------------------------------------\n"
     ]
    },
    {
     "name": "stderr",
     "output_type": "stream",
     "text": [
      "100%|██████████| 89/89 [00:02<00:00, 32.45it/s]\n"
     ]
    },
    {
     "name": "stdout",
     "output_type": "stream",
     "text": [
      "TRAIN: epoch = 6, loss = 0.607, accuracy = 0.719, f1 = 0.59\n",
      "TEST: loss = 0.613, accuracy = 0.667, f1 = 0.534\n",
      "--------------------------------------------------\n"
     ]
    },
    {
     "name": "stderr",
     "output_type": "stream",
     "text": [
      "100%|██████████| 89/89 [00:02<00:00, 32.51it/s]\n"
     ]
    },
    {
     "name": "stdout",
     "output_type": "stream",
     "text": [
      "TRAIN: epoch = 7, loss = 0.559, accuracy = 0.742, f1 = 0.668\n",
      "TEST: loss = 0.607, accuracy = 0.667, f1 = 0.534\n",
      "--------------------------------------------------\n"
     ]
    },
    {
     "name": "stderr",
     "output_type": "stream",
     "text": [
      "100%|██████████| 89/89 [00:03<00:00, 26.57it/s]\n"
     ]
    },
    {
     "name": "stdout",
     "output_type": "stream",
     "text": [
      "TRAIN: epoch = 8, loss = 0.529, accuracy = 0.775, f1 = 0.734\n",
      "TEST: loss = 0.608, accuracy = 0.633, f1 = 0.511\n",
      "--------------------------------------------------\n"
     ]
    },
    {
     "name": "stderr",
     "output_type": "stream",
     "text": [
      "100%|██████████| 89/89 [00:09<00:00,  9.52it/s]\n"
     ]
    },
    {
     "name": "stdout",
     "output_type": "stream",
     "text": [
      "TRAIN: epoch = 9, loss = 0.515, accuracy = 0.787, f1 = 0.745\n",
      "TEST: loss = 0.611, accuracy = 0.633, f1 = 0.549\n",
      "--------------------------------------------------\n"
     ]
    },
    {
     "name": "stderr",
     "output_type": "stream",
     "text": [
      "100%|██████████| 89/89 [00:02<00:00, 30.83it/s]\n"
     ]
    },
    {
     "name": "stdout",
     "output_type": "stream",
     "text": [
      "TRAIN: epoch = 10, loss = 0.484, accuracy = 0.764, f1 = 0.734\n",
      "TEST: loss = 0.637, accuracy = 0.633, f1 = 0.511\n",
      "--------------------------------------------------\n",
      "\n",
      "===================================================================================\n",
      "\n",
      "Building adjacencies T=15\n"
     ]
    },
    {
     "name": "stderr",
     "output_type": "stream",
     "text": [
      "100%|██████████| 89/89 [00:04<00:00, 20.19it/s]\n"
     ]
    },
    {
     "name": "stdout",
     "output_type": "stream",
     "text": [
      "(89, 241, 32, 32)\n"
     ]
    },
    {
     "name": "stderr",
     "output_type": "stream",
     "text": [
      "100%|██████████| 30/30 [00:01<00:00, 20.19it/s]\n"
     ]
    },
    {
     "name": "stdout",
     "output_type": "stream",
     "text": [
      "(30, 241, 32, 32)\n",
      "T=15, alpha=0.5, NF=5, sigma=0.1\n",
      "Running CNN\n",
      "241\n",
      "\n",
      "===================================================================================\n",
      "\n"
     ]
    },
    {
     "name": "stderr",
     "output_type": "stream",
     "text": [
      "100%|██████████| 89/89 [00:03<00:00, 22.59it/s]\n"
     ]
    },
    {
     "name": "stdout",
     "output_type": "stream",
     "text": [
      "TRAIN: epoch = 1, loss = 0.656, accuracy = 0.596, f1 = 0.398\n",
      "TEST: loss = 0.647, accuracy = 0.633, f1 = 0.388\n",
      "--------------------------------------------------\n"
     ]
    },
    {
     "name": "stderr",
     "output_type": "stream",
     "text": [
      "100%|██████████| 89/89 [00:10<00:00,  8.50it/s]\n"
     ]
    },
    {
     "name": "stdout",
     "output_type": "stream",
     "text": [
      "TRAIN: epoch = 2, loss = 0.622, accuracy = 0.64, f1 = 0.39\n",
      "TEST: loss = 0.635, accuracy = 0.633, f1 = 0.388\n",
      "--------------------------------------------------\n"
     ]
    },
    {
     "name": "stderr",
     "output_type": "stream",
     "text": [
      "100%|██████████| 89/89 [00:03<00:00, 28.44it/s]\n"
     ]
    },
    {
     "name": "stdout",
     "output_type": "stream",
     "text": [
      "TRAIN: epoch = 3, loss = 0.611, accuracy = 0.652, f1 = 0.449\n",
      "TEST: loss = 0.621, accuracy = 0.633, f1 = 0.388\n",
      "--------------------------------------------------\n"
     ]
    },
    {
     "name": "stderr",
     "output_type": "stream",
     "text": [
      "100%|██████████| 89/89 [00:03<00:00, 29.05it/s]\n"
     ]
    },
    {
     "name": "stdout",
     "output_type": "stream",
     "text": [
      "TRAIN: epoch = 4, loss = 0.559, accuracy = 0.753, f1 = 0.657\n",
      "TEST: loss = 0.613, accuracy = 0.633, f1 = 0.46\n",
      "--------------------------------------------------\n"
     ]
    },
    {
     "name": "stderr",
     "output_type": "stream",
     "text": [
      "100%|██████████| 89/89 [00:02<00:00, 31.60it/s]\n"
     ]
    },
    {
     "name": "stdout",
     "output_type": "stream",
     "text": [
      "TRAIN: epoch = 5, loss = 0.522, accuracy = 0.764, f1 = 0.711\n",
      "TEST: loss = 0.603, accuracy = 0.667, f1 = 0.574\n",
      "--------------------------------------------------\n"
     ]
    },
    {
     "name": "stderr",
     "output_type": "stream",
     "text": [
      "100%|██████████| 89/89 [00:08<00:00, 10.56it/s]\n"
     ]
    },
    {
     "name": "stdout",
     "output_type": "stream",
     "text": [
      "TRAIN: epoch = 6, loss = 0.473, accuracy = 0.798, f1 = 0.77\n",
      "TEST: loss = 0.608, accuracy = 0.7, f1 = 0.631\n",
      "--------------------------------------------------\n"
     ]
    },
    {
     "name": "stderr",
     "output_type": "stream",
     "text": [
      "100%|██████████| 89/89 [00:03<00:00, 28.88it/s]\n"
     ]
    },
    {
     "name": "stdout",
     "output_type": "stream",
     "text": [
      "TRAIN: epoch = 7, loss = 0.45, accuracy = 0.787, f1 = 0.75\n",
      "TEST: loss = 0.612, accuracy = 0.7, f1 = 0.631\n",
      "--------------------------------------------------\n"
     ]
    },
    {
     "name": "stderr",
     "output_type": "stream",
     "text": [
      "100%|██████████| 89/89 [00:02<00:00, 30.63it/s]\n"
     ]
    },
    {
     "name": "stdout",
     "output_type": "stream",
     "text": [
      "TRAIN: epoch = 8, loss = 0.416, accuracy = 0.843, f1 = 0.821\n",
      "TEST: loss = 0.617, accuracy = 0.667, f1 = 0.603\n",
      "--------------------------------------------------\n"
     ]
    },
    {
     "name": "stderr",
     "output_type": "stream",
     "text": [
      "100%|██████████| 89/89 [00:03<00:00, 28.45it/s]\n"
     ]
    },
    {
     "name": "stdout",
     "output_type": "stream",
     "text": [
      "TRAIN: epoch = 9, loss = 0.344, accuracy = 0.854, f1 = 0.835\n",
      "TEST: loss = 0.637, accuracy = 0.667, f1 = 0.603\n",
      "--------------------------------------------------\n"
     ]
    },
    {
     "name": "stderr",
     "output_type": "stream",
     "text": [
      "100%|██████████| 89/89 [00:04<00:00, 18.36it/s]\n"
     ]
    },
    {
     "name": "stdout",
     "output_type": "stream",
     "text": [
      "TRAIN: epoch = 10, loss = 0.344, accuracy = 0.876, f1 = 0.865\n",
      "TEST: loss = 0.648, accuracy = 0.667, f1 = 0.603\n",
      "--------------------------------------------------\n",
      "\n",
      "===================================================================================\n",
      "\n",
      "Building adjacencies T=15\n"
     ]
    },
    {
     "name": "stderr",
     "output_type": "stream",
     "text": [
      "100%|██████████| 89/89 [00:05<00:00, 15.71it/s]\n"
     ]
    },
    {
     "name": "stdout",
     "output_type": "stream",
     "text": [
      "(89, 241, 32, 32)\n"
     ]
    },
    {
     "name": "stderr",
     "output_type": "stream",
     "text": [
      "100%|██████████| 30/30 [00:01<00:00, 19.75it/s]\n"
     ]
    },
    {
     "name": "stdout",
     "output_type": "stream",
     "text": [
      "(30, 241, 32, 32)\n",
      "T=15, alpha=0.5, NF=5, sigma=0.2\n",
      "Running CNN\n",
      "241\n",
      "\n",
      "===================================================================================\n",
      "\n"
     ]
    },
    {
     "name": "stderr",
     "output_type": "stream",
     "text": [
      "100%|██████████| 89/89 [00:03<00:00, 25.11it/s]\n"
     ]
    },
    {
     "name": "stdout",
     "output_type": "stream",
     "text": [
      "TRAIN: epoch = 1, loss = 0.644, accuracy = 0.64, f1 = 0.484\n",
      "TEST: loss = 0.631, accuracy = 0.633, f1 = 0.388\n",
      "--------------------------------------------------\n"
     ]
    },
    {
     "name": "stderr",
     "output_type": "stream",
     "text": [
      "100%|██████████| 89/89 [00:09<00:00,  9.22it/s]\n"
     ]
    },
    {
     "name": "stdout",
     "output_type": "stream",
     "text": [
      "TRAIN: epoch = 2, loss = 0.619, accuracy = 0.652, f1 = 0.491\n",
      "TEST: loss = 0.614, accuracy = 0.633, f1 = 0.388\n",
      "--------------------------------------------------\n"
     ]
    },
    {
     "name": "stderr",
     "output_type": "stream",
     "text": [
      "100%|██████████| 89/89 [00:02<00:00, 31.49it/s]\n"
     ]
    },
    {
     "name": "stdout",
     "output_type": "stream",
     "text": [
      "TRAIN: epoch = 3, loss = 0.558, accuracy = 0.753, f1 = 0.686\n",
      "TEST: loss = 0.578, accuracy = 0.7, f1 = 0.653\n",
      "--------------------------------------------------\n"
     ]
    },
    {
     "name": "stderr",
     "output_type": "stream",
     "text": [
      "100%|██████████| 89/89 [00:03<00:00, 28.05it/s]\n"
     ]
    },
    {
     "name": "stdout",
     "output_type": "stream",
     "text": [
      "TRAIN: epoch = 4, loss = 0.544, accuracy = 0.742, f1 = 0.703\n",
      "TEST: loss = 0.561, accuracy = 0.667, f1 = 0.625\n",
      "--------------------------------------------------\n"
     ]
    },
    {
     "name": "stderr",
     "output_type": "stream",
     "text": [
      "100%|██████████| 89/89 [00:04<00:00, 21.04it/s]\n"
     ]
    },
    {
     "name": "stdout",
     "output_type": "stream",
     "text": [
      "TRAIN: epoch = 5, loss = 0.473, accuracy = 0.831, f1 = 0.806\n",
      "TEST: loss = 0.562, accuracy = 0.667, f1 = 0.625\n",
      "--------------------------------------------------\n"
     ]
    },
    {
     "name": "stderr",
     "output_type": "stream",
     "text": [
      "100%|██████████| 89/89 [00:10<00:00,  8.85it/s]\n"
     ]
    },
    {
     "name": "stdout",
     "output_type": "stream",
     "text": [
      "TRAIN: epoch = 6, loss = 0.425, accuracy = 0.876, f1 = 0.863\n",
      "TEST: loss = 0.569, accuracy = 0.667, f1 = 0.625\n",
      "--------------------------------------------------\n"
     ]
    },
    {
     "name": "stderr",
     "output_type": "stream",
     "text": [
      "100%|██████████| 89/89 [00:03<00:00, 29.03it/s]\n"
     ]
    },
    {
     "name": "stdout",
     "output_type": "stream",
     "text": [
      "TRAIN: epoch = 7, loss = 0.387, accuracy = 0.843, f1 = 0.829\n",
      "TEST: loss = 0.586, accuracy = 0.667, f1 = 0.625\n",
      "--------------------------------------------------\n"
     ]
    },
    {
     "name": "stderr",
     "output_type": "stream",
     "text": [
      "100%|██████████| 89/89 [00:03<00:00, 28.56it/s]\n"
     ]
    },
    {
     "name": "stdout",
     "output_type": "stream",
     "text": [
      "TRAIN: epoch = 8, loss = 0.37, accuracy = 0.865, f1 = 0.852\n",
      "TEST: loss = 0.592, accuracy = 0.667, f1 = 0.625\n",
      "--------------------------------------------------\n"
     ]
    },
    {
     "name": "stderr",
     "output_type": "stream",
     "text": [
      "100%|██████████| 89/89 [00:02<00:00, 30.34it/s]\n"
     ]
    },
    {
     "name": "stdout",
     "output_type": "stream",
     "text": [
      "TRAIN: epoch = 9, loss = 0.327, accuracy = 0.876, f1 = 0.863\n",
      "TEST: loss = 0.619, accuracy = 0.7, f1 = 0.653\n",
      "--------------------------------------------------\n"
     ]
    },
    {
     "name": "stderr",
     "output_type": "stream",
     "text": [
      "100%|██████████| 89/89 [00:05<00:00, 16.01it/s]\n"
     ]
    },
    {
     "name": "stdout",
     "output_type": "stream",
     "text": [
      "TRAIN: epoch = 10, loss = 0.309, accuracy = 0.888, f1 = 0.874\n",
      "TEST: loss = 0.622, accuracy = 0.7, f1 = 0.653\n",
      "--------------------------------------------------\n",
      "\n",
      "===================================================================================\n",
      "\n",
      "Building adjacencies T=15\n"
     ]
    },
    {
     "name": "stderr",
     "output_type": "stream",
     "text": [
      "100%|██████████| 89/89 [00:04<00:00, 18.95it/s]\n"
     ]
    },
    {
     "name": "stdout",
     "output_type": "stream",
     "text": [
      "(89, 241, 32, 32)\n"
     ]
    },
    {
     "name": "stderr",
     "output_type": "stream",
     "text": [
      "100%|██████████| 30/30 [00:01<00:00, 15.77it/s]\n"
     ]
    },
    {
     "name": "stdout",
     "output_type": "stream",
     "text": [
      "(30, 241, 32, 32)\n",
      "T=15, alpha=0.5, NF=5, sigma=0.3\n",
      "Running CNN\n",
      "241\n",
      "\n",
      "===================================================================================\n",
      "\n"
     ]
    },
    {
     "name": "stderr",
     "output_type": "stream",
     "text": [
      "100%|██████████| 89/89 [00:03<00:00, 29.21it/s]\n"
     ]
    },
    {
     "name": "stdout",
     "output_type": "stream",
     "text": [
      "TRAIN: epoch = 1, loss = 0.649, accuracy = 0.674, f1 = 0.602\n",
      "TEST: loss = 0.669, accuracy = 0.633, f1 = 0.511\n",
      "--------------------------------------------------\n"
     ]
    },
    {
     "name": "stderr",
     "output_type": "stream",
     "text": [
      "100%|██████████| 89/89 [00:03<00:00, 25.77it/s]\n"
     ]
    },
    {
     "name": "stdout",
     "output_type": "stream",
     "text": [
      "TRAIN: epoch = 2, loss = 0.578, accuracy = 0.73, f1 = 0.638\n",
      "TEST: loss = 0.696, accuracy = 0.633, f1 = 0.511\n",
      "--------------------------------------------------\n"
     ]
    },
    {
     "name": "stderr",
     "output_type": "stream",
     "text": [
      "100%|██████████| 89/89 [00:09<00:00,  9.09it/s]\n"
     ]
    },
    {
     "name": "stdout",
     "output_type": "stream",
     "text": [
      "TRAIN: epoch = 3, loss = 0.499, accuracy = 0.775, f1 = 0.728\n",
      "TEST: loss = 0.739, accuracy = 0.6, f1 = 0.489\n",
      "--------------------------------------------------\n"
     ]
    },
    {
     "name": "stderr",
     "output_type": "stream",
     "text": [
      "100%|██████████| 89/89 [00:02<00:00, 29.87it/s]\n"
     ]
    },
    {
     "name": "stdout",
     "output_type": "stream",
     "text": [
      "TRAIN: epoch = 4, loss = 0.442, accuracy = 0.798, f1 = 0.761\n",
      "TEST: loss = 0.782, accuracy = 0.6, f1 = 0.489\n",
      "--------------------------------------------------\n"
     ]
    },
    {
     "name": "stderr",
     "output_type": "stream",
     "text": [
      "100%|██████████| 89/89 [00:05<00:00, 15.04it/s]\n"
     ]
    },
    {
     "name": "stdout",
     "output_type": "stream",
     "text": [
      "TRAIN: epoch = 5, loss = 0.413, accuracy = 0.854, f1 = 0.838\n",
      "TEST: loss = 0.814, accuracy = 0.567, f1 = 0.466\n",
      "--------------------------------------------------\n"
     ]
    },
    {
     "name": "stderr",
     "output_type": "stream",
     "text": [
      "100%|██████████| 89/89 [00:03<00:00, 25.71it/s]\n"
     ]
    },
    {
     "name": "stdout",
     "output_type": "stream",
     "text": [
      "TRAIN: epoch = 6, loss = 0.359, accuracy = 0.865, f1 = 0.847\n",
      "TEST: loss = 0.845, accuracy = 0.533, f1 = 0.444\n",
      "--------------------------------------------------\n"
     ]
    },
    {
     "name": "stderr",
     "output_type": "stream",
     "text": [
      "100%|██████████| 89/89 [00:03<00:00, 27.81it/s]\n"
     ]
    },
    {
     "name": "stdout",
     "output_type": "stream",
     "text": [
      "TRAIN: epoch = 7, loss = 0.339, accuracy = 0.854, f1 = 0.838\n",
      "TEST: loss = 0.853, accuracy = 0.567, f1 = 0.466\n",
      "--------------------------------------------------\n"
     ]
    },
    {
     "name": "stderr",
     "output_type": "stream",
     "text": [
      "100%|██████████| 89/89 [00:03<00:00, 28.81it/s]\n"
     ]
    },
    {
     "name": "stdout",
     "output_type": "stream",
     "text": [
      "TRAIN: epoch = 8, loss = 0.283, accuracy = 0.933, f1 = 0.925\n",
      "TEST: loss = 0.863, accuracy = 0.567, f1 = 0.466\n",
      "--------------------------------------------------\n"
     ]
    },
    {
     "name": "stderr",
     "output_type": "stream",
     "text": [
      "100%|██████████| 89/89 [00:07<00:00, 11.27it/s]\n"
     ]
    },
    {
     "name": "stdout",
     "output_type": "stream",
     "text": [
      "TRAIN: epoch = 9, loss = 0.256, accuracy = 0.955, f1 = 0.95\n",
      "TEST: loss = 0.885, accuracy = 0.567, f1 = 0.466\n",
      "--------------------------------------------------\n"
     ]
    },
    {
     "name": "stderr",
     "output_type": "stream",
     "text": [
      "100%|██████████| 89/89 [00:03<00:00, 27.87it/s]\n"
     ]
    },
    {
     "name": "stdout",
     "output_type": "stream",
     "text": [
      "TRAIN: epoch = 10, loss = 0.245, accuracy = 0.944, f1 = 0.938\n",
      "TEST: loss = 0.871, accuracy = 0.6, f1 = 0.524\n",
      "--------------------------------------------------\n",
      "\n",
      "===================================================================================\n",
      "\n",
      "Building adjacencies T=15\n"
     ]
    },
    {
     "name": "stderr",
     "output_type": "stream",
     "text": [
      "100%|██████████| 89/89 [00:04<00:00, 19.29it/s]\n"
     ]
    },
    {
     "name": "stdout",
     "output_type": "stream",
     "text": [
      "(89, 241, 32, 32)\n"
     ]
    },
    {
     "name": "stderr",
     "output_type": "stream",
     "text": [
      "100%|██████████| 30/30 [00:01<00:00, 15.37it/s]\n"
     ]
    },
    {
     "name": "stdout",
     "output_type": "stream",
     "text": [
      "(30, 241, 32, 32)\n",
      "T=15, alpha=0.8, NF=10, sigma=0\n",
      "Running CNN\n",
      "241\n",
      "\n",
      "===================================================================================\n",
      "\n"
     ]
    },
    {
     "name": "stderr",
     "output_type": "stream",
     "text": [
      "100%|██████████| 89/89 [00:03<00:00, 22.91it/s]\n"
     ]
    },
    {
     "name": "stdout",
     "output_type": "stream",
     "text": [
      "TRAIN: epoch = 1, loss = 0.711, accuracy = 0.461, f1 = 0.46\n",
      "TEST: loss = 0.655, accuracy = 0.633, f1 = 0.388\n",
      "--------------------------------------------------\n"
     ]
    },
    {
     "name": "stderr",
     "output_type": "stream",
     "text": [
      "100%|██████████| 89/89 [00:10<00:00,  8.52it/s]\n"
     ]
    },
    {
     "name": "stdout",
     "output_type": "stream",
     "text": [
      "TRAIN: epoch = 2, loss = 0.63, accuracy = 0.674, f1 = 0.602\n",
      "TEST: loss = 0.622, accuracy = 0.6, f1 = 0.375\n",
      "--------------------------------------------------\n"
     ]
    },
    {
     "name": "stderr",
     "output_type": "stream",
     "text": [
      "100%|██████████| 89/89 [00:02<00:00, 29.71it/s]\n"
     ]
    },
    {
     "name": "stdout",
     "output_type": "stream",
     "text": [
      "TRAIN: epoch = 3, loss = 0.556, accuracy = 0.798, f1 = 0.761\n",
      "TEST: loss = 0.593, accuracy = 0.733, f1 = 0.683\n",
      "--------------------------------------------------\n"
     ]
    },
    {
     "name": "stderr",
     "output_type": "stream",
     "text": [
      "100%|██████████| 89/89 [00:04<00:00, 19.66it/s]\n"
     ]
    },
    {
     "name": "stdout",
     "output_type": "stream",
     "text": [
      "TRAIN: epoch = 4, loss = 0.48, accuracy = 0.82, f1 = 0.802\n",
      "TEST: loss = 0.584, accuracy = 0.733, f1 = 0.659\n",
      "--------------------------------------------------\n"
     ]
    },
    {
     "name": "stderr",
     "output_type": "stream",
     "text": [
      "100%|██████████| 89/89 [00:05<00:00, 16.03it/s]\n"
     ]
    },
    {
     "name": "stdout",
     "output_type": "stream",
     "text": [
      "TRAIN: epoch = 5, loss = 0.437, accuracy = 0.809, f1 = 0.788\n",
      "TEST: loss = 0.577, accuracy = 0.767, f1 = 0.713\n",
      "--------------------------------------------------\n"
     ]
    },
    {
     "name": "stderr",
     "output_type": "stream",
     "text": [
      "100%|██████████| 89/89 [00:03<00:00, 29.23it/s]\n"
     ]
    },
    {
     "name": "stdout",
     "output_type": "stream",
     "text": [
      "TRAIN: epoch = 6, loss = 0.384, accuracy = 0.843, f1 = 0.824\n",
      "TEST: loss = 0.601, accuracy = 0.733, f1 = 0.659\n",
      "--------------------------------------------------\n"
     ]
    },
    {
     "name": "stderr",
     "output_type": "stream",
     "text": [
      "100%|██████████| 89/89 [00:03<00:00, 28.55it/s]\n"
     ]
    },
    {
     "name": "stdout",
     "output_type": "stream",
     "text": [
      "TRAIN: epoch = 7, loss = 0.368, accuracy = 0.865, f1 = 0.849\n",
      "TEST: loss = 0.608, accuracy = 0.733, f1 = 0.659\n",
      "--------------------------------------------------\n"
     ]
    },
    {
     "name": "stderr",
     "output_type": "stream",
     "text": [
      "100%|██████████| 89/89 [00:03<00:00, 25.97it/s]\n"
     ]
    },
    {
     "name": "stdout",
     "output_type": "stream",
     "text": [
      "TRAIN: epoch = 8, loss = 0.319, accuracy = 0.899, f1 = 0.886\n",
      "TEST: loss = 0.626, accuracy = 0.733, f1 = 0.659\n",
      "--------------------------------------------------\n"
     ]
    },
    {
     "name": "stderr",
     "output_type": "stream",
     "text": [
      "100%|██████████| 89/89 [00:09<00:00,  9.34it/s]\n"
     ]
    },
    {
     "name": "stdout",
     "output_type": "stream",
     "text": [
      "TRAIN: epoch = 9, loss = 0.309, accuracy = 0.899, f1 = 0.886\n",
      "TEST: loss = 0.632, accuracy = 0.733, f1 = 0.683\n",
      "--------------------------------------------------\n"
     ]
    },
    {
     "name": "stderr",
     "output_type": "stream",
     "text": [
      "100%|██████████| 89/89 [00:03<00:00, 29.53it/s]\n"
     ]
    },
    {
     "name": "stdout",
     "output_type": "stream",
     "text": [
      "TRAIN: epoch = 10, loss = 0.309, accuracy = 0.888, f1 = 0.87\n",
      "TEST: loss = 0.632, accuracy = 0.733, f1 = 0.683\n",
      "--------------------------------------------------\n",
      "\n",
      "===================================================================================\n",
      "\n"
     ]
    }
   ],
   "source": [
    "Ts = [15, 25, 15, 15, 15, 15, 15, 15, 15]\n",
    "alphas = [0.8, 0.8, 0.5, 0.8, 0.8, 0.5, 0.5, 0.5, 0.8]\n",
    "sigmas = [0, 0, 0, 0.05, 0, 0.1, 0.2, 0.3, 0]\n",
    "NFs = [5, 5, 5, 5, 1, 5, 5, 5, 10]\n",
    "\n",
    "cnn_results = []\n",
    "\n",
    "for i in range(len(Ts)):\n",
    "    T, alpha, sigma, NF = Ts[i], alphas[i], sigmas[i], NFs[i]\n",
    "    if sigma != 0:\n",
    "        sigma_train = sps.norm(0, sigma*X_train.var(axis=-1)[..., None]).rvs(size=(X_train.shape))\n",
    "        sigma_test = sps.norm(0, sigma*X_test.var(axis=-1)[..., None]).rvs(size=(X_test.shape))\n",
    "        X_train += sigma_train\n",
    "        X_test += sigma_test\n",
    "\n",
    "    print(f'Building adjacencies T={T}')\n",
    "    build_adjacencies(X_train, 'dataset/adj_Pears_{}_train.npy'.format(T), T)\n",
    "    build_adjacencies(X_test, 'dataset/adj_Pears_{}_test.npy'.format(T), T)\n",
    "\n",
    "    print(f'T={T}, alpha={alpha}, NF={NF}, sigma={sigma}')\n",
    "    print(\"Running CNN\")\n",
    "    best_acc, best_f1_score, train_losses_arrays, test_losses_arrays = conduct_experiment(T, num_epochs=10, alpha=alpha, NF=NF, gcn=False, cnn=True)\n",
    "    gcn_results.append({\n",
    "        'best_acc' : best_acc,\n",
    "        'best_f1_score' : best_f1_score,\n",
    "        'train_losses_arrays' : train_losses_arrays,\n",
    "        'test_losses_arrays' : test_losses_arrays\n",
    "    })\n",
    "\n",
    "    if sigma != 0:\n",
    "        X_train -= sigma_train\n",
    "        X_test -= sigma_test"
   ]
  },
  {
   "cell_type": "code",
   "execution_count": 148,
   "id": "2e9d9195",
   "metadata": {},
   "outputs": [],
   "source": [
    "Ts = [15, 25, 15, 15, 15, 15, 15, 15, 15]\n",
    "alphas = [0.8, 0.8, 0.5, 0.8, 0.8, 0.5, 0.5, 0.5, 0.8]\n",
    "sigmas = [0, 0, 0, 0.05, 0, 0.1, 0.2, 0.3, 0]\n",
    "NFs = [5, 5, 5, 5, 1, 5, 5, 5, 10]\n",
    "\n",
    "results = {\n",
    "    'T' : Ts,\n",
    "    'alpha' : alphas,\n",
    "    'sigma' : sigmas,\n",
    "    'NF' : NFs,\n",
    "    'gcn' : [{k : v.tolist() if isinstance(v, np.ndarray) else v for k, v in x.items()} for x in gcn_results],\n",
    "    'grand' : [{k : v.tolist() if isinstance(v, np.ndarray) else v for k, v in x.items()} for x in grand_results],\n",
    "    'blend' : [{k : v.tolist() if isinstance(v, np.ndarray) else v for k, v in x.items()} for x in beltrami_results],\n",
    "    'cnn' : [{k : v.tolist() if isinstance(v, np.ndarray) else v for k, v in x.items()} for x in cnn_results]\n",
    "}\n",
    "\n",
    "import json\n",
    "with open('results.json', 'w') as f:\n",
    "    json.dump(results, f)"
   ]
  },
  {
   "cell_type": "code",
   "execution_count": 108,
   "id": "763a8294-2490-4e0c-8152-6c5917f0cce0",
   "metadata": {},
   "outputs": [
    {
     "data": {
      "image/png": "[encoded data removed]",
      "text/plain": [
       "<Figure size 800x800 with 1 Axes>"
      ]
     },
     "metadata": {},
     "output_type": "display_data"
    },
    {
     "name": "stdout",
     "output_type": "stream",
     "text": [
      "0.7619047619047619 0.8\n"
     ]
    }
   ],
   "source": [
    "plot_training_curves(train_losses_arrays, test_losses_arrays, T = 5, save = True)\n",
    "print(best_f1_score, best_acc)\n",
    "best_f1_scores.append(best_f1_score)\n",
    "best_accs.append(best_acc)"
   ]
  },
  {
   "cell_type": "code",
   "execution_count": 66,
   "id": "8598748d",
   "metadata": {},
   "outputs": [
    {
     "data": {
      "image/png": "[encoded data removed]",
      "text/plain": [
       "<Figure size 800x800 with 1 Axes>"
      ]
     },
     "metadata": {},
     "output_type": "display_data"
    },
    {
     "name": "stdout",
     "output_type": "stream",
     "text": [
      "0.730423620025674 0.7666666666666667\n"
     ]
    }
   ],
   "source": [
    "plot_training_curves(train_losses_arrays, test_losses_arrays, T = 5, save = False)\n",
    "print(best_f1_score, best_acc)\n",
    "# best_f1_scores.append(best_f1_score)\n",
    "# best_accs.append(best_acc)"
   ]
  },
  {
   "cell_type": "code",
   "execution_count": 18,
   "id": "36d2a8d8-296e-4f7b-bb3b-ca4bfac36210",
   "metadata": {},
   "outputs": [
    {
     "ename": "NameError",
     "evalue": "name 'best_f1_scores' is not defined",
     "output_type": "error",
     "traceback": [
      "\u001b[0;31m---------------------------------------------------------------------------\u001b[0m",
      "\u001b[0;31mNameError\u001b[0m                                 Traceback (most recent call last)",
      "Cell \u001b[0;32mIn[18], line 1\u001b[0m\n\u001b[0;32m----> 1\u001b[0m \u001b[43mbest_f1_scores\u001b[49m\n",
      "\u001b[0;31mNameError\u001b[0m: name 'best_f1_scores' is not defined"
     ]
    }
   ],
   "source": [
    "best_f1_scores"
   ]
  },
  {
   "cell_type": "code",
   "execution_count": 109,
   "id": "270e67d7-497d-4ba6-bd26-b2c16f536231",
   "metadata": {},
   "outputs": [
    {
     "data": {
      "text/plain": [
       "[0.7619047619047619,\n",
       " 0.7619047619047619,\n",
       " 0.7,\n",
       " 0.6590909090909092,\n",
       " 0.7619047619047619]"
      ]
     },
     "execution_count": 109,
     "metadata": {},
     "output_type": "execute_result"
    }
   ],
   "source": [
    "best_f1_scores"
   ]
  },
  {
   "cell_type": "code",
   "execution_count": 110,
   "id": "d4bf17f2-4ab4-4855-8953-95ffebf26f7f",
   "metadata": {},
   "outputs": [
    {
     "data": {
      "text/plain": [
       "[0.8, 0.8, 0.7333333333333333, 0.7333333333333333, 0.8]"
      ]
     },
     "execution_count": 110,
     "metadata": {},
     "output_type": "execute_result"
    }
   ],
   "source": [
    "best_accs"
   ]
  },
  {
   "cell_type": "code",
   "execution_count": 117,
   "id": "d6ee276f-a767-469f-ac1f-94dabec7abd5",
   "metadata": {},
   "outputs": [
    {
     "data": {
      "image/png": "[encoded data removed]",
      "text/plain": [
       "<Figure size 800x800 with 1 Axes>"
      ]
     },
     "metadata": {},
     "output_type": "display_data"
    }
   ],
   "source": [
    "plt.figure(figsize = (8,8))\n",
    "\n",
    "best_f1_scores = np.array([0.78, 0.76, 0.7, 0.65])\n",
    "best_accs = np.array([0.8, 0.8, 0.75, 0.7])\n",
    "T_array = np.array([5, 10, 15, 20])\n",
    "\n",
    "plt.plot(T_array, best_accs, label = 'accuracy', color = 'g')\n",
    "plt.plot(T_array, best_f1_scores, label = 'f1_score', color = 'r')\n",
    "\n",
    "plt.xlabel('Параметр T')\n",
    "plt.ylabel('Значения метрик')\n",
    "plt.legend(loc = 'best')\n",
    "plt.savefig('figures/final_res.png')\n",
    "plt.show()"
   ]
  },
  {
   "cell_type": "code",
   "execution_count": null,
   "id": "e3465227-bc6c-4f82-ae2b-e8dc19b50b86",
   "metadata": {},
   "outputs": [],
   "source": []
  }
 ],
 "metadata": {
  "kernelspec": {
   "display_name": "Python 3 (ipykernel)",
   "language": "python",
   "name": "python3"
  },
  "language_info": {
   "codemirror_mode": {
    "name": "ipython",
    "version": 3
   },
   "file_extension": ".py",
   "mimetype": "text/x-python",
   "name": "python",
   "nbconvert_exporter": "python",
   "pygments_lexer": "ipython3",
   "version": "3.9.18"
  }
 },
 "nbformat": 4,
 "nbformat_minor": 5
}
